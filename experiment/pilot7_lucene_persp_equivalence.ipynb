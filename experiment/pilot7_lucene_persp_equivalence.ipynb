{
 "cells": [
  {
   "cell_type": "code",
   "execution_count": 1,
   "metadata": {},
   "outputs": [
    {
     "name": "stdout",
     "output_type": "stream",
     "text": [
      "4645\n"
     ]
    }
   ],
   "source": [
    "import json\n",
    "\n",
    "persp_path = \"/home/squirrel/ccg-new/projects/perspective/data/pilot3_twowingos/110718-training-data/perspective.json\"\n",
    "\n",
    "with open(persp_path, 'r', encoding='utf-8') as fin:\n",
    "    perspectives = json.load(fin)\n",
    "\n",
    "print(len(perspectives))"
   ]
  },
  {
   "cell_type": "code",
   "execution_count": null,
   "metadata": {},
   "outputs": [],
   "source": [
    "import query_elasticsearch as es\n",
    "\n",
    "# For each perspective generate evidence candidates\n",
    "results = []\n",
    "for p in perspectives:\n",
    "    # top 50 candidates\n",
    "    _cands = es.get_top_evidences(p['title'])\n",
    "    cands = [(eid, score) for e, eid, score in _cands]\n",
    "    results.append({\n",
    "        'persp_id': p['id'],\n",
    "        'candidates': cands\n",
    "    })\n",
    "\n",
    "# save results\n",
    "out_path = \"/home/squirrel/ccg-new/projects/perspective/data/pilot7_lucene_persp_equivalence/persp_sim.json\"\n",
    "\n",
    "with open(out_path, 'w') as fout:\n",
    "    json.dump(results, fout)"
   ]
  },
  {
   "cell_type": "code",
   "execution_count": null,
   "metadata": {},
   "outputs": [],
   "source": []
  }
 ],
 "metadata": {
  "kernelspec": {
   "display_name": "Python 3",
   "language": "python",
   "name": "python3"
  },
  "language_info": {
   "codemirror_mode": {
    "name": "ipython",
    "version": 3
   },
   "file_extension": ".py",
   "mimetype": "text/x-python",
   "name": "python",
   "nbconvert_exporter": "python",
   "pygments_lexer": "ipython3",
   "version": "3.6.4"
  }
 },
 "nbformat": 4,
 "nbformat_minor": 2
}
