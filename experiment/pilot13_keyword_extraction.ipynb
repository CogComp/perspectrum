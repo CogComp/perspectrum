{
 "cells": [
  {
   "cell_type": "code",
   "execution_count": 1,
   "metadata": {},
   "outputs": [],
   "source": [
    "# First make the appropriate format of data (Claim + their perspectives + their evidences)\n",
    "import pandas as pd\n",
    "\n",
    "th = 8136 # perspective ids smaller than this number are the original ones\n",
    "\n",
    "claim = \"/home/squirrel/ccg-new/projects/perspective/data/database_output/re-step1/webapp_claim.csv\"\n",
    "perspective = \"/home/squirrel/ccg-new/projects/perspective/data/database_output/re-step1/webapp_perspective.csv\"\n",
    "evidence = \"/home/squirrel/ccg-new/projects/perspective/data/database_output/re-step1/webapp_evidence.csv\"\n",
    "er = \"/home/squirrel/ccg-new/projects/perspective/data/database_output/re-step1/webapp_evidencerelation.csv\"\n",
    "re_step1 = \"/home/squirrel/ccg-new/projects/perspective/data/database_output/re-step1/webapp_restep1results.csv\"\n",
    "\n",
    "claim_df = pd.read_csv(claim)\n",
    "p_df = pd.read_csv(perspective)\n",
    "e_df = pd.read_csv(evidence)\n",
    "step1_df = pd.read_csv(re_step1)\n",
    "er_df = pd.read_csv(er)"
   ]
  },
  {
   "cell_type": "code",
   "execution_count": 18,
   "metadata": {},
   "outputs": [
    {
     "name": "stdout",
     "output_type": "stream",
     "text": [
      "<class 'pandas.core.frame.DataFrame'>\n",
      "Int64Index: 4231 entries, 19372 to 23602\n",
      "Data columns (total 10 columns):\n",
      "id                        4231 non-null int64\n",
      "claim_id                  4231 non-null int64\n",
      "perspective_id            4231 non-null int64\n",
      "vote_support              4231 non-null int64\n",
      "vote_leaning_support      4231 non-null int64\n",
      "vote_leaning_undermine    4231 non-null int64\n",
      "vote_undermine            4231 non-null int64\n",
      "vote_not_valid            4231 non-null int64\n",
      "p_i_5                     4231 non-null float64\n",
      "p_i_3                     4231 non-null float64\n",
      "dtypes: float64(2), int64(8)\n",
      "memory usage: 363.6 KB\n",
      "<class 'pandas.core.frame.DataFrame'>\n",
      "Int64Index: 8122 entries, 0 to 8121\n",
      "Data columns (total 6 columns):\n",
      "id                8122 non-null int64\n",
      "author            8122 non-null object\n",
      "perspective_id    8122 non-null int64\n",
      "evidence_id       8122 non-null int64\n",
      "comment           0 non-null float64\n",
      "anno              8122 non-null object\n",
      "dtypes: float64(1), int64(3), object(2)\n",
      "memory usage: 444.2+ KB\n"
     ]
    }
   ],
   "source": [
    "# Only keep the original high quality ones\n",
    "step1_df = step1_df[step1_df.p_i_3 > 0.5]\n",
    "step1_df = step1_df[step1_df.perspective_id <= th]\n",
    "step1_df.info()\n",
    "\n",
    "er_df = er_df[er_df.author == \"GOLD\"]\n",
    "er_df.info()\n",
    "\n",
    "e_df = e_df.dropna()\n",
    "\n",
    "p_df = p_df.dropna()"
   ]
  },
  {
   "cell_type": "code",
   "execution_count": 21,
   "metadata": {},
   "outputs": [],
   "source": [
    "import json\n",
    "\n",
    "data = []\n",
    "\n",
    "for idx, c in claim_df.iterrows():\n",
    "    cid = c.id\n",
    "    c_obj = {\n",
    "        \"claim_id\" : cid,\n",
    "        \"claim_title\": c.title,\n",
    "    }\n",
    "    huge_string = \"\"\n",
    "    pid_list = step1_df.loc[step1_df.claim_id == cid].perspective_id.unique()\n",
    "    \n",
    "    for pid in pid_list:\n",
    "        p_query = p_df[p_df.id == pid]\n",
    "        \n",
    "        if len(p_query) == 0:\n",
    "            continue\n",
    "        p_title = p_query.iloc[0].title\n",
    "        huge_string = huge_string + p_title + \" \"\n",
    "        \n",
    "        eid_query = er_df[er_df.perspective_id == pid]\n",
    "        if len(eid_query) == 0:\n",
    "            continue\n",
    "            \n",
    "        eid = eid_query.iloc[0].evidence_id\n",
    "        \n",
    "        e_query = e_df[e_df.id == eid]\n",
    "        \n",
    "        if len(e_query) > 0:\n",
    "            e_content = e_query.iloc[0].content\n",
    "            huge_string = huge_string + e_content + \" \"\n",
    "        \n",
    "    c_obj[\"related\"] = huge_string\n",
    "    data.append(c_obj)\n",
    "    \n",
    "out_path =\"/home/squirrel/ccg-new/projects/perspective/data/pilot13_keyword_extraction/claim_persp_evidences.json\"\n",
    "with open(out_path, 'w') as fout:\n",
    "    json.dump(data, fout)"
   ]
  }
 ],
 "metadata": {
  "kernelspec": {
   "display_name": "Python 3",
   "language": "python",
   "name": "python3"
  },
  "language_info": {
   "codemirror_mode": {
    "name": "ipython",
    "version": 3
   },
   "file_extension": ".py",
   "mimetype": "text/x-python",
   "name": "python",
   "nbconvert_exporter": "python",
   "pygments_lexer": "ipython3",
   "version": "3.6.4"
  }
 },
 "nbformat": 4,
 "nbformat_minor": 2
}
