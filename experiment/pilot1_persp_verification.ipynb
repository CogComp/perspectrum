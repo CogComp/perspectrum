{
 "cells": [
  {
   "cell_type": "code",
   "execution_count": 5,
   "metadata": {},
   "outputs": [
    {
     "name": "stdout",
     "output_type": "stream",
     "text": [
      "<class 'pandas.core.frame.DataFrame'>\nRangeIndex: 46049 entries, 0 to 46048\nData columns (total 6 columns):\nid                46049 non-null int64\nauthor            46049 non-null object\nclaim_id          46049 non-null int64\nperspective_id    46049 non-null int64\nrel               46049 non-null object\ncomment           0 non-null float64\ndtypes: float64(1), int64(3), object(2)\nmemory usage: 2.1+ MB\n"
     ]
    }
   ],
   "source": [
    "import pandas as pd\n",
    "\n",
    "df = pd.read_csv(\"/home/squirrel/ccg-new/data/persp/db-102518-after-batch6/norm_persp_db_data.csv\")\n",
    "df.info()"
   ]
  },
  {
   "cell_type": "code",
   "execution_count": 6,
   "metadata": {},
   "outputs": [
    {
     "name": "stdout",
     "output_type": "stream",
     "text": [
      "<class 'pandas.core.frame.DataFrame'>\nInt64Index: 37914 entries, 4136 to 46048\nData columns (total 6 columns):\nid                37914 non-null int64\nauthor            37914 non-null object\nclaim_id          37914 non-null int64\nperspective_id    37914 non-null int64\nrel               37914 non-null object\ncomment           0 non-null float64\ndtypes: float64(1), int64(3), object(2)\nmemory usage: 2.0+ MB\n<class 'pandas.core.frame.DataFrame'>\nInt64Index: 37880 entries, 4170 to 46048\nData columns (total 6 columns):\nid                37880 non-null int64\nauthor            37880 non-null object\nclaim_id          37880 non-null int64\nperspective_id    37880 non-null int64\nrel               37880 non-null object\ncomment           0 non-null float64\ndtypes: float64(1), int64(3), object(2)\nmemory usage: 2.0+ MB\n"
     ]
    }
   ],
   "source": [
    "# Drop GOLD and TEST annotations\n",
    "df = df[df.author != \"GOLD\"]\n",
    "df.info()\n",
    "df = df[df.author != \"TEST\"]\n",
    "df.info()"
   ]
  },
  {
   "cell_type": "code",
   "execution_count": 7,
   "metadata": {},
   "outputs": [
    {
     "name": "stdout",
     "output_type": "stream",
     "text": [
      "        id  author  claim_id  perspective_id  comment\nrel                                                  \nN     6265    6265      6265            6265        0\nS    16254   16254     16254           16254        0\nU    15361   15361     15361           15361        0\n"
     ]
    }
   ],
   "source": [
    "# Label Distributions\n",
    "print(df.groupby('rel').count())"
   ]
  },
  {
   "cell_type": "code",
   "execution_count": 8,
   "metadata": {},
   "outputs": [],
   "source": [
    "import numpy as np\n",
    "def fleiss_kappa_1d(arr):\n",
    "    \"\"\"\n",
    "    Easy version of fleiss kappa, where there is only one example\n",
    "    \"\"\"\n",
    "    \n",
    "    num_rater = np.sum(arr)\n",
    "#     print(num_rater)\n",
    "    p_e = np.sum(np.square(np.divide(arr, num_rater)))\n",
    "#     print(p_e)\n",
    "    p_o = 1/(num_rater * (num_rater - 1)) * (np.sum(np.square(arr)) - num_rater)\n",
    "#     print(p_o)\n",
    "    if p_e == 1: \n",
    "        return 1\n",
    "    else:\n",
    "        return (p_o - p_e) / (1 - p_e)\n"
   ]
  },
  {
   "cell_type": "code",
   "execution_count": 9,
   "metadata": {},
   "outputs": [
    {
     "name": "stdout",
     "output_type": "stream",
     "text": [
      "8135\n"
     ]
    }
   ],
   "source": [
    "# IAA analysis -- Macro Avg Fleiss' Kappa among claims \n",
    "# Using NLTK implementation \n",
    "# https://www.nltk.org/_modules/nltk/metrics/agreement.html\n",
    "from nltk.metrics.agreement import AnnotationTask\n",
    "import numpy as np\n",
    "\n",
    "claims = df.claim_id.unique()\n",
    "\n",
    "# not_complete_author = {\n",
    "# \"A1JRMSNROZ1JX5\",\n",
    "# \"A2FARB7LA24AU8\",\n",
    "# \"AWZR4H0QX23W4\",\n",
    "# \"A149ROBL26JWPJ\",\n",
    "# \"AWJUGWPCUGKEG\",\n",
    "# \"A3U74S280Z4B0\",\n",
    "# \"AUCHGHY1IKZZK\",\n",
    "# \"A2SWQM5X54P1O5\",\n",
    "# \"A1OFSWG4TA4VVR\",\n",
    "# \"A1DNJ17PE2RYJZ\",\n",
    "# \"A2541C8MY0BYV3\",\n",
    "# \"A3QSFE6GKO157S\",\n",
    "# \"A95RHRMLHT89M\",\n",
    "# \"A1ZD8RU6YB0VEU\",\n",
    "# \"AU2RMH9IZP60M\",\n",
    "# \"A3C5G8LGIAW0XL\",\n",
    "# \"AVI7K876BV3QL\",\n",
    "# \"A3C70KUK27HI3Y\",\n",
    "# \"A2TBXASXZIRNNW\",\n",
    "# \"A14HW8I4RYHNC4\",\n",
    "# \"A3RTXKL0EGLRDJ\",\n",
    "# \"A52FUUEDGSZT9\",\n",
    "# \"A2YR5M2I1YCH75\",\n",
    "# \"A2TZA6QIDOHF0R\",\n",
    "# \"A3TLI95L5GOBKG\",\n",
    "# \"AROOCBM042SJD\",\n",
    "# \"A2P065E9CYMYJL\",\n",
    "# \"A2E5PZUD6W4OA1\",\n",
    "# \"A2E5PZUD6W4OA1\",\n",
    "# \"A1ZT30BGR3266K\",\n",
    "# \"A3GKCB2D8O2ICZ\",\n",
    "# \"A2C73Y1COWCA51\",\n",
    "# \"A3RYI5HXC2MJLN\",\n",
    "# \"A1YTNGH5SMM2CJ\",\n",
    "# \"ALJMVJ1L3NUTE\",\n",
    "# \"AQYYBOOF0846O\",\n",
    "# \"A2B6WQG0A9CKXQ\",\n",
    "# \"ALEJV7D94ZLHF\",\n",
    "# \"A5J0OW727ZCWY\",\n",
    "# }\n",
    "\n",
    "arr_al = []\n",
    "_data = []\n",
    "\n",
    "for cid in claims:\n",
    "    c_df = df[df.claim_id == cid]\n",
    "    \n",
    "    persps = c_df.perspective_id.unique()\n",
    "    \n",
    "    for pid in persps:\n",
    "        p_df = c_df[c_df.perspective_id == pid]\n",
    "        \n",
    "        group = p_df.rel.value_counts()\n",
    "        \n",
    "        _s = _u = _n = 0\n",
    "        if \"S\" in group.index:\n",
    "            _s = group.S\n",
    "        if \"U\" in group.index:\n",
    "            _u = group.U\n",
    "        if \"N\" in group.index:\n",
    "            _n = group.N\n",
    "        \n",
    "        _data.append([cid, pid, _s, _u, _n])\n",
    "\n",
    "print(len(_data))\n",
    "with open(\"/home/squirrel/ccg-new/data/persp/db-102518-after-batch6/norm_persp_annotations.csv\", 'w+') as fout:\n",
    "    fout.write(\"claim,perspective,sup,und,ns\\n\")\n",
    "    for entry in _data:\n",
    "        _entry = [str(x) for x in entry]\n",
    "        fout.write(\",\".join(_entry)+'\\n')\n",
    "\n",
    "    \n",
    "# for entry in _data\n",
    "    \n",
    "#     triples = []\n",
    "#     for idx, row in c_df.iterrows():\n",
    "#         triples.append((row.author, row.perspective_id, row.rel))\n",
    "    \n",
    "#     an = AnnotationTask(data=triples)\n",
    "#     k = an.multi_kappa()\n",
    "#     arr_al.append(k)\n",
    "\n",
    "# print(\"Avg IAA:{}\".format(np.mean(arr_al)))\n",
    "# print(\"Stddev:{}\".format(np.std(arr_al)))"
   ]
  },
  {
   "cell_type": "code",
   "execution_count": 62,
   "metadata": {},
   "outputs": [
    {
     "name": "stdout",
     "output_type": "stream",
     "text": [
      "<class 'pandas.core.frame.DataFrame'>\n",
      "RangeIndex: 4148 entries, 0 to 4147\n",
      "Data columns (total 10 columns):\n",
      "claim_id           4136 non-null float64\n",
      "perspective_id     4136 non-null float64\n",
      "sup_raw            4138 non-null object\n",
      "und_raw            4144 non-null object\n",
      "ns_raw             4148 non-null object\n",
      "sup                4140 non-null float64\n",
      "und                4140 non-null float64\n",
      "ns                 4140 non-null float64\n",
      "agreement          4136 non-null float64\n",
      "annotator_count    4136 non-null float64\n",
      "dtypes: float64(7), object(3)\n",
      "memory usage: 324.1+ KB\n"
     ]
    }
   ],
   "source": [
    "import pandas as pd\n",
    "\n",
    "iaa = \"/home/squirrel/ccg-new/data/persp/db-101218-norm-persp-all/annotations_counts_IAA.csv\"\n",
    "df = pd.read_csv(iaa)\n",
    "df.columns = ['claim_id','perspective_id','sup_raw','und_raw','ns_raw','sup','und','ns','agreement','annotator_count'] \n",
    "\n",
    "df.info()"
   ]
  },
  {
   "cell_type": "code",
   "execution_count": 63,
   "metadata": {},
   "outputs": [
    {
     "name": "stdout",
     "output_type": "stream",
     "text": [
      "<class 'pandas.core.frame.DataFrame'>\n",
      "Int64Index: 2493 entries, 9 to 2662\n",
      "Data columns (total 11 columns):\n",
      "claim_id           2493 non-null float64\n",
      "perspective_id     2493 non-null float64\n",
      "sup_raw            2493 non-null object\n",
      "und_raw            2493 non-null object\n",
      "ns_raw             2493 non-null object\n",
      "sup                2493 non-null float64\n",
      "und                2493 non-null float64\n",
      "ns                 2493 non-null float64\n",
      "agreement          2493 non-null float64\n",
      "annotator_count    2493 non-null float64\n",
      "label              2493 non-null object\n",
      "dtypes: float64(7), object(4)\n",
      "memory usage: 233.7+ KB\n"
     ]
    }
   ],
   "source": [
    "sub_df = df[df['agreement'] > 0.43]\n",
    "sub_df = sub_df[sub_df['annotator_count'] > 1]\n",
    "sub_df['label'] = sub_df[['ns','sup','und']].idxmax(axis=1)\n",
    "sub_df.info()"
   ]
  },
  {
   "cell_type": "code",
   "execution_count": 64,
   "metadata": {},
   "outputs": [
    {
     "name": "stdout",
     "output_type": "stream",
     "text": [
      "<class 'pandas.core.frame.DataFrame'>\n",
      "Int64Index: 2316 entries, 9 to 2662\n",
      "Data columns (total 11 columns):\n",
      "claim_id           2316 non-null float64\n",
      "perspective_id     2316 non-null float64\n",
      "sup_raw            2316 non-null object\n",
      "und_raw            2316 non-null object\n",
      "ns_raw             2316 non-null object\n",
      "sup                2316 non-null float64\n",
      "und                2316 non-null float64\n",
      "ns                 2316 non-null float64\n",
      "agreement          2316 non-null float64\n",
      "annotator_count    2316 non-null float64\n",
      "label              2316 non-null object\n",
      "dtypes: float64(7), object(4)\n",
      "memory usage: 217.1+ KB\n"
     ]
    }
   ],
   "source": [
    "sup_und_df = sub_df[sub_df.label.isin(['sup', 'und'])]\n",
    "sup_und_df.info()"
   ]
  },
  {
   "cell_type": "code",
   "execution_count": 65,
   "metadata": {},
   "outputs": [],
   "source": [
    "out_path = \"/home/squirrel/ccg-new/data/persp/db-101218-norm-persp-all/high_quality_index.csv\"\n",
    "sup_und_df.to_csv(out_path, index=False, columns=['claim_id', 'perspective_id', 'agreement','annotator_count','label'])"
   ]
  },
  {
   "cell_type": "code",
   "execution_count": 66,
   "metadata": {},
   "outputs": [
    {
     "name": "stdout",
     "output_type": "stream",
     "text": [
      "514\n",
      "2316\n"
     ]
    }
   ],
   "source": [
    "# Read claims and perspectives\n",
    "claim_path = \"/home/squirrel/ccg-new/data/persp/db-101218-norm-persp-all/claims.csv\"\n",
    "persp_path = \"/home/squirrel/ccg-new/data/persp/db-101218-norm-persp-all/perspectives.csv\"\n",
    "\n",
    "c_df = pd.read_csv(claim_path)\n",
    "p_df = pd.read_csv(persp_path)\n",
    "\n",
    "cid_set = sup_und_df.claim_id.unique()\n",
    "pid_set = sup_und_df.perspective_id.unique()\n",
    "\n",
    "print(len(cid_set))\n",
    "print(len(pid_set))"
   ]
  },
  {
   "cell_type": "code",
   "execution_count": 67,
   "metadata": {},
   "outputs": [
    {
     "name": "stdout",
     "output_type": "stream",
     "text": [
      "<class 'pandas.core.frame.DataFrame'>\n",
      "Int64Index: 514 entries, 1 to 560\n",
      "Data columns (total 3 columns):\n",
      "id        514 non-null int64\n",
      "source    514 non-null object\n",
      "title     514 non-null object\n",
      "dtypes: int64(1), object(2)\n",
      "memory usage: 16.1+ KB\n",
      "<class 'pandas.core.frame.DataFrame'>\n",
      "Int64Index: 2316 entries, 9 to 4132\n",
      "Data columns (total 3 columns):\n",
      "id        2316 non-null int64\n",
      "source    2316 non-null object\n",
      "title     2316 non-null object\n",
      "dtypes: int64(1), object(2)\n",
      "memory usage: 72.4+ KB\n"
     ]
    }
   ],
   "source": [
    "c_df = c_df[c_df.id.isin(cid_set)]\n",
    "c_df.info()\n",
    "\n",
    "p_df = p_df[p_df.id.isin(pid_set)]\n",
    "p_df.info()"
   ]
  },
  {
   "cell_type": "code",
   "execution_count": 68,
   "metadata": {},
   "outputs": [],
   "source": [
    "claim_outpath = \"/home/squirrel/ccg-new/data/persp/db-101218-norm-persp-all/claims_high_quality.json\"\n",
    "persp_outpath = \"/home/squirrel/ccg-new/data/persp/db-101218-norm-persp-all/perspective_high_quality.json\"\n",
    "\n",
    "c_df.to_json(claim_outpath, orient='records')\n",
    "p_df.to_json(persp_outpath, orient='records')"
   ]
  },
  {
   "cell_type": "code",
   "execution_count": 69,
   "metadata": {},
   "outputs": [
    {
     "name": "stdout",
     "output_type": "stream",
     "text": [
      "<class 'pandas.core.frame.DataFrame'>\n",
      "RangeIndex: 2316 entries, 0 to 2315\n",
      "Data columns (total 5 columns):\n",
      "claim_id           2316 non-null int64\n",
      "perspective_id     2316 non-null int64\n",
      "agreement          2316 non-null float64\n",
      "annotator_count    2316 non-null int64\n",
      "label              2316 non-null object\n",
      "dtypes: float64(1), int64(3), object(1)\n",
      "memory usage: 90.5+ KB\n"
     ]
    }
   ],
   "source": [
    "anno_inpath = \"/home/squirrel/ccg-new/data/persp/db-101218-norm-persp-all/high_quality_index.csv\"\n",
    "a_df = pd.read_csv(anno_inpath)\n",
    "\n",
    "a_df['claim_id'] = a_df['claim_id'].astype(int)\n",
    "a_df['perspective_id'] = a_df['perspective_id'].astype(int)\n",
    "a_df['annotator_count'] = a_df['annotator_count'].astype(int)\n",
    "\n",
    "a_df.info()"
   ]
  },
  {
   "cell_type": "code",
   "execution_count": 70,
   "metadata": {},
   "outputs": [],
   "source": [
    "anno_outpath = \"/home/squirrel/ccg-new/data/persp/db-101218-norm-persp-all/annotations_high_quality.json\"\n",
    "\n",
    "a_df.to_json(anno_outpath, orient='records')"
   ]
  },
  {
   "cell_type": "code",
   "execution_count": null,
   "metadata": {},
   "outputs": [],
   "source": []
  }
 ],
 "metadata": {
  "kernelspec": {
   "display_name": "Python 3",
   "language": "python",
   "name": "python3"
  },
  "language_info": {
   "codemirror_mode": {
    "name": "ipython",
    "version": 3
   },
   "file_extension": ".py",
   "mimetype": "text/x-python",
   "name": "python",
   "nbconvert_exporter": "python",
   "pygments_lexer": "ipython3",
   "version": "3.6.4"
  }
 },
 "nbformat": 4,
 "nbformat_minor": 1
}
