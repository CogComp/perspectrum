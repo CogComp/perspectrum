{
 "cells": [
  {
   "cell_type": "code",
   "execution_count": 1,
   "metadata": {},
   "outputs": [
    {
     "name": "stdout",
     "output_type": "stream",
     "text": [
      "<class 'pandas.core.frame.DataFrame'>\n",
      "RangeIndex: 4743 entries, 0 to 4742\n",
      "Data columns (total 13 columns):\n",
      "claim                   4743 non-null int64\n",
      "perspective             4743 non-null int64\n",
      "sup                     4743 non-null int64\n",
      "und                     4743 non-null int64\n",
      "ns                      4743 non-null int64\n",
      "suporting (scaled)      4743 non-null float64\n",
      "undermining (scaled)    4743 non-null float64\n",
      "not sure (scaled)       4743 non-null float64\n",
      "P_i                     4743 non-null float64\n",
      "Total                   4743 non-null int64\n",
      "id                      4743 non-null int64\n",
      "source                  4743 non-null object\n",
      "title                   4743 non-null object\n",
      "dtypes: float64(4), int64(7), object(2)\n",
      "memory usage: 481.8+ KB\n",
      "<class 'pandas.core.frame.DataFrame'>\n",
      "RangeIndex: 8122 entries, 0 to 8121\n",
      "Data columns (total 3 columns):\n",
      "id         8122 non-null int64\n",
      "source     8122 non-null object\n",
      "content    8122 non-null object\n",
      "dtypes: int64(1), object(2)\n",
      "memory usage: 190.4+ KB\n",
      "<class 'pandas.core.frame.DataFrame'>\n",
      "RangeIndex: 8135 entries, 0 to 8134\n",
      "Data columns (total 4 columns):\n",
      "id                       8135 non-null int64\n",
      "source                   8135 non-null object\n",
      "title                    8134 non-null object\n",
      "pilot1_high_agreement    8135 non-null int64\n",
      "dtypes: int64(2), object(2)\n",
      "memory usage: 254.3+ KB\n",
      "<class 'pandas.core.frame.DataFrame'>\n",
      "RangeIndex: 8122 entries, 0 to 8121\n",
      "Data columns (total 5 columns):\n",
      "id                8122 non-null int64\n",
      "author            8122 non-null object\n",
      "perspective_id    8122 non-null int64\n",
      "evidence_id       8122 non-null int64\n",
      "comment           0 non-null float64\n",
      "dtypes: float64(1), int64(3), object(1)\n",
      "memory usage: 317.3+ KB\n"
     ]
    }
   ],
   "source": [
    "import pandas as pd\n",
    "import json\n",
    "\n",
    "# Goal here: 1. generate tfidf representation for all evidences and perspectives\n",
    "#            2. Record top similar K evidences to each perspective\n",
    "\n",
    "# First, we load all data we need. \n",
    "pilot1_result = \"/home/squirrel/ccg-new/projects/perspective/data/pilot1_persp_verification/persp_iaa_w_source.csv\"\n",
    "evidence_data = \"/home/squirrel/ccg-new/projects/perspective/data/database_output/webapp_evidence.csv\"\n",
    "perspective_data = \"/home/squirrel/ccg-new/projects/perspective/data/database_output/webapp_perspective.csv\"\n",
    "persp_evi_gold_annotation = \"/home/squirrel/ccg-new/projects/perspective/data/database_output/webapp_evidencerelation.csv\"\n",
    "\n",
    "pilot1_df = pd.read_csv(pilot1_result)\n",
    "p_df = pd.read_csv(perspective_data)\n",
    "evi_df = pd.read_csv(evidence_data)\n",
    "p_evi_anno_df = pd.read_csv(persp_evi_gold_annotation)\n",
    "\n",
    "pilot1_df.info()\n",
    "evi_df.info()\n",
    "p_df.info()\n",
    "p_evi_anno_df.info()"
   ]
  },
  {
   "cell_type": "code",
   "execution_count": 3,
   "metadata": {},
   "outputs": [],
   "source": [
    "# Output the list of ids of \"high quality\" perspectives we get in pilot1, so that we can add this information in the database\n",
    "\n",
    "\n",
    "high_qual_pid = pilot1_df.perspective.unique().tolist()\n",
    "len(high_qual_pid)\n",
    "\n",
    "out_path = \"/home/squirrel/ccg-new/projects/perspective/data/pilot1_persp_verification/high_qual_persp_id_list.json\"\n",
    "with open(out_path, 'w') as fout:\n",
    "    json.dump(high_qual_pid, fout)"
   ]
  },
  {
   "cell_type": "code",
   "execution_count": 2,
   "metadata": {},
   "outputs": [],
   "source": [
    "# Load tfidf components \n",
    "from similarity.tfidf import Tfidf\n",
    "\n",
    "tfidf = Tfidf(\"/home/squirrel/ccg-new/data/nyt_idf/nyt_idf.pkl\")"
   ]
  },
  {
   "cell_type": "code",
   "execution_count": 3,
   "metadata": {},
   "outputs": [
    {
     "name": "stdout",
     "output_type": "stream",
     "text": [
      "0.9862324934756503\n",
      "{'my': 0.1450864797467333, 'name': 0.18125692009584993, 'is': 0.027692536533637697, 'rick': 0.372001689166361, '.': 0.0014797220355288764}\n"
     ]
    }
   ],
   "source": [
    "# Test if tfidf is working\n",
    "text1 = \"My name is Rick.\"\n",
    "text1_a = \"My name is also Rick.\"\n",
    "\n",
    "\n",
    "t1 = tfidf.vectorize(text1)\n",
    "t1_a = tfidf.vectorize(text1_a)\n",
    "\n",
    "print(t1.cos_similiarity(t1_a))\n",
    "print(t1.dict)"
   ]
  },
  {
   "cell_type": "code",
   "execution_count": 4,
   "metadata": {},
   "outputs": [
    {
     "name": "stdout",
     "output_type": "stream",
     "text": [
      "<class 'pandas.core.frame.DataFrame'>\n",
      "RangeIndex: 8135 entries, 0 to 8134\n",
      "Data columns (total 5 columns):\n",
      "id                       8135 non-null int64\n",
      "source                   8135 non-null object\n",
      "title                    8134 non-null object\n",
      "pilot1_high_agreement    8135 non-null int64\n",
      "tfidf                    8135 non-null object\n",
      "dtypes: int64(2), object(3)\n",
      "memory usage: 317.9+ KB\n"
     ]
    }
   ],
   "source": [
    "# Add tfidf representation to the perspective table\n",
    "p_df[\"tfidf\"] = p_df[\"title\"].apply(lambda t: json.dumps(tfidf.vectorize(str(t)).dict))\n",
    "p_df.info()"
   ]
  },
  {
   "cell_type": "code",
   "execution_count": 5,
   "metadata": {},
   "outputs": [],
   "source": [
    "# Add tfidf representation to the evidence table\n",
    "evi_df[\"tfidf\"] = evi_df[\"content\"].apply(lambda t: json.dumps(tfidf.vectorize(str(t)).dict))"
   ]
  },
  {
   "cell_type": "code",
   "execution_count": 16,
   "metadata": {},
   "outputs": [],
   "source": [
    "# Save the tables\n",
    "persp_save_path = '/home/squirrel/ccg-new/projects/perspective/data/pilot2_tfidf/perspective_tfidf.csv'\n",
    "evi_save_path = '/home/squirrel/ccg-new/projects/perspective/data/pilot2_tfidf/evidence_tfidf.csv'\n",
    "\n",
    "p_df.to_csv(persp_save_path, index=False)\n",
    "evi_df.to_csv(evi_save_path, index=False)"
   ]
  },
  {
   "cell_type": "code",
   "execution_count": null,
   "metadata": {},
   "outputs": [],
   "source": [
    "from similarity.tfidf import SparseUnigramDoc\n",
    "import csv\n",
    "import sys\n",
    "\n",
    "csv.field_size_limit(sys.maxsize)\n",
    "\n",
    "sim_out_path = \"/home/squirrel/ccg-new/projects/perspective/data/pilot2_tfidf/persp_tfidf_sim.csv\"\n",
    "\n",
    "# For each perspective, rank the evidence from the most similar to least \n",
    "# First load every tfidf representation in the evidence table\n",
    "evidences_tfidf = []\n",
    "for idx, row in evi_df.iterrows():\n",
    "    evidences_tfidf.append((row.id, SparseUnigramDoc(json.loads(row.tfidf))))\n",
    "\n",
    "with open(sim_out_path, 'w') as fout:\n",
    "    writer = csv.DictWriter(fout, fieldnames=['perspective', 'evidence_candidates'])\n",
    "    writer.writeheader()\n",
    "    for idx, row in p_df.iterrows():\n",
    "\n",
    "        print(row.id, end=' ')\n",
    "        p_doc = SparseUnigramDoc(json.loads(row.tfidf))\n",
    "\n",
    "        evi_sim = [(idx, doc.cos_similiarity(p_doc)) for idx, doc in evidences_tfidf]\n",
    "\n",
    "        evi_sim = sorted(evi_sim, key=lambda t:t[1], reverse=True)\n",
    "        \n",
    "        writer.writerow({'perspective': row.id, 'evidence_candidates': json.dumps(evi_sim)})"
   ]
  },
  {
   "cell_type": "code",
   "execution_count": 46,
   "metadata": {},
   "outputs": [
    {
     "name": "stdout",
     "output_type": "stream",
     "text": [
      "Persp id: 5\n",
      "Persp Title: Allowing children to perform pushes them to grow up too soon\n",
      "Top 5 evidences: [(5289, \"A child who is constantly expected to practise and perform well isn't being given chance to be a child - to play, be light-hearted and innocent, do things just for fun and think in imaginative ways rather than learning practical skills all the time. They will grow up an overly serious adult.\"), (5292, \"Just because a mother gives birth to a child, and the parents financially support the child does not mean that they would try to control all aspects of the child's life. It should be remembered that while it the responsibility of the parents to care for their children, it does not mean that they treat their children like subordinates who must do as the boss (in this case the parents) say. However, it is true that children are in turn responsible towards their parents and should be grateful to their parents for all they have done for the sake of the child, it does not mean that the children would feel bound to abide by their parents rigid rules at all times. A child is a separate human being with different emotions and different states of mind and parents should consider that. Even though parents may adhere to strict parenting for the welfare of the child, the child should not be suffocated with excessive strictness and should be allowed enough space to grow on their own.  A child is a different entity from the parents and should be respected and treated as such.\"), (7829, 'Allowing children to be hit when adults cannot be hit sends the message to society that it is OK to treat children in this way.  Especially if this happens in state institutions, like schools.  A culture that says it is fine to hit children can hide more serious abuse.'), (7836, 'From family life, to professional life, to daily routine, pour world contains both men and women. Regardless of league tables, education is about preparation for life. If girls naturally perform better in an environment without boys, they need to learn how to perform just as well with boys. The problem is that in life they will not be surrounded by girls all the time, they will have to cope with boys. Regardless of qualifications, girls will perform better professionally and emotionally if they learn young how to cope with boys and ultimately, men.'), (7519, \"I think that the subject of history is needed because we need to learn about how our country came to be, and we need to know about the famous people that ruled the countries because you never know what job you might have or what you might become when you grow older, so learning history in school may be a good thing and you'll never know until you actually grow up.\")]\n",
      "Persp id: 9\n",
      "Persp Title: The government has no right to prevent children from doing what they enjoy and are good at\n",
      "Top 5 evidences: [(454, \"The government has the right, and indeed the obligation, to impose restrictions that increase the security of citizens and encourage peaceful relations between them. The foundation of the social contract is the state providing security for all participating citizens. If the state believes that violent video games increase the propensity of users to commit violent acts, it is obligated to impose restrictions that will prevent such effects. The rights of individual citizens to do as they wish, and play the video games they like most, however violent, is subordinate to the government's right to increase security through the enforcement of restrictions. For example, one accepts the government's right to restrict what we carry onto aircrafts in order to prevent violent attacks. That is not to say there aren't limits to what we can carry on, just as violent video games are still available to adults we can still carry laptops and mobile phones onto aircrafts. Ultimately however, it must be accepted that the government's right to protect society includes a right to restrict the sale of violent games.\"), (71, 'There is no good reason for children to be out unaccompanied late at night, so a curfew is not really a restriction upon their liberty. Where the child does have good reasons to be out they can be covered by the exceptions. They would be better off at home doing schoolwork, schools often set more than an hour a night which the children should be doing. The time would also be better spent interacting with the rest of their family. \\xa0'), (7562, \"Some children just don't fit in well with an academic environment. They don't enjoy school and don't do well in exams. Instead of them feeling as if they have no future, they should be given the chance to do well at a more practical job they might enjoy.\"), (5469, 'Parents who surround their child with cotton wool and do not let them play outside are impeding a child’s fun. Childhood should not be merely about school work, family and chores. They need to be allowed the time to play outside, away from the watchful eye of adults. They need their break too. We are preventing children from doing what they naturally want to do if we prevent them from playing outside. Children long to be silly in open fields and to swing on swings and run around parks, this is the release they need. Without this measure of fun, they will be mundane children who turn into mundane adults.'), (5566, \"Teaching is best done when teachers know what they're talking about. Making teachers present material on certain subjects is dangerous in interpretive subjects like English, where teachers may not really know what they're talking about. Shakespeare is not a compulsory part of many English degrees, so the teacher may not be as good on Shakespeare as he is on other, equally deserving, poets, thus lowering the standard of teaching. Pupils get the most out of school when they enjoy what they're doing. A teacher, similarly, teaches best when they enjoy what they're doing. Having subjects imposed on them erodes their ability to teach in a subject like English; allowing them the freedom to tailor their lessons to their own passions and the abilities of their pupils allows for more creativity in the classroom, more enjoyment for everyone, and overall a better quality of education.\")]\n",
      "Persp id: 10\n",
      "Persp Title: Celebrities, like athletes, enhance the nation’s image and generate revenue\n",
      "Top 5 evidences: [(936, 'The proposition have acknowledged that media coverage is a crucial source of revenue for sport in the form of sponsorship deals and TV rights. However, forcing media companies to provide equal coverage of men’s and women’s sport, inevitably leads to a thoroughly imperfect and inefficient market within the sports media industry. Sponsors and advertisers would not be as inclined to spend money on media coverage since they would deem that their advertising would reach fewer people and so have less of an impact. Moreover, sports newspapers and magazines are likely to suffer since the vast majority of readers are men interested in men’s sports. The consequences of an impaired sports media industry would have negative effects on both women’s and men’s sport because they will receive less funding. Let us examine how the England and Wales Cricket Board (ECB) is funded, as a case study. The overwhelming majority of the ECB’s funds come from TV rights sales. In 2012 alone contracts were signed with Sky and ESPN worth a total of £385 million. [1] Forcing these media giants to show an equal amount of women’s cricket as men’s would be destructive simply because interest in women’s cricket is nowhere near as high. Consequently, the ECB would see its TV rights value slashed and its income severely lowered. A similar story to this described above would ensue with many other team sports like football and rugby where the men’s sport has a huge fan base. The result would be hugely diminished funding for all facets of sport, most likely including women’s. Consequently, all the benefits the proposition are trying to achieve with this motion would not be achieved, and if anything one would observe a decline in participation and standards of facilities and coaching. This is because the development, facilities and grass roots programs funded by organisations like the ECB and the Football Association (FA) are all funded from the same pool of money, whether the income has come from men’s or women’s sport. Crucially, this explains the proposition’s identification of growing female participation in sport while media coverage remains low.\\xa0 [1]\\xa0 Hoult, Nick: “England and Wales Cricket Board to step up security in wke of new £125m Asian TV rights deal”, The Telegraph, 17 May, 2012.'), (946, \"Assuming we would have two equally muscular and equally fast male and female athletes, the current system clearly discriminates the female athlete by not allowing her to compete in the male league. It is against the very nature of sports to treat differently two athletes who have the same strength, speed, agility, dexterity, mental focus, determination, ambition based purely on their type of chromosomes.\\xa0 This is extremely important as most of the time the women’s competition gets less attention from the public and sponsors, as seen in the cases of Women’s National Basketball Association and National Women’s Football Association. So, by forcing them to stay in those leagues, you are denying potentially successful athletes fame, pride and money. The Giro Rosa, one of the biggest women cycling competition, offers a prize money of 460 Euros, which is a mere thousandth of the Tour de France's 450,000 Euro top prize.(1) (1) Barth Sarah “Why can’t we have a women’s Tour de France?”,\\xa0 Road.cc \\xa0,July 14, 2013\\xa0 http://road.cc/content/news/87934-why-can’t-we-have-women’s-tour-de-france\"), (7379, \"In liberal democracies, the govt’s role is to enable the citizens’ rights. It ensures everyone can exercise basic rights & freedoms by taking care of education, health, security, etc. and operating the relevant services such as police, public health & school systems. Governments must ensure the basic services, but not give money. If the money enables any needed right, the gov should establish a service for it. Throwing money at the problem can’t ensure that the money will be used to solve it, or that it will be used well. When it comes to giving money, as opposed to services, this is what happens. Gov gives people money without enough supervision and follow up. And so, because it can’t address the minute details, the problems are perpetuated, not solved. If not, then what the gov is doing is simply taking money as taxes from everyone, and giving it away to others. The gov should only take money in order to provide needed services - otherwise it should leave it to every person’s decision how to spend their money. It is unfair to harm one person by taking what he worked for, in order to better another’s, who hasn’t worked to earn it, or might misuse it. If the money doesn’t serve a critical need, then one usage of it isn’t better than the other - in both cases, the money goes towards non-essential needs[[http://tinyurl.com/66cbsdv]] It’s the gov’s duty to enable the objective conditions needed to live in a humane manner through services which verify that the needed conditions are met. Subjective conditions are set by society, and so it is society duty’s to enable them. Money, which is free to use by the owner’s discretion, enables those subjective conditions, and so should be given to the poor by the society, since society has decided on the need and will be able to spread it better. Bottom line, as long as the citizens’ basic rights are enabled, then any additional financial expenditure should be done by society, who'll do it better.\"), (949, \"Unfortunately, in the Status Quo there are a lot of women sporting leagues which are completely overshadowed by men’s, such as cycling, basketball or soccer. What is needed in order for them to grow is a lot of talented, gifted women athletes which will create the “thrill” needed to attract media coverage, which in turn attract sponsors. In time, as more and more young female athletes are drawn into these sports, slowly but surely they will grow and narrow the financial and coverage gap between them and men’s leagues. But if women are allowed to compete in men’s leagues the very best females in that sport, who are the bedrock for future development, will likely quit the women’s leagues for the men’s. Women already seem inclined to do this, American skier Lindsey Vonn has won the women's World Cup four times asked to be allowed to compete in the men's event.(1) As a result, the women’s leagues will be stripped of their best competitors. Left on its own the level of competition will rise and will surely catch up with the men’s leagues as far as money and media coverage is concerned. This is being proven by tennis, handball and athletics where there is as much money and fame for the female winners as there is for the male ones. (1)\\xa0 The Associated Press , “Skier Lindsey Vonn can't race against men in WCup” November 3, 2012\\xa0 http://www.cbsnews.com/8301-400_162-57544795/skier-lindsey-vonn-cant-race-against-men-in-wcup/\"), (6426, 'Professional sports teams will always be looking to capitalize and earn as much profit as possible throughout the course of the season. There will be sideshows, promotions, cheerleaders, 18-inch hot dogs with fried ice cream, gimmicks, souvenirs, and everything else that comes with attending a pro sporting event. The love that we have for our sports makes all this possible. The better the product on the field, the more opportunity to maximize revenue. For players, the better their performance, the more their worth. \\r\\n\\r\\nFor the Dominican baseball player that trained for a decade prior to signing a pro contract at age 16, and earning a ticket to the USA to play minor league baseball at age 18, it’s about a better life. For the wide receiver who grew up in a rough neighborhood and overcame numerous obstacles to establish himself in the NFL, it’s about taking care of his family. For the child prodigy turned NBA superstar, maybe it’s about his influence on a generation. For owners, it’s about a business venture and appeasing a fan base. As long as we as fans continue to love our sports, there will be dollars to be made. For the coaches, it’s about a championship. \\r\\n\\r\\nAt the foundation, the roots, the origin of everything for these people, I believe…lies passion for a game they love. For most in the sport industry, it may seem that money is often the main motivator, but deep down it’s about the love of the game. At least I’d like to think so.')]\n"
     ]
    }
   ],
   "source": [
    "# Verify against golden annotations from website. Top 1 and top 10 accuracy\n",
    "\n",
    "top1_correct = 0\n",
    "top5_correct = 0\n",
    "top10_correct = 0\n",
    "total_count = 0\n",
    "\n",
    "with open(sim_out_path, 'r') as fin:\n",
    "    reader = csv.DictReader(fin)\n",
    "    for row in reader:\n",
    "        persp_id = int(row['perspective'])\n",
    "#         print(persp_id, end=' ')\n",
    "        q = p_evi_anno_df.loc[p_evi_anno_df['perspective_id'] == persp_id]\n",
    "        have_evidence = len(q) > 0 \n",
    "        is_high_agreement = p_df.loc[p_df['id'] == persp_id].iloc[0].pilot1_high_agreement\n",
    "        \n",
    "        if have_evidence and is_high_agreement:\n",
    "            \n",
    "            evi_id = q.iloc[0].evidence_id\n",
    "        \n",
    "            cands = json.loads(row['evidence_candidates'])\n",
    "            top1 = cands[0][0]\n",
    "            top5 = set([tpl[0] for tpl in cands[:5]])\n",
    "            top10 = set([tpl[0] for tpl in cands[:10]])\n",
    "            \n",
    "            if evi_id == top1:\n",
    "                top1_correct += 1\n",
    "            \n",
    "            if evi_id in top5:\n",
    "                top5_correct += 1\n",
    "                \n",
    "            if evi_id in top10:\n",
    "                top10_correct += 1\n",
    "            \n",
    "            total_count += 1\n",
    "            \n",
    "            if evi_id not in top10:\n",
    "                print(\"Persp id: {}\".format(persp_id))\n",
    "                print(\"Persp Title: {}\".format(p_df.loc[p_df.id == persp_id].iloc[0].title))\n",
    "                evidence_text = [(eid, evi_df.loc[evi_df.id == eid].iloc[0].content) for eid in top5]\n",
    "                print(\"Top 5 evidences: {}\".format(evidence_text))\n",
    "            if total_count >= 10:\n",
    "                break"
   ]
  },
  {
   "cell_type": "code",
   "execution_count": 42,
   "metadata": {},
   "outputs": [
    {
     "name": "stdout",
     "output_type": "stream",
     "text": [
      "Total Count: 4736\n",
      "Top 1 accuracy: 0.19552364864864866\n",
      "Top 5 accuracy: 0.43517736486486486\n",
      "Top 10 accuracy: 0.5399070945945946\n"
     ]
    }
   ],
   "source": [
    "print('Total Count: {}'.format(total_count))\n",
    "print('Top 1 accuracy: {}'.format(top1_correct / total_count))\n",
    "print('Top 5 accuracy: {}'.format(top5_correct / total_count))\n",
    "print('Top 10 accuracy: {}'.format(top10_correct / total_count))"
   ]
  },
  {
   "cell_type": "code",
   "execution_count": null,
   "metadata": {},
   "outputs": [],
   "source": []
  }
 ],
 "metadata": {
  "kernelspec": {
   "display_name": "Python 3",
   "language": "python",
   "name": "python3"
  },
  "language_info": {
   "codemirror_mode": {
    "name": "ipython",
    "version": 3
   },
   "file_extension": ".py",
   "mimetype": "text/x-python",
   "name": "python",
   "nbconvert_exporter": "python",
   "pygments_lexer": "ipython3",
   "version": "3.6.4"
  }
 },
 "nbformat": 4,
 "nbformat_minor": 2
}
