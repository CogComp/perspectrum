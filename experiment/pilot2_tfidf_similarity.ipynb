{
 "cells": [
  {
   "cell_type": "code",
   "execution_count": 1,
   "metadata": {},
   "outputs": [
    {
     "name": "stdout",
     "output_type": "stream",
     "text": [
      "<class 'pandas.core.frame.DataFrame'>\n",
      "RangeIndex: 4743 entries, 0 to 4742\n",
      "Data columns (total 13 columns):\n",
      "claim                   4743 non-null int64\n",
      "perspective             4743 non-null int64\n",
      "sup                     4743 non-null int64\n",
      "und                     4743 non-null int64\n",
      "ns                      4743 non-null int64\n",
      "suporting (scaled)      4743 non-null float64\n",
      "undermining (scaled)    4743 non-null float64\n",
      "not sure (scaled)       4743 non-null float64\n",
      "P_i                     4743 non-null float64\n",
      "Total                   4743 non-null int64\n",
      "id                      4743 non-null int64\n",
      "source                  4743 non-null object\n",
      "title                   4743 non-null object\n",
      "dtypes: float64(4), int64(7), object(2)\n",
      "memory usage: 481.8+ KB\n",
      "<class 'pandas.core.frame.DataFrame'>\n",
      "RangeIndex: 8122 entries, 0 to 8121\n",
      "Data columns (total 3 columns):\n",
      "id         8122 non-null int64\n",
      "source     8122 non-null object\n",
      "content    8122 non-null object\n",
      "dtypes: int64(1), object(2)\n",
      "memory usage: 190.4+ KB\n",
      "<class 'pandas.core.frame.DataFrame'>\n",
      "RangeIndex: 8135 entries, 0 to 8134\n",
      "Data columns (total 4 columns):\n",
      "id                       8135 non-null int64\n",
      "source                   8135 non-null object\n",
      "title                    8134 non-null object\n",
      "pilot1_high_agreement    8135 non-null int64\n",
      "dtypes: int64(2), object(2)\n",
      "memory usage: 254.3+ KB\n",
      "<class 'pandas.core.frame.DataFrame'>\n",
      "RangeIndex: 8122 entries, 0 to 8121\n",
      "Data columns (total 5 columns):\n",
      "id                8122 non-null int64\n",
      "author            8122 non-null object\n",
      "perspective_id    8122 non-null int64\n",
      "evidence_id       8122 non-null int64\n",
      "comment           0 non-null float64\n",
      "dtypes: float64(1), int64(3), object(1)\n",
      "memory usage: 317.3+ KB\n"
     ]
    }
   ],
   "source": [
    "import pandas as pd\n",
    "\n",
    "# Goal here: 1. generate tfidf representation for all evidences and perspectives\n",
    "#            2. Record top similar K evidences to each perspective\n",
    "\n",
    "# First, we load all data we need. \n",
    "pilot1_result = \"/home/squirrel/ccg-new/projects/perspective/data/pilot1_persp_verification/persp_iaa_w_source.csv\"\n",
    "evidence_data = \"/home/squirrel/ccg-new/projects/perspective/data/database_output/webapp_evidence.csv\"\n",
    "perspective_data = \"/home/squirrel/ccg-new/projects/perspective/data/database_output/webapp_perspective.csv\"\n",
    "persp_evi_gold_annotation = \"/home/squirrel/ccg-new/projects/perspective/data/database_output/webapp_evidencerelation.csv\"\n",
    "\n",
    "pilot1_df = pd.read_csv(pilot1_result)\n",
    "p_df = pd.read_csv(perspective_data)\n",
    "evi_df = pd.read_csv(evidence_data)\n",
    "p_evi_anno_df = pd.read_csv(persp_evi_gold_annotation)\n",
    "\n",
    "pilot1_df.info()\n",
    "evi_df.info()\n",
    "p_df.info()\n",
    "p_evi_anno_df.info()"
   ]
  },
  {
   "cell_type": "code",
   "execution_count": 3,
   "metadata": {},
   "outputs": [],
   "source": [
    "# Output the list of ids of \"high quality\" perspectives we get in pilot1, so that we can add this information in the database\n",
    "import json\n",
    "\n",
    "high_qual_pid = pilot1_df.perspective.unique().tolist()\n",
    "len(high_qual_pid)\n",
    "\n",
    "out_path = \"/home/squirrel/ccg-new/projects/perspective/data/pilot1_persp_verification/high_qual_persp_id_list.json\"\n",
    "with open(out_path, 'w') as fout:\n",
    "    json.dump(high_qual_pid, fout)"
   ]
  },
  {
   "cell_type": "code",
   "execution_count": 4,
   "metadata": {},
   "outputs": [],
   "source": [
    "# Load tfidf components \n",
    "from similarity.tfidf import Tfidf\n",
    "\n",
    "tfidf = Tfidf(\"/home/squirrel/ccg-new/data/nyt_idf/nyt_idf.pkl\")"
   ]
  },
  {
   "cell_type": "code",
   "execution_count": 6,
   "metadata": {},
   "outputs": [
    {
     "name": "stdout",
     "output_type": "stream",
     "text": [
      "0.9882445694476926\n",
      "{'My': 0.2521814326295094, 'name': 0.18242214176255825, 'is': 0.027953020782761663, 'Rick': 0.37698177000070504, '.': 0.0014797220355288764}\n"
     ]
    }
   ],
   "source": [
    "# Test if tfidf is working\n",
    "text1 = \"My name is Rick.\"\n",
    "text1_a = \"My name is also Rick.\"\n",
    "\n",
    "\n",
    "t1 = tfidf.vectorize(text1)\n",
    "t1_a = tfidf.vectorize(text1_a)\n",
    "\n",
    "print(t1.cos_similiarity(t1_a))\n",
    "print(t1.dict)"
   ]
  },
  {
   "cell_type": "code",
   "execution_count": 14,
   "metadata": {},
   "outputs": [
    {
     "name": "stdout",
     "output_type": "stream",
     "text": [
      "<class 'pandas.core.frame.DataFrame'>\n",
      "RangeIndex: 8135 entries, 0 to 8134\n",
      "Data columns (total 5 columns):\n",
      "id                       8135 non-null int64\n",
      "source                   8135 non-null object\n",
      "title                    8134 non-null object\n",
      "pilot1_high_agreement    8135 non-null int64\n",
      "tfidf                    8135 non-null object\n",
      "dtypes: int64(2), object(3)\n",
      "memory usage: 317.9+ KB\n"
     ]
    }
   ],
   "source": [
    "# Add tfidf representation to the perspective table\n",
    "p_df[\"tfidf\"] = p_df[\"title\"].apply(lambda t: json.dumps(tfidf.vectorize(str(t)).dict))\n",
    "p_df.info()"
   ]
  },
  {
   "cell_type": "code",
   "execution_count": 15,
   "metadata": {},
   "outputs": [],
   "source": [
    "# Add tfidf representation to the evidence table\n",
    "evi_df[\"tfidf\"] = evi_df[\"content\"].apply(lambda t: json.dumps(tfidf.vectorize(str(t)).dict))"
   ]
  },
  {
   "cell_type": "code",
   "execution_count": 16,
   "metadata": {},
   "outputs": [],
   "source": [
    "# Save the tables\n",
    "persp_save_path = '/home/squirrel/ccg-new/projects/perspective/data/pilot2_tfidf/perspective_tfidf.csv'\n",
    "evi_save_path = '/home/squirrel/ccg-new/projects/perspective/data/pilot2_tfidf/evidence_tfidf.csv'\n",
    "\n",
    "p_df.to_csv(persp_save_path, index=False)\n",
    "evi_df.to_csv(evi_save_path, index=False)"
   ]
  },
  {
   "cell_type": "code",
   "execution_count": 19,
   "metadata": {},
   "outputs": [
    {
     "name": "stdout",
     "output_type": "stream",
     "text": [
      "1\n",
      "[(1, 0.5397837778532381), (936, 0.4753651741564662), (6426, 0.46372959852768175), (5564, 0.45391315532521476), (7379, 0.44959867056180164), (3422, 0.4432187087277606), (3399, 0.43855461807250334), (7317, 0.4329749585634605), (931, 0.4328383103247568), (949, 0.42592905715582635)]\n"
     ]
    }
   ],
   "source": [
    "from similarity.tfidf import SparseUnigramDoc\n",
    "\n",
    "# First load every tfidf representation in the evidence table\n",
    "evidences_tfidf = []\n",
    "for idx, row in evi_df.iterrows():\n",
    "    evidences_tfidf.append((row.id, SparseUnigramDoc(json.loads(row.tfidf))))\n",
    "\n",
    "for idx, row in p_df.iterrows():\n",
    "    print(row.id)\n",
    "    p_doc = SparseUnigramDoc(json.loads(row.tfidf))\n",
    "    \n",
    "    evi_sim = [(idx, doc.cos_similiarity(p_doc)) for idx, doc in evidences_tfidf]\n",
    "    \n",
    "    evi_sim = sorted(evi_sim, key=lambda t:t[1], reverse=True)\n",
    "    \n",
    "    print(evi_sim[:10])\n",
    "    break"
   ]
  },
  {
   "cell_type": "code",
   "execution_count": null,
   "metadata": {},
   "outputs": [],
   "source": []
  }
 ],
 "metadata": {
  "kernelspec": {
   "display_name": "Python 3",
   "language": "python",
   "name": "python3"
  },
  "language_info": {
   "codemirror_mode": {
    "name": "ipython",
    "version": 3
   },
   "file_extension": ".py",
   "mimetype": "text/x-python",
   "name": "python",
   "nbconvert_exporter": "python",
   "pygments_lexer": "ipython3",
   "version": "3.6.4"
  }
 },
 "nbformat": 4,
 "nbformat_minor": 2
}
