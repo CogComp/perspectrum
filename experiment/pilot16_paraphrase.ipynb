{
 "cells": [
  {
   "cell_type": "code",
   "execution_count": 7,
   "metadata": {},
   "outputs": [
    {
     "name": "stdout",
     "output_type": "stream",
     "text": [
      "<class 'pandas.core.frame.DataFrame'>\n",
      "RangeIndex: 2709 entries, 0 to 2708\n",
      "Data columns (total 5 columns):\n",
      "id                2709 non-null int64\n",
      "perspective_id    2709 non-null int64\n",
      "user_generated    2709 non-null object\n",
      "session_ids       2709 non-null object\n",
      "hints             2709 non-null object\n",
      "dtypes: int64(2), object(3)\n",
      "memory usage: 105.9+ KB\n",
      "<class 'pandas.core.frame.DataFrame'>\n",
      "RangeIndex: 20798 entries, 0 to 20797\n",
      "Data columns (total 7 columns):\n",
      "id                       20798 non-null int64\n",
      "source                   20798 non-null object\n",
      "title                    20797 non-null object\n",
      "pilot1_high_agreement    20798 non-null int64\n",
      "similar_persps           20798 non-null object\n",
      "more_than_two_tokens     20798 non-null int64\n",
      "pilot1_have_stance       20798 non-null int64\n",
      "dtypes: int64(4), object(3)\n",
      "memory usage: 1.1+ MB\n"
     ]
    }
   ],
   "source": [
    "import pandas as pd\n",
    "\n",
    "# Now the experiments are done, first read the data\n",
    "result_table = \"../data/pilot16_paraphrase/webapp_perspectiveparaphrase.csv\"\n",
    "persps = \"../data/database_output/re-step1/webapp_perspective.csv\"\n",
    "\n",
    "rdf = pd.read_csv(result_table)\n",
    "pdf = pd.read_csv(persps)\n",
    "\n",
    "rdf.info()\n",
    "pdf.info()"
   ]
  },
  {
   "cell_type": "code",
   "execution_count": 9,
   "metadata": {},
   "outputs": [
    {
     "name": "stdout",
     "output_type": "stream",
     "text": [
      "<class 'pandas.core.frame.DataFrame'>\n",
      "Int64Index: 2604 entries, 0 to 2603\n",
      "Data columns (total 4 columns):\n",
      "perspective_id    2604 non-null int64\n",
      "user_generated    2604 non-null object\n",
      "id                2604 non-null int64\n",
      "title             2604 non-null object\n",
      "dtypes: int64(2), object(2)\n",
      "memory usage: 101.7+ KB\n"
     ]
    }
   ],
   "source": [
    "# Put user generated paraphrases beside gold perspectives for visualization\n",
    "rdf = rdf.loc[rdf.user_generated != \"[]\"]\n",
    "\n",
    "merged = pd.merge(rdf[[\"perspective_id\", \"user_generated\"]], pdf[[\"id\", \"title\"]], left_on=\"perspective_id\", right_on=\"id\")\n",
    "merged.info()\n",
    "\n",
    "result_table = \"../data/pilot16_paraphrase/result.csv\"\n",
    "\n",
    "merged.to_csv(result_table, index=False)"
   ]
  },
  {
   "cell_type": "code",
   "execution_count": null,
   "metadata": {},
   "outputs": [],
   "source": [
    "\n",
    "\n"
   ]
  }
 ],
 "metadata": {
  "kernelspec": {
   "display_name": "Python 3",
   "language": "python",
   "name": "python3"
  },
  "language_info": {
   "codemirror_mode": {
    "name": "ipython",
    "version": 3
   },
   "file_extension": ".py",
   "mimetype": "text/x-python",
   "name": "python",
   "nbconvert_exporter": "python",
   "pygments_lexer": "ipython3",
   "version": "3.6.4"
  }
 },
 "nbformat": 4,
 "nbformat_minor": 2
}
