{
 "cells": [
  {
   "cell_type": "code",
   "execution_count": 7,
   "metadata": {},
   "outputs": [
    {
     "name": "stdout",
     "output_type": "stream",
     "text": [
      "<class 'pandas.core.frame.DataFrame'>\n",
      "RangeIndex: 2709 entries, 0 to 2708\n",
      "Data columns (total 5 columns):\n",
      "id                2709 non-null int64\n",
      "perspective_id    2709 non-null int64\n",
      "user_generated    2709 non-null object\n",
      "session_ids       2709 non-null object\n",
      "hints             2709 non-null object\n",
      "dtypes: int64(2), object(3)\n",
      "memory usage: 105.9+ KB\n",
      "<class 'pandas.core.frame.DataFrame'>\n",
      "RangeIndex: 20798 entries, 0 to 20797\n",
      "Data columns (total 7 columns):\n",
      "id                       20798 non-null int64\n",
      "source                   20798 non-null object\n",
      "title                    20797 non-null object\n",
      "pilot1_high_agreement    20798 non-null int64\n",
      "similar_persps           20798 non-null object\n",
      "more_than_two_tokens     20798 non-null int64\n",
      "pilot1_have_stance       20798 non-null int64\n",
      "dtypes: int64(4), object(3)\n",
      "memory usage: 1.1+ MB\n"
     ]
    }
   ],
   "source": [
    "import pandas as pd\n",
    "\n",
    "# Now the experiments are done, first read the data\n",
    "result_table = \"../data/pilot16_paraphrase/webapp_perspectiveparaphrase.csv\"\n",
    "persps = \"../data/database_output/re-step1/webapp_perspective.csv\"\n",
    "\n",
    "rdf = pd.read_csv(result_table)\n",
    "pdf = pd.read_csv(persps)\n",
    "\n",
    "rdf.info()\n",
    "pdf.info()"
   ]
  },
  {
   "cell_type": "code",
   "execution_count": 9,
   "metadata": {},
   "outputs": [
    {
     "name": "stdout",
     "output_type": "stream",
     "text": [
      "<class 'pandas.core.frame.DataFrame'>\n",
      "Int64Index: 2604 entries, 0 to 2603\n",
      "Data columns (total 4 columns):\n",
      "perspective_id    2604 non-null int64\n",
      "user_generated    2604 non-null object\n",
      "id                2604 non-null int64\n",
      "title             2604 non-null object\n",
      "dtypes: int64(2), object(2)\n",
      "memory usage: 101.7+ KB\n"
     ]
    }
   ],
   "source": [
    "# Put user generated paraphrases beside gold perspectives for visualization\n",
    "rdf = rdf.loc[rdf.user_generated != \"[]\"]\n",
    "\n",
    "merged = pd.merge(rdf[[\"perspective_id\", \"user_generated\"]], pdf[[\"id\", \"title\"]], left_on=\"perspective_id\", right_on=\"id\")\n",
    "merged.info()\n",
    "\n",
    "result_table = \"../data/pilot16_paraphrase/result.csv\"\n",
    "\n",
    "merged.to_csv(result_table, index=False)"
   ]
  },
  {
   "cell_type": "code",
   "execution_count": 19,
   "metadata": {},
   "outputs": [],
   "source": [
    "# Now we have asked AMT workers to verify the results, let's see what they think!\n",
    "import pandas as pd\n",
    "import json\n",
    "\n",
    "equivalence_table = \"../data/pilot16_paraphrase/webapp_equivalenceannotation.csv\" \n",
    "persp_table = \"../data/pilot16_paraphrase/webapp_perspective.csv\"\n",
    "\n",
    "edf = pd.read_csv(equivalence_table)[[\"session_id\", \"author\", \"perspective_id\", \"user_choice\"]]\n",
    "pdf = pd.read_csv(persp_table)\n",
    "\n",
    "edf = edf.drop_duplicates() # There was a bug in the interface, so there are a lot of duplicate annotations\n",
    "\n",
    "annotation_count = {} # key: tuple (orig_persp_id, para_persp_id) value: (yes_count, no_count)\n",
    "\n",
    "def update_annotation_count(gold_pid, para_pid, yes_count=0, no_count=0):\n",
    "    if (gold_pid, para_pid) not in annotation_count:\n",
    "        annotation_count[(gold_pid, para_pid)] = (yes_count, no_count)\n",
    "    else:\n",
    "        cur_count = annotation_count[(gold_pid, para_pid)]\n",
    "        annotation_count[(gold_pid, para_pid)] = (cur_count[0] + yes_count, cur_count[1] + no_count)\n",
    "    \n",
    "\n",
    "for idx, row in edf.iterrows():\n",
    "    pid = row.perspective_id\n",
    "    p = pdf[pdf.id == pid].iloc[0]\n",
    "    user_choice = [int(x) for x in json.loads(row.user_choice)]\n",
    "    alles = json.loads(p.similar_persps)\n",
    "    \n",
    "    for correct_para_pid in user_choice:\n",
    "        update_annotation_count(pid, correct_para_pid, yes_count=1)\n",
    "    \n",
    "    not_para_ids = [i for i in alles if i not in user_choice]\n",
    "        \n",
    "    for wrong_para_pid in not_para_ids:\n",
    "        update_annotation_count(pid, wrong_para_pid, no_count=1)\n",
    "\n",
    "# Save the aggregated votes for paraphrases\n",
    "out_path = \"../data/pilot16_paraphrase/paraphrase_counts.csv\"\n",
    "\n",
    "with open(out_path, 'w') as fout:\n",
    "    fout.write('perspective,paraphrase_perspective,vote_yes,vote_no\\n')\n",
    "    for key, val in annotation_count.items():\n",
    "        line = [key[0], key[1], val[0], val[1]]\n",
    "        line = [str(x) for x in line]\n",
    "        fout.write(','.join(line))\n",
    "        fout.write('\\n')\n",
    "    "
   ]
  },
  {
   "cell_type": "code",
   "execution_count": 25,
   "metadata": {},
   "outputs": [],
   "source": [
    "# Annotate the previous result with title of two perspectives + Claims\n",
    "claim_table = \"../data/pilot16_paraphrase/webapp_claim.csv\"\n",
    "re_step1 = \"../data/pilot16_paraphrase/webapp_restep1results.csv\"\n",
    "\n",
    "cdf = pd.read_csv(claim_table)\n",
    "rdf = pd.read_csv(re_step1)\n",
    "rdf = rdf[(rdf.label_3.isin([\"S\", \"U\"])) & (rdf.p_i_3 > 0.5)]\n",
    "           \n",
    "result_df = pd.read_csv(out_path)\n",
    "result_df['p_title'] = \"\"\n",
    "result_df['para_title'] = \"\"\n",
    "result_df['claim_title'] = \"\"\n",
    "result_df['claim_id'] = 0\n",
    "\n",
    "for idx, row in result_df.iterrows():\n",
    "    pid = row.perspective\n",
    "    para_id = row.paraphrase_perspective\n",
    "    result_df.at[idx, \"p_title\"] = pdf[pdf.id == pid].iloc[0].title\n",
    "    result_df.at[idx, \"para_title\"] = pdf[pdf.id == para_id].iloc[0].title\n",
    "    cid = rdf[rdf.perspective_id == pid].iloc[0].claim_id\n",
    "    result_df.at[idx, \"claim_id\"] = cid\n",
    "    result_df.at[idx, \"claim_title\"] = cdf[cdf.id == cid].iloc[0].title\n",
    "    # Get Claim\n",
    "    \n",
    "result_df.to_csv(out_path, index=False)"
   ]
  }
 ],
 "metadata": {
  "kernelspec": {
   "display_name": "Python 3",
   "language": "python",
   "name": "python3"
  },
  "language_info": {
   "codemirror_mode": {
    "name": "ipython",
    "version": 3
   },
   "file_extension": ".py",
   "mimetype": "text/x-python",
   "name": "python",
   "nbconvert_exporter": "python",
   "pygments_lexer": "ipython3",
   "version": "3.6.4"
  }
 },
 "nbformat": 4,
 "nbformat_minor": 2
}
