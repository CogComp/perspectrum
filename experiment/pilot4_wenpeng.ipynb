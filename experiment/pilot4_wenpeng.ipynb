{
 "cells": [
  {
   "cell_type": "code",
   "execution_count": 1,
   "metadata": {},
   "outputs": [],
   "source": [
    "import json\n",
    "\n",
    "pp_2_ev_path = \"/home/squirrel/ccg-new/projects/perspective/data/pilot3_twowingos/pp_2_ev_20181105.json\" \n",
    "ev_2_pp_path = \"/home/squirrel/ccg-new/projects/perspective/data/pilot3_twowingos/ev_2_pp_20181105.json\" \n",
    "\n",
    "with open(pp_2_ev_path) as fin, open(ev_2_pp_path) as fin2:\n",
    "    pp_2_ev = json.load(fin)\n",
    "    ev_2_pp = json.load(fin2)"
   ]
  },
  {
   "cell_type": "code",
   "execution_count": 18,
   "metadata": {},
   "outputs": [
    {
     "name": "stdout",
     "output_type": "stream",
     "text": [
      "<class 'pandas.core.frame.DataFrame'>\n",
      "RangeIndex: 8122 entries, 0 to 8121\n",
      "Data columns (total 5 columns):\n",
      "id                8122 non-null int64\n",
      "author            8122 non-null object\n",
      "perspective_id    8122 non-null int64\n",
      "evidence_id       8122 non-null int64\n",
      "comment           0 non-null float64\n",
      "dtypes: float64(1), int64(3), object(1)\n",
      "memory usage: 317.3+ KB\n"
     ]
    }
   ],
   "source": [
    "import pandas as pd\n",
    "\n",
    "evidence_rel_path = \"/home/squirrel/ccg-new/projects/perspective/data/database_output/webapp_evidencerelation.csv\"\n",
    "evidence_path = \"/home/squirrel/ccg-new/projects/perspective/data/database_output/webapp_evidence.csv\"\n",
    "persp_path = \"/home/squirrel/ccg-new/projects/perspective/data/database_output/webapp_perspective.csv\"\n",
    "\n",
    "df = pd.read_csv(evidence_rel_path)\n",
    "df.info()\n",
    "\n",
    "edf = pd.read_csv(evidence_path)\n",
    "pdf = pd.read_csv(persp_path)\n",
    "\n",
    "def get_gold_persp(evidence_id):\n",
    "    q = df.loc[df.evidence_id == evidence_id]\n",
    "    if len(q) > 0:\n",
    "        return q.iloc[0].perspective_id\n",
    "    else:\n",
    "        return None\n",
    "    \n",
    "def get_gold_evidence(perspective_id):\n",
    "    q = df.loc[df.perspective_id == perspective_id]\n",
    "    if len(q) > 0:\n",
    "        return q.iloc[0].evidence_id\n",
    "    else:\n",
    "        return None\n",
    "\n",
    "def get_persp_text(persp_id):\n",
    "    q = pdf.loc[pdf.id == persp_id]\n",
    "    if len(q) > 0:\n",
    "        return q.iloc[0].title\n",
    "    else:\n",
    "        return None\n",
    "    \n",
    "def get_evidence_text(evidence_id):\n",
    "    q = edf.loc[edf.id == evidence_id]\n",
    "    if len(q) > 0:\n",
    "        return q.iloc[0].content\n",
    "    else:\n",
    "        return None\n",
    "    "
   ]
  },
  {
   "cell_type": "code",
   "execution_count": 3,
   "metadata": {},
   "outputs": [
    {
     "name": "stdout",
     "output_type": "stream",
     "text": [
      "Top 1 accuracy: 0.003324304358532381\n",
      "Top 10 accuracy: 0.07645900024624477\n",
      "Top 20 accuracy: 0.16670770746121644\n"
     ]
    }
   ],
   "source": [
    "# For each evidence, measure top k accuracy of perspective candidates\n",
    "k = [1, 10, 20]\n",
    "correct = [0 for _k in k]\n",
    "\n",
    "for e2p in ev_2_pp:\n",
    "    gold_pp_id = get_gold_persp(e2p['ev_id'])\n",
    "    for idx, _k in enumerate(k):\n",
    "        if gold_pp_id in e2p['pp_id_list'][:_k]:\n",
    "            correct[idx] += 1\n",
    "\n",
    "total = len(ev_2_pp)\n",
    "\n",
    "\n",
    "for idx, _k in enumerate(k):\n",
    "    print(\"Top {} accuracy: {}\".format(_k, correct[idx] / total))"
   ]
  },
  {
   "cell_type": "code",
   "execution_count": 12,
   "metadata": {},
   "outputs": [
    {
     "name": "stdout",
     "output_type": "stream",
     "text": [
      "Mean Rank of evidence candidates = 293.30349667569567\n"
     ]
    }
   ],
   "source": [
    "# Measure average rank of perspective candidates for every evidence (rank starts from 1)\n",
    "total = len(ev_2_pp)\n",
    "total_rank = 0\n",
    "\n",
    "for e2p in ev_2_pp:\n",
    "    gold_pp_id = get_gold_persp(e2p['ev_id'])\n",
    "    if gold_pp_id:\n",
    "        try:\n",
    "            total_rank += e2p['pp_id_list'].index(gold_pp_id) + 1\n",
    "        except ValueError:\n",
    "            continue\n",
    "            \n",
    "print(\"Mean Rank of evidence candidates = {}\".format(total_rank / total))"
   ]
  },
  {
   "cell_type": "code",
   "execution_count": 20,
   "metadata": {},
   "outputs": [
    {
     "name": "stdout",
     "output_type": "stream",
     "text": [
      "evidence_id =  44\n",
      "evidence_text =  Cigarettes are so common that there is hardly any chance all the people will stop. What will happen is that policies, regarding tobacco regulation or banning will mainly restrict the possibilities of the poor. In 2009, in the US, a law to triple the federal excise tax on cigarettes was signed, which meant that the federal tax on cigarette jumped from 39 cents per pack to $1.01 today. The administration projects, that such a \"sin tax\" will bring in at least $38 billion over the next five years. Smokers, usually coming from lower socio-economic backgrounds (getting welfare, unemployment or disability checks instead of paychecks) still pay the whole cigarette tax, while they do not get the same amount of funding as others. Anyone concerned about widening income inequality should have second thoughts about this distribution of the tax burden1. Effectively this means, that while a higher financial burden might not cause problems to high and middle class smokers, it will cause the poor smoker, to either limit the freedom of choice by not buying cigarettes or either make sure other necessities, such as food, other supplies will not be provided. In fact researchers estimate that in Bangladesh 10.5 million people are going hungry and 350 children are dying each day due to diversion of money from food to tobacco2. The current situation is that poor turn to \"shag\" or rolling tobacco for self-made cigarettes, which may then be more harmful as the state cannot control it's ingredients as thorough or in the end even turn to the black market of tobacco farmers, where there is no control\n",
      "gold_persp_id =  44\n",
      "gold_persp_text =  Regulation harms safety and the poor population\n",
      "persp_cand_id =  1462\n",
      "persp_cand_text =  Falsifiability\n",
      "persp_cand_id =  2062\n",
      "persp_cand_text =  Consequentialism\n",
      "persp_cand_id =  3269\n",
      "persp_cand_text =  Relevance\n",
      "persp_cand_id =  3570\n",
      "persp_cand_text =  Uti Possidetis\n",
      "persp_cand_id =  3613\n",
      "persp_cand_text =  Encourages Secessionism\n",
      "evidence_id =  58\n",
      "evidence_text =  First past the post (FPTP) often results in a party without majority support being able to dominate parliament. Minority parties, such as the Green party and UKIP (in the UK), which can win 5-10% or so of the vote all over the country, can fail to win a single seat. In the UK 2010 general election, UKIP received 919,546 votes across the country, but not a single seat ( BBC News , UK 2010 general election results). Parties with a uniform vote across the country are punished unfairly. Thus in Singapore’s general election of 2011 the National Solidarity Party contested 24 seats and won 39.25% of the valid votes across the wards it contested yet still failed to win any seats.(Wikipedia, Singaporean general election, 2011) Theoretically parties could win huge numbers of votes, potentially up to 49% in every constituency, without ever getting any representation in parliament. As such FPTP favours parties that appeal to local issues or to particular segments of the population these parties that are losing out are likely to be those parties that either appeal to a broad segment of the population or whose support is based upon an issue that affects everyone. Furthermore, in the UK 2010 general election, two thirds of MPs were elected without receiving a majority of the votes in their constituency ( Lodge, 2011) . This suggests that most people are being represented by people they didn’t vote for.\n",
      "gold_persp_id =  58\n",
      "gold_persp_text =  PR produces fairer results\n",
      "persp_cand_id =  5787\n",
      "persp_cand_text =  These people are breaking the law and need to be punished.\n",
      "persp_cand_id =  3127\n",
      "persp_cand_text =  It is in the national interest for democracies to support those seeking to oust dictators\n",
      "persp_cand_id =  3003\n",
      "persp_cand_text =  The concept of federalism lacks political support\n",
      "persp_cand_id =  2452\n",
      "persp_cand_text =  The government has supported terrorist organisations\n",
      "persp_cand_id =  6318\n",
      "persp_cand_text =  Corporations support our living standards and ensure democracy and human rights are STRONGER, not WEAKER!\n",
      "evidence_id =  77\n",
      "evidence_text =  Research has shown that consumers are likely to stop downloading from unauthorized sources when warned by their ISP. For example: Seven out of ten (72%) UK music consumers would stop illegally downloading if told to do so by their ISP, and 90 per cent of consumers would stop illegally file-sharing after two warnings from their ISP. [1] This shows that the threat of a possible disconnection together with a friendly warning is enough to stop most consumers from downloading from illegal source. The reasoning behind it is simple: consumers can now download without a cost, a graduated response mechanism first raises awareness scaring off those who are only casually downloading out of convenience and then heightens the expected cost of infringement and thus makes it more likely consumers will use legal sources. [2] [1]  IFPI,  Digital Music Report 2009 . 2009. URL for PDF:  http://www.ifpi.org/content/library/dmr2009-real.pdf [2]  Olivier Bomsel and Heritania Ranaivoson, ‘Decreasing copyright enforcement costs: the scope of a graduated response’. 2009. Review of Economic Research on Copyright Issues, Volume 6(2), p. 13 – 29. URL for PDF:  http://hal-ensmp.archives-ouvertes.fr/docs/00/44/65/31/PDF/Rerci.pdf\n",
      "gold_persp_id =  77\n",
      "gold_persp_text =  A graduated response will be an effective deterrent\n",
      "persp_cand_id =  1462\n",
      "persp_cand_text =  Falsifiability\n",
      "persp_cand_id =  2062\n",
      "persp_cand_text =  Consequentialism\n",
      "persp_cand_id =  3269\n",
      "persp_cand_text =  Relevance\n",
      "persp_cand_id =  3570\n",
      "persp_cand_text =  Uti Possidetis\n",
      "persp_cand_id =  3613\n",
      "persp_cand_text =  Encourages Secessionism\n",
      "evidence_id =  110\n",
      "evidence_text =  One of the best things about the proposal to create CIRP is that it simply brings the internet into line with other areas of international communication and the global economy by bringing the internet into the United Nations system. The International Telecommunications Union (ITU) for example is the body that allocates radio spectrums and satellite orbits, in other words it does for telecommunications what ICANN does for the internet, and it is a United Nations agency. [1]  The ITU has 193 countries as members but is also open to the private sector and academia, just as CIRP would be. [2]  Having internet governance working through the United Nations would therefore mean using a tried and tested method of governance. [1]   ‘About ITU’,  International Telecommunication Union. [2]   ‘Membership’,  International Telecommunication Union\n",
      "gold_persp_id =  110\n",
      "gold_persp_text =  Simplicity\n",
      "persp_cand_id =  1462\n",
      "persp_cand_text =  Falsifiability\n",
      "persp_cand_id =  2062\n",
      "persp_cand_text =  Consequentialism\n",
      "persp_cand_id =  3269\n",
      "persp_cand_text =  Relevance\n",
      "persp_cand_id =  3570\n",
      "persp_cand_text =  Uti Possidetis\n",
      "persp_cand_id =  3613\n",
      "persp_cand_text =  Encourages Secessionism\n",
      "evidence_id =  135\n",
      "evidence_text =  Freedom of choice: If athletes wish to take drugs in search of improved performances, let them do so. They harm nobody but themselves and should be treated as adults, capable of making rational decisions upon the basis of widely-available information. Even if there are adverse health effects in the long-term, this is also true of tobacco, alcohol and boxing, which remain legal. We allow world class athletes to train for 23 hours a week (on average), adjust their diets and endanger themselves by pushing the boundaries of their body. We let them do it, because it is what they chose which is best for them. According to the NFL Player Association the average life expectancy of an NFL player is 58 years of age (1). Thus already we allow athletes to endanger their lives, give them the choice of a lifestyle. Why not also extend this moral precedent to drugs?   http://strengthplanet.com/other/15-surprising-facts-about-world-class-athletes.htm , accessed 05/18/2011\n",
      "gold_persp_id =  135\n",
      "gold_persp_text =  Athletes should be free to take risks when training and competing\n",
      "persp_cand_id =  1462\n",
      "persp_cand_text =  Falsifiability\n",
      "persp_cand_id =  2062\n",
      "persp_cand_text =  Consequentialism\n",
      "persp_cand_id =  3269\n",
      "persp_cand_text =  Relevance\n",
      "persp_cand_id =  3570\n",
      "persp_cand_text =  Uti Possidetis\n",
      "persp_cand_id =  3613\n",
      "persp_cand_text =  Encourages Secessionism\n"
     ]
    }
   ],
   "source": [
    "# Hmm things look bad.. Let's look at some specific examples.\n",
    "\n",
    "# First, worst cases -- check some examples with rank > 1000\n",
    "rank_th = 2000\n",
    "example_count = 5\n",
    "k = 5\n",
    "\n",
    "for e2p in ev_2_pp:\n",
    "    gold_pp_id = get_gold_persp(e2p['ev_id'])\n",
    "    if gold_pp_id:\n",
    "        try:\n",
    "            if e2p['pp_id_list'].index(gold_pp_id) >= rank_th:\n",
    "                print(\"evidence_id =  {}\".format(e2p['ev_id']))\n",
    "                print(\"evidence_text =  {}\".format(get_evidence_text(e2p['ev_id'])))\n",
    "                print(\"gold_persp_id =  {}\".format(gold_pp_id))\n",
    "                print(\"gold_persp_text =  {}\".format(get_persp_text(gold_pp_id)))\n",
    "                      \n",
    "                for pid in e2p['pp_id_list'][:k]:\n",
    "                    print(\"persp_cand_id =  {}\".format(pid))\n",
    "                    print(\"persp_cand_text =  {}\".format(get_persp_text(pid)))\n",
    "                \n",
    "                example_count -= 1\n",
    "                if example_count <= 0:\n",
    "                    break\n",
    "        except ValueError:\n",
    "            continue\n",
    "            \n",
    "        "
   ]
  },
  {
   "cell_type": "code",
   "execution_count": 22,
   "metadata": {},
   "outputs": [
    {
     "name": "stdout",
     "output_type": "stream",
     "text": [
      "evidence_id =  235\n",
      "evidence_text =  While the new ‘EU High Representative for Foreign and Security Policy’ marks only a bold first step towards a more unified voice for the EU, the decisions are indeed still based on a state by state consultation mechanism – hence the name representative. This should however not to be downplayed as a less significant change in how the EU approaches its foreign policy. The consultation aspect is in fact essential to reaching agreement and the importance of not only presenting a united front to the rest of the world (the EU is exemplary in trade policy and environmental policy, but less important when it comes to presenting a united voice in foreign policy as Belgian Foreign minister Mark Eyskens put it in 1991 “Europe is an economic giant, a political dwarf, and a military worm” 1, but also creating a united front through collaboration and debate. One should thus see this not only as a means to an end, but rather as an important mechanism in itself, whereby new identities are slowly created along with a deeper sense of commitment to a common set of values. 1. Craig R Whitney, ‘WAR IN THE GULF: EUROPE; Gulf Fighting Shatters Europeans’ Fragile Unity’,  http://www.nytimes.com/1991/01/25/world/war-in-the-gulf-europe-gulf-fighting-shatters-europeans-fragile-unity.html\n",
      "gold_persp_id =  238\n",
      "gold_persp_text =  The fact that it is a Representative highlights the fact that the EU is based on consultation and consensus, and that is a positive thing.\n",
      "persp_cand_id =  238\n",
      "persp_cand_text =  The fact that it is a Representative highlights the fact that the EU is based on consultation and consensus, and that is a positive thing.\n",
      "persp_cand_id =  1169\n",
      "persp_cand_text =  Democracy must be representative\n",
      "persp_cand_id =  3140\n",
      "persp_cand_text =  Citizens deserve the right to know what is happening in their name. \n",
      "persp_cand_id =  1462\n",
      "persp_cand_text =  Falsifiability\n",
      "persp_cand_id =  2062\n",
      "persp_cand_text =  Consequentialism\n",
      "evidence_id =  266\n",
      "evidence_text =  If smokers are not allowed to smoke in pubs, they will not spend as much time in them, preferring to stay at home where they can smoke with their friends. This will put many pubs out of business. In fact, since the smoking ban was introduced in the UK, many pubs have closed and blamed their loss of business on the smoking ban1. The Save Our Pubs & Clubs campaign estimates that the smoking ban in the UK is responsible for 20 pub closures a week2. This is an unfair consequence for the many pub-owners across the world. 1 'MPs campaign to relax smoking ban in pubs',  BBC News , 29 June 2011,  http://www.bbc.co.uk/news/uk-politics-13948624 2  'Why we want government to amend the smoking ban',  Save Our Pubs & Clubs ,  http://www.amendthesmokingban.com/our_case  \n",
      "gold_persp_id =  269\n",
      "gold_persp_text =  This ban would put many pubs, clubs, etc. out of business.\n",
      "persp_cand_id =  5419\n",
      "persp_cand_text =  Driving behaviour has not changed since cameras were introduced\n",
      "persp_cand_id =  269\n",
      "persp_cand_text =  This ban would put many pubs, clubs, etc. out of business.\n",
      "persp_cand_id =  6153\n",
      "persp_cand_text =  Critics are merely looking to pass the blame \n",
      "persp_cand_id =  6868\n",
      "persp_cand_text =  Sharia jurisprudence would not allow for Sharia to be adopted in the UK\n",
      "persp_cand_id =  1407\n",
      "persp_cand_text =  Mutually Assured Destruction breaks down when national missile defense systems are introduced, destabilizing world security:\n",
      "evidence_id =  566\n",
      "evidence_text =  Allowing illegal immigrants to get drivers licenses is a security issue for America. Illegal immigrants are a threat to the US because they have not gone through the necessary background checks that all immigrants are supposed to go through before being allowed into the US to ensure that they are not going to harm American citizens. Giving illegal immigrants documents that- as proposition argument three says- could grant them access to state services and to a wider range of private services is dangerous [1] . There is no way for frontline state and business staff to determine whether drivers licence holders are migrants who have undergone appropriate police screening, or criminals with a history of dishonest or exploitative behaviour. The resolution may, therefore, allow disreputable individuals to falsely claim to be normalised American citizens. Alternatively, and more likely, the resolution will undermine the value and utility of state drivers licences – for Latin-American US citizens at the very least. As it becomes known that immigrants from the south bearing licences might be more likely to be dishonest, banks, stores and hospitals will become less willing to accept drivers licences as conclusive proof of a Latin-American individual’s identity. If the degree to which service providers will trust a driving licence is reduced, the improvements to illegal immigrants’ quality of life that the resolution brings about will be short lived. Moreover, legally resident Latin-Americans will find that their lives become much more difficult. Service providers will adopt a stance of suspicion toward Latin-American individuals, assuming that a Latino-American’s driving licence offers no useful indication as to his immigration status and background. Therefore, this policy constitutes a large security threat to America and its citizens, and a significant danger to the integration and lifestyles of thousands of Latino-American individuals. [1]  \"Position Paper: No Drivers Licenses for Illegal Aliens.\"  News Blaze . Realtime News, 23 Sep 2001. Web. 30 Nov. 2011.  http://newsblaze.com/story/20070923120657tsop.nb/topstory.html\n",
      "gold_persp_id =  569\n",
      "gold_persp_text =  This allows illegals to masquerade as normal immigrants.\n",
      "persp_cand_id =  2129\n",
      "persp_cand_text =  Federal states are better able to protect their citizens.\n",
      "persp_cand_id =  5044\n",
      "persp_cand_text =  Sanctuary cities are safer because they encourage good relationships between undocumented immigrants and law enforcement. \n",
      "persp_cand_id =  565\n",
      "persp_cand_text =  This allows illegal immigrants to get drivers insurance, which makes safer and fairer roads.\n",
      "persp_cand_id =  738\n",
      "persp_cand_text =  Further protections are required to grant migrants full human rights.\n",
      "persp_cand_id =  569\n",
      "persp_cand_text =  This allows illegals to masquerade as normal immigrants.\n",
      "evidence_id =  743\n",
      "evidence_text =  Increasing protections of migrant rights has the general effect of increasing migration. Indeed, one policy goal of many migrant rights activists is for open borders and free and unrestricted migration across them. A right to family reunification would also increase migration. This can be problematic in many countries. It may worsen overpopulation problems, increase tensions between ethnic and/or religious groups, and raise unemployment rates. The economies of many receiving countries are barely managing to fight unemployment in the status quo. If migrants receive further protection, they will take more jobs, making it harder for citizens to find employment. Everybody should have the opportunity to work in his home country, but the economic protection of migrants overcrowds receiving countries, driving up unemployment. In America, for example, between 40 and 50 percent of wage-loss among low-skilled workers is caused by immigration, and around 1,880,000 American workers lose their jobs every year because of immigration. [1]  In addition to unemployment problems, overcrowding can have a variety of negative consequences affecting air pollution, traffic, sanitation, and quality of life. So, why are migrants deserving of \"protection\"? It should be the other way around: the national workers of a state deserve protection from migrant workers and the jobs they are taking. [1]   Colorado Alliance for Immigration Reform , “Economic Costs.”  http://www.cairco.org/econ/econ.html .\n",
      "gold_persp_id =  746\n",
      "gold_persp_text =  Protections of migrants will hurt the economies of receiving countries by overcrowding them and taking away jobs from citizens.\n",
      "persp_cand_id =  745\n",
      "persp_cand_text =  Receiving countries should not and cannot afford to further protect migrants because they often free ride on health, education, and welfare systems.\n",
      "persp_cand_id =  746\n",
      "persp_cand_text =  Protections of migrants will hurt the economies of receiving countries by overcrowding them and taking away jobs from citizens.\n",
      "persp_cand_id =  1482\n",
      "persp_cand_text =  Gulf countries could benefit from refugees\n",
      "persp_cand_id =  4434\n",
      "persp_cand_text =  Providing a right to health care could raise taxes. \n",
      "persp_cand_id =  4467\n",
      "persp_cand_text =  Increasing the minimum wage would force businesses to lay off employees and raise unemployment levels.\n"
     ]
    },
    {
     "name": "stdout",
     "output_type": "stream",
     "text": [
      "evidence_id =  940\n",
      "evidence_text =  Chess is among the sports with the greatest number of federations and of active participants worldwide.12 Its large fan base, however, is completely unrepresented in the world’s largest sports competition. Chess, furthermore, is highly viewer friendly, so its popularity would only flourish from its representation. It is possible to broadcast any game online, for all to watch at home. Games also often feature high commentary action explaining and analysing the players’ strategies, to make them approachable and exciting to the public. Furthermore, it could take the shape of a team sport in the Olympics, leaving greater space for tactics and discouraging draws, once again making it more appealing for a broad audience. [12] “FIDE – World Chess Federation”,  FIDE,  8 April 2009.  http://www.fide.com/fide.html\n",
      "gold_persp_id =  943\n",
      "gold_persp_text =  Chess is highly popular and should be represented\n",
      "persp_cand_id =  943\n",
      "persp_cand_text =  Chess is highly popular and should be represented\n",
      "persp_cand_id =  1627\n",
      "persp_cand_text =  Turkey is a highly unstable democracy in an unstable part of the world\n",
      "persp_cand_id =  4180\n",
      "persp_cand_text =  If you can compete in a professional tournament with a broken leg, it is not a sport. \n",
      "persp_cand_id =  4277\n",
      "persp_cand_text =  Social Security is highly efficient in comparison with private accounts. \n",
      "persp_cand_id =  6770\n",
      "persp_cand_text =  The assumption that teens lack maturity to drive is highly incorrect\n"
     ]
    }
   ],
   "source": [
    "# Next, best cases -- check some examples with rank < 10\n",
    "rank_th = 5\n",
    "example_count = 5\n",
    "k = 5\n",
    "\n",
    "for e2p in ev_2_pp:\n",
    "    gold_pp_id = get_gold_persp(e2p['ev_id'])\n",
    "    if gold_pp_id:\n",
    "        try:\n",
    "            if e2p['pp_id_list'].index(gold_pp_id) <= rank_th:\n",
    "                print(\"evidence_id =  {}\".format(e2p['ev_id']))\n",
    "                print(\"evidence_text =  {}\".format(get_evidence_text(e2p['ev_id'])))\n",
    "                print(\"gold_persp_id =  {}\".format(gold_pp_id))\n",
    "                print(\"gold_persp_text =  {}\".format(get_persp_text(gold_pp_id)))\n",
    "                      \n",
    "                for pid in e2p['pp_id_list'][:k]:\n",
    "                    print(\"persp_cand_id =  {}\".format(pid))\n",
    "                    print(\"persp_cand_text =  {}\".format(get_persp_text(pid)))\n",
    "                \n",
    "                example_count -= 1\n",
    "                if example_count <= 0:\n",
    "                    break\n",
    "        except ValueError:\n",
    "            continue"
   ]
  },
  {
   "cell_type": "code",
   "execution_count": 5,
   "metadata": {},
   "outputs": [
    {
     "name": "stdout",
     "output_type": "stream",
     "text": [
      "Top 1 accuracy: 0.08224377899620414\n",
      "Top 10 accuracy: 0.25179249261914805\n",
      "Top 20 accuracy: 0.3262336566849431\n"
     ]
    }
   ],
   "source": [
    "# Let's see if things are better if we do it the other way around -- find evidences candidates given perspectives\n",
    "\n",
    "# For each perspective, measure top k accuracy of evidence candidates\n",
    "k = [1, 10, 20]\n",
    "correct = [0 for _k in k]\n",
    "\n",
    "for p2e in pp_2_ev:\n",
    "    gold_ev_id = get_gold_evidence(p2e['pp_id'])\n",
    "    for idx, _k in enumerate(k):\n",
    "        if gold_ev_id in p2e['ev_id_list'][:_k]:\n",
    "            correct[idx] += 1\n",
    "\n",
    "total = len(pp_2_ev)\n",
    "\n",
    "\n",
    "for idx, _k in enumerate(k):\n",
    "    print(\"Top {} accuracy: {}\".format(_k, correct[idx] / total))"
   ]
  },
  {
   "cell_type": "code",
   "execution_count": 9,
   "metadata": {},
   "outputs": [
    {
     "name": "stdout",
     "output_type": "stream",
     "text": [
      "Mean Rank of evidence candidates = 731.7102488401518\n"
     ]
    }
   ],
   "source": [
    "# Measure average rank of evidence candidates for every perspectives (rank starts from 1)\n",
    "total = len(pp_2_ev)\n",
    "total_rank = 0\n",
    "\n",
    "for p2e in pp_2_ev:\n",
    "    gold_ev_id = get_gold_evidence(p2e['pp_id'])\n",
    "    if gold_ev_id:\n",
    "        total_rank += p2e['ev_id_list'].index(gold_ev_id) + 1\n",
    "\n",
    "print(\"Mean Rank of evidence candidates = {}\".format(total_rank / total))"
   ]
  },
  {
   "cell_type": "code",
   "execution_count": null,
   "metadata": {},
   "outputs": [],
   "source": []
  }
 ],
 "metadata": {
  "kernelspec": {
   "display_name": "Python 3",
   "language": "python",
   "name": "python3"
  },
  "language_info": {
   "codemirror_mode": {
    "name": "ipython",
    "version": 3
   },
   "file_extension": ".py",
   "mimetype": "text/x-python",
   "name": "python",
   "nbconvert_exporter": "python",
   "pygments_lexer": "ipython3",
   "version": "3.6.4"
  }
 },
 "nbformat": 4,
 "nbformat_minor": 2
}
