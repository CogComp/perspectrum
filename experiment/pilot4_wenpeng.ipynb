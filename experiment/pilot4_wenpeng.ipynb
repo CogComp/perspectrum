{
 "cells": [
  {
   "cell_type": "code",
   "execution_count": 1,
   "metadata": {},
   "outputs": [],
   "source": [
    "import json\n",
    "\n",
    "pp_2_ev_path = \"/home/squirrel/ccg-new/projects/perspective/data/pilot3_twowingos/pp_2_ev_20181105.json\" \n",
    "ev_2_pp_path = \"/home/squirrel/ccg-new/projects/perspective/data/pilot3_twowingos/ev_2_pp_20181105.json\" \n",
    "\n",
    "with open(pp_2_ev_path) as fin, open(ev_2_pp_path) as fin2:\n",
    "    pp_2_ev = json.load(fin)\n",
    "    ev_2_pp = json.load(fin2)"
   ]
  },
  {
   "cell_type": "code",
   "execution_count": 1,
   "metadata": {},
   "outputs": [],
   "source": [
    "# 1109 update: wenpeng retrained the system\n",
    "\n",
    "import json\n",
    "\n",
    "pp_2_ev_path = \"/home/squirrel/ccg-new/projects/perspective/data/pilot3_twowingos/pp_2_ev_20181109.json\" \n",
    "ev_2_pp_path = \"/home/squirrel/ccg-new/projects/perspective/data/pilot3_twowingos/ev_2_pp_20181109.json\" \n",
    "\n",
    "with open(pp_2_ev_path) as fin, open(ev_2_pp_path) as fin2:\n",
    "    pp_2_ev = json.load(fin)\n",
    "    ev_2_pp = json.load(fin2)"
   ]
  },
  {
   "cell_type": "code",
   "execution_count": 2,
   "metadata": {},
   "outputs": [
    {
     "name": "stdout",
     "output_type": "stream",
     "text": [
      "<class 'pandas.core.frame.DataFrame'>\n",
      "RangeIndex: 8122 entries, 0 to 8121\n",
      "Data columns (total 5 columns):\n",
      "id                8122 non-null int64\n",
      "author            8122 non-null object\n",
      "perspective_id    8122 non-null int64\n",
      "evidence_id       8122 non-null int64\n",
      "comment           0 non-null float64\n",
      "dtypes: float64(1), int64(3), object(1)\n",
      "memory usage: 317.3+ KB\n"
     ]
    }
   ],
   "source": [
    "import pandas as pd\n",
    "\n",
    "evidence_rel_path = \"/home/squirrel/ccg-new/projects/perspective/data/database_output/webapp_evidencerelation.csv\"\n",
    "evidence_path = \"/home/squirrel/ccg-new/projects/perspective/data/database_output/webapp_evidence.csv\"\n",
    "persp_path = \"/home/squirrel/ccg-new/projects/perspective/data/database_output/webapp_perspective.csv\"\n",
    "\n",
    "df = pd.read_csv(evidence_rel_path)\n",
    "df.info()\n",
    "\n",
    "edf = pd.read_csv(evidence_path)\n",
    "pdf = pd.read_csv(persp_path)\n",
    "\n",
    "def get_gold_persp(evidence_id):\n",
    "    q = df.loc[df.evidence_id == evidence_id]\n",
    "    if len(q) > 0:\n",
    "        return q.iloc[0].perspective_id\n",
    "    else:\n",
    "        return None\n",
    "    \n",
    "def get_gold_evidence(perspective_id):\n",
    "    q = df.loc[df.perspective_id == perspective_id]\n",
    "    if len(q) > 0:\n",
    "        return q.iloc[0].evidence_id\n",
    "    else:\n",
    "        return None\n",
    "\n",
    "def get_persp_text(persp_id):\n",
    "    q = pdf.loc[pdf.id == persp_id]\n",
    "    if len(q) > 0:\n",
    "        return q.iloc[0].title\n",
    "    else:\n",
    "        return None\n",
    "    \n",
    "def get_evidence_text(evidence_id):\n",
    "    q = edf.loc[edf.id == evidence_id]\n",
    "    if len(q) > 0:\n",
    "        return q.iloc[0].content\n",
    "    else:\n",
    "        return None\n",
    "    "
   ]
  },
  {
   "cell_type": "code",
   "execution_count": 3,
   "metadata": {},
   "outputs": [
    {
     "name": "stdout",
     "output_type": "stream",
     "text": [
      "<class 'pandas.core.frame.DataFrame'>\n",
      "RangeIndex: 8135 entries, 0 to 8134\n",
      "Data columns (total 10 columns):\n",
      "claim                   8135 non-null int64\n",
      "perspective             8135 non-null int64\n",
      "sup                     8135 non-null int64\n",
      "und                     8135 non-null int64\n",
      "ns                      8135 non-null int64\n",
      "suporting (scaled)      8135 non-null float64\n",
      "undermining (scaled)    8135 non-null float64\n",
      "not sure (scaled)       8135 non-null float64\n",
      "P_i                     8135 non-null float64\n",
      "Total                   8135 non-null int64\n",
      "dtypes: float64(4), int64(6)\n",
      "memory usage: 635.6 KB\n"
     ]
    },
    {
     "data": {
      "text/plain": [
       "6825"
      ]
     },
     "execution_count": 3,
     "metadata": {},
     "output_type": "execute_result"
    }
   ],
   "source": [
    "# Filter out candidates that are \"unsure\" as annotated by human\n",
    "persp_iaa_path = \"/home/squirrel/ccg-new/projects/perspective/data/pilot1_persp_verification/persp_iaa.csv\"\n",
    "\n",
    "iaa_df = pd.read_csv(persp_iaa_path)\n",
    "iaa_df.info()\n",
    "\n",
    "no_unsure_df = iaa_df[iaa_df[\"not sure (scaled)\"] <= 1]\n",
    "\n",
    "sup_und_persp_set = set(no_unsure_df.perspective.unique())\n",
    "len(sup_und_persp_set)"
   ]
  },
  {
   "cell_type": "code",
   "execution_count": 4,
   "metadata": {},
   "outputs": [
    {
     "name": "stdout",
     "output_type": "stream",
     "text": [
      "Top 1 accuracy: 0.11918246737256834\n",
      "Top 40 accuracy: 0.41812361487318395\n",
      "Top 100 accuracy: 0.4683575474021177\n",
      "Top 1000 accuracy: 0.5177296232455061\n"
     ]
    }
   ],
   "source": [
    "# For each evidence, measure top k accuracy of perspective candidates\n",
    "k = [1, 40, 100, 1000]\n",
    "correct = [0 for _k in k]\n",
    "\n",
    "for e2p in ev_2_pp:\n",
    "    gold_pp_id = get_gold_persp(e2p['ev_id'])\n",
    "    for idx, _k in enumerate(k):\n",
    "        cands = [p for p in e2p['pp_id_list'] if p in sup_und_persp_set]\n",
    "        \n",
    "        if gold_pp_id in cands[:_k]:\n",
    "            correct[idx] += 1\n",
    "\n",
    "total = len(ev_2_pp)\n",
    "\n",
    "\n",
    "for idx, _k in enumerate(k):\n",
    "    print(\"Top {} accuracy: {}\".format(_k, correct[idx] / total))"
   ]
  },
  {
   "cell_type": "code",
   "execution_count": 5,
   "metadata": {},
   "outputs": [
    {
     "name": "stdout",
     "output_type": "stream",
     "text": [
      "Mean Rank of evidence candidates = 38.20019699581384\n"
     ]
    }
   ],
   "source": [
    "# Measure average rank of perspective candidates for every evidence (rank starts from 1)\n",
    "total = len(ev_2_pp)\n",
    "total_rank = 0\n",
    "\n",
    "for e2p in ev_2_pp:\n",
    "    gold_pp_id = get_gold_persp(e2p['ev_id'])\n",
    "    if gold_pp_id:\n",
    "        try:\n",
    "            cands = [p for p in e2p['pp_id_list'] if p in sup_und_persp_set]\n",
    "            total_rank += cands.index(gold_pp_id) + 1\n",
    "        except ValueError:\n",
    "            continue\n",
    "            \n",
    "print(\"Mean Rank of evidence candidates = {}\".format(total_rank / total))"
   ]
  },
  {
   "cell_type": "code",
   "execution_count": 6,
   "metadata": {},
   "outputs": [
    {
     "name": "stdout",
     "output_type": "stream",
     "text": [
      "evidence_id =  2249\n",
      "evidence_text =  In terms of moral absolutes, killing people is wrong sets the bar fairly low. Pretty much all societies have accepted this as a line that cannot be crossed without the explicit and specific agreement of the state which only happens in very rare circumstances such as in times of war. There is a simple reason for a blanket ban. It allows for no caveats, no misunderstandings, no fudging of the issue, and no shades of grey. Again, the reason for this approach is equally simple; anything other than such a clear cut approach will inevitably be abused [i] . As things stand guilt in the case of murder is determined entirely on the basis that it is proven that someone took another life. Their reasons for doing so may be reflected in sentencing but the court is not required to consider whether someone was justified in killing another. It is in the nature of a court case that it happens after the event and nobody other than the murderer and the deceased know what actually took place between them. If we take shaken baby syndrome cases as an example the parent still loves the child, they have acted in the madness of a moment out of frustration. It’s still murder. Supporting a dying relative can be no less frustrating but killing them would still be murder, even where that comes after a prolonged period of coercion to fill in forms and achieve the appearance of consent. It would, however, be very hard to prove. At least with a baby we can assume consent was not given, that would not be the case here. [i]   Stephen Drake and Diane Coleman. ‘Second Thoughts’ Grow on Assisted Suicide. The Wall Street Journal. 5 August 2012.\n",
      "gold_persp_id =  2252\n",
      "gold_persp_text =  It is impossible to frame a structure which respects the right to die for the individual but that cannot be abused by others.\n",
      "persp_cand_id =  1303\n",
      "persp_cand_text =  The act of killing can wreak immense psychological damage upon rational individuals\n",
      "persp_cand_id =  1302\n",
      "persp_cand_text =  We should not will a world where killing is acceptable in to existencele in to existence\n",
      "persp_cand_id =  2279\n",
      "persp_cand_text =  The act of killing is emotionally damaging\n",
      "persp_cand_id =  2222\n",
      "persp_cand_text =  State-sanctioned killing is wrong.\n",
      "persp_cand_id =  1296\n",
      "persp_cand_text =  A utilitarian approach will result in a decision that saves the largest number of lives possible.\n",
      "persp_cand_id =  1297\n",
      "persp_cand_text =  Give a choice, all rational individuals would prefer to live in a world in which behaviour prefered the choice to sacrifice one to save many\n",
      "persp_cand_id =  7272\n",
      "persp_cand_text =  It reduces the spread of diseases\n",
      "persp_cand_id =  1300\n",
      "persp_cand_text =  We cannot make value judgments as to who should and should not be marked for death or for salvation\n",
      "persp_cand_id =  7277\n",
      "persp_cand_text =  It is not moral to end the patient's life because he has the right to live longer\n",
      "persp_cand_id =  1298\n",
      "persp_cand_text =  The harms related to a death extend beyond the loss of life\n",
      "evidence_id =  2950\n",
      "evidence_text =  The permanent five (P5) were given this privilege for two reasons that have no application in the post-Cold War world. Firstly, the Allied powers, with the addition of China, sought to bind themselves to the UN organisation that was designed to prevent the depredations of the Second World War ever recurring. Secondly, the P5 held unrivalled strategic might through their possession of nuclear weapon technology or imminent nuclear capacity. Yet, the UN is no longer in any danger of imminent collapse. The P5 will abandon neither the organisation nor the cause of global peace by loss of the veto power. Moreover, the global power balance has shifted dramatically since 1945; the P5 'do not reflect the geopolitical realities of today'1. Nuclear proliferation has accelerated in the past decade, such that inter alia India, Pakistan, North Korea, Egypt, Iraq and Iran are developing inter-continental ballistic capacity. \n",
      "1  Kafala, T. (2003, September 17). The veto and how to use it. Retrieved May 13, 2011, from BBC News  \n",
      "gold_persp_id =  2953\n",
      "gold_persp_text =  The veto power is an anachronism that does not suit the contemporary international society and it's power relations.\n",
      "persp_cand_id =  3667\n",
      "persp_cand_text =  Nuclear energy goes against Green World\n",
      "persp_cand_id =  338\n",
      "persp_cand_text =  Nuclear power gives countries energy security and self-sufficiency\n",
      "persp_cand_id =  342\n",
      "persp_cand_text =  Nuclear power is potentially extremely unsafe\n",
      "persp_cand_id =  341\n",
      "persp_cand_text =  The supply of uranium needed for nuclear power is not actually unlimited, renewable or sustainable\n",
      "persp_cand_id =  339\n",
      "persp_cand_text =  Nuclear power is very expensive\n",
      "persp_cand_id =  336\n",
      "persp_cand_text =  Energy demands are increasing exponentially and nuclear power is the only renewable source capable of matching it\n",
      "persp_cand_id =  337\n",
      "persp_cand_text =  Nuclear power is clean and emits significantly less CO2 than other renewable energy sources\n",
      "persp_cand_id =  1986\n",
      "persp_cand_text =  [Iran specific] Iran has threatened to destroy Israel\n",
      "persp_cand_id =  3666\n",
      "persp_cand_text =  Nuclear energy is non-renewable source\n",
      "persp_cand_id =  3868\n",
      "persp_cand_text =  Renewables are mostly unproven, experimental technologies being developed on a small-scale basis that is not ready to take up the gap to move away from fossil fuels under climate change agreements\n",
      "evidence_id =  3798\n",
      "evidence_text =  Working early can be an advantage in some circumstances. Many families need their children to make an economic contribution to the family income, often for example on a farm or in a family business. Working early can help these families to survive. Similarly unqualified individuals can gain equality or even an advantage over their qualified peers by having a few years’ work-experience ‘on-the-shop-floor’. If they are forced to stay in school as long as their peers they lose this advantage. Recognizing this, the British government introduced 21,000 extra apprenticeships in 2009 in an attempt to ensure those who aren’t suited to school do not fall behind when it comes to finding a job and a sustainable income. (Lipsett, 2009)\n",
      "gold_persp_id =  3801\n",
      "gold_persp_text =  There are cases where leaving school early is necessary\n",
      "persp_cand_id =  760\n",
      "persp_cand_text =  Not having children promotes gender equality\n",
      "persp_cand_id =  5339\n",
      "persp_cand_text =  Creates a sense of equality\n",
      "persp_cand_id =  5902\n",
      "persp_cand_text =  Monarchies improve social equality \n",
      "persp_cand_id =  3684\n",
      "persp_cand_text =  School uniforms create a sense of equality\n",
      "persp_cand_id =  7316\n",
      "persp_cand_text =  Equality of opportunity cannot be the leading principle in deciding upon inheritance in our society\n",
      "persp_cand_id =  617\n",
      "persp_cand_text =  Quota-led gender equality in executive boards will help shape a gender sensitive and highly performing business environment.\n",
      "persp_cand_id =  6655\n",
      "persp_cand_text =  [Response to rebuttal] Equality is not just about same percentage of income; and certainly it's the government's role to prevent it from being so.\n",
      "persp_cand_id =  6185\n",
      "persp_cand_text =  Living independently teaches you vital employability skills.\n",
      "persp_cand_id =  7195\n",
      "persp_cand_text =  Social justice and equality demands that children start on an equal footing.\n",
      "persp_cand_id =  711\n",
      "persp_cand_text =  Equality of opportunity\n",
      "evidence_id =  3919\n",
      "evidence_text =  There is no shortage of possible venues to stage a protest such as this one. A busy supermarket, a train station, a park, the middle of the street – all of them would have fulfilled the requirement for lots of people with attentions to be attracted. Since it was dubbed not a live concert the location would have been totally interchangeable. [i]  Holding it in a church – in front of the high alter during mass – was calculated to cause maximum effect, maximum shock and maximum publicity. Causing intended offence during a religious ceremony is about as close to the definition of blasphemy as it would be possible to get. Vladimir Putin has shrugged off challenges from much more serious critics than an attention-seeking group of musicians. This very act was calculated to cause the greatest possible offence to people of faith. Such a protest in St Peter’s in the same situation would have caused great offence even if the protest had been about Berlusconi. When British gay rights activist Peter Tatchell interrupted the Archbishop of Canterbury’s Easter service some years ago, he was widely thought of as having done his cause more harm than good because it offended so many and was subsequently convicted [ii] . This is no different, it was blasphemous and, under Russian law, there are punishments for blasphemy. [i]   Whitmore, Brian, ‘Pussy Riot: The Punk Band That Isn't And The Concert That Wasn't’,  Radio Free Europe , 30 July 2012 [ii]   BBC News Website. Tatchell fined £18.60 for pulpit protest.\n",
      "gold_persp_id =  3922\n",
      "gold_persp_text =  If it was a purely political statement, then why stage it in a church?\n",
      "persp_cand_id =  1287\n",
      "persp_cand_text =  The church’s involvement undermines the role of the state. \n",
      "persp_cand_id =  5935\n",
      "persp_cand_text =  Scientology has a hideous record of harrrassing critics.\n",
      "persp_cand_id =  5939\n",
      "persp_cand_text =  It is a mockery of religion.\n",
      "persp_cand_id =  5933\n",
      "persp_cand_text =  It is stealing money from the weak.\n",
      "persp_cand_id =  191\n",
      "persp_cand_text =  Promotes image of Catholic Church as uncaring and stubborn.\n",
      "persp_cand_id =  1318\n",
      "persp_cand_text =  Celibacy allows a priest to devote himself entirely to his vocation\n",
      "persp_cand_id =  1291\n",
      "persp_cand_text =  Separating Church and State in England would be harmful to national identity. \n",
      "persp_cand_id =  4614\n",
      "persp_cand_text =  Churches earn their tax exemption by contributing to the public good. \n",
      "persp_cand_id =  4630\n",
      "persp_cand_text =  Churches serve a religious purpose that does not aid the government, so their tax exemptions are not justified. \n",
      "persp_cand_id =  4617\n",
      "persp_cand_text =  Poor and disadvantaged people relying on assistance from their local churches would suffer if churches were to lose their tax-exempt status. \n"
     ]
    },
    {
     "name": "stdout",
     "output_type": "stream",
     "text": [
      "evidence_id =  3934\n",
      "evidence_text =  If there were not already easy access to the book through the Internet [i] , then it might be possible to argue that there was some practical purpose to be served by continuing its suppression. However, when any disaffected teenager can gain easy access to the text while sitting alone in their bedroom, it seems foolish that it cannot also be examined in the cooler light of their history class. The issue is not access to the text; it’s not even really about ownership of the book – both of which are already possible – but rather about how the book is treated. Not publishing or using the book up until now has simply maintained a situation that was put in place after WWII, which in some ways served a purpose, of saying there was no particular reason for a change at any particular time during that process. However, as the seventieth anniversary of the end of the war comes into view, it seems reasonable that the book should be treated as exactly what it is; an interesting historical artefact, to be examined as one might any other. [i]  For example through Project Gutenberg,  here .\n",
      "gold_persp_id =  3937\n",
      "gold_persp_text =  The ban achieved no practical impact in the Internet age as it was not global. \n",
      "persp_cand_id =  86\n",
      "persp_cand_text =  Internet access is a commodity not a human right.\n",
      "persp_cand_id =  84\n",
      "persp_cand_text =   Internet access is a necessary part of the right to freedom of information and expression.\n",
      "persp_cand_id =  88\n",
      "persp_cand_text =  Internet access cannot be a human right when it is not available to all.\n",
      "persp_cand_id =  83\n",
      "persp_cand_text =  The right to internet access fills a gap in traditional human rights.\n",
      "persp_cand_id =  87\n",
      "persp_cand_text =  Internet access is an enabler of rights not a right in itself.\n",
      "persp_cand_id =  115\n",
      "persp_cand_text =  Risk of a two-tier Internet\n",
      "persp_cand_id =  1133\n",
      "persp_cand_text =  Everyone, even extremists, deserve their freedom of expression protected\n",
      "persp_cand_id =  1130\n",
      "persp_cand_text =  It makes it more difficult for extremists to organize and spread their message when blocked\n",
      "persp_cand_id =  1128\n",
      "persp_cand_text =  The freedom of speech can be curtailed when it represents a serious threat to society\n",
      "persp_cand_id =  1136\n",
      "persp_cand_text =  Blocking extremists will make anti-terrorism surveillance more difficult as the organizations go underground\n"
     ]
    }
   ],
   "source": [
    "# Hmm things look bad.. Let's look at some specific examples.\n",
    "\n",
    "# First, worst cases -- check some examples with rank > 1000\n",
    "rank_th = 2000\n",
    "example_count = 5\n",
    "k = 10\n",
    "\n",
    "for e2p in ev_2_pp:\n",
    "    cands = [p for p in e2p['pp_id_list'] if p in sup_und_persp_set]\n",
    "    gold_pp_id = get_gold_persp(e2p['ev_id'])\n",
    "    if gold_pp_id:\n",
    "        try:\n",
    "            if cands.index(gold_pp_id) >= rank_th:\n",
    "                print(\"evidence_id =  {}\".format(e2p['ev_id']))\n",
    "                print(\"evidence_text =  {}\".format(get_evidence_text(e2p['ev_id'])))\n",
    "                print(\"gold_persp_id =  {}\".format(gold_pp_id))\n",
    "                print(\"gold_persp_text =  {}\".format(get_persp_text(gold_pp_id)))\n",
    "                      \n",
    "                for pid in cands[:k]:\n",
    "                    print(\"persp_cand_id =  {}\".format(pid))\n",
    "                    print(\"persp_cand_text =  {}\".format(get_persp_text(pid)))\n",
    "                \n",
    "                example_count -= 1\n",
    "                if example_count <= 0:\n",
    "                    break\n",
    "        except ValueError:\n",
    "            continue\n",
    "            \n",
    "        "
   ]
  },
  {
   "cell_type": "code",
   "execution_count": 8,
   "metadata": {},
   "outputs": [
    {
     "name": "stdout",
     "output_type": "stream",
     "text": [
      "evidence_id =  3\n",
      "evidence_text =  Even experienced adults can find it difficult to deal with stage fright or performance anxiety. Children, more emotionally vulnerable than adults by nature, should not be exposed to this sort of pressure. This is especially true in situations where the child is being paid for their performance, since the added necessity to perform well can lead to even more pressure. Although suicide among children is rare, it is believed often to occur as a result of the child feeling like she is under too much pressure, or failing to meet the expectations of others. [1] There are also consequences that continue long past the child has stopped performing; former child actors often have the problem as young adults as feeling as having already ‘peaked’ and find themselves without a sense of drive or ambition or a coherent adult identity, consequentially they often suffer from substance abuse and addiction [1]   Lipsett, ‘Stress driving pupils to suicide, says union’  \n",
      "gold_persp_id =  3\n",
      "gold_persp_text =  It is unethical to expose children to the pressures of performing\n",
      "persp_cand_id =  3613\n",
      "persp_cand_text =  Encourages Secessionism\n",
      "persp_cand_id =  3777\n",
      "persp_cand_text =  Unjust\n",
      "persp_cand_id =  4016\n",
      "persp_cand_text =  Dismantling gerontocracies\n",
      "persp_cand_id =  3\n",
      "persp_cand_text =  It is unethical to expose children to the pressures of performing\n",
      "persp_cand_id =  5692\n",
      "persp_cand_text =  Parents should be able to do everything to protect their children \n",
      "persp_cand_id =  5610\n",
      "persp_cand_text =  housewives give children the attention they need\n",
      "persp_cand_id =  5091\n",
      "persp_cand_text =  Parents have the right to decide what material their children are exposed to and when.\n",
      "persp_cand_id =  4\n",
      "persp_cand_text =  Being a performer can make the child physically vulnerable\n",
      "persp_cand_id =  5\n",
      "persp_cand_text =  Allowing children to perform pushes them to grow up too soon\n",
      "persp_cand_id =  757\n",
      "persp_cand_text =  Having children is extraordinarily expensive\n",
      "evidence_id =  7\n",
      "evidence_text =  In some films or television shows, child actors are absolutely necessary in order to realistically portray society and the roles children play. The incredibly popular Harry Potter films, for example, would not have been half as convincing without the large cast of actors under the age of 18 playing the schoolchildren. Child actors are also necessary in the advertising industry, in order to make products appealing to a younger audience. Some sports, too, would be endangered if children were not allowed to compete. Ice skaters and dancers, for example, benefit greatly from training starting at an early age. [1] [1]   Sagolla, ‘Dance Training for Children and Teens’\n",
      "gold_persp_id =  7\n",
      "gold_persp_text =  Child performers are necessary for roles in some films, television shows, etc., and for the survival of some sports\n",
      "persp_cand_id =  3613\n",
      "persp_cand_text =  Encourages Secessionism\n",
      "persp_cand_id =  3777\n",
      "persp_cand_text =  Unjust\n",
      "persp_cand_id =  4016\n",
      "persp_cand_text =  Dismantling gerontocracies\n",
      "persp_cand_id =  5692\n",
      "persp_cand_text =  Parents should be able to do everything to protect their children \n",
      "persp_cand_id =  5610\n",
      "persp_cand_text =  housewives give children the attention they need\n",
      "persp_cand_id =  7\n",
      "persp_cand_text =  Child performers are necessary for roles in some films, television shows, etc., and for the survival of some sports\n",
      "persp_cand_id =  675\n",
      "persp_cand_text =  Cloning should be allowed for those who can’t otherwise have a child\n",
      "persp_cand_id =  9\n",
      "persp_cand_text =  The government has no right to prevent children from doing what they enjoy and are good at\n",
      "persp_cand_id =  4180\n",
      "persp_cand_text =  If you can compete in a professional tournament with a broken leg, it is not a sport. \n",
      "persp_cand_id =  6687\n",
      "persp_cand_text =  Private schools create competition \n",
      "evidence_id =  8\n",
      "evidence_text =  While being a child performer is legal, these children’s working circumstances are under the protection of the law and monitored by government departments such as the Inland Revenue, Health and Safety, etc. Were child performers to be banned, it is certain that some children would still perform, but would not be thus protected. This has already happened in certain professional sports where athletes can benefit by lying about their age. For example, it is easier for Latin American baseball players to sign with U.S. Major League teams if the teams think they are young. As a result, countless players have lied about their age, including a number of high-profile cases, such as Miguel Tejada who was named Most Valuable Player in 2002. [1]  Many of these young players, however, have been less successful. There are too many unfortunate examples of players who came to the United States at a young age and, under the increased pressure, fell victim to serious drug problems, often resulting in overdose and death. [2] [3]  A ban would not prevent children from performing; it would actually further expose them to whatever risks may be involved. [1]   Schmidt and Schwartz. “Baseball’s Use of DNA Raises Questions.” [2]   Zirin, “Can’t Knock the Hassle: Chavez Challenges Baseball.” [3]   Helfgott, “The international game.”  \n",
      "gold_persp_id =  8\n",
      "gold_persp_text =  If child performers were banned, many children would find a way to perform illegally, now without legal protection.\n",
      "persp_cand_id =  3613\n",
      "persp_cand_text =  Encourages Secessionism\n",
      "persp_cand_id =  3777\n",
      "persp_cand_text =  Unjust\n",
      "persp_cand_id =  4016\n",
      "persp_cand_text =  Dismantling gerontocracies\n",
      "persp_cand_id =  3\n",
      "persp_cand_text =  It is unethical to expose children to the pressures of performing\n",
      "persp_cand_id =  8\n",
      "persp_cand_text =  If child performers were banned, many children would find a way to perform illegally, now without legal protection.\n",
      "persp_cand_id =  3968\n",
      "persp_cand_text =  In an age of declining journalistic standards, forcing editors to get their facts right is a good start.\n",
      "persp_cand_id =  5692\n",
      "persp_cand_text =  Parents should be able to do everything to protect their children \n",
      "persp_cand_id =  9\n",
      "persp_cand_text =  The government has no right to prevent children from doing what they enjoy and are good at\n",
      "persp_cand_id =  6433\n",
      "persp_cand_text =  female children can be helpful from an earlier age\n",
      "persp_cand_id =  5610\n",
      "persp_cand_text =  housewives give children the attention they need\n",
      "evidence_id =  24\n",
      "evidence_text =  Aid allows for money in a given country to be allocated well against need. At the micro- level as well as the macro, trade is an inefficient distributor of resources in a developing country. Under it, most if not all of the benefit of the trade will stay with a small elite of people who are often amongst the richest in the country in the first place. They may then move the money offshore again. Alternatively, if it remains within the developing country, it may well simply be used to buttress their own position in a way which further entrenches their social and economic position. So, the benefits of trade flow to few people and often they are the least needy. Aid, by contrast, may be targeted against specifically identified groups or areas on the basis of need, often being given through local groups, such as churches, mosques, health clinics, etc. If one looks at the Gini index (income and wealth equality) ranking, it is plain that the top (most inequality) is occupied by Sub-Saharan countries, fortifying the point 1. 1  Mongabay. (2010, January 25). Distribution of Family Income. Retrieved July 21, 2011, from Mongabay:\n",
      "gold_persp_id =  24\n",
      "gold_persp_text =  Trade does not allocate resources effectively\n",
      "persp_cand_id =  3613\n",
      "persp_cand_text =  Encourages Secessionism\n",
      "persp_cand_id =  3777\n",
      "persp_cand_text =  Unjust\n",
      "persp_cand_id =  4016\n",
      "persp_cand_text =  Dismantling gerontocracies\n",
      "persp_cand_id =  24\n",
      "persp_cand_text =  Trade does not allocate resources effectively\n",
      "persp_cand_id =  6281\n",
      "persp_cand_text =  organs woud be ony accesible for those who have money\n",
      "persp_cand_id =  5773\n",
      "persp_cand_text =  some evil clearly nothing to do with money\n",
      "persp_cand_id =  4518\n",
      "persp_cand_text =  Many students do not graduate and waste their own and their government's money.\n",
      "persp_cand_id =  3036\n",
      "persp_cand_text =  Providing money directly works.\n",
      "persp_cand_id =  7669\n",
      "persp_cand_text =  Money is better used to help human lives in their own country\n",
      "persp_cand_id =  351\n",
      "persp_cand_text =  Animal research is only used where other research methods are not suitable\n",
      "evidence_id =  27\n",
      "evidence_text =  The relationship between the state and the schools that it establishes and funds goes both ways; if schools accept state funding, the state is entitled to use schools as a platform for the military to appeal to future recruits. All state-funded schools, irrespective of location and student demographics but only high schools, would be expected to accept military recruiters once a year to speak to the entire student body. The event would be a condition of further funding for the school, however there would be no limits placed on a minimum number of students that needed to enlist as a result.\n",
      "gold_persp_id =  27\n",
      "gold_persp_text =  All high schools accepting state funding should accept military recruiters once a year\n",
      "persp_cand_id =  3613\n",
      "persp_cand_text =  Encourages Secessionism\n",
      "persp_cand_id =  3777\n",
      "persp_cand_text =  Unjust\n",
      "persp_cand_id =  4016\n",
      "persp_cand_text =  Dismantling gerontocracies\n",
      "persp_cand_id =  1309\n",
      "persp_cand_text =  If state-funded, there is little incentive to increase numbers of visitors\n",
      "persp_cand_id =  27\n",
      "persp_cand_text =  All high schools accepting state funding should accept military recruiters once a year\n",
      "persp_cand_id =  1046\n",
      "persp_cand_text =  Most universities are publically funded so should have to be open with their materials.\n",
      "persp_cand_id =  1311\n",
      "persp_cand_text =  State funding should be used elsewhere\n",
      "persp_cand_id =  5320\n",
      "persp_cand_text =  no cellphones should not be allowed in school\n",
      "persp_cand_id =  6125\n",
      "persp_cand_text =  The military does not want conscription\n",
      "persp_cand_id =  32\n",
      "persp_cand_text =  Military recruiters downplay the risks of a military career, tempting schoolchildren into a career they would not have chosen with honest information.\n"
     ]
    }
   ],
   "source": [
    "# Next, best cases -- check some examples with rank < 10\n",
    "rank_th = 5\n",
    "example_count = 5\n",
    "k = 10\n",
    "\n",
    "for e2p in ev_2_pp:\n",
    "    cands = [p for p in e2p['pp_id_list'] if p in sup_und_persp_set]\n",
    "    gold_pp_id = get_gold_persp(e2p['ev_id'])\n",
    "    if gold_pp_id:\n",
    "        try:\n",
    "            if cands.index(gold_pp_id) <= rank_th:\n",
    "                print(\"evidence_id =  {}\".format(e2p['ev_id']))\n",
    "                print(\"evidence_text =  {}\".format(get_evidence_text(e2p['ev_id'])))\n",
    "                print(\"gold_persp_id =  {}\".format(gold_pp_id))\n",
    "                print(\"gold_persp_text =  {}\".format(get_persp_text(gold_pp_id)))\n",
    "                      \n",
    "                for pid in cands[:k]:\n",
    "                    print(\"persp_cand_id =  {}\".format(pid))\n",
    "                    print(\"persp_cand_text =  {}\".format(get_persp_text(pid)))\n",
    "                \n",
    "                example_count -= 1\n",
    "                if example_count <= 0:\n",
    "                    break\n",
    "        except ValueError:\n",
    "            continue"
   ]
  },
  {
   "cell_type": "code",
   "execution_count": 7,
   "metadata": {},
   "outputs": [
    {
     "name": "stdout",
     "output_type": "stream",
     "text": [
      "Top 1 accuracy: 0.147470398277718\n",
      "Top 10 accuracy: 0.5078579117330463\n",
      "Top 20 accuracy: 0.6187298170075349\n"
     ]
    }
   ],
   "source": [
    "# Let's see if things are better if we do it the other way around -- find evidences candidates given perspectives\n",
    "\n",
    "# For each perspective, measure top k accuracy of evidence candidates\n",
    "k = [1, 10, 20]\n",
    "correct = [0 for _k in k]\n",
    "\n",
    "for p2e in pp_2_ev:\n",
    "    gold_ev_id = get_gold_evidence(p2e['pp_id'])\n",
    "    for idx, _k in enumerate(k):\n",
    "        if gold_ev_id in p2e['ev_id_list'][:_k]:\n",
    "            correct[idx] += 1\n",
    "\n",
    "total = len(pp_2_ev)\n",
    "\n",
    "\n",
    "for idx, _k in enumerate(k):\n",
    "    print(\"Top {} accuracy: {}\".format(_k, correct[idx] / total))"
   ]
  },
  {
   "cell_type": "code",
   "execution_count": 8,
   "metadata": {},
   "outputs": [
    {
     "name": "stdout",
     "output_type": "stream",
     "text": [
      "Mean Rank of evidence candidates = 144.9173304628633\n"
     ]
    }
   ],
   "source": [
    "# Measure average rank of evidence candidates for every perspectives (rank starts from 1)\n",
    "total = len(pp_2_ev)\n",
    "total_rank = 0\n",
    "\n",
    "for p2e in pp_2_ev:\n",
    "    gold_ev_id = get_gold_evidence(p2e['pp_id'])\n",
    "    if gold_ev_id:\n",
    "        total_rank += p2e['ev_id_list'].index(gold_ev_id) + 1\n",
    "\n",
    "print(\"Mean Rank of evidence candidates = {}\".format(total_rank / total))"
   ]
  },
  {
   "cell_type": "code",
   "execution_count": 22,
   "metadata": {},
   "outputs": [],
   "source": [
    "# Ploting average rank vs length\n",
    "persp_rank_aggr = {}\n",
    "\n",
    "for e2p in ev_2_pp:\n",
    "    for idx, pid in enumerate(e2p['pp_id_list']):\n",
    "        if pid in persp_rank_aggr:\n",
    "            persp_rank_aggr[pid] += idx\n",
    "        else:\n",
    "            persp_rank_aggr[pid] = idx\n",
    "        \n",
    "p_count = len(ev_2_pp)\n",
    "persp_rank = {k: v/p_count for k, v in persp_rank_aggr.items()}\n"
   ]
  },
  {
   "cell_type": "code",
   "execution_count": 11,
   "metadata": {},
   "outputs": [
    {
     "name": "stdout",
     "output_type": "stream",
     "text": [
      "{1462: 1, 2062: 1, 3269: 1, 3570: 2, 3613: 2, 3777: 1, 4016: 2, 5524: 5, 7851: 8, 4677: 17, 3577: 2, 1776: 11, 3986: 11, 4568: 21, 6480: 12, 5226: 12, 930: 9, 1: 10, 4642: 23, 675: 14, 77: 8, 926: 13, 80: 9, 3800: 11, 5808: 18, 4500: 8, 5616: 12, 4169: 10, 7576: 5, 6684: 10, 367: 12, 5738: 8, 5330: 9, 609: 8, 6478: 13, 3675: 7, 6748: 16, 78: 11, 927: 14, 5607: 7, 3140: 13, 5268: 7, 4176: 24, 6947: 13, 4508: 33, 6083: 18, 150: 22, 4: 9, 814: 21, 412: 19, 6185: 8, 7572: 5, 7521: 11, 5368: 12, 6125: 6, 3: 11, 7173: 7, 2201: 13, 5031: 13, 9: 17, 6059: 6, 7973: 19, 6695: 21, 135: 11, 2751: 11, 4516: 9, 251: 15, 7449: 21, 5692: 11, 5360: 7, 5610: 7, 5010: 10, 5262: 21, 5232: 6, 3894: 12, 3856: 20, 4054: 18, 4709: 18, 2975: 14, 4515: 14, 5803: 7, 5230: 10, 745: 26, 741: 13, 3678: 7, 8059: 16, 3578: 10, 937: 19, 4782: 20, 81: 13, 5974: 14, 5346: 4, 7020: 9, 3941: 24, 1439: 27, 6758: 9, 2027: 12, 2129: 10, 746: 20, 7411: 5, 5231: 11, 6668: 21, 7013: 4, 3832: 6, 5869: 10, 5923: 11, 1123: 14, 5358: 8, 4062: 4, 3404: 11, 1070: 12, 5831: 10, 364: 16, 5642: 13, 5491: 13, 3699: 12, 2382: 11, 3740: 13, 5576: 8, 365: 14, 7253: 9, 6091: 5, 5367: 12, 956: 21, 88: 16, 5693: 13, 387: 18, 530: 13, 3696: 5, 6690: 11, 6523: 13, 4659: 10, 1049: 7, 5094: 25, 2492: 10, 8: 21, 6525: 6, 5713: 7, 15: 14, 809: 17, 6073: 16, 2369: 10, 5517: 8, 1889: 12, 6324: 21, 6: 15, 2736: 9, 7331: 8, 3539: 6, 6558: 12, 4952: 18, 6210: 9, 366: 19, 1243: 19, 2392: 9, 5014: 21, 3432: 5, 351: 12, 1748: 13, 7198: 23, 449: 15, 4462: 16, 5806: 7, 270: 13, 48: 10, 7854: 8, 7113: 8, 5315: 8, 1318: 11, 1169: 4, 3718: 7, 1495: 19, 1416: 11, 5320: 8, 4506: 5, 4570: 16, 7889: 12, 2562: 15, 5521: 5, 5291: 8, 5686: 6, 6751: 10, 7687: 9, 5931: 15, 5240: 5, 1380: 9, 5044: 16, 5640: 17, 2834: 14, 3690: 23, 5981: 10, 7603: 11, 2262: 10, 3523: 7, 5163: 6, 1194: 13, 5273: 23, 5748: 6, 3819: 22, 1876: 6, 755: 10, 6868: 13, 1080: 13, 1312: 6, 5298: 8, 2088: 6, 4314: 13, 6509: 21, 6433: 9, 3806: 12, 6950: 13, 2233: 12, 6190: 13, 2613: 6, 3681: 7, 1269: 14, 3912: 12, 6403: 13, 4796: 19, 2783: 21, 5655: 23, 4287: 23, 3232: 4, 5481: 9, 6691: 15, 1938: 31, 2365: 12, 5508: 11, 6888: 10, 6987: 14, 634: 15, 527: 13, 3385: 14, 6543: 8, 5321: 8, 5035: 11, 1048: 15, 343: 8, 2025: 16, 1094: 18, 382: 30, 5414: 8, 268: 8, 605: 11, 243: 20, 361: 19, 7172: 16, 3808: 17, 6123: 7, 7482: 6, 290: 12, 959: 12, 5091: 16, 24: 6, 4078: 12, 2509: 4, 4559: 15, 1240: 21, 4120: 11, 597: 11, 6136: 4, 590: 8, 6617: 4, 3451: 11, 1478: 12, 737: 8, 5854: 7, 1672: 9, 235: 21, 7099: 9, 738: 11, 4461: 15, 4180: 19, 4127: 6, 765: 5, 4425: 20, 1076: 14, 4911: 7, 5405: 9, 345: 10, 3201: 5, 4517: 7, 4373: 11, 1496: 20, 5204: 30, 2172: 16, 8060: 14, 2950: 9, 1157: 16, 4420: 9, 5332: 5, 5055: 10, 3293: 17, 4520: 15, 5: 11, 2599: 15, 1924: 23, 6561: 11, 2259: 10, 5921: 15, 3247: 6, 4551: 15, 5310: 9, 5299: 6, 3957: 11, 3958: 11, 4050: 9, 7928: 11, 703: 6, 5305: 10, 2175: 5, 5246: 30, 5323: 4, 3259: 23, 2421: 7, 3568: 5, 2703: 4, 3817: 11, 144: 6, 2956: 26, 857: 6, 7009: 13, 7700: 10, 124: 24, 7075: 9, 2160: 7, 5761: 6, 5161: 5, 1153: 14, 3002: 14, 2168: 6, 2274: 7, 5994: 10, 5113: 7, 7702: 12, 4711: 19, 1200: 21, 415: 12, 6897: 10, 3283: 6, 2229: 9, 2394: 10, 4109: 11, 1207: 14, 3050: 15, 181: 9, 569: 9, 624: 10, 2644: 11, 6065: 10, 2948: 12, 750: 9, 2303: 6, 32: 24, 6675: 15, 3392: 21, 3390: 27, 3730: 14, 6162: 5, 1337: 6, 5478: 7, 7567: 5, 539: 8, 7824: 5, 6672: 7, 1237: 15, 3968: 20, 3767: 7, 4252: 12, 8070: 30, 1275: 9, 2477: 7, 5127: 7, 4459: 23, 3174: 8, 606: 15, 4480: 18, 1196: 7, 3844: 17, 5331: 7, 5644: 15, 763: 6, 1301: 18, 3906: 12, 5237: 9, 352: 10, 6252: 9, 2960: 12, 598: 10, 7888: 7, 632: 17, 6449: 16, 6208: 11, 3787: 11, 86: 10, 5535: 8, 7228: 7, 749: 14, 4092: 8, 1491: 6, 5850: 11, 5770: 19, 55: 7, 3016: 10, 6816: 5, 3154: 14, 3501: 4, 5302: 9, 1248: 23, 5041: 24, 2214: 6, 7434: 5, 2256: 7, 3187: 12, 7027: 18, 7392: 9, 1104: 18, 1338: 9, 2340: 8, 4472: 9, 7031: 7, 7138: 12, 2228: 22, 3213: 11, 4725: 15, 4454: 10, 6890: 16, 7096: 14, 3574: 11, 798: 11, 3036: 5, 5479: 5, 570: 7, 4566: 16, 4545: 14, 7880: 6, 1501: 9, 661: 12, 3550: 8, 756: 7, 6138: 7, 50: 7, 1344: 8, 1368: 8, 3783: 10, 462: 13, 551: 44, 7189: 8, 2377: 5, 1400: 5, 3047: 12, 4901: 7, 3478: 13, 6759: 29, 3410: 7, 1115: 7, 7277: 18, 1375: 8, 5227: 14, 388: 17, 659: 10, 6385: 6, 57: 7, 5205: 6, 2249: 9, 7028: 14, 6621: 33, 6236: 5, 5013: 12, 5740: 18, 7044: 9, 1054: 11, 2983: 10, 6766: 8, 4532: 16, 1373: 10, 1067: 4, 3513: 9, 6801: 7, 6519: 10, 6842: 8, 4503: 13, 4938: 23, 8089: 17, 6064: 24, 2947: 20, 109: 13, 5527: 8, 1013: 18, 4679: 10, 1151: 13, 2356: 21, 1751: 17, 6355: 18, 4637: 11, 5785: 13, 4934: 20, 7174: 23, 1244: 14, 611: 9, 6737: 9, 967: 11, 6399: 9, 2825: 6, 549: 26, 3260: 22, 4192: 20, 5596: 21, 7412: 24, 4983: 21, 5819: 10, 4362: 22, 1821: 6, 965: 11, 7563: 5, 1270: 14, 6577: 7, 2308: 6, 3809: 22, 3402: 2, 7117: 4, 492: 12, 3090: 20, 6423: 17, 1392: 9, 1135: 12, 758: 14, 3290: 20, 6419: 6, 3345: 11, 5449: 6, 2154: 10, 1778: 15, 628: 11, 6479: 13, 3127: 15, 2729: 8, 4858: 21, 1784: 14, 6883: 7, 757: 5, 3801: 9, 5086: 13, 120: 27, 6524: 12, 5153: 6, 4732: 22, 5334: 5, 2089: 5, 6726: 5, 800: 8, 1457: 19, 4363: 15, 617: 18, 2541: 10, 5507: 5, 6470: 8, 355: 15, 7018: 10, 7835: 9, 1566: 21, 3811: 13, 6132: 8, 6676: 16, 18: 13, 4201: 19, 26: 15, 7240: 10, 5347: 15, 2203: 16, 4664: 10, 1231: 8, 7025: 12, 1781: 10, 2109: 22, 4538: 15, 5888: 14, 6677: 7, 813: 13, 764: 11, 5722: 9, 4183: 11, 2012: 6, 4125: 10, 3403: 6, 6926: 9, 1245: 25, 6327: 17, 4250: 10, 7409: 7, 630: 8, 4855: 15, 7557: 5, 639: 10, 1649: 9, 4149: 16, 7332: 6, 438: 8, 1422: 8, 6370: 13, 762: 10, 6270: 6, 3380: 28, 1046: 15, 51: 28, 2579: 7, 1367: 5, 7669: 12, 1295: 13, 7193: 4, 5787: 12, 7678: 4, 137: 15, 531: 4, 170: 14, 2724: 9, 1350: 10, 249: 16, 443: 11, 4710: 11, 7547: 12, 6763: 10, 3470: 13, 5366: 18, 1374: 5, 8062: 12, 3520: 4, 4211: 18, 3618: 6, 3033: 12, 2478: 9, 6515: 9, 2859: 11, 5807: 7, 1591: 3, 7046: 16, 1606: 6, 3224: 29, 3322: 7, 4763: 18, 2760: 12, 1365: 6, 1182: 22, 5157: 12, 4685: 14, 2925: 14, 3743: 10, 1292: 9, 5690: 8, 4123: 8, 6092: 6, 2047: 6, 4132: 11, 148: 7, 3858: 22, 7433: 8, 1414: 4, 5000: 18, 3491: 8, 3704: 10, 354: 16, 6481: 10, 3596: 7, 7559: 7, 84: 16, 5804: 14, 2181: 9, 157: 10, 3657: 6, 1598: 20, 2756: 8, 5705: 9, 46: 12, 446: 5, 4204: 15, 7527: 12, 6425: 19, 7: 22, 6841: 8, 5324: 5, 4238: 7, 4353: 25, 6542: 4, 3689: 9, 3956: 10, 1432: 13, 5172: 12, 4283: 30, 1475: 5, 3827: 5, 3611: 4, 3123: 6, 6516: 13, 461: 9, 2420: 8, 1149: 23, 4600: 6, 2165: 7, 3655: 5, 1228: 7, 5361: 7, 383: 17, 4223: 17, 6486: 17, 1481: 16, 761: 7, 4567: 18, 313: 9, 1779: 15, 1206: 11, 4239: 11, 3873: 8, 2411: 4, 4174: 12, 3244: 6, 7545: 10, 1095: 21, 4561: 15, 4565: 6, 620: 16, 1775: 10, 4307: 9, 5579: 8, 4941: 18, 2090: 12, 1483: 9, 1498: 10, 4630: 20, 5090: 12, 7024: 9, 1465: 5, 776: 11, 4510: 10, 4040: 13, 5038: 16, 1299: 17, 3039: 11, 6243: 13, 3962: 10, 5857: 7, 3692: 9, 22: 3, 1230: 7, 3431: 12, 8079: 9, 2441: 11, 1997: 11, 5476: 12, 5269: 9, 7939: 4, 3405: 12, 1113: 18, 4708: 13, 4477: 13, 1931: 12, 3656: 5, 6196: 17, 4756: 17, 1477: 10, 520: 19, 852: 6, 6269: 27, 5234: 7, 2057: 6, 658: 12, 4695: 14, 4440: 19, 5002: 19, 3376: 14, 4906: 28, 2265: 17, 1343: 10, 6931: 5, 2126: 11, 6326: 7, 1440: 22, 4507: 8, 294: 13, 6896: 6, 3121: 8, 8080: 7, 2209: 11, 948: 6, 389: 19, 1339: 13, 1091: 11, 87: 13, 725: 7, 4014: 22, 5290: 6, 1725: 8, 5211: 6, 1304: 4, 3785: 12, 5052: 19, 4692: 8, 4699: 13, 1058: 7, 6392: 13, 5843: 8, 6460: 9, 4181: 15, 4838: 7, 417: 14, 5032: 11, 2148: 23, 3902: 4, 3593: 10, 4159: 13, 2951: 25, 619: 17, 1555: 9, 6390: 6, 4856: 14, 6492: 30, 3145: 11, 3506: 7, 3860: 9, 5016: 11, 95: 6, 6518: 13, 1078: 10, 786: 6, 5696: 7, 625: 10, 3464: 8, 1695: 5, 1984: 9, 1882: 29, 3368: 16, 1100: 13, 5043: 19, 7764: 16, 6465: 8, 6511: 5, 3025: 20, 1764: 8, 524: 16, 7578: 5, 1099: 11, 6111: 17, 1387: 20, 6410: 10, 547: 24, 1007: 11, 6762: 7, 4179: 12, 5466: 9, 5499: 12, 6003: 5, 6178: 7, 5033: 6, 5418: 11, 94: 16, 353: 13, 2252: 25, 5964: 6, 1880: 25, 3818: 11, 1900: 9, 1972: 6, 5585: 9, 4681: 14, 6186: 15, 267: 8, 5795: 12, 4129: 11, 3122: 8, 5797: 11, 8038: 7, 6097: 5, 7919: 10, 558: 10, 6462: 7, 1089: 12, 1923: 20, 2128: 5, 4526: 10, 3893: 12, 7181: 7, 5485: 9, 1381: 5, 406: 8, 5202: 4, 348: 11, 4544: 13, 7049: 17, 3097: 8, 5088: 13, 5776: 6, 6260: 10, 2105: 20, 4724: 11, 450: 17, 4205: 10, 2071: 16, 6716: 6, 5106: 10, 5313: 8, 126: 39, 799: 8, 1097: 13, 7705: 8, 3394: 10, 2425: 6, 3842: 16, 4518: 15, 1423: 8, 6308: 7, 3630: 12, 4841: 30, 4429: 14, 2206: 3, 472: 7, 707: 9, 5590: 7, 297: 5, 7798: 5, 4686: 16, 1297: 26, 8019: 8, 1238: 19, 2903: 27, 7952: 6, 4427: 9, 4703: 20, 2578: 12, 6466: 16, 4609: 20, 2180: 10, 1109: 16, 7513: 5, 4002: 13, 7166: 4, 6528: 6, 5520: 8, 7716: 14, 868: 14, 1317: 12, 1497: 13, 5166: 7, 6293: 11, 4208: 13, 3240: 5, 5845: 12, 56: 6, 5574: 6, 8048: 15, 6209: 5, 7847: 6, 1442: 8, 3636: 24, 5248: 11, 3317: 7, 6239: 8, 4374: 17, 4557: 14, 6862: 11, 1409: 12, 3165: 15, 4916: 20, 6864: 8, 6160: 11, 3949: 27, 1077: 9, 2227: 6, 4514: 24, 7030: 21, 1011: 11, 3065: 8, 4781: 14, 6794: 8, 4729: 20, 2076: 29, 4865: 18, 1759: 8, 178: 11, 3789: 18, 5140: 13, 5855: 6, 7265: 10, 869: 9, 4036: 9, 3810: 15, 1572: 20, 6217: 5, 44: 7, 2079: 20, 1594: 17, 1186: 20, 2944: 14, 910: 3, 5899: 6, 2361: 9, 201: 15, 1044: 10, 7466: 16, 2257: 17, 2111: 18, 6949: 10, 4305: 15, 4701: 17, 4468: 8, 4286: 7, 3424: 9, 6432: 6, 7119: 6, 6666: 18, 6219: 10, 1842: 10, 159: 13, 5951: 6, 1913: 19, 673: 6, 5336: 21, 6282: 6, 7834: 6, 633: 10, 7266: 9, 2276: 15, 1443: 21, 7371: 5, 5962: 9, 4775: 13, 1184: 20, 152: 18, 1197: 5, 3599: 10, 2146: 22, 4453: 8, 6180: 11, 3732: 8, 6306: 11, 5048: 14, 3210: 8, 6188: 7, 7606: 11, 1859: 18, 3768: 6, 4533: 16, 6721: 5, 7963: 12, 7755: 20, 2139: 9, 4591: 19, 5364: 12, 3173: 7, 2336: 18, 1371: 11, 1777: 12, 2028: 19, 3606: 4, 21: 9, 2432: 11, 7416: 33, 4889: 21, 6544: 19, 428: 9, 2164: 13, 1473: 6, 5335: 12, 2908: 12, 7622: 11, 861: 9, 4531: 14, 2055: 4, 6153: 8, 7643: 6, 770: 6, 4546: 10, 1289: 14, 93: 8, 1174: 8, 3381: 11, 1204: 14, 6792: 4, 681: 10, 6388: 13, 8058: 8, 4986: 23, 6118: 4, 1023: 14, 6906: 8, 1486: 16, 3038: 9, 5229: 5, 1898: 9, 1975: 7, 6183: 6, 747: 18, 2491: 9, 2321: 9, 4610: 13, 1696: 12, 5886: 6, 607: 12, 1006: 7, 5317: 7, 5822: 10, 1435: 14, 588: 7, 2537: 10, 1266: 8, 3209: 9, 3474: 10, 2548: 10, 6686: 7, 7396: 12, 5818: 15, 7438: 15, 2992: 9, 3892: 11, 4859: 13, 2989: 10, 6189: 11, 71: 13, 30: 15, 1576: 12, 3998: 16, 1454: 16, 3770: 10, 1083: 15, 7556: 5, 3261: 24, 4435: 12, 460: 4, 1474: 7, 4521: 10, 2617: 15, 3031: 10, 2107: 30, 5913: 9, 4175: 29, 4731: 19, 986: 15, 3340: 7, 53: 23, 1133: 11, 6086: 15, 5544: 11, 4512: 10, 4569: 11, 1556: 14, 1430: 13, 7966: 18, 6578: 11, 5885: 13, 3524: 12, 668: 3, 3262: 24, 4939: 21, 6400: 10, 1750: 13, 1489: 7, 512: 7, 2952: 9, 2043: 17, 2083: 9, 6768: 8, 3412: 11, 4006: 13, 3266: 40, 52: 19, 4075: 17, 3543: 15, 805: 13, 2341: 8, 5167: 6, 6964: 24, 1482: 6, 2124: 10, 4863: 7, 2943: 13, 4246: 11, 5653: 28, 6215: 7, 83: 13, 7914: 5, 5868: 5, 1385: 31, 28: 13, 864: 14, 1122: 8, 2946: 12, 3977: 14, 7517: 6, 4432: 14, 3874: 7, 854: 7, 59: 7, 7626: 9, 1863: 21, 1510: 9, 4055: 14, 4360: 11, 508: 15, 2379: 15, 4608: 11, 6172: 10, 4321: 15, 1170: 7, 1573: 10, 2239: 6, 5766: 7, 5152: 16, 3525: 7, 7555: 10, 2254: 15, 2408: 11, 6618: 14, 4997: 20, 6884: 8, 4368: 20, 6694: 19, 858: 7, 5641: 18, 1242: 28, 2994: 16, 4199: 17, 3169: 12, 2144: 27, 5480: 6, 3166: 10, 6318: 17, 5249: 15, 4581: 18, 5293: 11, 2396: 14, 1389: 10, 6173: 7, 6061: 10, 3176: 14, 4242: 7, 4528: 10, 3952: 20, 4707: 14, 4052: 22, 6687: 4, 7417: 18, 1756: 7, 1683: 5, 2564: 10, 3984: 31, 7252: 18, 1548: 8, 6878: 6, 6104: 6, 565: 16, 3178: 11, 1221: 7, 6598: 15, 1433: 22, 3742: 12, 6307: 8, 4365: 16, 3297: 16, 717: 5, 4003: 11, 5587: 8, 4080: 25, 1353: 10, 5011: 20, 471: 24, 5309: 11, 499: 8, 883: 3, 3632: 26, 1119: 11, 2923: 7, 2495: 11, 4313: 9, 4499: 13, 1188: 13, 4375: 17, 3535: 7, 1886: 16, 3298: 8, 49: 3, 616: 10, 7947: 11, 6397: 15, 6278: 8, 5773: 8, 2371: 11, 3253: 9, 7532: 9, 935: 15, 1436: 11, 3163: 7, 5634: 14, 2937: 16, 7302: 22, 4439: 14, 2158: 9, 4455: 10, 4534: 10, 4777: 5, 4471: 18, 5993: 5, 3450: 6, 882: 7, 6887: 18, 7731: 8, 4243: 10, 729: 16, 4469: 13, 7869: 10, 1335: 6, 2250: 17, 7859: 7, 972: 13, 7587: 10, 1564: 13, 31: 10, 1802: 19, 3146: 12, 1885: 13, 6673: 17, 2607: 11, 108: 5, 43: 13, 1195: 12, 545: 16, 5137: 13, 5830: 18, 4359: 25, 4298: 9, 3953: 10, 4877: 15, 7168: 14, 4128: 11, 3465: 9, 1159: 8, 5387: 18, 29: 20, 671: 4, 3638: 2, 2198: 19, 1553: 9, 6212: 11, 7828: 14, 2886: 18, 3411: 11, 4739: 9, 1937: 19, 5744: 8, 4682: 31, 1397: 9, 1780: 16, 3024: 18, 6088: 10, 964: 24, 731: 11, 4748: 11, 6520: 7, 4436: 14, 1302: 16, 4965: 18, 3153: 17, 4178: 16, 4497: 8, 6337: 6, 2496: 13, 1272: 5, 6310: 8, 6299: 4, 5908: 7, 4320: 28, 3150: 9, 100: 8, 1361: 8, 4690: 9, 487: 10, 362: 15, 739: 10, 5085: 14, 1114: 11, 5788: 11, 3843: 15, 6838: 9, 2378: 3, 6128: 10, 4540: 16, 1191: 10, 3917: 22, 815: 18, 4458: 13, 2179: 15, 1746: 7, 2093: 10, 4718: 24, 1558: 6, 407: 14, 2004: 12, 2614: 4, 6907: 18, 2026: 17, 1323: 6, 2044: 14, 286: 5, 1613: 10, 2040: 2, 2683: 14, 1694: 3, 903: 7, 1263: 12, 7876: 4, 6311: 8, 4751: 8, 5241: 8, 4807: 14, 74: 4, 1597: 13, 1305: 19, 5289: 16, 2042: 13, 3694: 7, 3624: 6, 3707: 9, 4536: 16, 7704: 8, 6963: 9, 3263: 31, 7641: 11, 3978: 16, 3389: 17, 5039: 8, 1760: 9, 7436: 8, 6378: 4, 3019: 9, 650: 9, 533: 6, 504: 14, 215: 10, 4240: 9, 3138: 25, 2385: 15, 2931: 13, 7905: 8, 2074: 13, 3043: 5, 1246: 20, 1787: 13, 1260: 31, 7709: 18, 1082: 12, 6330: 8, 1112: 11, 1285: 10, 696: 14, 651: 12, 7143: 10, 4490: 24, 6344: 6, 7783: 8, 1593: 16, 1670: 9, 6970: 13, 4426: 11, 7134: 8, 1050: 13, 5925: 8, 2334: 6, 1306: 9, 4742: 11, 1019: 13, 5217: 9, 3805: 11, 1717: 12, 4474: 20, 227: 21, 6285: 11, 2134: 22, 7984: 18, 288: 11, 212: 16, 2185: 4, 3196: 6, 68: 12, 2121: 8, 488: 10, 2755: 7, 1377: 6, 5539: 12, 2342: 13, 2921: 14, 2969: 32, 1600: 9, 7654: 8, 2849: 12, 6109: 9, 310: 13, 2210: 9, 113: 18, 1336: 10, 2063: 6, 4989: 22, 1262: 13, 5989: 14, 4104: 9, 4848: 14, 5159: 6, 752: 10, 5148: 7, 6356: 5, 4953: 16, 6339: 8, 3319: 11, 5801: 4, 4202: 9, 1084: 13, 1726: 7, 4988: 20, 5515: 15, 4005: 8, 4103: 12, 7541: 5, 2570: 16, 1241: 23, 5488: 7, 4853: 14, 957: 12, 4110: 16, 2261: 6, 6881: 13, 130: 7, 5327: 9, 6614: 8, 2251: 18, 6580: 6, 6468: 14, 3457: 5, 289: 13, 5826: 6, 610: 8, 562: 8, 6915: 6, 174: 23, 6494: 13, 2138: 12, 2922: 7, 357: 14, 5092: 23, 1300: 20, 4617: 22, 3014: 6, 2949: 20, 6020: 8, 2226: 7, 751: 20, 6587: 5, 315: 12, 5847: 23, 4550: 17, 629: 11, 393: 8, 7682: 7, 1824: 8, 4424: 10, 715: 6, 4463: 15, 1314: 3, 7136: 9, 4931: 16, 3156: 9, 6531: 6, 538: 6, 5516: 5, 4980: 18, 5370: 5, 1370: 7, 3469: 6, 1527: 5, 3791: 8, 5932: 7, 3425: 12, 98: 6, 7856: 8, 727: 9, 643: 12, 5719: 9, 6267: 7, 1875: 13, 7369: 10, 3456: 10, 1309: 12, 5514: 7, 1127: 13, 1214: 7, 6127: 10, 2546: 12, 2: 6, 4753: 8, 1120: 16, 6902: 16, 4317: 15, 4845: 23, 1932: 16, 7356: 9, 2395: 10, 2448: 6, 3945: 23, 169: 6, 7574: 11, 1676: 16, 3223: 10, 3406: 8, 8083: 8, 742: 10, 7985: 14, 1081: 11, 2102: 15, 2339: 17, 1074: 5, 3434: 28, 342: 6, 4364: 31, 536: 9, 1129: 21, 4554: 22, 6556: 4, 4187: 13, 155: 10, 2224: 5, 1232: 9, 7701: 6, 1664: 9, 3502: 5, 3891: 12, 5149: 9, 5389: 12, 3447: 5, 4766: 7, 7892: 9, 2628: 4, 6848: 12, 6886: 10, 3697: 10, 3982: 29, 195: 26, 5777: 11, 4991: 18, 7313: 9, 237: 20, 5199: 11, 6463: 9, 4061: 11, 3937: 16, 7640: 8, 6590: 11, 4649: 9, 5063: 27, 6955: 20, 2535: 10, 722: 4, 1795: 8, 4428: 10, 7171: 15, 194: 39, 3820: 7, 4341: 29, 2390: 9, 3849: 11, 3020: 16, 7969: 16, 3595: 7, 687: 18, 7407: 9, 4196: 9, 1349: 4, 5568: 10, 6805: 20, 5040: 17, 1239: 12, 589: 5, 3378: 10, 5630: 7, 3037: 10, 842: 14, 975: 17, 7421: 4, 6245: 6, 1650: 8, 2236: 10, 5333: 7, 1873: 11, 5208: 5, 5214: 15, 4944: 28, 1311: 6, 4386: 15, 5270: 8, 7037: 7, 1693: 8, 4860: 19, 7621: 33, 111: 10, 3628: 10, 804: 12, 5668: 10, 2217: 9, 1252: 7, 5613: 5, 3441: 7, 735: 13, 1996: 10, 3725: 13, 5197: 20, 4481: 9, 2995: 13, 4702: 12, 4543: 7, 4494: 23, 3395: 14, 2468: 11, 4093: 13, 495: 10, 272: 9, 1226: 11, 5025: 20, 2035: 7, 2087: 19, 3275: 8, 5008: 9, 3139: 30, 4367: 29, 785: 11, 4449: 9, 1982: 17, 2258: 18, 6286: 5, 4197: 13, 7437: 6, 3346: 7, 5037: 9, 5426: 9, 4733: 12, 3868: 32, 4948: 14, 5089: 10, 1087: 8, 4560: 12, 2750: 5, 445: 15, 5017: 9, 4361: 17, 6586: 8, 6688: 11, 3278: 10, 4755: 12, 4419: 18, 434: 23, 4618: 22, 341: 16, 5835: 7, 6875: 6, 3388: 29, 779: 7, 1945: 8, 6980: 13, 6539: 9, 6323: 12, 808: 9, 795: 10, 1412: 4, 4562: 12, 39: 11, 4430: 18, 2639: 14, 3507: 4, 1971: 7, 7197: 7, 158: 7, 2232: 8, 5049: 13, 6545: 15, 2354: 10, 2610: 7, 5015: 21, 1512: 10, 1227: 12, 1492: 18, 4936: 31, 5261: 9, 2106: 16, 4077: 16, 4186: 7, 1259: 29, 1132: 15, 140: 19, 2602: 13, 3136: 24, 6602: 9, 3802: 14, 3172: 8, 769: 5, 7583: 4, 493: 14, 777: 6, 4069: 8, 2972: 17, 7129: 5, 2588: 9, 162: 16, 2940: 11, 5887: 15, 6218: 5, 164: 17, 5570: 20, 5047: 13, 5236: 9, 1770: 13, 2469: 5, 295: 16, 3554: 6, 3616: 9, 4769: 12, 269: 15, 3276: 8, 3684: 7, 3418: 11, 7267: 13, 3274: 13, 2616: 5, 1085: 12, 6889: 10, 3188: 21, 7685: 4, 7710: 8, 6704: 19, 2757: 16, 759: 6, 3445: 5, 5054: 21, 4285: 11, 5494: 8, 1329: 13, 7857: 13, 2157: 18, 6806: 9, 870: 12, 5952: 8, 2784: 25, 3812: 12, 2174: 8, 676: 13, 1217: 6, 3763: 10, 3719: 14, 3782: 10, 693: 13, 3035: 8, 2011: 11, 2606: 16, 5448: 13, 2008: 17, 33: 9, 1254: 13, 7064: 8, 5319: 13, 6894: 10, 7974: 5, 2048: 12, 7995: 13, 4355: 16, 4768: 15, 7180: 6, 2353: 23, 2414: 8, 548: 11, 3853: 16, 952: 11, 1881: 22, 3021: 18, 6989: 12, 5980: 7, 5633: 6, 4834: 12, 3755: 3, 2202: 13, 1369: 7, 7316: 16, 1871: 11, 4066: 16, 4422: 13, 5328: 5, 5281: 5, 6412: 6, 360: 11, 3831: 12, 5497: 5, 1382: 4, 3186: 17, 2758: 18, 5702: 6, 768: 11, 6281: 10, 8064: 13, 1822: 10, 5349: 13, 6201: 13, 7903: 8, 2953: 20, 5682: 7, 6126: 10, 4553: 18, 7717: 15, 4166: 11, 602: 7, 3302: 11, 7599: 7, 7232: 15, 8061: 6, 5066: 17, 6951: 8, 3466: 11, 6467: 4, 6916: 6, 4277: 11, 179: 20, 6428: 9, 5173: 17, 5420: 8, 5272: 4, 7884: 7, 960: 14, 1229: 8, 5271: 6, 1255: 11, 4357: 18, 416: 6, 3396: 7, 3171: 16, 214: 33, 2498: 16, 1686: 11, 4698: 21, 3803: 14, 1363: 11, 6670: 7, 3799: 4, 6914: 14, 4837: 15, 4687: 12, 3332: 2, 2790: 6, 7743: 17, 2127: 12, 156: 9, 1940: 27, 5615: 8, 1947: 4, 2145: 31, 3141: 21, 4851: 17, 336: 17, 6461: 8, 6526: 16, 503: 16, 187: 8, 6789: 7, 5774: 20, 2776: 10, 3159: 11, 999: 6, 1607: 16, 4576: 16, 3242: 9, 3443: 7, 1979: 20, 4579: 4, 7404: 25, 4956: 30, 4488: 20, 2761: 12, 5651: 13, 2974: 19, 6719: 10, 6320: 13, 300: 9, 1384: 18, 4737: 13, 4599: 10, 6121: 11, 4605: 20, 466: 10, 2362: 8, 5419: 9, 998: 7, 6184: 6, 672: 5, 2415: 10, 1166: 16, 2125: 12, 301: 9, 1315: 8, 4728: 18, 938: 19, 464: 12, 7259: 9, 5475: 7, 2304: 5, 3257: 24, 4448: 10, 2220: 17, 1160: 9, 242: 39, 332: 10, 552: 7, 3030: 10, 2372: 9, 2363: 8, 3490: 16, 973: 7, 3625: 8, 7895: 20, 5012: 11, 546: 23, 5942: 13, 7860: 16, 1586: 9, 772: 14, 5877: 10, 5765: 9, 1398: 23, 2150: 12, 2022: 24, 1888: 18, 4937: 18, 1782: 14, 3992: 14, 1376: 8, 4318: 20, 1419: 10, 2558: 8, 6256: 5, 2384: 9, 6274: 9, 1143: 20, 4716: 7, 879: 11, 7097: 11, 1342: 9, 7683: 14, 1539: 21, 3161: 9, 234: 24, 6522: 4, 7848: 6, 2151: 14, 2978: 8, 2806: 14, 2426: 7, 3792: 9, 709: 4, 5062: 35, 228: 18, 3545: 14, 3489: 7, 350: 11, 4606: 18, 1806: 28, 6604: 11, 2032: 11, 677: 9, 1697: 7, 6050: 8, 7726: 12, 2397: 8, 3928: 21, 7925: 12, 5447: 13, 3816: 11, 2447: 7, 4688: 16, 1372: 7, 173: 9, 4541: 9, 8067: 11, 3208: 7, 906: 9, 5424: 8, 6738: 11, 2264: 13, 1425: 11, 4680: 8, 3338: 6, 4504: 10, 3639: 7, 2270: 5, 5654: 8, 1929: 7, 7573: 6, 6223: 9, 480: 27, 6157: 11, 6900: 7, 1988: 23, 4814: 2, 4826: 2, 4116: 14, 6663: 13, 648: 11, 4836: 15, 3854: 12, 4236: 12, 1268: 12, 6613: 10, 3960: 12, 7344: 9, 3771: 15, 2023: 13, 3797: 12, 976: 7, 1139: 13, 4736: 13, 736: 11, 2473: 5, 3255: 8, 8030: 8, 1739: 30, 767: 13, 7279: 7, 7909: 9, 1352: 7, 2316: 6, 5800: 6, 6033: 4, 2391: 7, 6203: 9, 6786: 5, 4437: 17, 5244: 7, 418: 9, 4464: 15, 4999: 11, 3217: 8, 3373: 7, 3759: 18, 6653: 13, 1729: 9, 3168: 7, 147: 12, 4155: 34, 5050: 12, 4946: 25, 5151: 8, 4943: 16, 1121: 9, 2452: 6, 525: 8, 5825: 18, 4706: 17, 2533: 6, 1208: 12, 1026: 14, 3825: 9, 784: 15, 2364: 7, 5678: 7, 7432: 6, 3205: 8, 4666: 9, 8113: 8, 5443: 21, 3160: 11, 3236: 3, 1356: 12, 7040: 8, 2749: 5, 2021: 20, 2860: 13, 1128: 15, 5311: 6, 1162: 11, 8032: 7, 7590: 7, 4434: 10, 2912: 7, 6246: 10, 4473: 11, 7130: 7, 5489: 7, 3393: 9, 3460: 8, 1504: 10, 6493: 16, 7967: 18, 2383: 6, 1930: 10, 3959: 19, 1894: 21, 7427: 9, 6667: 7, 7565: 20, 4883: 15, 3861: 6, 6647: 23, 5772: 9, 2490: 10, 4683: 13, 556: 7, 6750: 13, 3512: 10, 1021: 13, 6797: 12, 6090: 25, 3614: 5, 322: 26, 2380: 6, 3428: 2, 6490: 25, 6094: 14, 6630: 13, 6665: 11, 4492: 28, 654: 10, 7257: 12, 7674: 9, 963: 14, 4689: 23, 4294: 18, 5817: 10, 14: 16, 1865: 21, 5145: 13, 5087: 12, 23: 4, 4299: 30, 1942: 21, 740: 10, 3492: 14, 246: 17, 5992: 13, 7924: 11, 608: 5, 4168: 16, 2838: 8, 7897: 30, 519: 13, 3249: 11, 6383: 8, 5292: 5, 3289: 15, 498: 13, 2618: 7, 5532: 8, 7508: 12, 5282: 7, 385: 9, 4693: 17, 4978: 21, 79: 12, 4509: 5, 3517: 4, 7719: 8, 2423: 8, 6839: 15, 5914: 6, 1034: 17, 3167: 9, 1036: 6, 4614: 12, 1961: 12, 2996: 11, 4714: 10, 7195: 13, 5096: 15, 3386: 8, 6018: 9, 5158: 5, 4177: 23, 979: 5, 5457: 17, 6770: 11, 3918: 11, 338: 8, 2552: 8, 6149: 16, 363: 15, 5004: 15, 4694: 14, 7060: 7, 4324: 17, 453: 16, 3544: 11, 4273: 12, 7768: 8, 6819: 11, 4555: 16, 377: 43, 3183: 12, 5759: 12, 2317: 10, 1980: 30, 4292: 23, 818: 8, 2103: 29, 1391: 7, 6652: 9, 5135: 6, 186: 13, 1533: 7, 4850: 13, 4945: 19, 704: 7, 4310: 18, 1887: 15, 4955: 25, 1582: 10, 4312: 14, 203: 16, 2977: 21, 7140: 18, 6096: 6, 1142: 17, 506: 13, 7359: 33, 3708: 6, 3397: 7, 3427: 14, 6199: 16, 4700: 11, 1111: 21, 1018: 13, 3829: 11, 1911: 8, 2759: 7, 644: 7, 1406: 23, 1420: 8, 4421: 12, 5444: 7, 1222: 8, 7873: 7, 2140: 10, 437: 13, 2831: 11, 5245: 15, 1588: 10, 5638: 13, 3472: 12, 5562: 9, 5675: 6, 4598: 14, 2030: 10, 7596: 7, 7577: 4, 5650: 22, 4691: 21, 4352: 24, 841: 11, 6669: 6, 582: 7, 1604: 12, 1063: 10, 4423: 14, 7001: 9, 8039: 8, 327: 28, 5762: 7, 7810: 16, 4985: 16, 4864: 14, 6740: 12, 3148: 5, 1646: 13, 2152: 12, 1408: 11, 5627: 5, 801: 10, 1946: 10, 4350: 17, 1092: 13, 7600: 6, 3391: 25, 1405: 30, 463: 8, 2970: 17, 3040: 10, 4487: 18, 4354: 7, 1424: 10, 3883: 15, 1615: 8, 1679: 14, 7694: 12, 4730: 13, 225: 8, 1274: 5, 4295: 16, 2223: 11, 2957: 13, 6938: 15, 7714: 14, 6284: 16, 5863: 12, 6823: 10, 7992: 10, 1060: 8, 970: 8, 4173: 12, 4119: 12, 4552: 23, 4905: 8, 4529: 12, 349: 10, 7549: 8, 2017: 11, 4460: 13, 7900: 5, 1546: 13, 6707: 16, 5495: 9, 6741: 14, 3922: 16, 1002: 5, 6551: 13, 1602: 10, 3264: 24, 5970: 4, 4513: 9, 27: 13, 5609: 23, 6304: 5, 4452: 13, 3423: 14, 1543: 10, 7169: 9, 359: 12, 7546: 10, 3137: 35, 4171: 13, 358: 11, 4383: 12, 3835: 8, 4942: 18, 3045: 4, 7272: 6, 4388: 26, 7843: 13, 69: 5, 1185: 25, 7650: 7, 241: 30, 5525: 5, 2638: 16, 6398: 15, 873: 9, 3591: 5, 7668: 14, 7987: 7, 4854: 26, 3459: 15, 6956: 8, 5624: 10, 4717: 12, 37: 9, 3438: 34, 7092: 11, 414: 6, 1902: 15, 2494: 6, 3671: 7, 6514: 8, 920: 5, 679: 13, 1928: 5, 1330: 7, 3970: 15, 5024: 16, 4735: 11, 599: 4, 5134: 11, 2857: 28, 4070: 7, 3828: 7, 5483: 4, 4752: 13, 1192: 9, 5933: 8, 6258: 9, 1199: 16, 604: 9, 1303: 12, 4981: 19, 3003: 7, 5251: 11, 2685: 11, 3794: 4, 2029: 9, 6585: 7, 2898: 21, 1944: 6, 4922: 29, 3285: 12, 1193: 10, 5828: 6, 5352: 5, 4235: 7, 5864: 7, 2769: 8, 6854: 7, 4319: 9, 3366: 9, 4852: 27, 7718: 6, 5213: 11, 2036: 12, 427: 22, 3834: 7, 3814: 10, 8128: 17, 5452: 8, 3571: 2, 1341: 7, 5608: 8, 3510: 7, 7419: 6, 534: 19, 5894: 6, 5757: 5, 373: 9, 1487: 4, 3239: 6, 5924: 13, 1583: 7, 4475: 16, 4535: 16, 4888: 21, 6312: 7, 4256: 17, 6596: 7, 5053: 18, 4891: 10, 5649: 14, 4987: 18, 5884: 6, 266: 8, 6567: 10, 5939: 7, 7321: 7, 816: 12, 4501: 8, 2605: 21, 7111: 4, 4847: 21, 209: 8, 7243: 7, 1990: 11, 1655: 10, 425: 4, 2422: 9, 3576: 6, 1494: 11, 1801: 26, 5206: 20, 2771: 5, 7623: 13, 1209: 10, 3477: 14, 6491: 27, 337: 14, 2586: 11, 3313: 12, 5243: 13, 4890: 33, 1215: 13, 4805: 19, 1258: 21, 695: 11, 7247: 6, 3421: 7, 3458: 12, 7786: 7, 3001: 10, 1000: 5, 7516: 4, 7609: 6, 505: 14, 5681: 6, 1977: 14, 2331: 11, 5703: 6, 5296: 9, 3542: 8, 1357: 8, 4726: 18, 420: 7, 1294: 4, 3387: 21, 4418: 16, 1403: 29, 4875: 15, 3468: 5, 810: 6, 6940: 12, 3796: 5, 2767: 13, 5185: 10, 7039: 8, 5876: 4, 1737: 6, 3967: 20, 5428: 5, 5922: 4, 2791: 5, 3726: 8, 2218: 6, 4345: 19, 1366: 9, 4253: 13, 4224: 8, 3761: 13, 4502: 7, 3416: 8, 6517: 17, 4291: 19, 6165: 7, 6874: 6, 6459: 9, 4990: 24, 1933: 9, 1024: 11, 265: 14, 1550: 14, 3508: 9, 1379: 3, 5359: 6, 1168: 9, 3211: 11, 4601: 18, 1022: 11, 2215: 8, 3622: 6, 3307: 13, 4790: 8, 7176: 15, 7790: 10, 2568: 11, 1072: 7, 6500: 11, 2732: 5, 7493: 4, 1745: 13, 1652: 13, 1830: 10, 4602: 17, 3653: 8, 5203: 5, 6962: 8, 7281: 4, 5781: 7, 6548: 7, 780: 7, 4727: 8, 4674: 21, 5852: 11, 4090: 6, 7439: 5, 6130: 6, 6039: 10, 5371: 11, 4549: 11, 2651: 14, 6529: 13, 1052: 8, 6664: 4, 7473: 4, 1819: 12, 4466: 8, 2039: 16, 6202: 7, 5685: 8, 6944: 9, 564: 12, 5747: 10, 384: 10, 838: 8, 6754: 8, 5051: 14, 3006: 5, 5003: 4, 6054: 16, 6206: 7, 1612: 10, 7602: 6, 1429: 10, 1960: 12, 1334: 14, 1528: 5, 7384: 4, 6680: 12, 7511: 11, 1125: 7, 1662: 20, 4476: 9, 7539: 6, 1161: 15, 1768: 12, 3063: 7, 6187: 8, 5171: 16, 3592: 5, 7917: 4, 3878: 15, 1223: 8, 7664: 20, 271: 12, 4621: 18, 2137: 14, 4795: 8, 766: 11, 3493: 10, 6283: 15, 331: 10, 6158: 17, 6222: 4, 2778: 16, 5490: 10, 139: 8, 7053: 5, 6032: 5, 5973: 9, 1035: 18, 1535: 7, 2962: 4, 1666: 10, 1458: 15, 236: 20, 7435: 13, 7634: 14, 4165: 9, 6584: 22, 5954: 7, 2001: 13, 1287: 12, 2645: 11, 6176: 14, 4715: 13, 5181: 6, 3762: 10, 7624: 6, 20: 8, 3971: 14, 4744: 12, 5100: 7, 145: 8, 1623: 18, 2450: 6, 1415: 5, 6615: 11, 2112: 12, 3377: 8, 1256: 7, 7451: 14, 5956: 7, 4302: 26, 1165: 7, 2990: 13, 7081: 5, 1793: 16, 3640: 7, 1045: 3, 4465: 11, 6521: 10, 7566: 11, 674: 5, 5393: 13, 5569: 17, 4935: 22, 4206: 9, 2131: 12, 4537: 19, 3449: 10, 1905: 9, 6248: 22, 3230: 8, 4740: 11, 2352: 22, 1575: 24, 7904: 14, 4456: 14, 1148: 10, 3175: 10, 3027: 12, 2550: 11, 3191: 11, 528: 17, 943: 8, 2059: 5, 7690: 5, 291: 7, 96: 6, 7533: 9, 2305: 3, 6847: 7, 2753: 15, 254: 7, 3701: 4, 1479: 11, 3200: 12, 2987: 8, 8119: 14, 4573: 9, 7426: 7, 2801: 13, 2786: 34, 1541: 13, 3398: 8, 1061: 5, 3488: 11, 6747: 14, 678: 7, 2019: 8, 1485: 17, 1434: 11, 7250: 13, 7225: 8, 4479: 15, 3072: 7, 429: 9, 193: 27, 224: 8, 1383: 26, 2764: 14, 1544: 7, 2320: 9, 8053: 10, 7961: 6, 163: 12, 7579: 6, 3372: 9, 3026: 8, 4308: 16, 4993: 26, 2993: 10, 2470: 6, 6348: 7, 3979: 25, 4595: 19, 4522: 8, 990: 3, 7464: 4, 5009: 9, 4164: 6, 5617: 12, 4457: 9, 2981: 10, 2009: 14, 1674: 8, 7840: 5, 2497: 17, 63: 8, 5316: 7, 7957: 13, 1874: 7, 526: 8, 7849: 8, 2428: 5, 1062: 4, 5578: 7, 5146: 11, 4705: 11, 6918: 8, 476: 11, 7269: 7, 5935: 9, 685: 9, 5154: 8, 6249: 8, 45: 10, 7182: 7, 6408: 8, 386: 18, 3942: 11, 5789: 11, 1644: 8, 1088: 16, 1490: 8, 2056: 8, 4572: 12, 3306: 16, 2368: 12, 380: 12, 2762: 11, 3916: 14, 1611: 4, 3000: 15, 7301: 9, 1069: 4, 196: 13, 7420: 4, 4738: 11, 2754: 9, 6134: 9, 7754: 16, 1203: 19, 2988: 10, 578: 7, 1235: 6, 6025: 11, 1831: 11, 4684: 10, 372: 13, 905: 9, 2272: 11, 6024: 9, 7561: 6, 6744: 5, 444: 5, 3533: 7, 6482: 8, 1952: 7, 1712: 11, 7964: 15, 1912: 11, 3734: 8, 3546: 16, 4269: 19, 7408: 9, 1426: 11, 6472: 7, 6876: 7, 1493: 7, 2132: 16, 2199: 13, 1567: 11, 1568: 11, 4139: 18, 2387: 5, 2713: 5, 1554: 9, 7615: 5, 3284: 19, 4391: 17, 1890: 14, 1004: 6, 1327: 8, 6182: 12, 151: 8, 329: 7, 4244: 5, 6569: 8, 1450: 21, 1147: 22, 782: 8, 7431: 10, 1499: 8, 4323: 9, 1068: 6, 3057: 8, 4470: 12, 2773: 8, 3220: 10, 5928: 5, 6733: 9, 1271: 7, 1096: 18, 618: 11, 2439: 5, 1247: 20, 1595: 23, 5082: 4, 6536: 5, 2020: 18, 6298: 6, 6072: 6, 1280: 9, 1540: 13, 4788: 23, 638: 6, 2155: 11, 7522: 10, 5509: 13, 2123: 13, 760: 6, 481: 12, 2785: 18, 550: 6, 4961: 20, 7708: 10, 2459: 7, 4163: 7, 2374: 9, 3695: 11, 5339: 5, 1164: 12, 40: 8, 4882: 21, 1273: 4, 5388: 8, 7523: 9, 7976: 7, 6662: 7, 4785: 9, 3308: 15, 2332: 14, 2182: 13, 1071: 9, 817: 8, 7586: 6, 713: 6, 2412: 5, 4857: 13, 3304: 20, 154: 6, 4564: 15, 5743: 26, 1189: 16, 2804: 12, 7813: 12, 4950: 17, 1813: 11, 5589: 16, 6624: 16, 2936: 19, 1639: 8, 3444: 5, 1786: 19, 91: 13, 1261: 31, 2005: 12, 2438: 5, 6945: 5, 4747: 21, 3602: 7, 7414: 10, 6424: 13, 1810: 13, 2577: 14, 7696: 14, 6253: 6, 5210: 10, 1331: 6, 2333: 10, 1585: 5, 3295: 8, 7015: 16, 5341: 4, 2116: 7, 3633: 31, 2735: 3, 4750: 16, 334: 9, 3028: 7, 4886: 18, 7512: 9, 5207: 4, 7098: 10, 7300: 12, 5815: 6, 3634: 13, 4498: 9, 3769: 11, 1529: 5, 4195: 8, 3437: 38, 1844: 8, 4940: 27, 2973: 16, 3231: 6, 2046: 6, 1453: 13, 4254: 19, 1407: 17, 2581: 5, 311: 7, 4162: 15, 7177: 5, 36: 3, 7811: 11, 6193: 15, 6512: 12, 2775: 7, 1131: 18, 5259: 15, 2502: 14, 4696: 10, 6589: 8, 3475: 12, 4723: 18, 690: 8, 942: 15, 6332: 9, 584: 8, 2560: 8, 1827: 11, 7165: 4, 6882: 28, 4511: 9, 4929: 16, 2149: 15, 4998: 10, 1536: 14, 2536: 6, 7633: 10, 1634: 12, 256: 14, 6935: 16, 3409: 5, 4791: 16, 3731: 5, 6028: 6, 149: 14, 613: 7, 4505: 9, 2110: 14, 6341: 19, 7094: 10, 4697: 9, 4996: 8, 7370: 7, 4719: 6, 2143: 6, 2348: 13, 1681: 11, 961: 10, 6880: 5, 2746: 8, 6272: 9, 89: 12, 1364: 3, 1086: 8, 3215: 12, 2433: 13, 2745: 8, 3654: 9, 4741: 13, 3559: 6, 819: 28, 670: 3, 7943: 9, 3207: 8, 3549: 4, 6574: 12, 250: 17, 2517: 15, 2075: 20, 4198: 12, 5144: 17, 1313: 10, 2281: 8, 3018: 7, 2902: 23, 2279: 7, 397: 7, 4443: 16, 1101: 12, 5451: 7, 3642: 5, 513: 5, 7410: 10, 6835: 17, 1136: 13, 1513: 5, 2034: 12, 1399: 5, 4446: 15, 3059: 6, 1468: 11, 7597: 8, 2896: 13, 983: 13, 1134: 8, 3579: 5, 5386: 10, 2766: 15, 4927: 21, 7858: 9, 3287: 25, 2219: 9, 3505: 3, 7440: 6, 2031: 9, 893: 5, 7226: 8, 3837: 10, 5853: 12, 4086: 13, 2780: 18, 1823: 6, 3058: 10, 259: 21, 3584: 3, 7820: 20, 929: 15, 1771: 11, 5861: 13, 34: 6, 4798: 11, 2770: 17, 876: 7, 2979: 7, 2963: 2, 955: 14, 3454: 10, 7594: 6, 1867: 26, 1009: 7, 507: 12, 6342: 9, 6608: 16, 3857: 10, 1549: 7, 6793: 10, 1956: 18, 5042: 9, 1138: 11, 5577: 4, 594: 8, 3950: 17, 3303: 8, 6335: 9, 4148: 17, 7581: 6, 6953: 4, 6331: 7, 1145: 14, 2945: 8, 2474: 3, 7163: 11, 7902: 7, 143: 7, 1970: 7, 2038: 13, 3619: 5, 3600: 7, 8129: 19, 1832: 16, 4558: 17, 2064: 6, 76: 14, 1579: 7, 1201: 18, 657: 9, 230: 17, 7870: 9, 1130: 15, 1340: 7, 7389: 8, 5754: 9, 748: 16, 5676: 10, 10: 14, 4107: 10, 1484: 6, 4445: 12, 3617: 6, 4797: 16, 3631: 38, 5001: 27, 1328: 9, 6978: 9, 2113: 5, 574: 4, 6831: 10, 1532: 6, 2542: 7, 1879: 23, 5215: 16, 1999: 6, 2679: 8, 1891: 6, 6965: 6, 4152: 25, 1899: 10, 3328: 6, 4188: 8, 3126: 7, 5636: 16, 4114: 14, 6238: 4, 2418: 3, 1141: 12, 4603: 9, 1732: 8, 5794: 8, 7518: 10, 6164: 10, 4485: 18, 1910: 8, 7422: 9, 2024: 19, 4074: 16, 6194: 10, 4527: 22, 1935: 9, 1031: 17, 3877: 7, 3199: 10, 496: 9, 6671: 11, 5059: 10, 7217: 17, 6582: 21, 339: 5, 6108: 8, 2167: 8, 6658: 16, 5174: 11, 2594: 7, 2467: 12, 1835: 7, 683: 10, 7830: 12, 6345: 18, 2481: 9, 1957: 21, 3963: 15, 612: 11, 2386: 8, 6488: 8, 1445: 14, 1213: 10, 7582: 8, 6279: 9, 2621: 8, 3360: 6, 557: 9, 7722: 5, 8043: 17, 3919: 8, 4288: 21, 5500: 9, 5505: 8, 423: 7, 1137: 8, 6280: 8, 3830: 12, 1421: 10, 2329: 13, 958: 16, 6828: 7, 3736: 11, 229: 17, 262: 11, 5768: 10, 1716: 10, 2000: 10, 7548: 10, 6507: 5, 1290: 3, 6742: 5, 2927: 11, 4596: 13, 2222: 5, 1577: 10, 3048: 6, 3271: 4, 4385: 13, 4189: 8, 1310: 8, 3142: 15, 6785: 6, 2721: 6, 5471: 14, 7703: 7, 1103: 25, 2189: 4, 6105: 9, 3848: 8, 2041: 1, 4172: 9, 7865: 12, 5022: 11, 1056: 6, 1526: 3, 2197: 13, 4021: 6, 4060: 5, 106: 9, 3329: 4, 4909: 12, 3760: 9, 3206: 12, 529: 8, 7740: 14, 4325: 30, 6960: 4, 2991: 12, 6513: 11, 1986: 10, 3807: 6, 1249: 9, 7808: 10, 6634: 8, 4381: 16, 2010: 5, 7642: 4, 7645: 10, 4585: 10, 6743: 15, 6235: 5, 1687: 5, 577: 9, 5571: 4, 5348: 8, 4575: 15, 6107: 8, 1146: 23, 7741: 16, 2488: 9, 3184: 11, 1332: 10, 2297: 3, 35: 11, 3660: 14, 2566: 15, 1291: 13, 5982: 12, 238: 27, 5560: 12, 264: 7, 3519: 4, 118: 10, 1298: 12, 4447: 19, 1569: 10, 4322: 15, 3221: 10, 3143: 13, 7980: 8, 940: 8, 2195: 11, 6221: 5, 4884: 16, 6595: 14, 7067: 10, 3203: 15, 3698: 10, 2569: 8, 771: 7, 4030: 5, 4704: 10, 3162: 13, 1051: 6, 3607: 7, 8029: 11, 7568: 9, 6115: 4, 6861: 10, 66: 7, 2485: 6, 1437: 16, 3855: 18, 2161: 6, 1028: 22, 4793: 13, 773: 10, 4840: 13, 1545: 9, 4734: 10, 3637: 4, 1029: 9, 730: 8, 4794: 8, 5028: 11, 447: 6, 408: 20, 1805: 29, 4113: 14, 3233: 3, 3870: 8, 1552: 9, 233: 15, 7192: 6, 4311: 11, 7789: 15, 6250: 10, 3485: 10, 4524: 15, 2836: 11, 1296: 17, 3286: 14, 1288: 8, 3540: 10, 2598: 6, 6851: 9, 5307: 12, 5542: 14, 1987: 17, 2900: 8, 3049: 5, 4757: 18, 2462: 3, 1264: 7, 298: 7, 2876: 8, 6533: 4, 4467: 16, 4444: 19, 778: 7, 7584: 6, 263: 10, 2615: 7, 2534: 11, 7862: 7, 2014: 13, 5575: 6, 7190: 6, 974: 10, 3826: 8, 6734: 10, 4786: 19, 5704: 8, 5946: 20, 4584: 10, 576: 10, 708: 6, 2235: 3, 652: 8, 7937: 15, 3626: 7, 521: 15, 6659: 5, 3948: 24, 2556: 11, 4547: 12, 391: 7, 422: 15, 4801: 11, 6044: 21, 3243: 12, 4496: 6, 3876: 6, 6999: 5, 7423: 7, 5150: 5, 936: 13, 4713: 11, 4868: 12, 3212: 16, 440: 8, 2493: 4, 5314: 6, 8102: 6, 3198: 14, 3291: 18, 1444: 10, 7405: 20, 4792: 14, 3529: 2, 5482: 7, 2892: 15, 6122: 5, 8132: 7, 996: 6, 646: 7, 2092: 18, 559: 8, 6008: 5, 7906: 18, 697: 15, 1995: 8, 4749: 9, 6655: 30, 2966: 5, 441: 8, 4611: 10, 1608: 9, 6973: 9, 4812: 2, 4824: 2, 5026: 13, 1629: 12, 177: 6, 2964: 11, 7454: 9, 7979: 8, 1904: 12, 1734: 10, 3358: 3, 6871: 6, 3531: 4, 775: 9, 5407: 8, 6745: 5, 1825: 11, 6011: 5, 5283: 4, 8041: 5, 3251: 8, 5468: 6, 1093: 19, 3645: 6, 5896: 12, 7080: 6, 2649: 18, 4091: 5, 4592: 15, 5503: 6, 5504: 6, 4043: 6, 6006: 17, 2273: 13, 4117: 16, 7033: 6, 1073: 9, 5996: 7, 2487: 3, 8046: 8, 5147: 6, 7215: 8, 2529: 6, 3363: 6, 2171: 10, 4303: 28, 6557: 7, 6975: 5, 4994: 25, 2881: 6, 1463: 7, 4144: 19, 3149: 9, 172: 9, 8094: 16, 3383: 13, 1506: 8, 6205: 7, 3703: 9, 774: 6, 706: 6, 950: 4, 3710: 5, 2641: 11, 1452: 17, 1253: 12, 2192: 8, 4300: 13, 1224: 9, 3185: 10, 1360: 8, 4315: 27, 97: 4, 4754: 21, 3256: 5, 3521: 5, 5322: 8, 1210: 5, 2401: 6, 4530: 11, 3192: 17, 3852: 4, 7322: 9, 62: 6, 1038: 4, 1378: 6, 1447: 19, 7162: 5, 5074: 24, 6627: 12, 8018: 7, 4399: 2, 4817: 2, 4829: 2, 7348: 9, 2681: 4, 4806: 12, 6968: 12, 1610: 8, 3823: 9, 2018: 6, 6437: 8, 6872: 6, 898: 3, 2680: 5, 5458: 11, 3152: 9, 1441: 12, 7093: 10, 2739: 5, 3500: 4, 3881: 9, 567: 4, 5007: 11, 168: 7, 6844: 9, 1738: 5, 1733: 12, 682: 11, 3534: 2, 6901: 7, 6552: 7, 3151: 5, 7894: 9, 843: 12, 2360: 20, 8005: 7, 5988: 14, 1040: 2, 1815: 15, 4597: 9, 7866: 11, 1451: 13, 1916: 11, 344: 9, 146: 9, 3214: 6, 568: 12, 4583: 6, 3476: 8, 2003: 8, 4167: 9, 1005: 5, 3157: 10, 7926: 8, 4200: 6, 728: 5, 5467: 7, 4808: 10, 2398: 6, 6984: 7, 7635: 6, 622: 8, 1032: 13, 3299: 9, 2458: 5, 904: 17, 479: 9, 7886: 8, 949: 4, 2715: 6, 2419: 10, 3583: 5, 3824: 10, 1816: 10, 232: 23, 2100: 35, 200: 20, 7463: 16, 475: 8, 3813: 5, 4245: 13, 455: 11, 3314: 9, 2688: 4, 4804: 11, 1030: 12, 3551: 9, 3246: 9, 4823: 2, 6179: 7, 7207: 6, 4249: 5, 2373: 4, 490: 14, 7604: 9, 716: 6, 6799: 11, 4154: 24, 2306: 7, 2221: 8, 2662: 11, 3055: 8, 1627: 13, 1574: 12, 6678: 7, 3277: 10, 1459: 12, 2484: 7, 6560: 5, 8072: 5, 980: 6, 2159: 7, 3915: 24, 2225: 10, 6571: 5, 3936: 14, 2673: 3, 4146: 36, 4028: 6, 1466: 5, 5067: 19, 3557: 5, 5431: 5, 2567: 9, 3053: 13, 3497: 8, 3170: 11, 2429: 3, 4282: 15, 7457: 8, 7428: 5, 7725: 11, 4431: 13, 4483: 27, 3218: 4, 7730: 6, 3700: 5, 7638: 41, 4031: 3, 4106: 10, 257: 25, 1950: 9, 4628: 18, 1678: 6, 8134: 4, 4194: 24, 5006: 11, 2095: 8, 1455: 9, 2238: 7, 3190: 10, 4721: 6, 3407: 6, 7077: 5, 3032: 7, 517: 5, 7244: 7, 3558: 3, 3841: 8, 711: 3, 2508: 4, 2135: 7, 991: 8, 1799: 20, 4442: 14, 2343: 8, 3204: 13, 1281: 6, 1167: 8, 7254: 13, 395: 11, 3662: 9, 5164: 6, 3471: 7, 3627: 3, 5957: 8, 5669: 10, 6877: 4, 2622: 5, 1531: 5, 3013: 9, 5567: 6, 182: 14, 6787: 10, 1001: 3, 3649: 7, 260: 10, 4743: 10, 1346: 6, 2476: 8, 1580: 14, 6060: 6, 1198: 18, 1730: 6, 1509: 12, 6967: 5, 1480: 12, 5700: 9, 3604: 3, 1934: 10, 2501: 7, 1542: 10, 457: 22, 4846: 18, 17: 11, 141: 5, 3598: 15, 2434: 7, 7258: 8, 6600: 8, 637: 7, 7934: 10, 580: 6, 3017: 9, 692: 5, 219: 8, 1118: 5, 4115: 4, 7500: 6, 3603: 6, 3455: 12, 1394: 4, 1966: 4, 3118: 3, 333: 7, 5652: 6, 2442: 8, 2166: 10, 660: 11, 4248: 10, 210: 9, 5622: 7, 3292: 8, 4580: 8, 2959: 10, 4379: 11, 4995: 15, 1219: 10, 3007: 3, 38: 6, 1460: 3, 4871: 20, 222: 6, 600: 4, 7002: 10, 4387: 7, 6817: 13, 2998: 9, 1645: 15, 1673: 8, 3060: 3, 8054: 14, 6936: 9, 6798: 34, 4885: 15, 3646: 2, 2539: 5, 7354: 9, 518: 7, 2299: 5, 2999: 10, 790: 9, 2153: 12, 6546: 11, 6161: 5, 4478: 13, 6534: 5, 3177: 17, 4072: 2, 7042: 6, 410: 5, 3252: 10, 2466: 8, 4184: 15, 5061: 13, 7000: 6, 511: 5, 1427: 13, 544: 4, 5662: 6, 2402: 7, 6110: 13, 5760: 12, 1508: 10, 3889: 2, 3068: 11, 1187: 10, 1993: 7, 4133: 12, 6736: 12, 4347: 21, 497: 19, 8091: 5, 6506: 5, 261: 7, 1858: 17, 2013: 11, 3219: 7, 7108: 5, 277: 3, 6376: 4, 4951: 15, 7990: 4, 2817: 3, 7861: 6, 7922: 4, 2393: 7, 1581: 15, 1322: 5, 7151: 7, 2156: 14, 4140: 10, 6776: 15, 226: 12, 3348: 2, 4413: 2, 4593: 9, 191: 10, 5991: 7, 1279: 4, 4247: 7, 4071: 5, 3586: 3, 3516: 6, 6313: 10, 684: 15, 2054: 3, 4867: 17, 2242: 9, 5402: 10, 2583: 7, 2183: 8, 2997: 12, 2530: 5, 537: 7, 4088: 8, 1690: 2, 4241: 8, 4594: 18, 2330: 6, 3924: 16, 3182: 10, 1658: 10, 7619: 4, 1638: 5, 7455: 8, 1041: 6, 1064: 7, 4185: 18, 5064: 21, 806: 15, 2596: 11, 282: 4, 3836: 8, 7968: 6, 5900: 9, 6623: 18, 3288: 15, 2455: 6, 5312: 5, 6007: 7, 5445: 6, 375: 6, 4745: 7, 2231: 7, 4059: 7, 971: 9, 4843: 18, 4403: 2, 4416: 2, 4820: 2, 4832: 2, 4372: 9, 7550: 4, 7916: 10, 8133: 4, 275: 13, 3155: 5, 714: 5, 3590: 3, 824: 17, 3620: 6, 2674: 5, 615: 10, 1220: 9, 5118: 7, 7262: 9, 4397: 2, 4815: 2, 4827: 2, 4390: 9, 655: 5, 1467: 11, 2748: 9, 115: 5, 5470: 5, 2002: 6, 4145: 19, 6175: 6, 1769: 9, 4404: 2, 4417: 2, 4821: 2, 4833: 2, 5058: 9, 7442: 5, 4044: 10, 258: 6, 5284: 5, 2642: 14, 4327: 41, 2066: 2, 1395: 6, 6315: 10, 3114: 9, 1766: 7, 2935: 13, 4571: 11, 1688: 12, 1265: 8, 3784: 7, 5689: 8, 7214: 11, 977: 3, 1860: 3, 1735: 10, 7378: 5, 6131: 13, 4992: 20, 3069: 7, 8123: 12, 2727: 4, 1530: 4, 4556: 5, 7867: 5, 3110: 10, 2173: 3, 3661: 10, 3772: 2, 2444: 4, 1511: 5, 2200: 15, 4919: 2, 1713: 13, 3379: 17, 2409: 5, 2440: 6, 5423: 7, 6251: 15, 3486: 9, 7402: 9, 4842: 8, 4083: 13, 4578: 11, 175: 16, 2862: 19, 4441: 7, 5816: 6, 381: 4, 2196: 10, 5252: 11, 5460: 15, 4539: 22, 6857: 14, 6406: 5, 6661: 5, 409: 6, 5318: 13, 2636: 6, 101: 7, 3349: 4, 3452: 5, 458: 12, 2435: 3, 5837: 12, 8056: 5, 1538: 8, 3851: 6, 6079: 9, 5442: 9, 41: 7, 3658: 9, 3552: 7, 2241: 6, 4251: 9, 1834: 10, 2816: 5, 2463: 6, 273: 10, 2431: 2, 4589: 8, 8075: 6, 7054: 6, 3667: 6, 7446: 7, 2370: 4, 4401: 2, 4414: 2, 2136: 13, 6541: 6, 7601: 7, 1994: 7, 3563: 5, 5902: 4, 5034: 4, 7029: 7, 2454: 6, 4577: 10, 2871: 9, 7673: 8, 4574: 13, 7729: 4, 2326: 9, 3228: 10, 7670: 4, 3273: 7, 7681: 5, 468: 7, 4089: 8, 340: 9, 7930: 8, 7284: 11, 4304: 20, 3666: 5, 6612: 8, 7605: 11, 7802: 10, 8037: 9, 1951: 7, 1117: 7, 6788: 6, 5216: 7, 142: 5, 5141: 7, 3484: 7, 993: 3, 6237: 4, 7087: 8, 4874: 15, 5943: 9, 3339: 4, 4076: 5, 3131: 7, 6790: 4, 2033: 14, 3702: 7, 726: 4, 1936: 8, 2194: 4, 6821: 5, 4389: 12, 4082: 10, 3594: 5, 2687: 12, 691: 8, 2451: 5, 5927: 4, 2483: 2, 2446: 6, 4378: 13, 7938: 4, 585: 5, 4803: 14, 3164: 8, 1524: 4, 3925: 11, 284: 9, 4810: 2, 4822: 2, 6489: 10, 8135: 8, 5832: 6, 3222: 11, 7983: 8, 1236: 10, 3663: 10, 7004: 5, 1469: 13, 6605: 5, 6023: 7, 4818: 4, 4830: 4, 781: 4, 636: 13, 794: 10, 8101: 9, 8120: 13, 7023: 8, 5775: 4, 390: 6, 1828: 14, 5329: 6, 2752: 7, 3158: 11, 3509: 7, 5098: 5, 153: 10, 3585: 7, 705: 4, 3728: 10, 2585: 6, 3462: 8, 7441: 5, 7908: 6, 2623: 1, 218: 7, 1456: 9, 3548: 4, 318: 9, 5084: 12, 2505: 5, 1216: 9, 7494: 8, 831: 2, 4799: 10, 6795: 9, 1347: 6, 7791: 8, 7989: 4, 5591: 4, 6927: 11, 4147: 13, 2489: 3, 4234: 19, 4563: 6, 7733: 13, 2582: 3, 2407: 10, 3195: 10, 2627: 2, 3054: 5, 7236: 6, 3237: 3, 5131: 8, 1449: 6, 2323: 7, 4809: 6, 6729: 4, 1037: 4, 1003: 5, 1211: 6, 2532: 7, 3518: 8, 4316: 15, 586: 6, 2593: 9, 3541: 10, 6979: 4, 1603: 7, 1968: 11, 3227: 2, 560: 5, 5073: 6, 6594: 11, 792: 6, 1516: 2, 3225: 10, 2294: 12, 8055: 7, 7628: 8, 995: 5, 1333: 7, 6778: 5, 6609: 10, 117: 7, 7205: 11, 6946: 7, 3483: 11, 1225: 6, 6133: 6, 5836: 9, 1605: 8, 7374: 5, 1731: 7, 1500: 6, 6859: 8, 4800: 14, 2114: 7, 6656: 7, 4519: 6, 4027: 11, 1428: 7, 4881: 17, 2624: 1, 7468: 6, 5792: 4, 1820: 11, 3847: 7, 6879: 27, 7292: 13, 1218: 8, 989: 4, 8020: 8, 19: 9, 5564: 10, 1324: 11, 7353: 11, 2864: 8, 4746: 5, 718: 6, 1404: 22, 378: 5, 2612: 12, 8131: 7, 7530: 4, 5403: 10, 7210: 6, 2204: 7, 1390: 7, 7630: 4, 7383: 14, 653: 4, 6146: 4, 3009: 5, 1393: 13, 2191: 9, 7795: 9, 8110: 12, 1841: 11, 3426: 9, 3015: 6, 1276: 3, 2597: 9, 4720: 6, 6974: 7, 7613: 6, 5142: 11, 2349: 7, 439: 6, 7988: 7, 1641: 11, 6825: 5, 7832: 9, 3779: 2, 4048: 9, 5081: 5, 6845: 7, 4141: 9, 2436: 6, 7297: 10, 1872: 11, 6377: 5, 398: 11, 5573: 6, 8124: 7, 8023: 5, 3560: 6, 3357: 2, 5484: 4, 7395: 4, 2190: 3, 4024: 7, 4819: 3, 4831: 3, 2777: 7, 3821: 9, 1326: 11, 7940: 7, 3005: 3, 456: 7, 2437: 7, 6359: 4, 6169: 12, 7261: 7, 4722: 8, 825: 6, 3238: 3, 8025: 7, 1667: 6, 2677: 6, 6174: 6, 1537: 7, 5257: 10, 5594: 4, 1464: 2, 6629: 11, 8093: 8, 5723: 8, 231: 18, 160: 13, 2590: 6, 2525: 8, 2503: 5, 3615: 5, 698: 5, 2844: 4, 3480: 6, 90: 13, 6150: 7, 7721: 4, 3641: 1, 1518: 4, 981: 6, 8031: 10, 2400: 3, 7913: 5, 1643: 7, 7720: 5, 7738: 7, 5030: 4, 4849: 12, 7625: 5, 5111: 5, 3132: 6, 6444: 9, 6791: 5, 1286: 5, 3268: 3, 7276: 5, 1043: 5, 7935: 5, 5138: 7, 7137: 7, 110: 1, 3503: 2, 1212: 5, 7274: 5, 58: 4, 2633: 8, 6954: 5, 3234: 5, 5376: 5, 99: 3, 6177: 4, 2510: 2, 6442: 8, 8125: 7, 2984: 6, 1047: 6, 5277: 11, 166: 4, 6021: 8, 555: 6, 2772: 4, 6840: 4, 3567: 1, 6535: 8, 7352: 4, 978: 4, 7444: 4, 2207: 8, 900: 3, 4816: 3, 4828: 3, 5950: 6, 1163: 15, 7982: 10, 5279: 12, 274: 5, 7679: 9, 3565: 3, 2096: 6, 7275: 10, 7346: 6, 5102: 4, 5879: 4, 994: 4, 3644: 2, 542: 1, 2381: 2, 2051: 2, 2480: 3, 916: 8, 6458: 6, 3562: 3, 6055: 6, 1525: 4, 65: 11, 4835: 9, 2460: 1, 563: 4, 2634: 6, 5701: 5, 1307: 4, 6171: 11, 7208: 4, 8130: 13, 579: 12, 1547: 11, 7629: 8, 5130: 4, 1715: 8, 7223: 7, 2176: 7, 2631: 9, 2053: 1, 2608: 1, 2619: 9, 7772: 11, 5326: 5, 3342: 5, 3880: 12, 3647: 2, 3850: 5, 7732: 4, 2327: 8, 7773: 12, 5390: 7, 6530: 4, 7222: 16, 6732: 7, 1637: 5, 3226: 13, 1505: 2, 1747: 7, 6813: 5, 5958: 7, 3597: 3, 2260: 5, 1015: 5, 4134: 4, 171: 9, 4928: 3, 1362: 3, 7123: 4, 4343: 16, 2376: 2, 5410: 5, 3272: 3, 7777: 5, 7735: 11, 6986: 9, 1319: 5, 7273: 7, 2119: 7, 7296: 13, 6836: 4, 6846: 4, 7921: 8, 4037: 3, 60: 8, 2604: 2, 2058: 1, 6731: 4, 1965: 6, 2205: 5, 6484: 8, 3267: 2, 1277: 2, 829: 8, 3612: 4, 5250: 7, 3279: 2, 5626: 5, 3566: 2, 376: 6, 5572: 4, 3665: 7, 595: 7, 5646: 5, 7032: 6, 1417: 6, 8065: 4, 2445: 2, 1039: 4, 1278: 3, 917: 5, 1348: 3, 2243: 5, 3547: 5, 2404: 3, 6309: 5, 4947: 7, 5212: 4, 401: 7, 6002: 9, 5080: 12, 789: 8, 6867: 8, 7742: 4, 2475: 2, 7341: 5, 64: 5, 7739: 4, 5453: 7, 6214: 4, 5276: 6, 7689: 6, 5465: 8, 5688: 8, 1354: 8, 7229: 5, 213: 5, 7007: 9, 1175: 6, 3250: 6, 8122: 6, 7771: 7, 8121: 10, 1578: 7, 4227: 5, 7496: 6, 7069: 4, 826: 6, 1967: 13, 5401: 13, 7445: 4, 603: 3, 4084: 10, 3446: 4, 3610: 2, 7510: 17, 5919: 4, 2985: 6, 2982: 4, 2967: 6, 2968: 6, 2410: 6, 2965: 6, 1282: 7, 6445: 20, 5103: 7, 2561: 8, 6553: 6, 6026: 11, 2244: 5, 6441: 8, 7778: 5, 2295: 5, 5870: 6, 2325: 9, 3609: 2, 2427: 3, 3282: 2, 7765: 5, 6440: 5, 8081: 5, 2248: 7, 1669: 4, 7204: 5, 8017: 4, 914: 5, 2328: 9, 7035: 11, 7295: 7, 7977: 4, 5379: 4, 2324: 10, 7398: 4, 6728: 7, 405: 6, 5487: 4, 3522: 2, 7358: 4, 7391: 4, 7453: 4, 3270: 2, 4022: 8, 5083: 4, 7991: 5, 7724: 4, 454: 5, 3623: 7, 5112: 5, 865: 5, 593: 7, 7152: 7, 2240: 6, 402: 6, 7978: 5, 303: 7, 5727: 5, 4784: 6, 7691: 4, 7221: 10, 1963: 7, 793: 7, 1992: 3, 413: 6, 6057: 6, 3898: 3, 92: 3, 2620: 4, 791: 6, 8044: 4, 4023: 6, 2482: 4, 2186: 3, 8069: 4, 5462: 5, 601: 3, 5136: 4, 2961: 5, 2465: 4, 1962: 7, 6443: 12, 8045: 4, 5101: 6}\n"
     ]
    }
   ],
   "source": [
    "from nltk import word_tokenize\n",
    "\n",
    "persp_tok_length = {}\n",
    "\n",
    "for pid in persp_rank_aggr.keys():\n",
    "    pt = get_persp_text(pid)\n",
    "    if pt:\n",
    "        toks = word_tokenize(pt)\n",
    "        persp_tok_length[pid] = len(toks)\n",
    "\n",
    "print(persp_tok_length)"
   ]
  },
  {
   "cell_type": "code",
   "execution_count": 29,
   "metadata": {
    "scrolled": false
   },
   "outputs": [
    {
     "data": {
      "image/png": "[encoded data removed]",
      "text/plain": [
       "<Figure size 864x576 with 1 Axes>"
      ]
     },
     "metadata": {},
     "output_type": "display_data"
    }
   ],
   "source": [
    "import matplotlib.pyplot\n",
    "\n",
    "length = []\n",
    "avg_rank = []\n",
    "for pid in persp_rank.keys():\n",
    "    if pid in persp_tok_length:\n",
    "        avg_rank.append(persp_rank[pid])\n",
    "        length.append(persp_tok_length[pid])\n",
    "\n",
    "figsize=(12, 8)\n",
    "\n",
    "fig = matplotlib.pyplot.figure(figsize=figsize)\n",
    "matplotlib.pyplot.scatter(length,avg_rank)\n",
    "matplotlib.pyplot.show()"
   ]
  },
  {
   "cell_type": "code",
   "execution_count": 36,
   "metadata": {},
   "outputs": [
    {
     "data": {
      "image/png": "[encoded data removed]",
      "text/plain": [
       "<Figure size 864x576 with 1 Axes>"
      ]
     },
     "metadata": {},
     "output_type": "display_data"
    }
   ],
   "source": [
    "p_l = persp_tok_length.values()\n",
    "\n",
    "figsize=(12, 8)\n",
    "\n",
    "fig = matplotlib.pyplot.figure(figsize=figsize)\n",
    "\n",
    "matplotlib.pyplot.hist(p_l, range=[0, 40], bins=range(min(p_l), max(p_l) + 1, 1))\n",
    "matplotlib.pyplot.show()"
   ]
  },
  {
   "cell_type": "code",
   "execution_count": 30,
   "metadata": {},
   "outputs": [
    {
     "ename": "NameError",
     "evalue": "name 'Counter' is not defined",
     "output_type": "error",
     "traceback": [
      "\u001b[0;31m---------------------------------------------------------------------------\u001b[0m",
      "\u001b[0;31mNameError\u001b[0m                                 Traceback (most recent call last)",
      "\u001b[0;32m<ipython-input-30-e1f501bff5d1>\u001b[0m in \u001b[0;36m<module>\u001b[0;34m()\u001b[0m\n\u001b[0;32m----> 1\u001b[0;31m \u001b[0mlength_counts\u001b[0m \u001b[0;34m=\u001b[0m \u001b[0mdict\u001b[0m\u001b[0;34m(\u001b[0m\u001b[0mCounter\u001b[0m\u001b[0;34m(\u001b[0m\u001b[0mpersp_tok_length\u001b[0m\u001b[0;34m.\u001b[0m\u001b[0mvalues\u001b[0m\u001b[0;34m(\u001b[0m\u001b[0;34m)\u001b[0m\u001b[0;34m)\u001b[0m\u001b[0;34m)\u001b[0m\u001b[0;34m\u001b[0m\u001b[0m\n\u001b[0m",
      "\u001b[0;31mNameError\u001b[0m: name 'Counter' is not defined"
     ]
    }
   ],
   "source": []
  }
 ],
 "metadata": {
  "kernelspec": {
   "display_name": "Python 3",
   "language": "python",
   "name": "python3"
  },
  "language_info": {
   "codemirror_mode": {
    "name": "ipython",
    "version": 3
   },
   "file_extension": ".py",
   "mimetype": "text/x-python",
   "name": "python",
   "nbconvert_exporter": "python",
   "pygments_lexer": "ipython3",
   "version": "3.6.4"
  }
 },
 "nbformat": 4,
 "nbformat_minor": 2
}
