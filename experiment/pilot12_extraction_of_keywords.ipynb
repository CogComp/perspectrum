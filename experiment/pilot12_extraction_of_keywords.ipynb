{
 "cells": [
  {
   "cell_type": "code",
   "execution_count": 44,
   "metadata": {},
   "outputs": [],
   "source": [
    "import json\n",
    "\n",
    "with open('/Users/daniel/ideaProjects/perspective/claim_persp_evidences.json', encoding='utf-8') as data_file:\n",
    "    data = json.loads(data_file.read())\n",
    "    "
   ]
  },
  {
   "cell_type": "code",
   "execution_count": 40,
   "metadata": {},
   "outputs": [
    {
     "name": "stdout",
     "output_type": "stream",
     "text": [
      "683\n"
     ]
    }
   ],
   "source": [
    "with open('/Users/daniel/ideaProjects/perspective/stopwords.txt') as stopwords_file: \n",
    "    stopwords = stopwords_file.read().split(\"\\n\") \n",
    "print(len(stopwords))"
   ]
  },
  {
   "cell_type": "code",
   "execution_count": 45,
   "metadata": {},
   "outputs": [
    {
     "name": "stdout",
     "output_type": "stream",
     "text": [
      "1006\n"
     ]
    }
   ],
   "source": [
    "print(len(data))"
   ]
  },
  {
   "cell_type": "code",
   "execution_count": 53,
   "metadata": {},
   "outputs": [
    {
     "name": "stderr",
     "output_type": "stream",
     "text": [
      "INFO:ccg_nlpy.pipeline_config:Using pipeline web server with API: http://macniece.seas.upenn.edu:4001\n",
      "INFO:ccg_nlpy.remote_pipeline:pipeline has been set up\n"
     ]
    },
    {
     "name": "stdout",
     "output_type": "stream",
     "text": [
      "--------------------\n",
      "The use of child performers should be banned\n",
      "--------------------\n",
      "Celebrities should be exempt from National Service (in South Korea)\n",
      "--------------------\n",
      "Trade is better than aid\n",
      "--------------------\n",
      "It should be allowed to have military recruitment in schools\n",
      "--------------------\n",
      "Rupert Murdoch is not a fit person to run an international media corporation\n",
      "--------------------\n",
      "Smoking should further be restricted\n",
      "--------------------\n",
      "Animals have rights.\n",
      "--------------------\n",
      "Proportional representation is necessary.\n",
      "--------------------\n",
      "There must be a child curfews\n",
      "--------------------\n",
      "It is important to use a graduated response to combat unauthorised file-sharing of copyrighted material\n",
      "--------------------\n",
      "Internet access is a human right\n",
      "--------------------\n",
      "It is important to use foreign aid funds to research and distribute software that allows bloggers and journalists in non-democratic countries to evade censorship and conceal their online activities.\n"
     ]
    },
    {
     "name": "stderr",
     "output_type": "stream",
     "text": [
      "WARNING:ccg_nlpy.core.text_annotation:Creating empty TextAnnotation.\n",
      "ERROR:ccg_nlpy.core.text_annotation:No valid views on empty TextAnnotation.\n"
     ]
    },
    {
     "name": "stdout",
     "output_type": "stream",
     "text": [
      "--------------------\n",
      "Ratify the Anti-Counterfeiting Trade Agreement (ACTA).\n",
      "--------------------\n",
      "Governments be allowed to disrupt Internet service on grounds of national security.\n",
      "--------------------\n",
      "A new global body, the United Nations Committee for Internet Related Policies, take over internet governance.\n"
     ]
    },
    {
     "name": "stderr",
     "output_type": "stream",
     "text": [
      "WARNING:ccg_nlpy.core.text_annotation:Creating empty TextAnnotation.\n",
      "ERROR:ccg_nlpy.core.text_annotation:No valid views on empty TextAnnotation.\n"
     ]
    },
    {
     "name": "stdout",
     "output_type": "stream",
     "text": [
      "--------------------\n",
      "The net neutrality legislation has to be supported.\n",
      "--------------------\n",
      "There should be a presumption in favour of publication for information held by public bodies\n",
      "--------------------\n",
      "Goal line technology has to be adopted in football\n",
      "--------------------\n",
      "permit the use of performance enhancing drugs in professional sports\n",
      "--------------------\n",
      "All nations should ban bullfighting\n",
      "--------------------\n",
      "Instant Replay Should Be Used in Major League Baseball\n",
      "--------------------\n",
      "The music that glorifies violence against women should be banned\n",
      "--------------------\n",
      "It is crucial to explore the universe\n",
      "--------------------\n",
      "Gay couples should be allowed to marry\n",
      "--------------------\n",
      "The Catholic Church is justified in forbidding the use of barrier methods of contraception\n",
      "--------------------\n",
      "Atheism is the only way\n",
      "--------------------\n",
      "Anarchism is a valuable political ideology\n",
      "--------------------\n",
      "Democracy has to be imposed, if needed\n",
      "--------------------\n",
      "Capitalism is better than socialism\n",
      "--------------------\n",
      "The International Criminal Court is a force for good\n",
      "--------------------\n",
      "A common EU foreign policy should be favored\n",
      "--------------------\n",
      "The United Nations Security Council should be expanded\n",
      "--------------------\n",
      "Smokers should be denied access to state healthcare\n",
      "--------------------\n",
      "Smoking in public spaces should be banned\n",
      "--------------------\n",
      "Cannabis should be legalised\n"
     ]
    },
    {
     "name": "stderr",
     "output_type": "stream",
     "text": [
      "WARNING:ccg_nlpy.core.text_annotation:Creating empty TextAnnotation.\n",
      "ERROR:ccg_nlpy.core.text_annotation:No valid views on empty TextAnnotation.\n"
     ]
    },
    {
     "name": "stdout",
     "output_type": "stream",
     "text": [
      "--------------------\n",
      "Blasphemy criminalise\n",
      "--------------------\n",
      "Music containing lyrics that glorify violent and criminal lifestyles should be banned\n",
      "--------------------\n",
      "The leaking of military documents by Anat Kamm was justified\n",
      "--------------------\n",
      "Users of extremist websites should be punished\n",
      "--------------------\n",
      "India’s Ban on the Satanic Verses is justified\n",
      "--------------------\n",
      "Corporations’ Use of IP Laws in Relation to Event Sponsorship Poses a Threat to Freedom of Expression\n",
      "--------------------\n",
      "We should fear the power of government over the Internet\n",
      "--------------------\n",
      "Religious freedom abroad should be one of the primary foreign policy concerns for any country\n",
      "--------------------\n",
      "The BBC should be free to blaspheme\n",
      "--------------------\n",
      "It makes sense to drive to an out of town to a shopping centre\n",
      "--------------------\n",
      "Nuclear technology must be adopted\n",
      "--------------------\n",
      "Performing tests on animals must be banned\n",
      "--------------------\n",
      "Private universities in the UK must be encouraged\n",
      "--------------------\n",
      "History has no place in the classroom\n",
      "--------------------\n",
      "We must bring back corporal punishment\n",
      "--------------------\n",
      "Hosting the Olympics is a good investment\n",
      "--------------------\n",
      "There should be a legally mandated ceiling on weekly working hours\n",
      "--------------------\n",
      "Gambling must be banned\n",
      "--------------------\n",
      "The sale of violent video games/censor violent video games should be illegal\n",
      "--------------------\n",
      "Danish newspapers should not have published cartoons depicting the Prophet Mohammed\n",
      "--------------------\n",
      "We should force feed sufferers of Anorexia Nervosa\n",
      "--------------------\n",
      "English has to become the official language of the United States\n",
      "--------------------\n",
      "Cultural property residing in museums must be returned to its place of origin\n",
      "--------------------\n",
      "Wikipedia is a force for good\n",
      "--------------------\n",
      "We must support public service broadcasters\n",
      "--------------------\n",
      "We should restrict violent video games\n",
      "--------------------\n",
      "Advertising is harmful\n",
      "--------------------\n",
      "Newspapers belong to the past\n",
      "--------------------\n",
      " Aboriginal culture must be protected\n",
      "--------------------\n",
      "Sexist advertising must be banned\n",
      "--------------------\n",
      "Access to the websites that deny the Holocaust must be blocked\n",
      "--------------------\n",
      "The full financial history of all candidates for political office must be posted online\n",
      "--------------------\n",
      "Transparency is necessary for security\n",
      "--------------------\n",
      "Western democracies should openly try to circumvent Internet censorship in oppressive regimes\n",
      "--------------------\n",
      "Major league baseball should continue to allow collisions at home plate\n",
      "--------------------\n",
      "The 2022 Football World Cup must be moved to the winter\n",
      "--------------------\n",
      "Professional sportsmen must be required to represent their countries at the international level\n",
      "--------------------\n",
      "Positive discrimination must be used to put more women in parliament\n",
      "--------------------\n",
      "Force has to be used to protect human rights abroad\n",
      "--------------------\n",
      "Affirmative action is necessary\n",
      "--------------------\n",
      "Illegal immigrants must be given drivers licenses\n",
      "--------------------\n",
      "The people's republic of China should abandon the one-child policy\n",
      "--------------------\n",
      "That Zero Tolerance Policing is a Good Tactic for Fighting Crime\n",
      "--------------------\n",
      "South Ossetia should be independent\n",
      "--------------------\n",
      "The Republika Srpska must be allowed to secede from Bosnia & Herzegovina\n",
      "--------------------\n",
      "The feminist movement should seek a ban on pornography\n",
      "--------------------\n",
      "Developing nations should place restrictions on rural-urban migration\n",
      "--------------------\n",
      "Gender quotas in the EU are advantageous for the economies of member states\n",
      "--------------------\n",
      "Governments should prioritise spending money on youth\n",
      "--------------------\n",
      "The EU should offer asylum to women from countries which have legislation that discriminates against women\n",
      "--------------------\n",
      "Tteachers should be armed\n",
      "--------------------\n",
      "Women should be allowed to take part in combat\n",
      "--------------------\n",
      "Arranged marriages in EU countries should be banned.\n",
      "--------------------\n",
      "The Reproductive Health Bill will undermine families and values\n",
      "--------------------\n",
      "Human Cloning has to be banned\n",
      "--------------------\n",
      "Israel should recognise the Palestinian right of return\n"
     ]
    },
    {
     "name": "stderr",
     "output_type": "stream",
     "text": [
      "WARNING:ccg_nlpy.core.text_annotation:Creating empty TextAnnotation.\n",
      "ERROR:ccg_nlpy.core.text_annotation:No valid views on empty TextAnnotation.\n"
     ]
    },
    {
     "name": "stdout",
     "output_type": "stream",
     "text": [
      "--------------------\n",
      "Sexual orientation should be considered grounds for asylum\n",
      "--------------------\n",
      "Prostitution has to be legalised\n",
      "--------------------\n",
      "The right to asylum should not be absolute\n",
      "--------------------\n",
      "Anti-Social Behaviour Orders (UK) must be scraped\n",
      "--------------------\n",
      "Positive discrimination has to be used to increase diversity in university\n",
      "--------------------\n",
      "require the ICC to allow a defence of “cultural relativism” to the crime of recruiting and using child soldiers\n"
     ]
    },
    {
     "name": "stderr",
     "output_type": "stream",
     "text": [
      "WARNING:ccg_nlpy.core.text_annotation:Creating empty TextAnnotation.\n",
      "ERROR:ccg_nlpy.core.text_annotation:No valid views on empty TextAnnotation.\n"
     ]
    },
    {
     "name": "stdout",
     "output_type": "stream",
     "text": [
      "--------------------\n",
      "An amnesty to illegal immigrants has to be granted\n",
      "--------------------\n",
      "The sale of children’s toys as part of fast food meals must be prohobited.\n",
      "--------------------\n",
      "Nations of the world should increase protection of the economic and social rights of migrants\n",
      "--------------------\n",
      "Children in developing countries should be sponsored\n",
      "--------------------\n",
      "You should never have children\n",
      "--------------------\n",
      "Housewives should be paid for their work\n",
      "--------------------\n",
      "The USA's social security schemes should be privatized\n",
      "--------------------\n",
      "Security profiling at airports is justified\n",
      "--------------------\n",
      "Cohabiting couples who wish to end their relationships should be allowed to request that the courts supervise the division of their property\n",
      "--------------------\n",
      "Hate crime 'enhancements' are unjust\n",
      "--------------------\n",
      "The age of consent laws should be lowered\n",
      "--------------------\n",
      "Partial birth abortions should be banned\n",
      "--------------------\n",
      "Marriage is an outdated institution\n",
      "--------------------\n",
      "It is be ok to use racial profiling as part of airport security checks\n"
     ]
    },
    {
     "name": "stderr",
     "output_type": "stream",
     "text": [
      "WARNING:ccg_nlpy.core.text_annotation:Creating empty TextAnnotation.\n"
     ]
    },
    {
     "name": "stdout",
     "output_type": "stream",
     "text": [
      "--------------------\n",
      "Feminism Is Still Needed\n",
      "--------------------\n",
      "Countries with an imbalanced male/female ratio skewed towards males should encourage parents to produce girls\n"
     ]
    },
    {
     "name": "stderr",
     "output_type": "stream",
     "text": [
      "ERROR:ccg_nlpy.core.text_annotation:No valid views on empty TextAnnotation.\n"
     ]
    },
    {
     "name": "stdout",
     "output_type": "stream",
     "text": [
      "--------------------\n",
      "Parents should be allowed to genetically screen foetuses for heritable diseases\n",
      "--------------------\n",
      "Hate speech on campus has to censored\n",
      "--------------------\n",
      "Parents should be able to choose the sex of their children\n",
      "--------------------\n",
      "It should be allowed to patent genes\n",
      "--------------------\n",
      "Homosexuals should be able to adopt\n",
      "--------------------\n",
      "All illegal immigrants must be repatriated\n",
      "--------------------\n",
      "Racial quotas must be set in South African rugby\n",
      "--------------------\n",
      "South Africa should host an Olympics\n",
      "--------------------\n",
      "Gabon hosting the Africa Cup of Nations was a good thing\n",
      "--------------------\n",
      "Restrictions must be imposed on overseas players in football\n",
      "--------------------\n",
      "Playoffs must be implemented in collegiate level american football\n",
      "--------------------\n",
      "Boycott the Euro 2012 in Ukraine unless Yulia Timoshenko is released from prison\n",
      "--------------------\n",
      "Ban countries with very harsh training methods from participating in international competitions\n",
      "--------------------\n",
      "Force the media to display, promote and report women’s sport equally to men’s sport.\n",
      "--------------------\n",
      "Chess must be at the Olympics\n",
      "--------------------\n",
      "Allow women to compete in the same leagues as men\n",
      "--------------------\n",
      "Subsidise the translation of academic work in the languages of developing countries\n",
      "--------------------\n",
      "Any work that is not released under a creative commons license shouldn't be funded\n",
      "--------------------\n",
      "Force think tanks to reveal all of their sources of funding\n"
     ]
    },
    {
     "name": "stderr",
     "output_type": "stream",
     "text": [
      "WARNING:ccg_nlpy.core.text_annotation:Creating empty TextAnnotation.\n",
      "ERROR:ccg_nlpy.core.text_annotation:No valid views on empty TextAnnotation.\n"
     ]
    },
    {
     "name": "stdout",
     "output_type": "stream",
     "text": [
      "--------------------\n",
      "Ban all anonymous posting and commenting on the Internet\n",
      "--------------------\n",
      "You have nothing to worry about surveillance if you have done nothing wrong\n",
      "--------------------\n",
      "Indiscriminate NSA surveillance of the rest of the world hurts the United States\n",
      "--------------------\n",
      "You should join Facebook\n",
      "--------------------\n",
      "I believe in the Right to be forgotten\n",
      "--------------------\n",
      "During riots it might make sense to block access to social messaging networks\n",
      "--------------------\n",
      "Western companies have to incentivised to build software that provides anonymity to those involved in uprisings\n",
      "--------------------\n",
      "State funding to universities have to be conditioned upon all academic work being made available to the general public\n",
      "--------------------\n",
      "Online gambling has to be banned\n",
      "--------------------\n",
      "Universities should make all academic work they produce, including scholarly articles, course handbooks and recorded lectures, available to the general public\n",
      "--------------------\n",
      "Actively circumventing Internet censorship is a legitimate foreign policy tool\n",
      "--------------------\n",
      "Targeted sanctions have to be used to respond to cyber-attacks\n"
     ]
    },
    {
     "name": "stderr",
     "output_type": "stream",
     "text": [
      "WARNING:ccg_nlpy.core.text_annotation:Creating empty TextAnnotation.\n"
     ]
    },
    {
     "name": "stdout",
     "output_type": "stream",
     "text": [
      "--------------------\n",
      "Parents have to be allowed to monitor their children's online and mobile communications\n",
      "--------------------\n",
      "Private lives of public figures should be open to press scrutiny.\n"
     ]
    },
    {
     "name": "stderr",
     "output_type": "stream",
     "text": [
      "ERROR:ccg_nlpy.core.text_annotation:No valid views on empty TextAnnotation.\n"
     ]
    },
    {
     "name": "stdout",
     "output_type": "stream",
     "text": [
      "--------------------\n",
      "politicians have no right to privacy\n",
      "--------------------\n",
      "We have to offer amnesty to bloggers currently prosecuted by their native states\n",
      "--------------------\n",
      "We have to cut the length of copyright protection\n",
      "--------------------\n",
      "It is important to ban the sale of surveillance technology to non-democratic countries\n"
     ]
    },
    {
     "name": "stderr",
     "output_type": "stream",
     "text": [
      "WARNING:ccg_nlpy.core.text_annotation:Creating empty TextAnnotation.\n",
      "ERROR:ccg_nlpy.core.text_annotation:No valid views on empty TextAnnotation.\n"
     ]
    },
    {
     "name": "stdout",
     "output_type": "stream",
     "text": [
      "--------------------\n",
      "Targeted online advertising on the basis of user profiles and demographics must be banned\n",
      "--------------------\n",
      "The state should provide broadband internet through nationalized companies\n",
      "--------------------\n",
      "Internet service providers should be allowed to block access to extremist websites\n",
      "--------------------\n",
      "Do not allow companies to collect/sell the personal data of their clients\n"
     ]
    },
    {
     "name": "stderr",
     "output_type": "stream",
     "text": [
      "WARNING:ccg_nlpy.core.text_annotation:Creating empty TextAnnotation.\n",
      "ERROR:ccg_nlpy.core.text_annotation:No valid views on empty TextAnnotation.\n"
     ]
    },
    {
     "name": "stdout",
     "output_type": "stream",
     "text": [
      "--------------------\n",
      "All literature, art, photography, film and music should be released under Creative Commons licenses\n",
      "--------------------\n",
      "States should stimulate (or subsidise) mother tongue education for large immigrant groups.\n",
      "--------------------\n",
      "Forced evictions are necessary for African cities to become global players.\n",
      "--------------------\n",
      "We have to follow countries such as Senegal that have quotas for women in politics\n",
      "--------------------\n",
      "The government of Uganda has failed its citizens over LGBT rights\n",
      "--------------------\n",
      "We have to teach creationism in schools\n",
      "--------------------\n",
      "Domestic intelligence agencies have a legitimate role to play in democracy\n",
      "--------------------\n",
      "Wire-tapped and ‘intercepted’ evidence must be allowed as admissible in court\n",
      "--------------------\n",
      "The right to anonymous posting on the internet should be protected by law\n",
      "--------------------\n",
      "There must be a ban the sale of 3D printers to households\n",
      "--------------------\n",
      "The new technologies will make entrepreneurs of Africa’s youth\n",
      "--------------------\n",
      "We have to consider a large scale cyber attack an act of war\n",
      "--------------------\n",
      "Male infant circumcision is tantamount to child abuse\n",
      "--------------------\n",
      "Keep the Sabbath as a Day of Rest\n",
      "--------------------\n",
      "The niqab and other face coverings in schools must be banned\n",
      "--------------------\n",
      "Religion does more harm than good\n",
      "--------------------\n",
      "Religious symbols in public buildings must be banned\n"
     ]
    },
    {
     "name": "stderr",
     "output_type": "stream",
     "text": [
      "WARNING:ccg_nlpy.core.text_annotation:Creating empty TextAnnotation.\n",
      "ERROR:ccg_nlpy.core.text_annotation:No valid views on empty TextAnnotation.\n"
     ]
    },
    {
     "name": "stdout",
     "output_type": "stream",
     "text": [
      "--------------------\n",
      "Belief in God is irrational\n",
      "--------------------\n",
      "Religious beliefs should override government laws\n",
      "--------------------\n",
      "The Church of England should be separated from the British state.\n",
      "--------------------\n",
      "It is fine to kill one to save many\n",
      "--------------------\n",
      "Make all museums free of charge\n",
      "--------------------\n",
      "Remove the requirement for Catholic Priests to take a vow of celibacy\n",
      "--------------------\n",
      "Remove the words \"under God\" from the American Pledge of Allegiance\n",
      "--------------------\n",
      "(as a Christian Church) allow the ordination of gay and lesbian priests\n",
      "--------------------\n",
      "Traditional university has to be replaced by online learning\n",
      "--------------------\n",
      "Tanzania’s taxation on mobile phones is a good model\n",
      "--------------------\n",
      "We have to produce high quality generic drugs for Africa\n",
      "--------------------\n",
      "German prosecutors should investigate NSA surveillance of Angela Merkel\n",
      "--------------------\n",
      "Ban animal testing\n",
      "--------------------\n",
      "Every child should have a mobile phone.\n",
      "--------------------\n",
      "We must colonize moon\n",
      "--------------------\n",
      "We must legalize the use of cell phones in cars\n",
      "--------------------\n",
      "We must grant those diagnosed with terminal illnesses the right to access treatments that have not completed clinical testing\n",
      "--------------------\n",
      "It is crucial to support the development of a missile defence system\n",
      "--------------------\n",
      "Downloading music without permission is morally equivalent to theft\n",
      "--------------------\n",
      "Teachers must be banned from interacting with students via social networking websites.\n",
      "--------------------\n",
      "governments should choose open source software in order to encourage its use\n",
      "--------------------\n",
      "The Internet must be censored\n",
      "--------------------\n",
      "I believe in manned space flight\n",
      "--------------------\n",
      "Intellectual property rights have to be abolished\n",
      "--------------------\n",
      "The development of genetically modified organisms have to be banned\n",
      "--------------------\n",
      "Evolution has Disproved Creationism\n",
      "--------------------\n",
      "Google shouldn’t censor its search results in China\n",
      "--------------------\n",
      "It is necessary to offer increased aid to developing world countries that encourage and accept large influxes of immigrants\n",
      "--------------------\n",
      "The Gulf States should take in more Syrian refugees\n"
     ]
    },
    {
     "name": "stderr",
     "output_type": "stream",
     "text": [
      "WARNING:ccg_nlpy.core.text_annotation:Creating empty TextAnnotation.\n"
     ]
    },
    {
     "name": "stdout",
     "output_type": "stream",
     "text": [
      "--------------------\n",
      "Cyberbullies must be punished with prison even if under 18\n",
      "--------------------\n",
      "Intellectual migration (brain drain) is caused by a lack of belonging rather than a lack of opportunities\n"
     ]
    },
    {
     "name": "stderr",
     "output_type": "stream",
     "text": [
      "ERROR:ccg_nlpy.core.text_annotation:No valid views on empty TextAnnotation.\n"
     ]
    },
    {
     "name": "stdout",
     "output_type": "stream",
     "text": [
      "--------------------\n",
      "Cut aid to African states that criminalise homosexuality\n",
      "--------------------\n",
      "We must enable free movement of labour across Africa to alleviate poverty disparities.\n",
      "--------------------\n",
      "African cities need to invest more in housing to replace slums\n",
      "--------------------\n",
      "The feminisation of Africa’s labour force is empowering women\n",
      "--------------------\n",
      "Poverty is the most important security issue facing Africa\n",
      "--------------------\n",
      "Civil society should be granted a wider participation in Africa’s political life\n",
      "--------------------\n",
      "Legal empowerment is provided for women through land titling\n",
      "--------------------\n",
      "We must hold a referendum on UK membership in the EU\n",
      "--------------------\n",
      "The Arab Spring revolutions can create stable democracies.\n",
      "--------------------\n",
      "All nations have a right to nuclear weapons\n",
      "--------------------\n",
      "The House of Lords should be reformed\n",
      "--------------------\n",
      "We have to employ mercenaries\n",
      "--------------------\n",
      "We should use torture to obtain information from suspected terrorists\n",
      "--------------------\n",
      "We should limit the right to bear arms\n",
      "--------------------\n",
      "We must disband NATO\n",
      "--------------------\n",
      "Government must be Big and Beefy\n",
      "--------------------\n",
      "Turkey should be let join the European Union\n",
      "--------------------\n",
      "Faith schools must be banned\n",
      "--------------------\n",
      "Handguns must be banned in Washington D.C.\n",
      "--------------------\n",
      "We must use Unmanned Aerial Vehicles to strike terrorist targets\n",
      "--------------------\n",
      "Does campaign finance in the United States need to be fixed?\n",
      "--------------------\n",
      "Should the United States scale back the War on Drugs?\n",
      "--------------------\n",
      "Should the United States increase the foreign aid budget?\n",
      "--------------------\n",
      "Film stars, music stars and other popular entertainers should not be participating in party-political campaigns\n"
     ]
    },
    {
     "name": "stderr",
     "output_type": "stream",
     "text": [
      "WARNING:ccg_nlpy.core.text_annotation:Creating empty TextAnnotation.\n",
      "ERROR:ccg_nlpy.core.text_annotation:No valid views on empty TextAnnotation.\n"
     ]
    },
    {
     "name": "stdout",
     "output_type": "stream",
     "text": [
      "--------------------\n",
      "Should the U.S. Government continue to spend at current levels even if it means raising taxes\n",
      "--------------------\n",
      "We must let Catalan hold an independence referendum\n",
      "--------------------\n",
      "It is worth voting\n"
     ]
    },
    {
     "name": "stderr",
     "output_type": "stream",
     "text": [
      "WARNING:ccg_nlpy.core.text_annotation:Creating empty TextAnnotation.\n",
      "ERROR:ccg_nlpy.core.text_annotation:No valid views on empty TextAnnotation.\n"
     ]
    },
    {
     "name": "stdout",
     "output_type": "stream",
     "text": [
      "--------------------\n",
      "Abandon Kofi Annan’s peace plan for Syria\n",
      "--------------------\n",
      "Greece should default on its debt and return to the Drachma\n",
      "--------------------\n",
      "We support the New START Treaty\n",
      "--------------------\n",
      "The Dalai Lama’s ‘third way’ in Tibet\n",
      "--------------------\n",
      "Puerto Rico should seek American statehood\n",
      "--------------------\n",
      "We should directly elect city mayors\n",
      "--------------------\n",
      "Abolish the Superdelegate System for Democratic Party Conventions\n",
      "--------------------\n",
      "Quebec should secede from Canada\n",
      "--------------------\n",
      "Opinion polls harm the democratic process\n",
      "--------------------\n",
      "Recognise Kosovo as an independent state\n",
      "--------------------\n",
      "The EU, USA and other western donors should not fund any Palestinian government in which terrorist organisations participate\n",
      "--------------------\n",
      "University education should be free\n",
      "--------------------\n",
      "Grant politicians immunity from prosecution\n",
      "--------------------\n",
      "The UN should recognize a Palestinian state\n",
      "--------------------\n",
      "Restrict the right to Habeas Corpus as part of efforts to combat terrorism\n"
     ]
    },
    {
     "name": "stderr",
     "output_type": "stream",
     "text": [
      "WARNING:ccg_nlpy.core.text_annotation:Creating empty TextAnnotation.\n",
      "ERROR:ccg_nlpy.core.text_annotation:No valid views on empty TextAnnotation.\n"
     ]
    },
    {
     "name": "stdout",
     "output_type": "stream",
     "text": [
      "--------------------\n",
      "Abandon the timetable for withdrawal from Afghanistan\n",
      "--------------------\n",
      "The northern Ireland would be better off if united with the Republic of Ireland\n",
      "--------------------\n",
      "Abolish all collective bargaining rights claimed by trades unions\n",
      "--------------------\n",
      "We must support the use of truth and reconciliation commissions\n",
      "--------------------\n",
      "We must ban negative advertising in political campaigns\n",
      "--------------------\n",
      "We should encourage increased use of referendums\n"
     ]
    },
    {
     "name": "stderr",
     "output_type": "stream",
     "text": [
      "WARNING:ccg_nlpy.core.text_annotation:Creating empty TextAnnotation.\n",
      "ERROR:ccg_nlpy.core.text_annotation:No valid views on empty TextAnnotation.\n"
     ]
    },
    {
     "name": "stdout",
     "output_type": "stream",
     "text": [
      "--------------------\n",
      "The governance of the United States should be split between the two major US political parties\n",
      "--------------------\n",
      "We must hold all U.S. presidential primaries on the same day\n"
     ]
    },
    {
     "name": "stderr",
     "output_type": "stream",
     "text": [
      "WARNING:ccg_nlpy.core.text_annotation:Creating empty TextAnnotation.\n",
      "ERROR:ccg_nlpy.core.text_annotation:No valid views on empty TextAnnotation.\n"
     ]
    },
    {
     "name": "stdout",
     "output_type": "stream",
     "text": [
      "--------------------\n",
      "We oppose the U.S. hegemonic military power\n",
      "--------------------\n",
      "The US intervention in Libya, lacking congressional approval, was illegal\n",
      "--------------------\n",
      "Socialism is Dead\n",
      "--------------------\n",
      "The use of atomic bombs against Hiroshima and Nagasaki was justified\n",
      "--------------------\n",
      "The republican party has lost its way\n",
      "--------------------\n",
      "Abolish the monarchy.\n",
      "--------------------\n",
      "The United States’ individual health insurance mandate is unconstitutional\n",
      "--------------------\n",
      "Abolish the US Electoral College\n",
      "--------------------\n",
      "We must support the Scottish Independence\n",
      "--------------------\n",
      "There must be compulsory identity cards\n",
      "--------------------\n",
      "The War in Iraq was Worth the Cost\n",
      "--------------------\n",
      "Bribery is sometimes acceptable\n",
      "--------------------\n",
      "We must extend NATO membership to Georgia and Ukraine\n",
      "--------------------\n",
      "We must invade and forcibly reunify the Korean peninsula\n",
      "--------------------\n",
      "The U.S. Should Ban The Use of Cluster Bombs\n",
      "--------------------\n",
      "USA must sign the Ottawa Convention banning landmines\n",
      "--------------------\n",
      "We must be a libertarian; right or left, right or wrong\n",
      "--------------------\n",
      "The US is Justified in Using Force to Prevent States From Acquiring Nuclear Weapons\n",
      "--------------------\n",
      "Open primaries are the most effective method of selecting candidates for elections\n",
      "--------------------\n",
      "Russia needs strong leadership\n",
      "--------------------\n",
      "Abolish congressional earmarks\n",
      "--------------------\n",
      "Terrorists Should Be Subject to the Geneva Conventions\n",
      "--------------------\n",
      "Israel's 2008-2009 military operations against Gaza were justified\n",
      "--------------------\n",
      "There must be a single European Union army\n",
      "--------------------\n",
      "The West should invade Syria\n"
     ]
    },
    {
     "name": "stderr",
     "output_type": "stream",
     "text": [
      "WARNING:ccg_nlpy.core.text_annotation:Creating empty TextAnnotation.\n",
      "ERROR:ccg_nlpy.core.text_annotation:No valid views on empty TextAnnotation.\n"
     ]
    },
    {
     "name": "stdout",
     "output_type": "stream",
     "text": [
      "--------------------\n",
      "There can be such a thing as a Just War\n",
      "--------------------\n",
      "Terrorism can be justified\n",
      "--------------------\n",
      "There must be referendums held on any new EU treaty\n",
      "--------------------\n",
      "There is a need for developing tactical nuclear weapons\n",
      "--------------------\n",
      "Abolish nuclear weapons\n",
      "--------------------\n",
      "We can trust Republicans with the economy\n",
      "--------------------\n",
      "Britain should join the Euro currency\n",
      "--------------------\n",
      "We must enforce term limits on the legislative branch of government\n",
      "--------------------\n",
      "Voting should become compulsory\n",
      "--------------------\n",
      "Self-determination of peoples is a human right\n",
      "--------------------\n",
      "Federal States are better than unitary nations\n",
      "--------------------\n",
      "Create a UN standing army\n",
      "--------------------\n",
      "We should support enforcing term limits on the executive branch of government\n",
      "--------------------\n",
      "We should detain terror suspects without trial\n",
      "--------------------\n",
      "The world has to ignore North Korean provocations\n",
      "--------------------\n",
      "Allow voting at 16 in European Parliament elections\n",
      "--------------------\n",
      "Have no elections rather than sham elections\n",
      "--------------------\n",
      "US must help in fighting terrorist organisations in Africa\n",
      "--------------------\n",
      "The Western intervention in Libya has been a success\n",
      "--------------------\n",
      "Lesotho should be annexed by South Africa\n",
      "--------------------\n",
      "A move to the left is good for Labour\n",
      "--------------------\n",
      "Islamic State/Daesh is the most significant threat to the west\n",
      "--------------------\n",
      "Death penalty is justified\n",
      "--------------------\n",
      "We must believe in the woman's right to choose\n",
      "--------------------\n",
      "It is sometimes right for the government to restrict freedom of speech\n",
      "--------------------\n",
      "It is a good idea to have a system of  participatory democracy\n",
      "--------------------\n",
      "People should have the right to die\n",
      "--------------------\n",
      "Allow donations of vital organs even at the expense of the donor's life\n",
      "--------------------\n",
      "Important decisions about children’s health should be made by medical professionals and not by their parents\n",
      "--------------------\n",
      "Kill One to Save Many\n",
      "--------------------\n",
      "Capital punishment should be abolished in Africa\n",
      "--------------------\n",
      "Neo-functionalism explains the integration of the European Union\n",
      "--------------------\n",
      "We must all believe in fundamental human rights\n",
      "--------------------\n",
      "Everyone should go vegetarian\n",
      "--------------------\n",
      "Governments should introduce a flat tax\n",
      "--------------------\n",
      "Suicide should be a criminal offence\n",
      "--------------------\n",
      "Remove Bush tax cuts for the wealthy\n",
      "--------------------\n",
      "Governments should unleash the free market\n"
     ]
    },
    {
     "name": "stderr",
     "output_type": "stream",
     "text": [
      "WARNING:ccg_nlpy.core.text_annotation:Creating empty TextAnnotation.\n",
      "ERROR:ccg_nlpy.core.text_annotation:No valid views on empty TextAnnotation.\n"
     ]
    },
    {
     "name": "stdout",
     "output_type": "stream",
     "text": [
      "--------------------\n",
      "Assisted suicide should be legalized\n",
      "--------------------\n",
      "Civil liberties should be sacrificed for the greater good\n",
      "--------------------\n",
      "The right to trial can be limited by jury in some criminal cases\n",
      "--------------------\n",
      "UK would have more influence outside the EU\n",
      "--------------------\n",
      "Leaving the EU would increase British security\n",
      "--------------------\n",
      "UK should have a second Brexit referendum before leaving the EU\n",
      "--------------------\n",
      "We must have weapons inspectors leave Syria\n",
      "--------------------\n",
      "African leaders should be transparent about their health\n",
      "--------------------\n",
      "Launching a military coup against a democratic government can be justified\n",
      "--------------------\n",
      "Russia has the right to send troops into Crimea\n",
      "--------------------\n",
      "Throw Russia out of the G8\n",
      "--------------------\n",
      "It is a good idea to lease Crimea to Russia\n",
      "--------------------\n",
      "The African Union can meet its pledge to end all war on the continent by 2020\n"
     ]
    },
    {
     "name": "stderr",
     "output_type": "stream",
     "text": [
      "WARNING:ccg_nlpy.core.text_annotation:Creating empty TextAnnotation.\n",
      "ERROR:ccg_nlpy.core.text_annotation:No valid views on empty TextAnnotation.\n"
     ]
    },
    {
     "name": "stdout",
     "output_type": "stream",
     "text": [
      "--------------------\n",
      "Ariel Sharon was not tried for war crimes by an international court\n",
      "--------------------\n",
      "Eritrea is responsible for its isolation\n",
      "--------------------\n",
      "The Mo Ibrahim prize encourages good governance\n",
      "--------------------\n",
      "The Egyptian army was right to depose Morsi\n",
      "--------------------\n",
      "Put taxes/revenue from oil into a trust fund independent of politicians influence\n",
      "--------------------\n",
      "The prevalence of ‘African mercenaries’ is decreasing\n",
      "--------------------\n",
      "We must negotiate with terrorists\n",
      "--------------------\n",
      "Individuals who have committed atrocities in the Syrian Civil War should be investigated by the ICC\n",
      "--------------------\n",
      "European Parliament elections should involve only one voting district: all of Europe and not separate country seats\n",
      "--------------------\n",
      "The best way to protect Scottish interests in the EU is to vote for independence\n",
      "--------------------\n",
      "Turkey is not a democracy\n",
      "--------------------\n",
      "NATO has succeeded in Afghanistan\n",
      "--------------------\n",
      "France is right to intervene in Mali\n",
      "--------------------\n",
      "The world has to intervene in Syria to prevent, or respond to, the use of chemical weapons\n",
      "--------------------\n",
      "We must limit anonymous contributions from corporations and individuals to super PACs\n",
      "--------------------\n",
      "Governments should lower the voting age to 16\n",
      "--------------------\n",
      "We must have a criminal DNA database\n",
      "--------------------\n",
      "US must get rid of the double jeopardy rule\n",
      "--------------------\n",
      "We should legalize drugs\n",
      "--------------------\n",
      "Mandatory sentencing is fine.\n",
      "--------------------\n",
      "Hold students legally responsible for bullying if it resulted in the victim's death\n",
      "--------------------\n",
      "Limit prison to violent offenders\n"
     ]
    },
    {
     "name": "stderr",
     "output_type": "stream",
     "text": [
      "WARNING:ccg_nlpy.core.text_annotation:Creating empty TextAnnotation.\n",
      "ERROR:ccg_nlpy.core.text_annotation:No valid views on empty TextAnnotation.\n"
     ]
    },
    {
     "name": "stdout",
     "output_type": "stream",
     "text": [
      "--------------------\n",
      "Fund needle exchanges\n",
      "--------------------\n",
      "Cede control of the Falkland (Malvinas) Islands to Argentina\n",
      "--------------------\n",
      "Criminal justice should focus more on rehabilitation\n",
      "--------------------\n",
      "Disclose previous convictions in court\n",
      "--------------------\n",
      "Treat the desecration and destruction of high-value sites and property of cultural heritage as a crime against humanity\n",
      "--------------------\n",
      "Military action to intervene during atrocities without United Nations Security Council approval can be legal\n",
      "--------------------\n",
      "Create an African Criminal Court\n",
      "--------------------\n",
      "Guinea-Bissau should not let itself be turned in to a front of the US’ \"war on drugs\"\n",
      "--------------------\n",
      "Send Yanukovych to The Hague\n",
      "--------------------\n",
      "The ICC is not an effective deterrent\n",
      "--------------------\n",
      "The ICC is biased against Africa\n",
      "--------------------\n",
      "The Uhuru Kenyatta indictment was an unwelcome interference by the ICC\n",
      "--------------------\n",
      "Prosecutions help the healing process\n",
      "--------------------\n",
      "Post conflict peace cannot be sustained without impartial justice\n",
      "--------------------\n",
      "African states should withdraw from the ICC\n",
      "--------------------\n",
      "The death penalty for the worst of the worst\n",
      "--------------------\n",
      "Government should be required to obtain warrants to access data that can be used to track an individual\n",
      "--------------------\n",
      "Immunity for head of state is a good idea\n",
      "--------------------\n",
      "Criminal trials should not be televised, and the ICC is no exception\n",
      "--------------------\n",
      "The United States should ban assault weapons\n",
      "--------------------\n",
      "We should pull out of the Article 98 Agreements that prevent US soldiers from being sent to the ICC for trial\n",
      "--------------------\n",
      "The ICC should have its own enforcement arm\n"
     ]
    },
    {
     "name": "stderr",
     "output_type": "stream",
     "text": [
      "WARNING:ccg_nlpy.core.text_annotation:Creating empty TextAnnotation.\n",
      "ERROR:ccg_nlpy.core.text_annotation:No valid views on empty TextAnnotation.\n"
     ]
    },
    {
     "name": "stdout",
     "output_type": "stream",
     "text": [
      "--------------------\n",
      "The United States is responsible for Mexico’s drugs war\n",
      "--------------------\n",
      "Media reporting on violent crimes should be restricted\n",
      "--------------------\n",
      "Fines should be made relative to income\n",
      "--------------------\n",
      "Social disgust is legitimate grounds for restriction of artistic expression\n",
      "--------------------\n",
      "Social deprivation causes crime\n",
      "--------------------\n",
      "A legal qualification is worth the cost\n",
      "--------------------\n",
      "It is fine to do random drug-testing in schools\n",
      "--------------------\n",
      "The European Union should lift its ban on member states selling arms to China\n",
      "--------------------\n",
      "We should ban the depiction of smoking in films\n",
      "--------------------\n",
      "We should legalise the growing of coca leaf\n",
      "--------------------\n",
      "Beauty contests should be banned\n",
      "--------------------\n",
      "War criminals should be prosecuted\n",
      "--------------------\n",
      "The Schengen Agreement must be dissolved\n",
      "--------------------\n",
      "The US should have done more for Darfur\n",
      "--------------------\n",
      "The Guantanamo Bay detention centre should be closed\n",
      "--------------------\n",
      "Sadomasochism must be decriminalized\n",
      "--------------------\n",
      "That Israel’s West Bank Settlements are an Obstacle to Peace\n",
      "--------------------\n",
      "The ttibet should be an independent state\n",
      "--------------------\n",
      "We should believe in corporal punishment for adult offenders\n",
      "--------------------\n",
      "Attorney-client privilege should be abolished\n",
      "--------------------\n",
      "Arming the police is a good idea\n",
      "--------------------\n",
      "Place Cameras in Courtrooms to Televise Court Cases\n",
      "--------------------\n",
      "The United Nations has a responsibility to protect.\n",
      "--------------------\n",
      "Sanctions should be used to promote democracy\n",
      "--------------------\n",
      "Abolish the security council veto\n",
      "--------------------\n",
      "Long term cooperation between Russia and the United States is possible.\n",
      "--------------------\n",
      "NATO countries and the government of Afghanistan should negotiate a power-sharing deal with the Taliban\n",
      "--------------------\n",
      "The world should re-engage with Myanmar\n"
     ]
    },
    {
     "name": "stderr",
     "output_type": "stream",
     "text": [
      "WARNING:ccg_nlpy.core.text_annotation:Creating empty TextAnnotation.\n",
      "ERROR:ccg_nlpy.core.text_annotation:No valid views on empty TextAnnotation.\n"
     ]
    },
    {
     "name": "stdout",
     "output_type": "stream",
     "text": [
      "--------------------\n",
      "Obama was right to agree to meet rogue leaders without preconditions\n",
      "--------------------\n",
      "Europe should be federal\n",
      "--------------------\n",
      "We should end western states' control over the International Monetary Fund\n",
      "--------------------\n",
      "We should support the creation of a Free Trade Area of the Americas\n",
      "--------------------\n",
      "The Palestinian Statehood should be recognised by the United Nations General Assembly\n",
      "--------------------\n",
      "The integration of Africa through the African Union can succeed\n",
      "--------------------\n",
      "We should give cash to the poor to reduce poverty\n",
      "--------------------\n",
      "Take a visit the Yasukuni Shrine\n",
      "--------------------\n",
      "Dictatorship is the best path to development\n",
      "--------------------\n",
      "Build the Grand Inga Dam\n",
      "--------------------\n",
      "The African Union should create a standing army\n",
      "--------------------\n",
      "Ethiopia is right to build a dam on the River Nile\n",
      "--------------------\n",
      "Africa is really rising\n",
      "--------------------\n",
      "Create an international treaty/ban on cyber-attacks\n",
      "--------------------\n",
      "The US and Israel should join the International Criminal Court\n",
      "--------------------\n",
      "The EU should abandon the Common Agricultural Policy\n",
      "--------------------\n",
      "All veto powers of individual EU member states must be lifted\n",
      "--------------------\n",
      "The European Union should be a trade bloc rather than a political union\n",
      "--------------------\n",
      "Stop sending development aid to India\n",
      "--------------------\n",
      "The world must arm the Syrian rebels\n",
      "--------------------\n",
      "News organisations should be free to exclude news of homosexuality where it causes offence to their viewers\n"
     ]
    },
    {
     "name": "stderr",
     "output_type": "stream",
     "text": [
      "WARNING:ccg_nlpy.core.text_annotation:Creating empty TextAnnotation.\n",
      "ERROR:ccg_nlpy.core.text_annotation:No valid views on empty TextAnnotation.\n"
     ]
    },
    {
     "name": "stdout",
     "output_type": "stream",
     "text": [
      "--------------------\n",
      "We must support the admission of Turkey to the EU\n",
      "--------------------\n",
      "The EU should engage in further enlargement\n",
      "--------------------\n",
      "Israel should return to its pre-1967 borders\n",
      "--------------------\n",
      "The world should intervene to prevent the collapse of the state in other countries\n",
      "--------------------\n",
      "The United Nations has failed\n",
      "--------------------\n",
      "Former colonial powers should pay reparations to former colonies\n",
      "--------------------\n",
      "We should expand NATO\n",
      "--------------------\n",
      "Europe still needs a constitution\n",
      "--------------------\n",
      "We believe in world government\n",
      "--------------------\n",
      "Jerusalem should be divided\n",
      "--------------------\n",
      "Offshoring is a good idea\n",
      "--------------------\n",
      "It is a good idea to build the Keystone XL pipeline\n",
      "--------------------\n",
      "We should drop the sanctions against Cuba.\n",
      "--------------------\n",
      "Britain should give up its EU rebate\n",
      "--------------------\n",
      "Switzerland and Norway should apply to join the EU\n",
      "--------------------\n",
      "The European Union should adopt a single working language through which to operate.\n"
     ]
    },
    {
     "name": "stderr",
     "output_type": "stream",
     "text": [
      "WARNING:ccg_nlpy.core.text_annotation:Creating empty TextAnnotation.\n",
      "ERROR:ccg_nlpy.core.text_annotation:No valid views on empty TextAnnotation.\n"
     ]
    },
    {
     "name": "stdout",
     "output_type": "stream",
     "text": [
      "--------------------\n",
      "The European Parliament should be the sovereign law-making body of Eurozone states\n",
      "--------------------\n",
      "In the conflict between Israel and Palestine, a two-state solution is better justified than a one-state solution\n",
      "--------------------\n",
      "You should always suspend directly delivered foreign development aid\n",
      "--------------------\n",
      "The United States is a ‘benign’ hegemon\n",
      "--------------------\n",
      "The United Nations budget must be frozen\n",
      "--------------------\n",
      "Grant the EU a permanent seat on the UN Security Council\n",
      "--------------------\n",
      "As the developed world, we must fund African climate adaptation\n",
      "--------------------\n",
      "Private sector involvement is necessary to improve healthcare in Africa\n"
     ]
    },
    {
     "name": "stderr",
     "output_type": "stream",
     "text": [
      "WARNING:ccg_nlpy.core.text_annotation:Creating empty TextAnnotation.\n",
      "ERROR:ccg_nlpy.core.text_annotation:No valid views on empty TextAnnotation.\n"
     ]
    },
    {
     "name": "stdout",
     "output_type": "stream",
     "text": [
      "--------------------\n",
      "We should provide access to microfinance for the ‘unbanked’\n",
      "--------------------\n",
      "The UN intervention in the Democratic Republic of Congo has been a success\n",
      "--------------------\n",
      "Men are the key to family planning in Uganda\n",
      "--------------------\n",
      "Governments must be encouraged to implement an ‘open sky’ agreement within Africa\n",
      "--------------------\n",
      "Ghana’s ban on smoking in public places is a model for Africa\n",
      "--------------------\n",
      "The outcome of the Paris Climate Conference needs to be an international treaty with binding emission cuts\n",
      "--------------------\n",
      "Deny Organs to Non-Donors\n",
      "--------------------\n",
      "Promote safe sex through education at schools\n"
     ]
    },
    {
     "name": "stderr",
     "output_type": "stream",
     "text": [
      "WARNING:ccg_nlpy.core.text_annotation:Creating empty TextAnnotation.\n",
      "ERROR:ccg_nlpy.core.text_annotation:No valid views on empty TextAnnotation.\n"
     ]
    },
    {
     "name": "stdout",
     "output_type": "stream",
     "text": [
      "--------------------\n",
      "Require the provision of cannabis in any state funded medical program\n",
      "--------------------\n",
      "Labels on food must be mandated to encourage people to eat better\n",
      "--------------------\n",
      "Introduce a “fat tax”\n",
      "--------------------\n",
      "Provide breakfast for all school students\n",
      "--------------------\n",
      "Airbrushing of women’s bodies in the media be banned\n",
      "--------------------\n",
      "New York City has the right to regulate the size of sodas bought on the market\n",
      "--------------------\n",
      "We must ban the promotion of diets\n",
      "--------------------\n",
      "Alternative medicine poses a threat to public health\n",
      "--------------------\n",
      "There mut be a system of universal healthcare\n",
      "--------------------\n",
      "Ban the use of trans fats in food stuffs\n",
      "--------------------\n",
      "Allow pharmaceutical companies to advertise directly to consumers\n",
      "--------------------\n",
      "Employees Should Be Compelled To Disclose Their HIV Status to Employers\n",
      "--------------------\n",
      "Multiple Vaccines Safe\n",
      "--------------------\n",
      "Ban alcohol\n",
      "--------------------\n",
      "Lmplement A Fat Tax\n",
      "--------------------\n",
      "Ban junk food from schools\n",
      "--------------------\n",
      "A ‘wall’ on the shared USA and Mexico border would be ineffective\n",
      "--------------------\n",
      "African nations should ban the sale of skin whitening creams, and similar products\n",
      "--------------------\n",
      "Women are the key to Africa’s economic future\n"
     ]
    },
    {
     "name": "stderr",
     "output_type": "stream",
     "text": [
      "WARNING:ccg_nlpy.core.text_annotation:Creating empty TextAnnotation.\n",
      "ERROR:ccg_nlpy.core.text_annotation:No valid views on empty TextAnnotation.\n"
     ]
    },
    {
     "name": "stdout",
     "output_type": "stream",
     "text": [
      "--------------------\n",
      "Cape Verde’s regional future lies with Europe, not Africa\n",
      "--------------------\n",
      "The Seychelles should buy territory and relocate due to climate change\n"
     ]
    },
    {
     "name": "stderr",
     "output_type": "stream",
     "text": [
      "WARNING:ccg_nlpy.core.text_annotation:Creating empty TextAnnotation.\n",
      "ERROR:ccg_nlpy.core.text_annotation:No valid views on empty TextAnnotation.\n"
     ]
    },
    {
     "name": "stdout",
     "output_type": "stream",
     "text": [
      "--------------------\n",
      "Limited press and speech freedom will hinder progress in Rwanda\n",
      "--------------------\n",
      "Sao Tome would drop relations with Taiwan in favour of Mainland China\n",
      "--------------------\n",
      "Widen the East African Community\n",
      "--------------------\n",
      "Spain should cede Ceuta and Melilla to Morocco\n",
      "--------------------\n",
      "Implent the Virtual Doctor Project in Zambia\n"
     ]
    },
    {
     "name": "stderr",
     "output_type": "stream",
     "text": [
      "WARNING:ccg_nlpy.core.text_annotation:Creating empty TextAnnotation.\n",
      "ERROR:ccg_nlpy.core.text_annotation:No valid views on empty TextAnnotation.\n"
     ]
    },
    {
     "name": "stdout",
     "output_type": "stream",
     "text": [
      "--------------------\n",
      "Tunisia should not rely on tourism for economic growth\n",
      "--------------------\n",
      "The Chagos Islands must be returned to Mauritius\n",
      "--------------------\n",
      "The lack of investment in teachers is the greatest barrier to achieving universal primary education\n",
      "--------------------\n",
      "Nollywood could be an effective instrument to change perceptions of Africa\n",
      "--------------------\n",
      "African governments must implement tougher protections for animals\n",
      "--------------------\n",
      "Africans are worse off due to natural resources\n",
      "--------------------\n",
      "African borders must be redefined to reflect ethnic groups\n",
      "--------------------\n",
      "A permanent UNSC seat with veto power must be reserved to an African country\n",
      "--------------------\n",
      "Legalize sex work in order to make controls more feasible and effective to combat HIV/AIDS\n",
      "--------------------\n",
      "Julian Assange is a journalist\n",
      "--------------------\n",
      "Freedom of expression is more important than religious sensitivities\n",
      "--------------------\n",
      "A nation's history and mythology is part of its national security\n",
      "--------------------\n",
      "The expenditure of money should be protected as speech\n",
      "--------------------\n",
      "Store nuclear waste underground\n",
      "--------------------\n",
      "A cap-and-trade system is preferable to a carbon tax in reducing carbon emissions\n"
     ]
    },
    {
     "name": "stderr",
     "output_type": "stream",
     "text": [
      "WARNING:ccg_nlpy.core.text_annotation:Creating empty TextAnnotation.\n",
      "ERROR:ccg_nlpy.core.text_annotation:No valid views on empty TextAnnotation.\n"
     ]
    },
    {
     "name": "stdout",
     "output_type": "stream",
     "text": [
      "--------------------\n",
      "The EU should abandon nuclear energy\n",
      "--------------------\n",
      "Adaptation should be the most urgent response to Climate Change\n",
      "--------------------\n",
      "School uniforms must be banned\n",
      "--------------------\n",
      "The payment of welfare benefits to parents should be tied to their children's school attendance records\n",
      "--------------------\n",
      "Vaccination must be made compulsory\n",
      "--------------------\n",
      "Introduce year round schooling\n",
      "--------------------\n",
      "Abolish standardized tests for University Admission\n",
      "--------------------\n",
      "Degrees in the creative arts are luxuries society can no longer afford\n",
      "--------------------\n",
      "Raise the school leaving age to 18\n",
      "--------------------\n",
      "Encourage fewer people to go to university\n"
     ]
    },
    {
     "name": "stderr",
     "output_type": "stream",
     "text": [
      "WARNING:ccg_nlpy.core.text_annotation:Creating empty TextAnnotation.\n",
      "ERROR:ccg_nlpy.core.text_annotation:No valid views on empty TextAnnotation.\n"
     ]
    },
    {
     "name": "stdout",
     "output_type": "stream",
     "text": [
      "--------------------\n",
      "Mathematics should not be a compulsory subject in schools.\n",
      "--------------------\n",
      "Homework is a waste of time\n",
      "--------------------\n",
      "Poetry should not be taught in schools\n",
      "--------------------\n",
      "Provision of higher education must be funded by taxing graduates\n",
      "--------------------\n",
      "Fund education using a voucher scheme\n",
      "--------------------\n",
      "Parents should be held responsible for their school-going children's discipline problems\n",
      "--------------------\n",
      "Make lessons in a foreign language compulsory for school pupils\n",
      "--------------------\n",
      "People should have a right to private education\n",
      "--------------------\n",
      "Raise The School Leaving Age To 18\n",
      "--------------------\n",
      "Make sex education mandatory in schools\n",
      "--------------------\n",
      "Ban homework\n",
      "--------------------\n",
      "Build a third Heathrow runway to maintain its position as a hub airport\n",
      "--------------------\n",
      "Ban the slaughter of animals which have not been stunned first\n",
      "--------------------\n",
      "Cease the exploitation of the Arctic Region\n",
      "--------------------\n",
      "Ban the use of animals as objects of sport and entertainment\n",
      "--------------------\n",
      "Build hydroelectric dams\n",
      "--------------------\n",
      "Wind power should be a primary focus of future energy supply.\n",
      "--------------------\n",
      "Store nuclear waste underground\n",
      "--------------------\n",
      "Invest in Renewable Technologies rather than Nuclear Power\n",
      "--------------------\n",
      "Endangered species should be protected\n",
      "--------------------\n",
      "Community radio is good for democracy\n",
      "--------------------\n",
      "‘The Spear’ should have remained on public display.\n",
      "--------------------\n",
      "Tennessee is correct to protect teachers who wish to explore the merits of creationism\n",
      "--------------------\n",
      "Allow biased versions of history to be taught in schools\n",
      "--------------------\n",
      "Show the darker side of the formation of the nation\n"
     ]
    },
    {
     "name": "stderr",
     "output_type": "stream",
     "text": [
      "WARNING:ccg_nlpy.core.text_annotation:Creating empty TextAnnotation.\n",
      "ERROR:ccg_nlpy.core.text_annotation:No valid views on empty TextAnnotation.\n"
     ]
    },
    {
     "name": "stdout",
     "output_type": "stream",
     "text": [
      "--------------------\n",
      "Rumours about politicians should not be reported\n",
      "--------------------\n",
      "The imprisoned members of Pussy Riot should be considered political prisoners\n",
      "--------------------\n",
      "Limit the free speech rights of corporations that are granted legal personhood\n",
      "--------------------\n",
      "Western universities should only place satellites in states that respect free speech\n",
      "--------------------\n",
      "The decision of the state of Bavaria to publish Mein Kampf\n",
      "--------------------\n",
      "Protect braille out of respect for free speech\n",
      "--------------------\n",
      "Penalise religious hate speech\n",
      "--------------------\n",
      "Allow celebrities to switch off the limelight\n",
      "--------------------\n",
      "Defending the enemies of one's nation is legitimate free speech\n",
      "--------------------\n",
      "We believe in the right to reply\n",
      "--------------------\n",
      "Blasphemy has no place on the statute books\n",
      "--------------------\n",
      "Christians should be allowed to wear the Cross at work\n",
      "--------------------\n",
      "University education should be free\n",
      "--------------------\n",
      "Prohibit retailers from selling certain items at a loss as a marketing device.\n",
      "--------------------\n",
      "Pay state school teachers based on merit\n",
      "--------------------\n",
      "Prioritize eliminating the budget deficit over increasing domestic spending\n",
      "--------------------\n",
      "Institute a mandatory retirement age\n",
      "--------------------\n",
      "Abolish collective bargaining rights for unions\n",
      "--------------------\n",
      "Replace aid with remittances\n",
      "--------------------\n",
      "EU member states should guarantee people under 25 a temporary workplace when they have been unemployed for six months\n",
      "--------------------\n",
      "The UK would be better off economically outside the European Union\n",
      "--------------------\n",
      "Make the raising of business and labour standards a prerequisite for developmental aid\n",
      "--------------------\n",
      "We should encourage building the Hyperloop\n",
      "--------------------\n",
      "Subsidize poor communities\n",
      "--------------------\n",
      "Any society must have a national minimum wage\n",
      "--------------------\n",
      "Pass the American Jobs Act\n",
      "--------------------\n",
      "Create a National High Speed Rail System in the U.S.\n",
      "--------------------\n",
      "Act to regulate the activities of Sovereign Wealth Funds\n",
      "--------------------\n",
      "There must be a progressive tax rate\n",
      "--------------------\n",
      "Allow retailers to import for resale \"grey\" goods from abroad.\n",
      "--------------------\n",
      "We should make education compulsory to degree level\n",
      "--------------------\n",
      "Compensation should be paid for those who have had their culture appropriated\n",
      "--------------------\n",
      "Violent Video Games Contribute to Youth Violence\n",
      "--------------------\n",
      "Golf is a Sport\n",
      "--------------------\n",
      "The United States should continue Its use of drone strikes abroad\n",
      "--------------------\n",
      "Abortion should be legal\n",
      "--------------------\n",
      "Any vaccines should be required for children\n",
      "--------------------\n",
      "Social Security should be privatized \n",
      "--------------------\n",
      "Gay marriage should be legal\n",
      "--------------------\n",
      "The D.A.R.E. program is good for America's kids (K-12) \n",
      "--------------------\n",
      "It is appropriate to build a muslim community center (aka the ''Ground Zero Mosque'') near the World Trade Center site \n",
      "--------------------\n",
      "Teachers should get tenure\n",
      "--------------------\n",
      "Prescription drugs should be advertised directly to consumers\n",
      "--------------------\n",
      "Ronald Reagan was a good president\n",
      "--------------------\n",
      "All Americans should have the right (be entitled) to health care\n",
      "--------------------\n",
      "Obesity is a disease\n",
      "--------------------\n",
      "The federal minimum wage should be increased\n",
      "--------------------\n",
      "Lowering the federal corporate income tax rate does create jobs\n",
      "--------------------\n",
      " College education is worth it\n",
      "--------------------\n",
      "Animals should be used for scientific or commercial testing\n",
      "--------------------\n",
      "Adults should have the right to carry a concealed handgun\n",
      "--------------------\n",
      "People should become vegetarian\n",
      "--------------------\n",
      "Churches should (defined as churches, temples, mosques, synagogues, etc.) remain tax-exempt\n"
     ]
    },
    {
     "name": "stderr",
     "output_type": "stream",
     "text": [
      "WARNING:ccg_nlpy.core.text_annotation:Creating empty TextAnnotation.\n",
      "ERROR:ccg_nlpy.core.text_annotation:No valid views on empty TextAnnotation.\n"
     ]
    },
    {
     "name": "stdout",
     "output_type": "stream",
     "text": [
      "--------------------\n",
      "The use of standardized tests is improving education in America\n",
      "--------------------\n",
      "Tablets should replace textbooks in K-12 schools\n",
      "--------------------\n",
      "Social networking sites are good for our society\n",
      "--------------------\n",
      "Students should have to wear school uniforms\n",
      "--------------------\n",
      "Recreational marijuana should be legal\n",
      "--------------------\n",
      "Bill Clinton was a good president\n",
      "--------------------\n",
      "More gun control laws should be enacted\n",
      "--------------------\n",
      "The United States return to a gold standard\n",
      "--------------------\n",
      "The drinking age should be lowered from 21 to a younger age\n",
      "--------------------\n",
      "College football should replace the bowl championship series (BCS)\n",
      "--------------------\n",
      "The United States should maintain its embargo against Cuba\n",
      "--------------------\n",
      "Human activity is primarily responsible for global climate change\n",
      "--------------------\n",
      "Cell phone radiation is safe\n",
      "--------------------\n",
      "We should support universal basic income\n",
      "--------------------\n",
      "Student loan debt should be easier to discharge in bankruptcy\n",
      "--------------------\n",
      "School vouchers should be encouraged\n",
      "--------------------\n",
      "The penny should stay in circulation\n",
      "--------------------\n",
      "Net neutrality should be restored\n",
      "--------------------\n",
      "Homework is beneficial\n",
      "--------------------\n",
      "Bottled water should be banned\n",
      "--------------------\n",
      "Sanctuary cities are beneficial\n",
      "--------------------\n",
      "Police body cameras should be allowed\n",
      "--------------------\n",
      "Hosting the Olympic Games is beneficial\n",
      "--------------------\n",
      "Refusing to stand for the National Anthem is an appropriate form of protest.\n",
      "--------------------\n",
      "Fighting should be allowed in hockey.\n",
      "--------------------\n",
      "The United States should use the electoral college in presidential elections.\n",
      "--------------------\n",
      "The United States should keep daylight saving time.\n",
      "--------------------\n",
      "Corporal punishment be used in K-12 schools.\n",
      "--------------------\n",
      "Parents or other adults should be able to ban books from schools and libraries.\n",
      "--------------------\n",
      "There Should be a Minimum Weight Limit For Professional Models\n",
      "--------------------\n",
      "Commercialization of Festivals and Holidays Has Eroded Their Real Significance\n",
      "--------------------\n",
      "The money we spend on our Olympic medal count is money well spent\n",
      "--------------------\n",
      "Google is the extremely reliable source of information\n",
      "--------------------\n",
      "Companies should provide alternative interview methods\n",
      "--------------------\n",
      "Use and Misuse of Internet\n",
      "--------------------\n",
      "The balance of power in Europe in the eighteenth century was destroying itself\n",
      "--------------------\n",
      "Women should be allowed on the front line\n",
      "--------------------\n",
      "Genetics is a defence to murder\n",
      "--------------------\n",
      "A government has the obligation to lessen the economic gap between its rich and poor citizens\n",
      "--------------------\n",
      "Hillary Clinton would make a better president for America\n",
      "--------------------\n",
      "Public Transport Should Be Free\n",
      "--------------------\n",
      "The health benefits of genetically modified foods outweigh their risks\n",
      "--------------------\n",
      "Affirmative Action in South Africa does more harm than good\n",
      "--------------------\n",
      "1-child policy for every single country in the world!\n",
      "--------------------\n",
      "It is morally permissible for victims to use deadly force as a deliberate response to repeated domestic violence\n",
      "--------------------\n",
      "We should build new nuclear power plants\n",
      "--------------------\n",
      "All patents should be removed on anti-retroviral drugs to fight AIDS\n",
      "--------------------\n",
      "University education needs to be capped and more selective\n",
      "--------------------\n",
      "Civil Disobedience Can Be Justified\n",
      "--------------------\n",
      "The Falklands should be given back to Argentina\n",
      "--------------------\n",
      "States ought not possess nuclear weapons\n",
      "--------------------\n",
      "The voting age should be lowered to 16\n",
      "--------------------\n",
      "Should Turkey Be Accepted In The EU\n",
      "--------------------\n",
      "Persistent Bullies Should be Expelled\n",
      "--------------------\n",
      "Strict parenting works best\n",
      "--------------------\n",
      "Should the Cell Phones Be Allowed in Schools\n"
     ]
    },
    {
     "name": "stderr",
     "output_type": "stream",
     "text": [
      "WARNING:ccg_nlpy.core.text_annotation:Creating empty TextAnnotation.\n",
      "ERROR:ccg_nlpy.core.text_annotation:No valid views on empty TextAnnotation.\n"
     ]
    },
    {
     "name": "stdout",
     "output_type": "stream",
     "text": [
      "--------------------\n",
      "The Prohibition of drugs doesn’t work\n",
      "--------------------\n",
      "Examinations are a fair way of testing our knowledge\n",
      "--------------------\n",
      "School Uniforms Should Be Mandatory\n",
      "--------------------\n",
      "People should lose their jobs for saying the wrong thing\n",
      "--------------------\n",
      "Wikileaks is not and has never been a non-profit organization\n"
     ]
    },
    {
     "name": "stderr",
     "output_type": "stream",
     "text": [
      "WARNING:ccg_nlpy.core.text_annotation:Creating empty TextAnnotation.\n",
      "ERROR:ccg_nlpy.core.text_annotation:No valid views on empty TextAnnotation.\n"
     ]
    },
    {
     "name": "stdout",
     "output_type": "stream",
     "text": [
      "--------------------\n",
      "Baby ear piercing should be banned\n",
      "--------------------\n",
      "Japan needs US military bases\n"
     ]
    },
    {
     "name": "stderr",
     "output_type": "stream",
     "text": [
      "WARNING:ccg_nlpy.core.text_annotation:Creating empty TextAnnotation.\n",
      "ERROR:ccg_nlpy.core.text_annotation:No valid views on empty TextAnnotation.\n"
     ]
    },
    {
     "name": "stdout",
     "output_type": "stream",
     "text": [
      "--------------------\n",
      "Should Abortion Be Further Restricted Or Banned Completely\n",
      "--------------------\n",
      "We should be investing in public transport\n",
      "--------------------\n",
      "Power only has two dimensions\n",
      "--------------------\n",
      "Same sex relationships should have the same legal status as heterosexual relationships under EU law\n",
      "--------------------\n",
      "The Spread of Nuclear Weapons: More may be better\n",
      "--------------------\n",
      "We should abolish speed cameras\n",
      "--------------------\n",
      "16 year olds should be able to vote at presidental elections\n",
      "--------------------\n",
      "Mossad should carry out extrajudicial killings\n"
     ]
    },
    {
     "name": "stderr",
     "output_type": "stream",
     "text": [
      "WARNING:ccg_nlpy.core.text_annotation:Creating empty TextAnnotation.\n",
      "ERROR:ccg_nlpy.core.text_annotation:No valid views on empty TextAnnotation.\n",
      "WARNING:ccg_nlpy.core.text_annotation:Creating empty TextAnnotation.\n",
      "ERROR:ccg_nlpy.core.text_annotation:No valid views on empty TextAnnotation.\n"
     ]
    },
    {
     "name": "stdout",
     "output_type": "stream",
     "text": [
      "--------------------\n",
      "International Adoption should be banned\n",
      "--------------------\n",
      "Google knows too much about us\n",
      "--------------------\n",
      "Positive Discrimination Towards Women in Society Is Justified\n",
      "--------------------\n",
      "Gorbachev Was Responsible for The Collapse Of The USSR\n",
      "--------------------\n",
      "Hacking Can Be Justified\n",
      "--------------------\n",
      "Less time outdoors is severely detrimental to the physical and emotional wellbeing of children\n",
      "--------------------\n",
      "China should be allowed more control over its own seas\n",
      "--------------------\n",
      "The breeding of white tigers in captivity should be banned\n",
      "--------------------\n",
      "Children should be allowed to have facebook accounts\n",
      "--------------------\n",
      "Animals should be kept in zoos\n",
      "--------------------\n",
      "Military recruiting in schools\n",
      "--------------------\n",
      "International students are charged unfairly high tuition fees at UK universities\n",
      "--------------------\n",
      "Science can determine human values\n",
      "--------------------\n",
      "All evidence gathered by intelligence agencies should be admissible in courts of law\n",
      "--------------------\n",
      "Historical Artefacts Should Be Repatriated to Their Country of Origin\n",
      "--------------------\n",
      "Music should be free for all\n",
      "--------------------\n",
      "The teaching of Shakespeare should be compulsory\n"
     ]
    },
    {
     "name": "stderr",
     "output_type": "stream",
     "text": [
      "WARNING:ccg_nlpy.core.text_annotation:Creating empty TextAnnotation.\n",
      "ERROR:ccg_nlpy.core.text_annotation:No valid views on empty TextAnnotation.\n"
     ]
    },
    {
     "name": "stdout",
     "output_type": "stream",
     "text": [
      "--------------------\n",
      "Tax cuts, not government spending, are the best way out of recession\n",
      "--------------------\n",
      "Books should have content warnings\n",
      "--------------------\n",
      "Mexican culture was incurably damaged by the introduction of Christianity\n",
      "--------------------\n",
      "The Death Penalty Should Be Imposed For Acts Of Terror That Cause Death\n",
      "--------------------\n",
      "Housewives Are More Responsible Mothers Than Working Women\n",
      "--------------------\n",
      "Public high school students in the United States ought not be required to pass standardized exit exams to graduate\n",
      "--------------------\n",
      "Prescription drugs are overpriced\n",
      "--------------------\n",
      "Terrorists should be subject to the Geneva Conventions\n",
      "--------------------\n",
      "Mixed Martial Arts (UFC) is a form of human cockfighting\n",
      "--------------------\n",
      "Socialism is a failed government subdomain\n"
     ]
    },
    {
     "name": "stderr",
     "output_type": "stream",
     "text": [
      "WARNING:ccg_nlpy.core.text_annotation:Creating empty TextAnnotation.\n",
      "ERROR:ccg_nlpy.core.text_annotation:No valid views on empty TextAnnotation.\n"
     ]
    },
    {
     "name": "stdout",
     "output_type": "stream",
     "text": [
      "--------------------\n",
      "Direct vs. Representative Democracy\n",
      "--------------------\n",
      "Inheritance tax should be raised to 100% for everyone born in the UK\n",
      "--------------------\n",
      "British atrocities: The Blood Never Dried\n",
      "--------------------\n",
      "America should have universal healthcare\n",
      "--------------------\n",
      "Reality TV has gone too far\n",
      "--------------------\n",
      "Parents should have the right to do background checks on those looking after their children\n",
      "--------------------\n",
      "Unilateral nuclear disarmament is the best way to create a safer world\n",
      "--------------------\n",
      "Any job is better than no job\n",
      "--------------------\n",
      "The world should go vegan\n",
      "--------------------\n",
      "Capitalism is creating an expanding gap between the rich and the poor\n",
      "--------------------\n",
      "Maths should be a compulsory subject at GCSE\n",
      "--------------------\n",
      "There should be video replays for refs in football\n",
      "--------------------\n",
      "Aid is killing Africa\n",
      "--------------------\n",
      "It is time to stop buying bottled water\n",
      "--------------------\n",
      "Money Is the Root of All Evil\n",
      "--------------------\n",
      "The civil procedure rules allow for a ‘fair trial’\n",
      "--------------------\n",
      "Illegal downloaders should be cut off from the internet\n",
      "--------------------\n",
      "A celebrity would make a good minister\n",
      "--------------------\n",
      "Children should be banned from watching shows that contain violence and other adult contents\n",
      "--------------------\n",
      "Voting should be compulsory in the UK\n",
      "--------------------\n",
      "The Catholic Church needs reform\n"
     ]
    },
    {
     "name": "stderr",
     "output_type": "stream",
     "text": [
      "WARNING:ccg_nlpy.core.text_annotation:Creating empty TextAnnotation.\n",
      "ERROR:ccg_nlpy.core.text_annotation:No valid views on empty TextAnnotation.\n"
     ]
    },
    {
     "name": "stdout",
     "output_type": "stream",
     "text": [
      "--------------------\n",
      "Books vs TV. TV wins.\n",
      "--------------------\n",
      "Cheap Flights Do more Harm Than Good\n",
      "--------------------\n",
      "Accessing your spouse’s email account hacking\n",
      "--------------------\n",
      "Animals have a right to privacy\n"
     ]
    },
    {
     "name": "stderr",
     "output_type": "stream",
     "text": [
      "WARNING:ccg_nlpy.core.text_annotation:Creating empty TextAnnotation.\n",
      "ERROR:ccg_nlpy.core.text_annotation:No valid views on empty TextAnnotation.\n"
     ]
    },
    {
     "name": "stdout",
     "output_type": "stream",
     "text": [
      "--------------------\n",
      "People who plea guilty early should receive more lenient sentences\n",
      "--------------------\n",
      "Man made climate change is a myth\n",
      "--------------------\n",
      "Swearing should be illegal\n",
      "--------------------\n",
      "Everyone Should Automatically Be Opted into an Organ Donation Scheme\n",
      "--------------------\n",
      "Sports initiations should be banned\n",
      "--------------------\n",
      "Britain should scrap the monarchy\n",
      "--------------------\n",
      "Improving access to contraception will lower the number of teenage pregnancies\n",
      "--------------------\n",
      "Too much importance is placed upon correct spelling and grammar\n",
      "--------------------\n",
      "Liberal democracies are better at providing people’s needs than non-democracies.\n",
      "--------------------\n",
      "Does Mother Nature rule the world\n",
      "--------------------\n",
      "We should ban the church of scientology\n",
      "--------------------\n",
      "The US and its allies were justified in taking military action against Iraq following Iraq’s invasion of Kuwait\n"
     ]
    },
    {
     "name": "stderr",
     "output_type": "stream",
     "text": [
      "WARNING:ccg_nlpy.core.text_annotation:Creating empty TextAnnotation.\n",
      "ERROR:ccg_nlpy.core.text_annotation:No valid views on empty TextAnnotation.\n"
     ]
    },
    {
     "name": "stdout",
     "output_type": "stream",
     "text": [
      "--------------------\n",
      "This House Would Arrest Batman\n",
      "--------------------\n",
      "G20 protests – at best a waste of time, at worst a dangerous disruption\n",
      "--------------------\n",
      "It is selfish to have more than two children\n",
      "--------------------\n",
      "Only buildings that are historically important should be preserved\n",
      "--------------------\n",
      "Tuition Fees Should Be Increased\n"
     ]
    },
    {
     "name": "stderr",
     "output_type": "stream",
     "text": [
      "WARNING:ccg_nlpy.core.text_annotation:Creating empty TextAnnotation.\n",
      "ERROR:ccg_nlpy.core.text_annotation:No valid views on empty TextAnnotation.\n"
     ]
    },
    {
     "name": "stdout",
     "output_type": "stream",
     "text": [
      "--------------------\n",
      "Absolute Monarchy was Limited Monarchy\n",
      "--------------------\n",
      "The EU should return power to national governments\n",
      "--------------------\n",
      "The United States was correct in going to war against North Korea in support of their territory of South Korea.\n"
     ]
    },
    {
     "name": "stderr",
     "output_type": "stream",
     "text": [
      "WARNING:ccg_nlpy.core.text_annotation:Creating empty TextAnnotation.\n",
      "ERROR:ccg_nlpy.core.text_annotation:No valid views on empty TextAnnotation.\n"
     ]
    },
    {
     "name": "stdout",
     "output_type": "stream",
     "text": [
      "--------------------\n",
      "Discipline In Schools Needs To Be Improved\n",
      "--------------------\n",
      "Deny Organ Transplants from People Not Registered as Donors\n",
      "--------------------\n",
      "The United States’ role in the Vietnam War was an unnecessary step in the fight against communism.\n"
     ]
    },
    {
     "name": "stderr",
     "output_type": "stream",
     "text": [
      "WARNING:ccg_nlpy.core.text_annotation:Creating empty TextAnnotation.\n",
      "ERROR:ccg_nlpy.core.text_annotation:No valid views on empty TextAnnotation.\n",
      "WARNING:ccg_nlpy.core.text_annotation:Creating empty TextAnnotation.\n",
      "ERROR:ccg_nlpy.core.text_annotation:No valid views on empty TextAnnotation.\n"
     ]
    },
    {
     "name": "stdout",
     "output_type": "stream",
     "text": [
      "--------------------\n",
      "Children should be seen and not heard\n",
      "--------------------\n",
      "Rail travel is the best mode of transport for the future\n",
      "--------------------\n",
      "The national curriculum should be scrapped\n"
     ]
    },
    {
     "name": "stderr",
     "output_type": "stream",
     "text": [
      "WARNING:ccg_nlpy.core.text_annotation:Creating empty TextAnnotation.\n",
      "ERROR:ccg_nlpy.core.text_annotation:No valid views on empty TextAnnotation.\n"
     ]
    },
    {
     "name": "stdout",
     "output_type": "stream",
     "text": [
      "--------------------\n",
      "Should The Burning Of Holy Books Be Banned\n",
      "--------------------\n",
      "Wind farms are a good solution to the energy crisis\n",
      "--------------------\n",
      "All our actions are determined in some way\n",
      "--------------------\n",
      "It should be compulsory for all mothers to breastfeed for the first six months of their babies lives\n",
      "--------------------\n",
      "The grammar school system should be reintroduced in the UK\n",
      "--------------------\n",
      "Slang prevent young people from being able to communicate properly\n",
      "--------------------\n",
      "The EU should significantly reduce the amount it spends on agricultural production subsidies\n",
      "--------------------\n",
      "Sikh school pupils should be allowed to carry ceremonial daggers\n",
      "--------------------\n",
      "Joe Calzaghe deserves to be recognized as one of the greatest boxers of all time\n",
      "--------------------\n",
      "PHILOSOPHY – Utilitarianism isn’t as fair as it initially seems\n"
     ]
    },
    {
     "name": "stderr",
     "output_type": "stream",
     "text": [
      "WARNING:ccg_nlpy.core.text_annotation:Creating empty TextAnnotation.\n",
      "ERROR:ccg_nlpy.core.text_annotation:No valid views on empty TextAnnotation.\n"
     ]
    },
    {
     "name": "stdout",
     "output_type": "stream",
     "text": [
      "--------------------\n",
      "“Specialists are overrated and too ubiquitous presently; we need more generalists”\n",
      "--------------------\n",
      "National service should be re-introduced\n",
      "--------------------\n",
      "The glass ceiling still exists\n",
      "--------------------\n",
      "Religion is not necessary\n",
      "--------------------\n",
      "Parents of obese children be prosecuted with neglect\n",
      "--------------------\n",
      "Romeo and Juliet do promote knife crime\n",
      "--------------------\n",
      "The use of mobile phones has lowered active social life and has become an addiction\n",
      "--------------------\n",
      "Winning the Champions League Is Better Than Winning the Premier League\n",
      "--------------------\n",
      "Books will be replaced at some point\n",
      "--------------------\n",
      "Parents should not allow young people to live at home again after graduating\n",
      "--------------------\n",
      "A Ban on Shark Fin Soup Is Necessary to Protect the Shark from Extinction\n",
      "--------------------\n",
      "We should show more compassion to drug addicts\n",
      "--------------------\n",
      "Working from home is better for companies than maintaining an office\n",
      "--------------------\n",
      "Celebrities who commit drug-related offences should be punished more harshly than non-celebrities.\n",
      "--------------------\n",
      "Global Warming is not an issue\n",
      "--------------------\n",
      "Personality is more important than ability\n",
      "--------------------\n",
      "World War III is inevitable\n",
      "--------------------\n",
      "Football does unify us\n",
      "--------------------\n",
      "Adding artificial happy endings to a story completely ruins it\n",
      "--------------------\n",
      "Atheist countries are more benevolent\n",
      "--------------------\n",
      "We should ban the muslim veil\n",
      "--------------------\n",
      "Most people are a little bit gay\n"
     ]
    },
    {
     "name": "stderr",
     "output_type": "stream",
     "text": [
      "WARNING:ccg_nlpy.core.text_annotation:Creating empty TextAnnotation.\n",
      "ERROR:ccg_nlpy.core.text_annotation:No valid views on empty TextAnnotation.\n",
      "WARNING:ccg_nlpy.core.text_annotation:Creating empty TextAnnotation.\n",
      "ERROR:ccg_nlpy.core.text_annotation:No valid views on empty TextAnnotation.\n"
     ]
    },
    {
     "name": "stdout",
     "output_type": "stream",
     "text": [
      "--------------------\n",
      "Universities should support graduates in getting a job\n",
      "--------------------\n",
      "Cyber Stalking has its consequences\n",
      "--------------------\n",
      "People should be allowed to sell their own organs\n",
      "--------------------\n",
      "The People’s Republic of China should invade North Korea\n",
      "--------------------\n",
      "Increased taxes are good for America\n",
      "--------------------\n",
      "Healthy eating should be made mandatory\n"
     ]
    },
    {
     "name": "stderr",
     "output_type": "stream",
     "text": [
      "WARNING:ccg_nlpy.core.text_annotation:Creating empty TextAnnotation.\n",
      "ERROR:ccg_nlpy.core.text_annotation:No valid views on empty TextAnnotation.\n"
     ]
    },
    {
     "name": "stdout",
     "output_type": "stream",
     "text": [
      "--------------------\n",
      "Game strategies: Cooperation vs Competition\n",
      "--------------------\n",
      "High taxes are necessary for an effective state\n",
      "--------------------\n",
      "Corporations are a threat to Democracy and society.\n",
      "--------------------\n",
      "Make-up is bad for us\n",
      "--------------------\n",
      "We should be trying to avoid contact with aliens.\n",
      "--------------------\n",
      "The welfare system should be replaced with a negative income-tax model\n",
      "--------------------\n",
      "We should give money to beggars\n",
      "--------------------\n",
      "Sunbeds should be banned\n",
      "--------------------\n",
      "Governments Should Put Wealth Redistribution Ahead Of Wealth Creation\n",
      "--------------------\n",
      "physical fitness is better than mental fitness\n",
      "--------------------\n",
      "Speed limits should be reduced\n",
      "--------------------\n",
      "It is wrong to tolerate unjust laws\n",
      "--------------------\n",
      "Representative Democracy Is a Better Form of Government Than Direct Democracy\n",
      "--------------------\n",
      "Hosting the world cup is beneficial\n",
      "--------------------\n",
      "Those affected by climate change should get compensation\n",
      "--------------------\n",
      "Neil Armstrong did actually walk on the Moon\n",
      "--------------------\n",
      "Music That Glorifies Crime Should Be Banned\n",
      "--------------------\n",
      "The UK is truly a democracy\n",
      "--------------------\n",
      "Taking food thrown out by supermarkets should not be illegal\n",
      "--------------------\n",
      "Forced marriage should be banned\n",
      "--------------------\n",
      "Anti-social behaviour orders are effective\n"
     ]
    },
    {
     "name": "stderr",
     "output_type": "stream",
     "text": [
      "WARNING:ccg_nlpy.core.text_annotation:Creating empty TextAnnotation.\n",
      "ERROR:ccg_nlpy.core.text_annotation:No valid views on empty TextAnnotation.\n"
     ]
    },
    {
     "name": "stdout",
     "output_type": "stream",
     "text": [
      "--------------------\n",
      "The media’s selective coverage of certain issues works to worsen problems in society and create problems\n",
      "--------------------\n",
      "Teachers Should Have The Right To Punish Pupils Physically If The Parents Consent\n"
     ]
    },
    {
     "name": "stderr",
     "output_type": "stream",
     "text": [
      "WARNING:ccg_nlpy.core.text_annotation:Creating empty TextAnnotation.\n",
      "ERROR:ccg_nlpy.core.text_annotation:No valid views on empty TextAnnotation.\n"
     ]
    },
    {
     "name": "stdout",
     "output_type": "stream",
     "text": [
      "--------------------\n",
      "Female Children Are More Useful at Home\n",
      "--------------------\n",
      "Sports Have Became More About Making Money Than Playing Well\n",
      "--------------------\n",
      "Junk Food Should Be Banned\n",
      "--------------------\n",
      "Lack of Parental Guidance Is Mainly Responsible for Children Being Violent and Aggressive in School\n",
      "--------------------\n",
      "Fast Food Advertising Should Be Banned\n",
      "--------------------\n",
      "Using Rewards to Motivate Students\n",
      "--------------------\n",
      "Religious education Should be a part of the School curriculum\n"
     ]
    },
    {
     "name": "stderr",
     "output_type": "stream",
     "text": [
      "WARNING:ccg_nlpy.core.text_annotation:Creating empty TextAnnotation.\n",
      "ERROR:ccg_nlpy.core.text_annotation:No valid views on empty TextAnnotation.\n"
     ]
    },
    {
     "name": "stdout",
     "output_type": "stream",
     "text": [
      "--------------------\n",
      "There shouldn’t be an option to dropout of highschool\n",
      "--------------------\n",
      "Reality TV shows are an important part of popular culture today.\n",
      "--------------------\n",
      "Developed Countries Should Accept More Refugees\n",
      "--------------------\n",
      "There is a world Water crisis\n",
      "--------------------\n",
      "Competition in the long run is healthy rather than harmful for the community: GRE issue\n"
     ]
    },
    {
     "name": "stderr",
     "output_type": "stream",
     "text": [
      "WARNING:ccg_nlpy.core.text_annotation:Creating empty TextAnnotation.\n",
      "ERROR:ccg_nlpy.core.text_annotation:No valid views on empty TextAnnotation.\n"
     ]
    },
    {
     "name": "stdout",
     "output_type": "stream",
     "text": [
      "--------------------\n",
      "The evil that men do lives after them, the good is often interred with their bones\n",
      "--------------------\n",
      "Wikileaks is a threat to national security\n",
      "--------------------\n",
      "The iPhone is better than the Blackberry\n",
      "--------------------\n",
      "Television is one of the most effective mediums through which to teach and inspire youngsters\n",
      "--------------------\n",
      "DNA testing is worth the money\n",
      "--------------------\n",
      "Social Media should be part of the curriculum\n",
      "--------------------\n",
      "Individuals have a moral obligation to assist people in need\n",
      "--------------------\n",
      "Chocolate is good for you\n",
      "--------------------\n",
      "Britain should become a republic\n",
      "--------------------\n",
      "People should be allowed to do what they want to their own bodies\n"
     ]
    },
    {
     "name": "stderr",
     "output_type": "stream",
     "text": [
      "WARNING:ccg_nlpy.core.text_annotation:Creating empty TextAnnotation.\n",
      "ERROR:ccg_nlpy.core.text_annotation:No valid views on empty TextAnnotation.\n"
     ]
    },
    {
     "name": "stdout",
     "output_type": "stream",
     "text": [
      "--------------------\n",
      "We should still be concerned about the ozone layer\n",
      "--------------------\n",
      "We have lost the true meaning of Christmas\n",
      "--------------------\n",
      "Electronic tags are a good idea\n",
      "--------------------\n",
      "The law on self defence should cover ‘grossly disproportionate’ actions\n",
      "--------------------\n",
      "Gender equality will not happen anytime soon\n",
      "--------------------\n",
      "Use of goal line technology in football is overdue, and can only lead to benefits.\n",
      "--------------------\n",
      "German unification has been a success\n",
      "--------------------\n",
      "Reheat tea in the microwave\n",
      "--------------------\n",
      "The UN should impose sanctions on countries that destroy their rainforests\n"
     ]
    },
    {
     "name": "stderr",
     "output_type": "stream",
     "text": [
      "WARNING:ccg_nlpy.core.text_annotation:Creating empty TextAnnotation.\n",
      "ERROR:ccg_nlpy.core.text_annotation:No valid views on empty TextAnnotation.\n"
     ]
    },
    {
     "name": "stdout",
     "output_type": "stream",
     "text": [
      "--------------------\n",
      "Children should be taught politics at school\n",
      "--------------------\n",
      "All countries should have the right to pursue a nuclear defence\n",
      "--------------------\n",
      "Stop the Olympic Games\n",
      "--------------------\n",
      "ID cards and the National Identity Register should be scrapped\n",
      "--------------------\n",
      "Governments Should Try To Reduce The Gap Between Their Richest And Poorest Citizens\n",
      "--------------------\n",
      "Governments Should Actively Promote Multiculturalism\n",
      "--------------------\n",
      "University Fees Should Be Scrapped\n",
      "--------------------\n",
      "The Private Education System Should Be Abolished\n",
      "--------------------\n",
      "The United States is justified in using private military firms abroad to pursue its military objectives\n",
      "--------------------\n",
      "Eliminate All Nuclear Weapons\n",
      "--------------------\n",
      "Constitutions Should Not Give Special Recognition To Minority Groups\n",
      "--------------------\n",
      "Co2 Does Not Cause Global Warming\n",
      "--------------------\n",
      "The Minimum Driving Age Should Be Raised to 18\n",
      "--------------------\n",
      "Cars Should Be Banned From City Centres\n",
      "--------------------\n",
      "Prostitution should be legalised to protect sex workers from HIV/AIDS\n",
      "--------------------\n",
      "Governments Should Pay Compensation For Terrorist Atrocities Carried Out By Their Citizens\n",
      "--------------------\n",
      "The ‘war on terror’ is winnable\n",
      "--------------------\n",
      "Violent video games cause violent crime\n",
      "--------------------\n",
      "Prostitution Should Be Legal\n",
      "--------------------\n",
      "There should be no permanent members of the UN Security Council\n",
      "--------------------\n",
      "Physical Chastisement of Children Should Be Illegal\n",
      "--------------------\n",
      "The human genome should be patented\n",
      "--------------------\n",
      "Britain should adopt Sharia law\n",
      "--------------------\n",
      "Smoking should be banned in public places\n",
      "--------------------\n",
      "The USA Legal Drinking Age Should Be Lowered to 18 From 21\n",
      "--------------------\n",
      "There Should be an English Parliament\n",
      "--------------------\n",
      "Christianity is the greatest deception of today\n",
      "--------------------\n",
      "Resources have a negative influence on foreign policy in the Middle East\n",
      "--------------------\n",
      "Governments should ban the media from reporting hostage-taking\n",
      "--------------------\n",
      "Terrorism should not be allowed publicity\n",
      "--------------------\n",
      "Physical Education In Schools Should Be Compulsory\n",
      "--------------------\n",
      "Plastic Bags should be banned\n",
      "--------------------\n",
      "Basic income tax should be abolished\n",
      "--------------------\n",
      "The UK Should Leave the European Union\n",
      "--------------------\n",
      "Remotely Controlled Weapons Systems Should Not Be Used In Combat\n",
      "--------------------\n",
      "Smoking should be made Illegal\n",
      "--------------------\n",
      "Creationism should be discussed in school science lessons\n",
      "--------------------\n",
      "Religion In Itself Is A Purely Positive Force In The World\n",
      "--------------------\n",
      "Free press is vital in democracy\n",
      "--------------------\n",
      "All third world debt should be dropped\n",
      "--------------------\n",
      "HIV/AIDS: There Should Be Compulsory Testing and Labeling of People with HIV\n",
      "--------------------\n",
      "India should give up Kashmir\n"
     ]
    },
    {
     "name": "stderr",
     "output_type": "stream",
     "text": [
      "WARNING:ccg_nlpy.core.text_annotation:Creating empty TextAnnotation.\n",
      "ERROR:ccg_nlpy.core.text_annotation:No valid views on empty TextAnnotation.\n"
     ]
    },
    {
     "name": "stdout",
     "output_type": "stream",
     "text": [
      "--------------------\n",
      "Economic Sanctions Ought not be used to Achieve Foreign Policy Objectives\n",
      "--------------------\n",
      "People on job seekers allowance who refuse a job should lose their benefits\n",
      "--------------------\n",
      "Democracy Is the Best Form of Government\n",
      "--------------------\n",
      "Children Should Have The Right To Vote In Elections\n",
      "--------------------\n",
      "CCTV is a threat to freedom\n",
      "--------------------\n",
      "Boys should go to boys only schools\n",
      "--------------------\n",
      "Parents should introduce children to alcohol (in moderation) at an early age\n",
      "--------------------\n",
      "We Should Question Authorities\n",
      "--------------------\n",
      "Space should not be used for military purposes\n",
      "--------------------\n",
      "Ten Commandments:  Display in Schools\n",
      "--------------------\n",
      "Visitors to museums should be “encouraged” to pay a voluntary entrance fee\n"
     ]
    },
    {
     "name": "stderr",
     "output_type": "stream",
     "text": [
      "WARNING:ccg_nlpy.core.text_annotation:Creating empty TextAnnotation.\n",
      "ERROR:ccg_nlpy.core.text_annotation:No valid views on empty TextAnnotation.\n"
     ]
    },
    {
     "name": "stdout",
     "output_type": "stream",
     "text": [
      "--------------------\n",
      "Causing Religious Offence Should Be A Civil Offence\n",
      "--------------------\n",
      "Newspapers Are a Thing of the Past\n",
      "--------------------\n",
      "Governments should spend their way out of the recession\n",
      "--------------------\n",
      "Christmas is a scam\n",
      "--------------------\n",
      "Russia is a land of democracy (not autocracy)\n",
      "--------------------\n",
      "Money undermines sport’s values\n"
     ]
    },
    {
     "name": "stderr",
     "output_type": "stream",
     "text": [
      "WARNING:ccg_nlpy.core.text_annotation:Creating empty TextAnnotation.\n",
      "ERROR:ccg_nlpy.core.text_annotation:No valid views on empty TextAnnotation.\n"
     ]
    },
    {
     "name": "stdout",
     "output_type": "stream",
     "text": [
      "--------------------\n",
      "The EU needs a common immigration policy\n",
      "--------------------\n",
      "Rain Man is such a bad image of autism\n",
      "--------------------\n",
      "Post Office Should Be Privatized\n",
      "--------------------\n",
      "Taxes on smoothies and fruit juices should be reduced\n"
     ]
    },
    {
     "name": "stderr",
     "output_type": "stream",
     "text": [
      "WARNING:ccg_nlpy.core.text_annotation:Creating empty TextAnnotation.\n",
      "ERROR:ccg_nlpy.core.text_annotation:No valid views on empty TextAnnotation.\n"
     ]
    },
    {
     "name": "stdout",
     "output_type": "stream",
     "text": [
      "--------------------\n",
      "Schizophrenia is caused by environmental not genetic factors\n",
      "--------------------\n",
      "We should make new years resolutions\n",
      "--------------------\n",
      "Prisoners Should Have The Right To Vote\n",
      "--------------------\n",
      "Online education does more good than harm\n",
      "--------------------\n",
      "Police Service Should Be Armed (UK)\n",
      "--------------------\n",
      "the teacher is always right, even when s/he is not.\n",
      "--------------------\n",
      "Experience is the key success for entrepreneurship.\n",
      "--------------------\n",
      "Mind Sports Such as Chess, Quizzing and Debating Should Be Olympic Sports\n",
      "--------------------\n",
      "Obama did any of the things he promised\n"
     ]
    },
    {
     "name": "stderr",
     "output_type": "stream",
     "text": [
      "WARNING:ccg_nlpy.core.text_annotation:Creating empty TextAnnotation.\n",
      "ERROR:ccg_nlpy.core.text_annotation:No valid views on empty TextAnnotation.\n"
     ]
    },
    {
     "name": "stdout",
     "output_type": "stream",
     "text": [
      "--------------------\n",
      "Summer Holidays Should Be Shortened\n",
      "--------------------\n",
      "Children should not be allowed to inherit vast wealth as this damages them and society\n"
     ]
    },
    {
     "name": "stderr",
     "output_type": "stream",
     "text": [
      "WARNING:ccg_nlpy.core.text_annotation:Creating empty TextAnnotation.\n",
      "ERROR:ccg_nlpy.core.text_annotation:No valid views on empty TextAnnotation.\n",
      "WARNING:ccg_nlpy.core.text_annotation:Creating empty TextAnnotation.\n",
      "ERROR:ccg_nlpy.core.text_annotation:No valid views on empty TextAnnotation.\n"
     ]
    },
    {
     "name": "stdout",
     "output_type": "stream",
     "text": [
      "--------------------\n",
      "The UK should undergo radical constitutional reform\n",
      "--------------------\n",
      "Privacy and Freedom Is More Important Than Security\n",
      "--------------------\n",
      "Valentines Day is just a Hallmark ploy\n",
      "--------------------\n",
      "Catcher in the Rye is a bad book\n",
      "--------------------\n",
      "The Illegality Of Recreational Drugs Does More Harm Than Good\n"
     ]
    },
    {
     "name": "stderr",
     "output_type": "stream",
     "text": [
      "WARNING:ccg_nlpy.core.text_annotation:Creating empty TextAnnotation.\n",
      "ERROR:ccg_nlpy.core.text_annotation:No valid views on empty TextAnnotation.\n"
     ]
    },
    {
     "name": "stdout",
     "output_type": "stream",
     "text": [
      "--------------------\n",
      "We Should Be Concerned About Population Growth\n",
      "--------------------\n",
      "The threat of Climate Change is exaggerated\n",
      "--------------------\n",
      "The EU does have a future\n",
      "--------------------\n",
      "Technological advancement promotes materialistic society\n",
      "--------------------\n",
      "Barbie Dolls are affecting the mental image we create for ourselves\n",
      "--------------------\n",
      "Governments of resource-rich nations should impose high taxes on mining and extraction\n",
      "--------------------\n",
      "Scotland should cede from the union.\n",
      "--------------------\n",
      "Euthanasia or mercy killing is justified\n",
      "--------------------\n",
      "Patents on life-saving drugs should be bypassed\n",
      "--------------------\n",
      "Deregulation and tax cuts should be embraced to lead the world out of economic crisis.\n",
      "--------------------\n",
      "Anti-Bribery Laws On Corporations Should Be Abolished\n",
      "--------------------\n",
      "All taxes on inherited wealth should be abolished\n",
      "--------------------\n",
      "There is life on other planets\n",
      "--------------------\n",
      "Unemployment benefit should be paid in the form of vouchers for food, shelter and the basics of life\n",
      "--------------------\n",
      "Prisoners Should Be Used For Medical Experiments Without Consent\n",
      "--------------------\n",
      "The Police Should Use Racial Profiling To Tackle The Problems Of Illegal Immigration.\n",
      "--------------------\n",
      "The UN Human Rights Council should be abolished\n",
      "--------------------\n",
      "Financial Assistance for the Poor Should Be the Responsibility of Charities, Not Government\n",
      "--------------------\n",
      "Animal testing for medical research\n",
      "--------------------\n",
      "Macs are better than PCs\n",
      "--------------------\n",
      "Minors Should Be Able to Obtain Abortions Without Parental Consent\n",
      "--------------------\n",
      "We should dramatically increase the rate of income tax paid by the rich\n",
      "--------------------\n",
      "The EU should impose a special Europe-wide tax on meat consumption to help save the planet\n",
      "--------------------\n",
      "The agreement between Russia and Great Britain in 1907 was inevitable\n",
      "--------------------\n",
      "Homework should have a limit\n"
     ]
    },
    {
     "name": "stderr",
     "output_type": "stream",
     "text": [
      "WARNING:ccg_nlpy.core.text_annotation:Creating empty TextAnnotation.\n",
      "ERROR:ccg_nlpy.core.text_annotation:No valid views on empty TextAnnotation.\n"
     ]
    },
    {
     "name": "stdout",
     "output_type": "stream",
     "text": [
      "--------------------\n",
      "Martin Luther King’s dream ha come true\n",
      "--------------------\n",
      "We should be free to express our religion as we wish\n",
      "--------------------\n",
      "Climate Change is the end of the world\n",
      "--------------------\n",
      "Aid Should Be Tied To Human Rights\n",
      "--------------------\n",
      "In a democracy all votes should be equal.\n",
      "--------------------\n",
      "History as a subject in school is needed\n",
      "--------------------\n",
      "The internet’s anonymity is beneficial\n",
      "--------------------\n",
      "It is good to gossip\n",
      "--------------------\n",
      "There is life after death\n",
      "--------------------\n",
      "Painting represents mankind better than Photography\n",
      "--------------------\n",
      "Obese people, in countries with a national health service, should face higher taxes\n"
     ]
    },
    {
     "name": "stderr",
     "output_type": "stream",
     "text": [
      "WARNING:ccg_nlpy.core.text_annotation:Creating empty TextAnnotation.\n"
     ]
    },
    {
     "name": "stdout",
     "output_type": "stream",
     "text": [
      "--------------------\n",
      "Cramming before exams is a bad idea\n",
      "--------------------\n",
      "The media portrays youths in a negative way\n"
     ]
    },
    {
     "name": "stderr",
     "output_type": "stream",
     "text": [
      "ERROR:ccg_nlpy.core.text_annotation:No valid views on empty TextAnnotation.\n"
     ]
    },
    {
     "name": "stdout",
     "output_type": "stream",
     "text": [
      "--------------------\n",
      "Romeo and Juliet is unsuccessful as a tragedy\n",
      "--------------------\n",
      "Children should do part time and summer work\n",
      "--------------------\n",
      "School Day Should Be Extended\n",
      "--------------------\n",
      "punishment should fit the criminal\n",
      "--------------------\n",
      "Privacy Online is Important\n"
     ]
    },
    {
     "name": "stderr",
     "output_type": "stream",
     "text": [
      "WARNING:ccg_nlpy.core.text_annotation:Creating empty TextAnnotation.\n",
      "ERROR:ccg_nlpy.core.text_annotation:No valid views on empty TextAnnotation.\n"
     ]
    },
    {
     "name": "stdout",
     "output_type": "stream",
     "text": [
      "--------------------\n",
      "There is such thing as a glorious defeat\n",
      "--------------------\n",
      "Teachers should get merit pay\n",
      "--------------------\n",
      "social networking sites should be banned at the workplaces\n"
     ]
    },
    {
     "name": "stderr",
     "output_type": "stream",
     "text": [
      "WARNING:ccg_nlpy.core.text_annotation:Creating empty TextAnnotation.\n",
      "ERROR:ccg_nlpy.core.text_annotation:No valid views on empty TextAnnotation.\n"
     ]
    },
    {
     "name": "stdout",
     "output_type": "stream",
     "text": [
      "--------------------\n",
      "The European Union should bail out its member countries\n",
      "--------------------\n",
      "The Civil War was justified for the north to fight\n",
      "--------------------\n",
      "Polls are accurate predictors of election results\n",
      "--------------------\n",
      "Online Shopping Is Better Than Offline Shopping\n"
     ]
    },
    {
     "name": "stderr",
     "output_type": "stream",
     "text": [
      "WARNING:ccg_nlpy.core.text_annotation:Creating empty TextAnnotation.\n",
      "ERROR:ccg_nlpy.core.text_annotation:No valid views on empty TextAnnotation.\n"
     ]
    },
    {
     "name": "stdout",
     "output_type": "stream",
     "text": [
      "--------------------\n",
      "Genetic Engineering in Humans is Bad\n",
      "--------------------\n",
      "Lady Macbeth is the real driving force behind King Duncan’s murder in Shakespeare’s Macbeth\n",
      "--------------------\n",
      "Gorbachev was a key player in the fall of the Berlin Wall\n",
      "--------------------\n",
      "Gender Equality is Treating Men and Women in the Same Way\n",
      "--------------------\n",
      "Paparazzi and press intrude too much into celebrities lives\n",
      "--------------------\n",
      "Language does control thought\n",
      "--------------------\n",
      "There Is a Mathematical Miracle in the Quran That Proves It Is the Word of God\n",
      "--------------------\n",
      "Space Exploration Is a Waste of Money\n",
      "--------------------\n",
      "Oil Companies Should Not Be Allowed To Drill Offshore\n",
      "--------------------\n",
      "Antarctica Should Be Opened Up For Resource Exploitation\n",
      "--------------------\n",
      "Humans should eat meat\n",
      "--------------------\n",
      "Workers in the Transport Sectors Should Be Banned From Going On Strike\n",
      "--------------------\n",
      "Polygamous Marriage Should Be Recognised\n",
      "--------------------\n",
      "Music that glorifies violence against women should be banned\n",
      "--------------------\n",
      "Foreign workers should be given the right to vote in local elections where they work\n",
      "--------------------\n",
      "In Parliamentary Democracies, A Change Of Prime Minister Should Automatically Trigger A General Election.\n",
      "--------------------\n",
      "An international ban should be placed on the export of nuclear reactor technology\n",
      "--------------------\n",
      "Adolf Hitler Does Not Deserve His Reputation as Evil\n",
      "--------------------\n",
      "The US should immediately close Guantanamo Bay.\n",
      "--------------------\n",
      "Water Should Be Owned And Supplied By The State\n",
      "--------------------\n",
      "Individuals should be able to legally bypass copyright protection technologies for fair use reasons.\n",
      "--------------------\n",
      "Pensions should be privatised\n",
      "--------------------\n",
      "A Doping Cheat’s Entire Olympic Team Should Be Stripped Of Their Medals\n",
      "--------------------\n",
      "Corporal Punishment Should Be Reintroduced\n"
     ]
    },
    {
     "name": "stderr",
     "output_type": "stream",
     "text": [
      "WARNING:ccg_nlpy.core.text_annotation:Creating empty TextAnnotation.\n",
      "ERROR:ccg_nlpy.core.text_annotation:No valid views on empty TextAnnotation.\n"
     ]
    },
    {
     "name": "stdout",
     "output_type": "stream",
     "text": [
      "--------------------\n",
      "The legal age should be lowered to 16.\n",
      "--------------------\n",
      "Co-Educational Schools Should Be Supported\n",
      "--------------------\n",
      "The UN should be reformed or replaced\n"
     ]
    },
    {
     "name": "stderr",
     "output_type": "stream",
     "text": [
      "WARNING:ccg_nlpy.core.text_annotation:Creating empty TextAnnotation.\n",
      "ERROR:ccg_nlpy.core.text_annotation:No valid views on empty TextAnnotation.\n"
     ]
    },
    {
     "name": "stdout",
     "output_type": "stream",
     "text": [
      "--------------------\n",
      "The environment is being sacrificed for the economy\n",
      "--------------------\n",
      "The government should provide more money to fund science\n",
      "--------------------\n",
      "New prisons need to be built to ease overcrowding\n",
      "--------------------\n",
      "It does matter where you go to university or college\n"
     ]
    },
    {
     "name": "stderr",
     "output_type": "stream",
     "text": [
      "WARNING:ccg_nlpy.core.text_annotation:Creating empty TextAnnotation.\n",
      "ERROR:ccg_nlpy.core.text_annotation:No valid views on empty TextAnnotation.\n"
     ]
    },
    {
     "name": "stdout",
     "output_type": "stream",
     "text": [
      "--------------------\n",
      "Schools are doing enough to prevent illegal drug abuse by teenagers\n",
      "--------------------\n",
      "Job applicants should have to disclose their spent criminal convictions\n"
     ]
    },
    {
     "name": "stderr",
     "output_type": "stream",
     "text": [
      "WARNING:ccg_nlpy.core.text_annotation:Creating empty TextAnnotation.\n",
      "ERROR:ccg_nlpy.core.text_annotation:No valid views on empty TextAnnotation.\n",
      "WARNING:ccg_nlpy.core.text_annotation:Creating empty TextAnnotation.\n",
      "ERROR:ccg_nlpy.core.text_annotation:No valid views on empty TextAnnotation.\n"
     ]
    },
    {
     "name": "stdout",
     "output_type": "stream",
     "text": [
      "--------------------\n",
      "Deregulation is good for society\n",
      "--------------------\n",
      "Mental ‘illness’ is a socially constructed\n",
      "--------------------\n",
      "Roger Federer Is Not the Greatest Tennis Player of All Time\n",
      "--------------------\n",
      "Home Schooling Should Be Banned\n"
     ]
    },
    {
     "name": "stderr",
     "output_type": "stream",
     "text": [
      "WARNING:ccg_nlpy.core.text_annotation:Creating empty TextAnnotation.\n",
      "ERROR:ccg_nlpy.core.text_annotation:No valid views on empty TextAnnotation.\n"
     ]
    },
    {
     "name": "stdout",
     "output_type": "stream",
     "text": [
      "--------------------\n",
      "Interest rates on personal lending should be capped by law at 20%\n",
      "--------------------\n",
      "Democracies should ban the display of communist and Nazi symbols\n",
      "--------------------\n",
      "We should prize freedom over security and abolish anti-terrorism legislation\n",
      "--------------------\n",
      "All drugs should be decriminalised\n",
      "--------------------\n",
      "Poorer Countries Should Abandon Free Trade Agreements\n",
      "--------------------\n",
      "Heavy drinkers should be denied liver transplants\n",
      "--------------------\n",
      "There is a good case for stating that there is a God\n",
      "--------------------\n",
      "Pre-nuptial agreements should not be recognised in divorce courts\n",
      "--------------------\n",
      "Same-Sex Marriage Should Be Legal\n",
      "--------------------\n",
      "Leaders of countries that use extra-territorial rendition should be tried for war crimes\n",
      "--------------------\n",
      "Public health concerns justify compulsory immunization\n",
      "--------------------\n",
      "Rich countries should actively recruit medical personnel from poorer countries\n",
      "--------------------\n",
      "Dictatorship Is the Best Path to Development\n",
      "--------------------\n",
      "Religions Should Not Qualify as Charities\n",
      "--------------------\n",
      "Net Neutrality – All Internet Traffic Should Be Treated Equally\n",
      "--------------------\n",
      "Drones Should Be Used to Take Out Enemy Combatants\n",
      "--------------------\n",
      "We Should Have a Quota for Women on Corporate Boards\n"
     ]
    }
   ],
   "source": [
    "from ccg_nlpy import remote_pipeline\n",
    "import re\n",
    "import operator\n",
    "\n",
    "rx = re.compile('\\W+')\n",
    "\n",
    "pipeline = remote_pipeline.RemotePipeline(server_api='http://macniece.seas.upenn.edu:4001')\n",
    "\n",
    "output = []\n",
    "\n",
    "for claim in data: \n",
    "    \n",
    "    noun_phrase_map = {}\n",
    "#     print(claim.keys())\n",
    "    print(\"--------------------\")\n",
    "    print(claim['claim_title'])\n",
    "    doc_claim = pipeline.doc(claim['claim_title'])\n",
    "    doc_related = pipeline.doc(rx.sub(' ', claim['related']).strip())\n",
    "#     print(doc_claim.get_shallow_parse)\n",
    "#     doc_related = pipeline.doc(claim['related'])\n",
    "    claim_nps = [x['tokens'].lower() for x in doc_claim.get_shallow_parse.get_cons() if x['label'] == 'NP']\n",
    "\n",
    "    if doc_related.get_shallow_parse != None and doc_related.get_shallow_parse.get_cons() != None:     \n",
    "        related_nps = [x['tokens'].lower() for x in doc_related.get_shallow_parse.get_cons() if x['label'] == 'NP']\n",
    "    else: \n",
    "        related_nps = []\n",
    "\n",
    "    for x in claim_nps: \n",
    "        if x in stopwords: \n",
    "            continue \n",
    "        if x in noun_phrase_map: \n",
    "            noun_phrase_map[x] += 1\n",
    "        else: \n",
    "            noun_phrase_map[x] = 3\n",
    "            \n",
    "    for x in related_nps: \n",
    "        if x in stopwords: \n",
    "            continue \n",
    "        if x in noun_phrase_map: \n",
    "            noun_phrase_map[x] += 1\n",
    "        else: \n",
    "            noun_phrase_map[x] = 1\n",
    "    \n",
    "    sorted_list = sorted(noun_phrase_map.items(), key=operator.itemgetter(1), reverse=True)\n",
    "\n",
    "    \n",
    "    output.append({'claim_title': claim['claim_title'], 'claim_id': claim['claim_id'], 'noun_phrases': sorted_list[0:10]})\n",
    "    \n",
    "#     print(sorted_list)\n",
    "\n",
    "    with open('claims_with_topics.json', 'w') as outfile:\n",
    "        json.dump(output, outfile)\n"
   ]
  },
  {
   "cell_type": "code",
   "execution_count": null,
   "metadata": {},
   "outputs": [],
   "source": []
  }
 ],
 "metadata": {
  "kernelspec": {
   "display_name": "Python 3",
   "language": "python",
   "name": "python3"
  },
  "language_info": {
   "codemirror_mode": {
    "name": "ipython",
    "version": 3
   },
   "file_extension": ".py",
   "mimetype": "text/x-python",
   "name": "python",
   "nbconvert_exporter": "python",
   "pygments_lexer": "ipython3",
   "version": "3.6.5"
  }
 },
 "nbformat": 4,
 "nbformat_minor": 1
}
