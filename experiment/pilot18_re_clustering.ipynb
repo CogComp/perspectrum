{
 "cells": [
  {
   "cell_type": "code",
   "execution_count": 28,
   "metadata": {},
   "outputs": [
    {
     "name": "stdout",
     "output_type": "stream",
     "text": [
      "<class 'pandas.core.frame.DataFrame'>\n",
      "Int64Index: 112 entries, 0 to 395\n",
      "Data columns (total 4 columns):\n",
      "cid1        112 non-null int64\n",
      "cid2        112 non-null int64\n",
      "equal       112 non-null object\n",
      "finished    112 non-null object\n",
      "dtypes: int64(2), object(2)\n",
      "memory usage: 4.4+ KB\n"
     ]
    }
   ],
   "source": [
    "# Midst re clustering, something is wrong\n",
    "import pandas as pd\n",
    "import json\n",
    "\n",
    "macniece_annotation = \"../data/dataset/temp/perspectrum_120618_after_lunch.json\"\n",
    "# original_annotation = \"../data/dataset/temp/perspectrum_fixed.json\"\n",
    "original_annotation = \"../data/dataset/perspectrum_with_answers_v0.1.json\"\n",
    "finished = \"../data/dataset/temp/finished.csv\"\n",
    "\n",
    "ma = json.load(open(macniece_annotation))\n",
    "oa = json.load(open(original_annotation))\n",
    "fdf = pd.read_csv(finished).dropna()\n",
    "fdf.info()"
   ]
  },
  {
   "cell_type": "code",
   "execution_count": 26,
   "metadata": {},
   "outputs": [
    {
     "name": "stdout",
     "output_type": "stream",
     "text": [
      "{'cId': 3, 'text': 'Trade is better than aid', 'source': 'idebate', 'perspectives': [{'pids': [18, 20841, 20842], 'stance_label_3': 'SUPPORT', 'stance_label_5': 'SUPPORT', 'voter_counts': [4, 1, 0, 0, 0], 'evidence': [21, 4054, 18, 6078]}, {'pids': [19, 20843, 20844], 'stance_label_3': 'SUPPORT', 'stance_label_5': 'SUPPORT', 'voter_counts': [3, 2, 0, 0, 0], 'evidence': [19]}, {'pids': [76, 20846, 20915, 20916, 20], 'stance_label_3': 'SUPPORT', 'stance_label_5': 'SUPPORT', 'voter_counts': [4, 0, 0, 0, 1], 'evidence': [5739, 5741, 3278, 5774, 3280, 17, 20]}]}\n",
      "{'cId': 2, 'text': 'Celebrities should be exempt from National Service (in South Korea)', 'source': 'idebate', 'perspectives': [{'pids': [20832, 20833, 20834, 20839, 20840, 10, 15, 24700], 'stance_label_3': 'UNDERMINE', 'stance_label_5': 'UNDERMINE', 'voter_counts': [0, 0, 0, 3, 0], 'evidence': [10, 15, 4308, 4310, 4312, 4313]}, {'pids': [14, 20835, 20836, 20837, 20838], 'stance_label_3': 'UNDERMINE', 'stance_label_5': 'UNDERMINE', 'voter_counts': [0, 0, 0, 3, 0], 'evidence': [14]}, {'pids': [8119, 27211, 27212], 'stance_label_3': 'UNDERMINE', 'stance_label_5': 'UNDERMINE', 'voter_counts': [0, 0, 0, 2, 0], 'evidence': []}, {'pids': [8118], 'stance_label_3': 'UNDERMINE', 'stance_label_5': 'UNDERMINE', 'voter_counts': [0, 0, 0, 2, 0], 'evidence': [5018]}, {'pids': [4269, 24663], 'stance_label_3': 'UNDERMINE', 'stance_label_5': 'UNDERMINE', 'voter_counts': [0, 0, 1, 2, 0], 'evidence': [4266]}, {'pids': [4279], 'stance_label_3': 'UNDERMINE', 'stance_label_5': 'UNDERMINE', 'voter_counts': [0, 0, 1, 2, 0], 'evidence': []}, {'pids': [4276], 'stance_label_3': 'UNDERMINE', 'stance_label_5': 'UNDERMINE', 'voter_counts': [0, 0, 1, 2, 0], 'evidence': [4273, 7796]}, {'pids': [4278], 'stance_label_3': 'UNDERMINE', 'stance_label_5': 'UNDERMINE', 'voter_counts': [0, 0, 0, 3, 0], 'evidence': [4275]}, {'pids': [4273, 24666], 'stance_label_3': 'UNDERMINE', 'stance_label_5': 'UNDERMINE', 'voter_counts': [0, 0, 1, 2, 0], 'evidence': [4270]}, {'pids': [4280], 'stance_label_3': 'UNDERMINE', 'stance_label_5': 'UNDERMINE', 'voter_counts': [0, 0, 0, 3, 0], 'evidence': [4277]}, {'pids': [4271], 'stance_label_3': 'UNDERMINE', 'stance_label_5': 'UNDERMINE', 'voter_counts': [0, 0, 1, 2, 0], 'evidence': [4268]}, {'pids': [4325, 24731, 24732], 'stance_label_3': 'UNDERMINE', 'stance_label_5': 'UNDERMINE', 'voter_counts': [0, 0, 1, 2, 0], 'evidence': [4322]}, {'pids': [4323, 24729, 24730], 'stance_label_3': 'UNDERMINE', 'stance_label_5': 'UNDERMINE', 'voter_counts': [0, 0, 0, 3, 0], 'evidence': [4316, 4320, 4319]}, {'pids': [4322, 24725, 24726, 24727, 24728], 'stance_label_3': 'UNDERMINE', 'stance_label_5': 'UNDERMINE', 'voter_counts': [0, 0, 0, 3, 0], 'evidence': [4319]}, {'pids': [4318, 24709, 24710, 24711, 24712], 'stance_label_3': 'UNDERMINE', 'stance_label_5': 'UNDERMINE', 'voter_counts': [0, 0, 0, 3, 0], 'evidence': [4315, 4316, 4319, 4320]}, {'pids': [4319, 24713, 24714, 24715, 24716], 'stance_label_3': 'UNDERMINE', 'stance_label_5': 'UNDERMINE', 'voter_counts': [0, 0, 0, 3, 0], 'evidence': [4316, 4319]}, {'pids': [4321, 24721, 24722, 24723, 24724], 'stance_label_3': 'UNDERMINE', 'stance_label_5': 'UNDERMINE', 'voter_counts': [0, 0, 0, 3, 0], 'evidence': []}, {'pids': [4320, 24717, 24718, 24719, 24720], 'stance_label_3': 'UNDERMINE', 'stance_label_5': 'UNDERMINE', 'voter_counts': [0, 0, 1, 2, 0], 'evidence': [4317]}]}\n",
      "{'cId': 567, 'text': 'Social Security should be privatized ', 'source': 'procon', 'perspectives': [{'pids': [4269, 24663], 'stance_label_3': 'UNDERMINE', 'stance_label_5': 'UNDERMINE', 'voter_counts': [0, 0, 1, 2, 0], 'evidence': [4266]}, {'pids': [4268], 'stance_label_3': 'SUPPORT', 'stance_label_5': 'SUPPORT', 'voter_counts': [2, 1, 0, 0, 0], 'evidence': [4265]}, {'pids': [4279], 'stance_label_3': 'UNDERMINE', 'stance_label_5': 'UNDERMINE', 'voter_counts': [0, 0, 1, 2, 0], 'evidence': []}, {'pids': [4276], 'stance_label_3': 'UNDERMINE', 'stance_label_5': 'UNDERMINE', 'voter_counts': [0, 0, 1, 2, 0], 'evidence': [4273, 7796]}, {'pids': [4278], 'stance_label_3': 'UNDERMINE', 'stance_label_5': 'UNDERMINE', 'voter_counts': [0, 0, 0, 3, 0], 'evidence': [4275]}, {'pids': [4273, 24666], 'stance_label_3': 'UNDERMINE', 'stance_label_5': 'UNDERMINE', 'voter_counts': [0, 0, 1, 2, 0], 'evidence': [4270]}, {'pids': [4280], 'stance_label_3': 'UNDERMINE', 'stance_label_5': 'UNDERMINE', 'voter_counts': [0, 0, 0, 3, 0], 'evidence': [4277]}, {'pids': [4266], 'stance_label_3': 'SUPPORT', 'stance_label_5': 'SUPPORT', 'voter_counts': [2, 1, 0, 0, 0], 'evidence': [4263, 4265, 769]}, {'pids': [4259], 'stance_label_3': 'SUPPORT', 'stance_label_5': 'SUPPORT', 'voter_counts': [3, 0, 0, 0, 0], 'evidence': [4259, 4262, 4264, 768, 769, 7790]}, {'pids': [4271], 'stance_label_3': 'UNDERMINE', 'stance_label_5': 'UNDERMINE', 'voter_counts': [0, 0, 1, 2, 0], 'evidence': [4268]}, {'pids': [4260], 'stance_label_3': 'SUPPORT', 'stance_label_5': 'SUPPORT', 'voter_counts': [2, 1, 0, 0, 0], 'evidence': [4257, 768]}, {'pids': [8117], 'stance_label_3': 'SUPPORT', 'stance_label_5': 'SUPPORT', 'voter_counts': [2, 0, 0, 0, 0], 'evidence': [8104, 5016]}, {'pids': [8119, 27211, 27212], 'stance_label_3': 'UNDERMINE', 'stance_label_5': 'UNDERMINE', 'voter_counts': [0, 0, 0, 2, 0], 'evidence': []}, {'pids': [8112], 'stance_label_3': 'SUPPORT', 'stance_label_5': 'SUPPORT', 'voter_counts': [2, 0, 0, 0, 0], 'evidence': [8104, 5015, 5016, 497]}, {'pids': [8118], 'stance_label_3': 'UNDERMINE', 'stance_label_5': 'UNDERMINE', 'voter_counts': [0, 0, 0, 2, 0], 'evidence': [5018]}, {'pids': [8114], 'stance_label_3': 'SUPPORT', 'stance_label_5': 'SUPPORT', 'voter_counts': [2, 0, 0, 0, 0], 'evidence': [8101, 497, 1131, 8104, 5014]}, {'pids': [8113, 27209, 27210], 'stance_label_3': 'SUPPORT', 'stance_label_5': 'SUPPORT', 'voter_counts': [2, 0, 0, 0, 0], 'evidence': [5014, 5015, 497]}]}\n",
      "{'cId': 697, 'text': 'Illegal downloaders should be cut off from the internet', 'source': 'debatewise', 'perspectives': [{'pids': [5788, 25967], 'stance_label_3': 'SUPPORT', 'stance_label_5': 'SUPPORT', 'voter_counts': [3, 0, 0, 0, 0], 'evidence': [5775, 5778, 5555, 5776, 283]}, {'pids': [5794, 25977, 25978], 'stance_label_3': 'UNDERMINE', 'stance_label_5': 'UNDERMINE', 'voter_counts': [0, 0, 0, 3, 0], 'evidence': [5781]}, {'pids': [20928, 5792, 82, 83, 25975, 25976, 20927], 'stance_label_3': 'UNDERMINE', 'stance_label_5': 'UNDERMINE', 'voter_counts': [0, 0, 1, 2, 0], 'evidence': [2566, 105, 111, 82, 83, 84, 85, 5779, 2450, 86, 8026, 1118]}, {'pids': [5789, 25971, 25972], 'stance_label_3': 'SUPPORT', 'stance_label_5': 'SUPPORT', 'voter_counts': [3, 0, 0, 0, 0], 'evidence': [5776]}, {'pids': [5795, 25979, 25980], 'stance_label_3': 'UNDERMINE', 'stance_label_5': 'UNDERMINE', 'voter_counts': [0, 0, 0, 3, 0], 'evidence': [5781, 5782]}, {'pids': [5787, 25963, 25964], 'stance_label_3': 'SUPPORT', 'stance_label_5': 'SUPPORT', 'voter_counts': [3, 0, 0, 0, 0], 'evidence': [5774, 725]}, {'pids': [5791], 'stance_label_3': 'SUPPORT', 'stance_label_5': 'SUPPORT', 'voter_counts': [2, 1, 0, 0, 0], 'evidence': [5775, 5778, 5776]}]}\n",
      "{'cId': 10, 'text': 'It is important to use a graduated response to combat unauthorised file-sharing of copyrighted material', 'source': 'idebate', 'perspectives': [{'pids': [77, 20917, 20918], 'stance_label_3': 'SUPPORT', 'stance_label_5': 'SUPPORT', 'voter_counts': [6, 0, 0, 0, 0], 'evidence': [77]}, {'pids': [78, 20920], 'stance_label_3': 'SUPPORT', 'stance_label_5': 'SUPPORT', 'voter_counts': [6, 0, 0, 0, 0], 'evidence': []}, {'pids': [76, 20846, 20915, 20916, 20], 'stance_label_3': 'SUPPORT', 'stance_label_5': 'SUPPORT', 'voter_counts': [5, 1, 0, 0, 0], 'evidence': [5739, 5741, 3278, 5774, 3280, 17, 20]}]}\n",
      "{'cId': 569, 'text': \"The D.A.R.E. program is good for America's kids (K-12) \", 'source': 'procon', 'perspectives': [{'pids': [4313, 24704], 'stance_label_3': 'SUPPORT', 'stance_label_5': 'SUPPORT', 'voter_counts': [3, 0, 0, 0, 0], 'evidence': [4310]}, {'pids': [4325, 24731, 24732], 'stance_label_3': 'UNDERMINE', 'stance_label_5': 'UNDERMINE', 'voter_counts': [0, 0, 1, 2, 0], 'evidence': [4322]}, {'pids': [4323, 24729, 24730], 'stance_label_3': 'UNDERMINE', 'stance_label_5': 'UNDERMINE', 'voter_counts': [0, 0, 0, 3, 0], 'evidence': [4316, 4320, 4319]}, {'pids': [4322, 24725, 24726, 24727, 24728], 'stance_label_3': 'UNDERMINE', 'stance_label_5': 'UNDERMINE', 'voter_counts': [0, 0, 0, 3, 0], 'evidence': [4319]}, {'pids': [4318, 24709, 24710, 24711, 24712], 'stance_label_3': 'UNDERMINE', 'stance_label_5': 'UNDERMINE', 'voter_counts': [0, 0, 0, 3, 0], 'evidence': [4315, 4316, 4319, 4320]}, {'pids': [24700], 'stance_label_3': 'SUPPORT', 'stance_label_5': 'SUPPORT', 'voter_counts': [2, 1, 0, 0, 0], 'evidence': [4312, 4308, 4310, 4313]}, {'pids': [4312, 24701, 24702], 'stance_label_3': 'SUPPORT', 'stance_label_5': 'MILDLY_SUPPORT', 'voter_counts': [1, 2, 0, 0, 0], 'evidence': [4309, 4313]}, {'pids': [4319, 24713, 24714, 24715, 24716], 'stance_label_3': 'UNDERMINE', 'stance_label_5': 'UNDERMINE', 'voter_counts': [0, 0, 0, 3, 0], 'evidence': [4316, 4319]}, {'pids': [4315, 24705, 24706], 'stance_label_3': 'SUPPORT', 'stance_label_5': 'SUPPORT', 'voter_counts': [3, 0, 0, 0, 0], 'evidence': [4312]}, {'pids': [4321, 24721, 24722, 24723, 24724], 'stance_label_3': 'UNDERMINE', 'stance_label_5': 'UNDERMINE', 'voter_counts': [0, 0, 0, 3, 0], 'evidence': []}, {'pids': [4320, 24717, 24718, 24719, 24720], 'stance_label_3': 'UNDERMINE', 'stance_label_5': 'UNDERMINE', 'voter_counts': [0, 0, 1, 2, 0], 'evidence': [4317]}, {'pids': [4317, 24707, 24708], 'stance_label_3': 'SUPPORT', 'stance_label_5': 'MILDLY_SUPPORT', 'voter_counts': [1, 2, 0, 0, 0], 'evidence': [4314]}, {'pids': [8117], 'stance_label_3': 'SUPPORT', 'stance_label_5': 'SUPPORT', 'voter_counts': [2, 0, 0, 0, 0], 'evidence': [8104, 5016]}, {'pids': [8119, 27211, 27212], 'stance_label_3': 'UNDERMINE', 'stance_label_5': 'UNDERMINE', 'voter_counts': [0, 0, 0, 2, 0], 'evidence': []}, {'pids': [8112], 'stance_label_3': 'SUPPORT', 'stance_label_5': 'SUPPORT', 'voter_counts': [2, 0, 0, 0, 0], 'evidence': [8104, 5015, 5016, 497]}, {'pids': [8118], 'stance_label_3': 'UNDERMINE', 'stance_label_5': 'UNDERMINE', 'voter_counts': [0, 0, 0, 2, 0], 'evidence': [5018]}, {'pids': [8114], 'stance_label_3': 'SUPPORT', 'stance_label_5': 'SUPPORT', 'voter_counts': [2, 0, 0, 0, 0], 'evidence': [8101, 497, 1131, 8104, 5014]}, {'pids': [8113, 27209, 27210], 'stance_label_3': 'SUPPORT', 'stance_label_5': 'SUPPORT', 'voter_counts': [2, 0, 0, 0, 0], 'evidence': [5014, 5015, 497]}, {'pids': [4269, 24663], 'stance_label_3': 'UNDERMINE', 'stance_label_5': 'UNDERMINE', 'voter_counts': [0, 0, 1, 2, 0], 'evidence': [4266]}, {'pids': [4268], 'stance_label_3': 'SUPPORT', 'stance_label_5': 'SUPPORT', 'voter_counts': [2, 1, 0, 0, 0], 'evidence': [4265]}, {'pids': [4279], 'stance_label_3': 'UNDERMINE', 'stance_label_5': 'UNDERMINE', 'voter_counts': [0, 0, 1, 2, 0], 'evidence': []}, {'pids': [4276], 'stance_label_3': 'UNDERMINE', 'stance_label_5': 'UNDERMINE', 'voter_counts': [0, 0, 1, 2, 0], 'evidence': [4273, 7796]}, {'pids': [4278], 'stance_label_3': 'UNDERMINE', 'stance_label_5': 'UNDERMINE', 'voter_counts': [0, 0, 0, 3, 0], 'evidence': [4275]}, {'pids': [4273, 24666], 'stance_label_3': 'UNDERMINE', 'stance_label_5': 'UNDERMINE', 'voter_counts': [0, 0, 1, 2, 0], 'evidence': [4270]}, {'pids': [4280], 'stance_label_3': 'UNDERMINE', 'stance_label_5': 'UNDERMINE', 'voter_counts': [0, 0, 0, 3, 0], 'evidence': [4277]}, {'pids': [4266], 'stance_label_3': 'SUPPORT', 'stance_label_5': 'SUPPORT', 'voter_counts': [2, 1, 0, 0, 0], 'evidence': [4263, 4265, 769]}, {'pids': [4259], 'stance_label_3': 'SUPPORT', 'stance_label_5': 'SUPPORT', 'voter_counts': [3, 0, 0, 0, 0], 'evidence': [4259, 4262, 4264, 768, 769, 7790]}, {'pids': [4271], 'stance_label_3': 'UNDERMINE', 'stance_label_5': 'UNDERMINE', 'voter_counts': [0, 0, 1, 2, 0], 'evidence': [4268]}, {'pids': [4260], 'stance_label_3': 'SUPPORT', 'stance_label_5': 'SUPPORT', 'voter_counts': [2, 1, 0, 0, 0], 'evidence': [4257, 768]}]}\n",
      "{'cId': 11, 'text': 'Internet access is a human right', 'source': 'idebate', 'perspectives': [{'pids': [87, 20933, 20934], 'stance_label_3': 'UNDERMINE', 'stance_label_5': 'UNDERMINE', 'voter_counts': [0, 0, 1, 2, 0], 'evidence': []}, {'pids': [84, 20929, 20930], 'stance_label_3': 'SUPPORT', 'stance_label_5': 'SUPPORT', 'voter_counts': [3, 0, 0, 0, 0], 'evidence': [5779, 1118, 297, 105, 435, 82, 87, 89]}, {'pids': [20928, 5792, 82, 83, 25975, 25976, 20927], 'stance_label_3': 'SUPPORT', 'stance_label_5': 'SUPPORT', 'voter_counts': [2, 1, 0, 0, 0], 'evidence': [2566, 105, 111, 82, 83, 84, 85, 5779, 2450, 86, 8026, 1118]}, {'pids': [86, 20931, 20932], 'stance_label_3': 'UNDERMINE', 'stance_label_5': 'UNDERMINE', 'voter_counts': [0, 0, 0, 3, 0], 'evidence': [102]}, {'pids': [5789, 25971, 25972], 'stance_label_3': 'UNDERMINE', 'stance_label_5': 'UNDERMINE', 'voter_counts': [0, 0, 0, 0, 3], 'evidence': [5776]}]}\n",
      "{'cId': 1004, 'text': 'Net Neutrality – All Internet Traffic Should Be Treated Equally', 'source': 'debatewise', 'perspectives': [{'pids': [27211, 4259, 27212, 8119], 'stance_label_3': 'UNDERMINE', 'stance_label_5': 'UNDERMINE', 'voter_counts': [0, 0, 0, 2, 0], 'evidence': [768, 769, 4259, 4262, 4264, 7790]}, {'pids': [8118], 'stance_label_3': 'UNDERMINE', 'stance_label_5': 'UNDERMINE', 'voter_counts': [0, 0, 0, 2, 0], 'evidence': [5018]}, {'pids': [4269, 24663], 'stance_label_3': 'UNDERMINE', 'stance_label_5': 'UNDERMINE', 'voter_counts': [0, 0, 1, 2, 0], 'evidence': [4266]}, {'pids': [4276], 'stance_label_3': 'UNDERMINE', 'stance_label_5': 'UNDERMINE', 'voter_counts': [0, 0, 1, 2, 0], 'evidence': [4273, 7796]}, {'pids': [4278], 'stance_label_3': 'UNDERMINE', 'stance_label_5': 'UNDERMINE', 'voter_counts': [0, 0, 0, 3, 0], 'evidence': [4275]}, {'pids': [4273, 24666], 'stance_label_3': 'UNDERMINE', 'stance_label_5': 'UNDERMINE', 'voter_counts': [0, 0, 1, 2, 0], 'evidence': [4270]}, {'pids': [4280], 'stance_label_3': 'UNDERMINE', 'stance_label_5': 'UNDERMINE', 'voter_counts': [0, 0, 0, 3, 0], 'evidence': [4277]}, {'pids': [4271], 'stance_label_3': 'UNDERMINE', 'stance_label_5': 'UNDERMINE', 'voter_counts': [0, 0, 1, 2, 0], 'evidence': [4268]}, {'pids': [4325, 24731, 24732], 'stance_label_3': 'UNDERMINE', 'stance_label_5': 'UNDERMINE', 'voter_counts': [0, 0, 1, 2, 0], 'evidence': [4322]}, {'pids': [4323, 24729, 24730], 'stance_label_3': 'UNDERMINE', 'stance_label_5': 'UNDERMINE', 'voter_counts': [0, 0, 0, 3, 0], 'evidence': [4316, 4320, 4319]}, {'pids': [4322, 24725, 24726, 24727, 24728], 'stance_label_3': 'UNDERMINE', 'stance_label_5': 'UNDERMINE', 'voter_counts': [0, 0, 0, 3, 0], 'evidence': [4319]}, {'pids': [4318, 24709, 24710, 24711, 24712], 'stance_label_3': 'UNDERMINE', 'stance_label_5': 'UNDERMINE', 'voter_counts': [0, 0, 0, 3, 0], 'evidence': [4315, 4316, 4319, 4320]}, {'pids': [24700], 'stance_label_3': 'SUPPORT', 'stance_label_5': 'SUPPORT', 'voter_counts': [2, 1, 0, 0, 0], 'evidence': [4312, 4308, 4310, 4313]}, {'pids': [4319, 24713, 24714, 24715, 24716], 'stance_label_3': 'UNDERMINE', 'stance_label_5': 'UNDERMINE', 'voter_counts': [0, 0, 0, 3, 0], 'evidence': [4316, 4319]}, {'pids': [4321, 24721, 24722, 24723, 24724], 'stance_label_3': 'UNDERMINE', 'stance_label_5': 'UNDERMINE', 'voter_counts': [0, 0, 0, 3, 0], 'evidence': []}, {'pids': [4320, 24717, 24718, 24719, 24720], 'stance_label_3': 'UNDERMINE', 'stance_label_5': 'UNDERMINE', 'voter_counts': [0, 0, 1, 2, 0], 'evidence': [4317]}]}\n",
      "Missing: 0\n",
      "Wrong: 8\n",
      "Wrong List: [3, 2, 567, 697, 10, 569, 11, 1004]\n"
     ]
    }
   ],
   "source": [
    "# Fix weird imparity (caused by previous faulty code)\n",
    "from copy import deepcopy\n",
    "\n",
    "get_all_changed_ones = set(list(fdf.cid1.unique()) + list(fdf.cid2.unique()))\n",
    "# get_all_changed_ones = {}\n",
    "\n",
    "oa_dict = {}\n",
    "for oc in oa:\n",
    "    oa_dict[oc[\"cId\"]] = oc\n",
    "    \n",
    "wrong = 0\n",
    "missing = 0\n",
    "change_cid_list = []\n",
    "\n",
    "for mc in ma:\n",
    "    cid = mc[\"cId\"]\n",
    "    \n",
    "    if cid not in oa_dict:\n",
    "        missing += 1\n",
    "    else:\n",
    "        oc = oa_dict[cid]\n",
    "\n",
    "        if cid not in get_all_changed_ones:\n",
    "            if oc != mc:\n",
    "                change_cid_list.append(cid)\n",
    "                wrong += 1\n",
    "                print(mc)\n",
    "\n",
    "print(\"Missing: {}\".format(missing))\n",
    "print(\"Wrong: {}\".format(wrong))\n",
    "print(\"Wrong List: {}\".format(change_cid_list))"
   ]
  },
  {
   "cell_type": "code",
   "execution_count": 21,
   "metadata": {},
   "outputs": [
    {
     "name": "stdout",
     "output_type": "stream",
     "text": [
      "Claim numbers = 908\n",
      "Deleting faulty perspectives...\n",
      "After Claim numbers = 900\n",
      "Adding back correct perspectives...\n",
      "Final Claim numbers = 908\n"
     ]
    }
   ],
   "source": [
    "# Applying the fixes and save'em\n",
    "print(\"Claim numbers = {}\".format(len(ma)))\n",
    "print(\"Deleting faulty perspectives...\")\n",
    "\n",
    "for cid in change_cid_list:\n",
    "    for mc in ma:\n",
    "        if mc[\"cId\"] == cid:\n",
    "            ma.pop(ma.index(mc))\n",
    "            break\n",
    "    \n",
    "print(\"After Claim numbers = {}\".format(len(ma)))\n",
    "print(\"Adding back correct perspectives...\")\n",
    "\n",
    "for cid in change_cid_list:\n",
    "    ma.append(deepcopy(oa_dict[cid]))\n",
    "\n",
    "print(\"Final Claim numbers = {}\".format(len(ma)))\n",
    "out_path = \"../data/dataset/temp/perspectrum_fixed.json\"\n",
    "json.dump(ma, open(out_path, 'w'))"
   ]
  },
  {
   "cell_type": "code",
   "execution_count": 32,
   "metadata": {},
   "outputs": [],
   "source": [
    "# Get the list of claims we haven't covered, and cluster them!\n",
    "all_checked_ones = set(list(fdf.cid1.unique()) + list(fdf.cid2.unique()))\n",
    "\n",
    "all_claims = set([oc[\"cId\"] for oc in oa])\n",
    "\n",
    "claims_remaining = all_claims - all_checked_ones\n",
    "\n",
    "with open(\"../data/dataset/temp/remaining_claims\", 'w') as fout:\n",
    "    for cid in claims_remaining:\n",
    "        fout.write(str(cid)+\"\\n\")"
   ]
  }
 ],
 "metadata": {
  "kernelspec": {
   "display_name": "Python 3",
   "language": "python",
   "name": "python3"
  },
  "language_info": {
   "codemirror_mode": {
    "name": "ipython",
    "version": 3
   },
   "file_extension": ".py",
   "mimetype": "text/x-python",
   "name": "python",
   "nbconvert_exporter": "python",
   "pygments_lexer": "ipython3",
   "version": "3.6.4"
  }
 },
 "nbformat": 4,
 "nbformat_minor": 2
}
