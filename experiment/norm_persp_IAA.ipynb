{
 "cells": [
  {
   "cell_type": "code",
   "execution_count": 1,
   "metadata": {},
   "outputs": [
    {
     "name": "stdout",
     "output_type": "stream",
     "text": [
      "<class 'pandas.core.frame.DataFrame'>\n",
      "RangeIndex: 18049 entries, 0 to 18048\n",
      "Data columns (total 6 columns):\n",
      "id                18049 non-null int64\n",
      "author            18049 non-null object\n",
      "claim_id          18049 non-null int64\n",
      "perspective_id    18049 non-null int64\n",
      "rel               18049 non-null object\n",
      "comment           0 non-null float64\n",
      "dtypes: float64(1), int64(3), object(2)\n",
      "memory usage: 846.1+ KB\n"
     ]
    }
   ],
   "source": [
    "import pandas as pd\n",
    "\n",
    "df = pd.read_csv(\"/home/squirrel/ccg-new/projects/perspective/data/idebate/norm_persp_annotations_batch2.csv\")\n",
    "df.info()"
   ]
  },
  {
   "cell_type": "code",
   "execution_count": 2,
   "metadata": {},
   "outputs": [
    {
     "name": "stdout",
     "output_type": "stream",
     "text": [
      "<class 'pandas.core.frame.DataFrame'>\n",
      "Int64Index: 13913 entries, 4136 to 18048\n",
      "Data columns (total 6 columns):\n",
      "id                13913 non-null int64\n",
      "author            13913 non-null object\n",
      "claim_id          13913 non-null int64\n",
      "perspective_id    13913 non-null int64\n",
      "rel               13913 non-null object\n",
      "comment           0 non-null float64\n",
      "dtypes: float64(1), int64(3), object(2)\n",
      "memory usage: 760.9+ KB\n",
      "<class 'pandas.core.frame.DataFrame'>\n",
      "Int64Index: 13879 entries, 4170 to 18048\n",
      "Data columns (total 6 columns):\n",
      "id                13879 non-null int64\n",
      "author            13879 non-null object\n",
      "claim_id          13879 non-null int64\n",
      "perspective_id    13879 non-null int64\n",
      "rel               13879 non-null object\n",
      "comment           0 non-null float64\n",
      "dtypes: float64(1), int64(3), object(2)\n",
      "memory usage: 759.0+ KB\n"
     ]
    }
   ],
   "source": [
    "# Drop GOLD and TEST annotations\n",
    "df = df[df.author != \"GOLD\"]\n",
    "df.info()\n",
    "df = df[df.author != \"TEST\"]\n",
    "df.info()"
   ]
  },
  {
   "cell_type": "code",
   "execution_count": 3,
   "metadata": {},
   "outputs": [
    {
     "name": "stdout",
     "output_type": "stream",
     "text": [
      "       id  author  claim_id  perspective_id  comment\n",
      "rel                                                 \n",
      "N    1870    1870      1870            1870        0\n",
      "S    6138    6138      6138            6138        0\n",
      "U    5871    5871      5871            5871        0\n"
     ]
    }
   ],
   "source": [
    "# Label Distributions\n",
    "print(df.groupby('rel').count())"
   ]
  },
  {
   "cell_type": "code",
   "execution_count": 66,
   "metadata": {},
   "outputs": [],
   "source": [
    "import numpy as np\n",
    "def fleiss_kappa_1d(arr):\n",
    "    \"\"\"\n",
    "    Easy version of fleiss kappa, where there is only one example\n",
    "    \"\"\"\n",
    "    \n",
    "    num_rater = np.sum(arr)\n",
    "#     print(num_rater)\n",
    "    p_e = np.sum(np.square(np.divide(arr, num_rater)))\n",
    "#     print(p_e)\n",
    "    p_o = 1/(num_rater * (num_rater - 1)) * (np.sum(np.square(arr)) - num_rater)\n",
    "#     print(p_o)\n",
    "    if p_e == 1: \n",
    "        return 1\n",
    "    else:\n",
    "        return (p_o - p_e) / (1 - p_e)\n"
   ]
  },
  {
   "cell_type": "code",
   "execution_count": 11,
   "metadata": {},
   "outputs": [
    {
     "name": "stdout",
     "output_type": "stream",
     "text": [
      "1222\n"
     ]
    }
   ],
   "source": [
    "# IAA analysis -- Macro Avg Fleiss' Kappa among claims \n",
    "# Using NLTK implementation \n",
    "# https://www.nltk.org/_modules/nltk/metrics/agreement.html\n",
    "from nltk.metrics.agreement import AnnotationTask\n",
    "import numpy as np\n",
    "\n",
    "claims = df.claim_id.unique()\n",
    "\n",
    "not_complete_author = {\n",
    "\"A1JRMSNROZ1JX5\",\n",
    "\"A2FARB7LA24AU8\",\n",
    "\"AWZR4H0QX23W4\",\n",
    "\"A149ROBL26JWPJ\",\n",
    "\"AWJUGWPCUGKEG\",\n",
    "\"A3U74S280Z4B0\",\n",
    "\"AUCHGHY1IKZZK\",\n",
    "\"A2SWQM5X54P1O5\",\n",
    "\"A1OFSWG4TA4VVR\",\n",
    "\"A1DNJ17PE2RYJZ\",\n",
    "\"A2541C8MY0BYV3\",\n",
    "\"A3QSFE6GKO157S\",\n",
    "\"A95RHRMLHT89M\",\n",
    "\"A1ZD8RU6YB0VEU\",\n",
    "\"AU2RMH9IZP60M\",\n",
    "\"A3C5G8LGIAW0XL\",\n",
    "\"AVI7K876BV3QL\",\n",
    "\"A3C70KUK27HI3Y\",\n",
    "\"A2TBXASXZIRNNW\",\n",
    "\"A14HW8I4RYHNC4\",\n",
    "\"A3RTXKL0EGLRDJ\",\n",
    "\"A52FUUEDGSZT9\",\n",
    "\"A2YR5M2I1YCH75\",\n",
    "\"A2TZA6QIDOHF0R\",\n",
    "\"A3TLI95L5GOBKG\",\n",
    "\"AROOCBM042SJD\",\n",
    "\"A2P065E9CYMYJL\",\n",
    "\"A2E5PZUD6W4OA1\",\n",
    "\"A2E5PZUD6W4OA1\",\n",
    "\"A1ZT30BGR3266K\",\n",
    "\"A3GKCB2D8O2ICZ\",\n",
    "\"A2C73Y1COWCA51\",\n",
    "\"A3RYI5HXC2MJLN\",\n",
    "\"A1YTNGH5SMM2CJ\",\n",
    "\"ALJMVJ1L3NUTE\",\n",
    "\"AQYYBOOF0846O\",\n",
    "\"A2B6WQG0A9CKXQ\",\n",
    "\"ALEJV7D94ZLHF\",\n",
    "\"A5J0OW727ZCWY\",\n",
    "}\n",
    "\n",
    "arr_al = []\n",
    "_data = []\n",
    "\n",
    "for cid in claims:\n",
    "    c_df = df[df.claim_id == cid]\n",
    "    c_df = c_df[~c_df.author.isin(not_complete_author)]\n",
    "    \n",
    "    persps = c_df.perspective_id.unique()\n",
    "    \n",
    "    for pid in persps:\n",
    "        p_df = c_df[c_df.perspective_id == pid]\n",
    "        \n",
    "        group = p_df.rel.value_counts()\n",
    "        \n",
    "        _s = _u = _n = 0\n",
    "        if \"S\" in group.index:\n",
    "            _s = group.S\n",
    "        if \"U\" in group.index:\n",
    "            _u = group.U\n",
    "        if \"N\" in group.index:\n",
    "            _n = group.N\n",
    "        \n",
    "        _data.append([cid, pid, _s, _u, _n])\n",
    "\n",
    "print(len(_data))\n",
    "with open(\"/mnt/e/pilot_batch2_result.csv\", 'w+') as fout:\n",
    "    fout.write(\"claim,perspective,sup,und,ns\\n\")\n",
    "    for entry in _data:\n",
    "        _entry = [str(x) for x in entry]\n",
    "        fout.write(\",\".join(_entry)+'\\n')\n",
    "\n",
    "    \n",
    "# for entry in _data\n",
    "    \n",
    "#     triples = []\n",
    "#     for idx, row in c_df.iterrows():\n",
    "#         triples.append((row.author, row.perspective_id, row.rel))\n",
    "    \n",
    "#     an = AnnotationTask(data=triples)\n",
    "#     k = an.multi_kappa()\n",
    "#     arr_al.append(k)\n",
    "\n",
    "# print(\"Avg IAA:{}\".format(np.mean(arr_al)))\n",
    "# print(\"Stddev:{}\".format(np.std(arr_al)))"
   ]
  },
  {
   "cell_type": "code",
   "execution_count": 65,
   "metadata": {},
   "outputs": [
    {
     "name": "stdout",
     "output_type": "stream",
     "text": [
      "30\n",
      "1.0\n",
      "1.0\n"
     ]
    },
    {
     "name": "stderr",
     "output_type": "stream",
     "text": [
      "/home/squirrel/anaconda3/lib/python3.6/site-packages/ipykernel_launcher.py:13: RuntimeWarning: invalid value encountered in double_scalars\n",
      "  del sys.path[0]\n"
     ]
    },
    {
     "data": {
      "text/plain": [
       "nan"
      ]
     },
     "execution_count": 65,
     "metadata": {},
     "output_type": "execute_result"
    }
   ],
   "source": [
    "fleiss_kappa_1d([30, 0 ,0])"
   ]
  }
 ],
 "metadata": {
  "kernelspec": {
   "display_name": "Python 3",
   "language": "python",
   "name": "python3"
  },
  "language_info": {
   "codemirror_mode": {
    "name": "ipython",
    "version": 3
   },
   "file_extension": ".py",
   "mimetype": "text/x-python",
   "name": "python",
   "nbconvert_exporter": "python",
   "pygments_lexer": "ipython3",
   "version": "3.6.4"
  }
 },
 "nbformat": 4,
 "nbformat_minor": 1
}
