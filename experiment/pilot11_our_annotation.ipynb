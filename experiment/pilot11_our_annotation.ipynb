{
 "cells": [
  {
   "cell_type": "code",
   "execution_count": 6,
   "metadata": {},
   "outputs": [
    {
     "name": "stdout",
     "output_type": "stream",
     "text": [
      "<class 'pandas.core.frame.DataFrame'>\n",
      "Int64Index: 684 entries, 157709 to 158392\n",
      "Data columns (total 6 columns):\n",
      "id                684 non-null int64\n",
      "author            684 non-null object\n",
      "claim_id          684 non-null int64\n",
      "perspective_id    684 non-null int64\n",
      "comment           684 non-null object\n",
      "rel               684 non-null object\n",
      "dtypes: int64(3), object(3)\n",
      "memory usage: 37.4+ KB\n"
     ]
    }
   ],
   "source": [
    "import pandas as pd\n",
    "\n",
    "raw_results_path = '/home/squirrel/ccg-new/projects/perspective/data/pilot11_our_annotation/webapp_perspectiverelation.csv'\n",
    "df = pd.read_csv(raw_results_path)\n",
    "\n",
    "df = df[(df.author == 'Sihao') | (df.author == 'Daniel')]\n",
    "df.info()"
   ]
  },
  {
   "cell_type": "code",
   "execution_count": 4,
   "metadata": {},
   "outputs": [],
   "source": [
    "save_path = '/home/squirrel/ccg-new/projects/perspective/data/pilot11_our_annotation/annotations.csv'\n",
    "\n",
    "df.to_csv(save_path)"
   ]
  },
  {
   "cell_type": "code",
   "execution_count": 8,
   "metadata": {},
   "outputs": [],
   "source": [
    "arr_al = []\n",
    "_data = []\n",
    "\n",
    "daniel_cid = df[df.author == 'Daniel'].claim_id.unique()\n",
    "sihao_cid = df[df.author == 'Sihao'].claim_id.unique()\n",
    "\n",
    "uni_cid = [i for i in daniel_cid if i in sihao_cid]\n",
    "\n",
    "for cid in uni_cid:\n",
    "    c_df = df[df.claim_id == cid]\n",
    "    uni_pid = c_df.perspective_id.unique()\n",
    "\n",
    "    for pid in uni_pid:\n",
    "        p_df = c_df[c_df.perspective_id == pid]\n",
    "\n",
    "        group = p_df.rel.value_counts()\n",
    "\n",
    "        _s = _u = _n = _ls = _lu =  0\n",
    "        if \"S\" in group.index:\n",
    "            _s = group.S\n",
    "        if \"U\" in group.index:\n",
    "            _u = group.U\n",
    "        if \"N\" in group.index:\n",
    "            _n = group.N\n",
    "        if \"A\" in group.index:\n",
    "            _ls = group.A\n",
    "        if \"B\" in group.index:\n",
    "            _lu = group.B        \n",
    "\n",
    "        _data.append([cid, pid, _s,_ls, _lu, _u, _n])\n",
    "\n",
    "with open(\"/home/squirrel/ccg-new/projects/perspective/data/pilot11_our_annotation/annotation_counts.csv\", 'w+') as fout:\n",
    "    fout.write(\"claim,perspective,sup,lsup,lund,und,ns\\n\")\n",
    "    for entry in _data:\n",
    "        _entry = [str(x) for x in entry]\n",
    "        fout.write(\",\".join(_entry)+'\\n')"
   ]
  },
  {
   "cell_type": "code",
   "execution_count": 26,
   "metadata": {},
   "outputs": [
    {
     "name": "stdout",
     "output_type": "stream",
     "text": [
      "<class 'pandas.core.frame.DataFrame'>\n",
      "RangeIndex: 327 entries, 0 to 326\n",
      "Data columns (total 7 columns):\n",
      "claim          327 non-null int64\n",
      "perspective    327 non-null int64\n",
      "sup            327 non-null int64\n",
      "lsup           327 non-null int64\n",
      "lund           327 non-null int64\n",
      "und            327 non-null int64\n",
      "ns             327 non-null int64\n",
      "dtypes: int64(7)\n",
      "memory usage: 18.0 KB\n",
      "<class 'pandas.core.frame.DataFrame'>\n",
      "RangeIndex: 8135 entries, 0 to 8134\n",
      "Data columns (total 7 columns):\n",
      "perspective     8135 non-null int64\n",
      "sup             8135 non-null int64\n",
      "lsup            8135 non-null int64\n",
      "lund            8135 non-null int64\n",
      "und             8135 non-null int64\n",
      "not_valid       8135 non-null int64\n",
      "P_i_3_labels    8135 non-null float64\n",
      "dtypes: float64(1), int64(6)\n",
      "memory usage: 445.0 KB\n",
      "<class 'pandas.core.frame.DataFrame'>\n",
      "RangeIndex: 19372 entries, 0 to 19371\n",
      "Data columns (total 8 columns):\n",
      "claim           19372 non-null int64\n",
      "perspective     19372 non-null int64\n",
      "sup             19372 non-null int64\n",
      "lsup            19372 non-null int64\n",
      "lund            19372 non-null int64\n",
      "und             19372 non-null int64\n",
      "not_valid       19372 non-null int64\n",
      "P_i_3_labels    19372 non-null float64\n",
      "dtypes: float64(1), int64(7)\n",
      "memory usage: 1.2 MB\n"
     ]
    }
   ],
   "source": [
    "df = pd.read_csv(\"/home/squirrel/ccg-new/projects/perspective/data/pilot11_our_annotation/annotation_counts.csv\")\n",
    "df.info()\n",
    "\n",
    "origin_iaa_path = '/home/squirrel/ccg-new/projects/perspective/data/pilot10_origin_step1/iaa.csv'\n",
    "\n",
    "odf = pd.read_csv(origin_iaa_path)\n",
    "odf = odf[['perspective', 'sup', 'lsup', 'lund', 'und', 'not_valid', 'P_i_3_labels']]\n",
    "odf.info()\n",
    "\n",
    "google_iaa_path = '/home/squirrel/ccg-new/projects/perspective/data/pilot9_google_step1/iaa.csv'\n",
    "\n",
    "gdf = pd.read_csv(google_iaa_path)\n",
    "gdf = gdf[['claim', 'perspective', 'sup', 'lsup', 'lund', 'und', 'not_valid', 'P_i_3_labels']]\n",
    "gdf.info()"
   ]
  },
  {
   "cell_type": "code",
   "execution_count": 32,
   "metadata": {},
   "outputs": [
    {
     "name": "stdout",
     "output_type": "stream",
     "text": [
      "<class 'pandas.core.frame.DataFrame'>\n",
      "Int64Index: 90 entries, 0 to 89\n",
      "Data columns (total 13 columns):\n",
      "claim           90 non-null int64\n",
      "perspective     90 non-null int64\n",
      "sup_x           90 non-null int64\n",
      "lsup_x          90 non-null int64\n",
      "lund_x          90 non-null int64\n",
      "und_x           90 non-null int64\n",
      "ns              90 non-null int64\n",
      "sup_y           90 non-null int64\n",
      "lsup_y          90 non-null int64\n",
      "lund_y          90 non-null int64\n",
      "und_y           90 non-null int64\n",
      "not_valid       90 non-null int64\n",
      "P_i_3_labels    90 non-null float64\n",
      "dtypes: float64(1), int64(12)\n",
      "memory usage: 9.8 KB\n",
      "<class 'pandas.core.frame.DataFrame'>\n",
      "Int64Index: 237 entries, 0 to 236\n",
      "Data columns (total 13 columns):\n",
      "claim           237 non-null int64\n",
      "perspective     237 non-null int64\n",
      "sup_x           237 non-null int64\n",
      "lsup_x          237 non-null int64\n",
      "lund_x          237 non-null int64\n",
      "und_x           237 non-null int64\n",
      "ns              237 non-null int64\n",
      "sup_y           237 non-null int64\n",
      "lsup_y          237 non-null int64\n",
      "lund_y          237 non-null int64\n",
      "und_y           237 non-null int64\n",
      "not_valid       237 non-null int64\n",
      "P_i_3_labels    237 non-null float64\n",
      "dtypes: float64(1), int64(12)\n",
      "memory usage: 25.9 KB\n"
     ]
    }
   ],
   "source": [
    "\n",
    "\n",
    "merged_df = pd.merge(df, odf, left_on=\"perspective\", right_on=\"perspective\")\n",
    "merged_df.info()\n",
    "\n",
    "merged_df_2 = pd.merge(df, gdf, left_on=[\"claim\", \"perspective\"], right_on=[\"claim\", \"perspective\"])\n",
    "merged_df_2.info()\n",
    "\n",
    "merged_df.to_csv(\"/home/squirrel/ccg-new/projects/perspective/data/pilot11_our_annotation/original.csv\")\n",
    "merged_df_2.to_csv(\"/home/squirrel/ccg-new/projects/perspective/data/pilot11_our_annotation/google.csv\")\n"
   ]
  },
  {
   "cell_type": "code",
   "execution_count": 16,
   "metadata": {},
   "outputs": [
    {
     "name": "stdout",
     "output_type": "stream",
     "text": [
      "<class 'pandas.core.frame.DataFrame'>\n",
      "RangeIndex: 327 entries, 0 to 326\n",
      "Data columns (total 8 columns):\n",
      "claim_id          327 non-null int64\n",
      "perspective_id    327 non-null int64\n",
      "author1           327 non-null object\n",
      "rel1              327 non-null object\n",
      "author2           327 non-null object\n",
      "rel2              327 non-null object\n",
      "claim_title       327 non-null object\n",
      "persp_title       327 non-null object\n",
      "dtypes: int64(2), object(6)\n",
      "memory usage: 20.5+ KB\n"
     ]
    }
   ],
   "source": [
    "path = \"/home/squirrel/ccg-new/projects/perspective/data/pilot11_our_annotation/side_by_side.csv\"\n",
    "\n",
    "adf = pd.read_csv(path)\n",
    "\n",
    "c_path = \"/home/squirrel/ccg-new/projects/perspective/data/database_output/webapp_claim.csv\"\n",
    "p_path = \"/home/squirrel/ccg-new/projects/perspective/data/database_output/re-step1/webapp_perspective.csv\"\n",
    "\n",
    "cdf = pd.read_csv(c_path)\n",
    "pdf = pd.read_csv(p_path)\n",
    "\n",
    "adf[\"claim_title\"] = \"\"\n",
    "adf[\"persp_title\"] = \"\"\n",
    "\n",
    "adf.info()\n",
    "\n",
    "for idx, row in adf.iterrows():\n",
    "    adf.at[idx, \"claim_title\"] = cdf.loc[cdf.id == row.claim_id].iloc[0].title\n",
    "    adf.at[idx, \"persp_title\"] = pdf.loc[pdf.id == row.perspective_id].iloc[0].title\n",
    "\n",
    "adf.to_csv(\"/home/squirrel/ccg-new/projects/perspective/data/pilot11_our_annotation/side_by_side_annotated.csv\")"
   ]
  },
  {
   "cell_type": "code",
   "execution_count": 41,
   "metadata": {},
   "outputs": [
    {
     "name": "stdout",
     "output_type": "stream",
     "text": [
      "Vote accuracy: 0.6232032854209446\n",
      "Majority vote accuracy: 0.6238532110091743\n"
     ]
    }
   ],
   "source": [
    "import pandas as pd\n",
    "\"\"\"\n",
    "Comparing AMT results from our gold annotation\n",
    "\"\"\"\n",
    "path = \"/home/squirrel/ccg-new/projects/perspective/data/pilot11_our_annotation/amt_result_vs_ours.csv\"\n",
    "\n",
    "df = pd.read_csv(path)\n",
    "\n",
    "# Metric 1: vote\n",
    "vote_correct = 0\n",
    "vote_total = 0\n",
    "maj_vote_correct = 0\n",
    "maj_vote_total = len(df.index)\n",
    "\n",
    "df[\"pred\"] = df[[\"S\", \"U\", \"N\"]].apply(lambda s: s.nlargest(2).index.tolist(), axis=1)\n",
    "\n",
    "df[\"total_vote\"] = df[\"S\"] + df[\"U\"] + df[\"N\"]\n",
    "df[\"maj_vote\"] = \"\"\n",
    "df[\"source\"] = \"\"\n",
    "\n",
    "\n",
    "for idx, row in df.iterrows():\n",
    "    id0 = row.pred[0]\n",
    "    id1 = row.pred[1]\n",
    "    maj_vote = \"NULL\"\n",
    "    if row[id0] != row[id1]:\n",
    "        maj_vote = id0\n",
    "        \n",
    "        if id0 == row.gold.strip():\n",
    "            maj_vote_correct += 1\n",
    "        \n",
    "    df.at[idx, \"maj_vote\"] = maj_vote\n",
    "    df.at[idx, \"source\"] = \"google\" if row.perspective > 8136 else \"original\"\n",
    "        \n",
    "    vote_total += row.S + row.U + row.N\n",
    "    vote_correct += row[row.gold.strip()] \n",
    "\n",
    "print(\"Vote accuracy: {}\".format(vote_correct/vote_total))\n",
    "print(\"Majority vote accuracy: {}\".format(maj_vote_correct/maj_vote_total))\n",
    "\n",
    "out_path = \"/home/squirrel/ccg-new/projects/perspective/data/pilot11_our_annotation/amt_result_vs_ours_annotated.csv\"\n",
    "df.to_csv(out_path)"
   ]
  },
  {
   "cell_type": "code",
   "execution_count": 39,
   "metadata": {},
   "outputs": [
    {
     "name": "stdout",
     "output_type": "stream",
     "text": [
      "Vote accuracy: 0.7898550724637681\n",
      "Majority vote accuracy: 0.7777777777777778\n"
     ]
    }
   ],
   "source": [
    "# Accuracy: Originals perspectives only\n",
    "odf = df.loc[df.perspective < 8136]\n",
    "\n",
    "# Metric 1: vote\n",
    "vote_correct = 0\n",
    "vote_total = 0\n",
    "maj_vote_correct = 0\n",
    "maj_vote_total = len(odf.index)\n",
    "\n",
    "\n",
    "\n",
    "for idx, row in odf.iterrows():\n",
    "    id0 = row.pred[0]\n",
    "    id1 = row.pred[1]\n",
    "    if row[id0] != row[id1]:\n",
    "        if id0 == row.gold.strip():\n",
    "            maj_vote_correct += 1\n",
    "    vote_total += row.S + row.U + row.N\n",
    "    vote_correct += row[row.gold.strip()] \n",
    "\n",
    "print(\"Vote accuracy: {}\".format(vote_correct/vote_total))\n",
    "print(\"Majority vote accuracy: {}\".format(maj_vote_correct/maj_vote_total))"
   ]
  },
  {
   "cell_type": "code",
   "execution_count": 40,
   "metadata": {},
   "outputs": [
    {
     "name": "stdout",
     "output_type": "stream",
     "text": [
      "Vote accuracy: 0.5573065902578797\n",
      "Majority vote accuracy: 0.5654008438818565\n"
     ]
    }
   ],
   "source": [
    "# Accuracy: google perspectives only\n",
    "gdf = df.loc[df.perspective >= 8136]\n",
    "\n",
    "# Metric 1: vote\n",
    "vote_correct = 0\n",
    "vote_total = 0\n",
    "maj_vote_correct = 0\n",
    "maj_vote_total = len(gdf.index)\n",
    "\n",
    "for idx, row in gdf.iterrows():\n",
    "    id0 = row.pred[0]\n",
    "    id1 = row.pred[1]\n",
    "    if row[id0] != row[id1]:\n",
    "        if id0 == row.gold.strip():\n",
    "            maj_vote_correct += 1\n",
    "    vote_total += row.S + row.U + row.N\n",
    "    vote_correct += row[row.gold.strip()] \n",
    "\n",
    "print(\"Vote accuracy: {}\".format(vote_correct/vote_total))\n",
    "print(\"Majority vote accuracy: {}\".format(maj_vote_correct/maj_vote_total))"
   ]
  },
  {
   "cell_type": "code",
   "execution_count": 88,
   "metadata": {},
   "outputs": [
    {
     "data": {
      "image/png": "[encoded data removed]",
      "text/plain": [
       "<Figure size 432x288 with 1 Axes>"
      ]
     },
     "metadata": {},
     "output_type": "display_data"
    }
   ],
   "source": [
    "import numpy as np\n",
    "import scipy.interpolate as interpolate\n",
    "import matplotlib.pyplot as plt\n",
    "\n",
    "def calc_th_vs_accuracy(df, data_points=20):\n",
    "    samples = np.arange(0, 1.001, 1/data_points)\n",
    "    th_list = []\n",
    "    accuracy_list = []\n",
    "    for th in samples:\n",
    "        sub_df = df.loc[df.pi >= th]\n",
    "        accuracy = len(sub_df.loc[sub_df.gold == sub_df.maj_vote].index) / len(sub_df.index) \n",
    "        th_list.append(th)\n",
    "        accuracy_list.append(accuracy)\n",
    "    \n",
    "    return th_list, accuracy_list\n",
    "\n",
    "\n",
    "\n",
    "path = \"/home/squirrel/ccg-new/projects/perspective/data/pilot11_our_annotation/amt_result_vs_ours_with_pi.csv\"\n",
    "\n",
    "df = pd.read_csv(path)\n",
    "\n",
    "th_list, accuracy_list = calc_th_vs_accuracy(df.loc[df.source == 'google'])\n",
    "t, c, k = interpolate.splrep(th_list, accuracy_list, k=3)\n",
    "xnew = np.linspace(0,1,100)\n",
    "spline = interpolate.BSpline(t, c, k, extrapolate=False)\n",
    "plt.plot(xnew,spline(xnew), '-b', label=\"Google\")\n",
    "\n",
    "th_list, accuracy_list = calc_th_vs_accuracy(df.loc[df.source == 'original'])\n",
    "t, c, k = interpolate.splrep(th_list, accuracy_list, k=3)\n",
    "xnew = np.linspace(0,1,100)\n",
    "spline = interpolate.BSpline(t, c, k, extrapolate=False)\n",
    "plt.plot(xnew,spline(xnew), '-r', label=\"Original\")\n",
    "\n",
    "plt.title('Filter threshold vs. Accuracy')\n",
    "plt.xlabel('Threshold')\n",
    "plt.ylabel('Accuracy')\n",
    "plt.axis((0,1,0,1))\n",
    "plt.legend()\n",
    "\n",
    "plt.show()\n",
    "\n",
    "\n",
    "    "
   ]
  },
  {
   "cell_type": "code",
   "execution_count": 91,
   "metadata": {},
   "outputs": [
    {
     "data": {
      "image/png": "[encoded data removed]",
      "text/plain": [
       "<Figure size 432x288 with 1 Axes>"
      ]
     },
     "metadata": {},
     "output_type": "display_data"
    }
   ],
   "source": [
    "def calc_th_vs_counts(df, data_points=25):\n",
    "    samples = np.arange(0, 1.00001, 1/data_points)\n",
    "    th_list = []\n",
    "    count_list = []\n",
    "    for th in samples:\n",
    "        sub_df = df.loc[df[\"P_i_3_labels\"] >= th]\n",
    "        c = len(sub_df.index) \n",
    "        th_list.append(th)\n",
    "        count_list.append(c/len(df.index))\n",
    "    \n",
    "    return th_list, count_list\n",
    "\n",
    "plt.figure(2)\n",
    "\n",
    "# Original \n",
    "origin_path = \"/home/squirrel/ccg-new/projects/perspective/data/pilot10_origin_step1/iaa.csv\"\n",
    "df = pd.read_csv(origin_path)\n",
    "th_list, count_list = calc_th_vs_counts(df)\n",
    "t, c, k = interpolate.splrep(th_list, count_list, k=3)\n",
    "xnew = np.linspace(0,1,100)\n",
    "spline = interpolate.BSpline(t, c, k, extrapolate=False)\n",
    "plt.plot(xnew,spline(xnew), '-r', label=\"Original\")\n",
    "\n",
    "# Google\n",
    "google_path = \"/home/squirrel/ccg-new/projects/perspective/data/pilot9_google_step1/iaa.csv\"\n",
    "df = pd.read_csv(google_path)\n",
    "th_list, count_list = calc_th_vs_counts(df)\n",
    "t, c, k = interpolate.splrep(th_list, count_list, k=3)\n",
    "xnew = np.linspace(0,1,100)\n",
    "spline = interpolate.BSpline(t, c, k, extrapolate=False)\n",
    "plt.plot(xnew,spline(xnew), '-b', label=\"Google\")\n",
    "\n",
    "plt.title('Filter threshold vs. Retain percentage')\n",
    "plt.xlabel('Threshold')\n",
    "plt.ylabel('Percent perspective remain')\n",
    "plt.axis((0,1,0,1))\n",
    "plt.legend()\n",
    "\n",
    "plt.show()"
   ]
  }
 ],
 "metadata": {
  "kernelspec": {
   "display_name": "Python 3",
   "language": "python",
   "name": "python3"
  },
  "language_info": {
   "codemirror_mode": {
    "name": "ipython",
    "version": 3
   },
   "file_extension": ".py",
   "mimetype": "text/x-python",
   "name": "python",
   "nbconvert_exporter": "python",
   "pygments_lexer": "ipython3",
   "version": "3.6.4"
  }
 },
 "nbformat": 4,
 "nbformat_minor": 2
}
