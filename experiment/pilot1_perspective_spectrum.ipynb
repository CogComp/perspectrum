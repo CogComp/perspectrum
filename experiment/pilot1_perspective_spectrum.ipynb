{
 "cells": [
  {
   "cell_type": "code",
   "execution_count": 1,
   "metadata": {},
   "outputs": [
    {
     "name": "stdout",
     "output_type": "stream",
     "text": [
      "<class 'pandas.core.frame.DataFrame'>\n",
      "RangeIndex: 4743 entries, 0 to 4742\n",
      "Data columns (total 13 columns):\n",
      "claim                   4743 non-null int64\n",
      "perspective             4743 non-null int64\n",
      "sup                     4743 non-null int64\n",
      "und                     4743 non-null int64\n",
      "ns                      4743 non-null int64\n",
      "suporting (scaled)      4743 non-null float64\n",
      "undermining (scaled)    4743 non-null float64\n",
      "not sure (scaled)       4743 non-null float64\n",
      "P_i                     4743 non-null float64\n",
      "Total                   4743 non-null int64\n",
      "id                      4743 non-null int64\n",
      "source                  4743 non-null object\n",
      "title                   4743 non-null object\n",
      "dtypes: float64(4), int64(7), object(2)\n",
      "memory usage: 481.8+ KB\n"
     ]
    }
   ],
   "source": [
    "# Here we are trying to plot the distribution of perspective on a spectrum of 'support' to 'oppose'\n",
    "import pandas as pd\n",
    "iaa_path = \"/home/squirrel/ccg-new/projects/perspective/data/pilot1_persp_verification/persp_iaa_w_source.csv\"\n",
    "\n",
    "iaa_df = pd.read_csv(iaa_path)\n",
    "iaa_df.info()\n"
   ]
  },
  {
   "cell_type": "code",
   "execution_count": null,
   "metadata": {},
   "outputs": [],
   "source": []
  }
 ],
 "metadata": {
  "kernelspec": {
   "display_name": "Python 3",
   "language": "python",
   "name": "python3"
  },
  "language_info": {
   "codemirror_mode": {
    "name": "ipython",
    "version": 3
   },
   "file_extension": ".py",
   "mimetype": "text/x-python",
   "name": "python",
   "nbconvert_exporter": "python",
   "pygments_lexer": "ipython3",
   "version": "3.6.4"
  }
 },
 "nbformat": 4,
 "nbformat_minor": 2
}
