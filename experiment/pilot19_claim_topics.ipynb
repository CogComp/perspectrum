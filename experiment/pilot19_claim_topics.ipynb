{
 "cells": [
  {
   "cell_type": "code",
   "execution_count": 6,
   "metadata": {},
   "outputs": [
    {
     "name": "stdout",
     "output_type": "stream",
     "text": [
      "<class 'pandas.core.frame.DataFrame'>\n",
      "RangeIndex: 8966 entries, 0 to 8965\n",
      "Data columns (total 4 columns):\n",
      "id          8966 non-null int64\n",
      "author      8966 non-null object\n",
      "claim_id    8966 non-null int64\n",
      "topics      8966 non-null object\n",
      "dtypes: int64(2), object(2)\n",
      "memory usage: 280.3+ KB\n"
     ]
    }
   ],
   "source": [
    "import pandas as pd\n",
    "import json \n",
    "\n",
    "topic_annotation_table = \"../data/pilot19_claim_topics/webapp_topicannotation.csv\"\n",
    "claims_path = \"../data/dataset/perspectrum_with_answers_v0.1.json\"\n",
    "\n",
    "df = pd.read_csv(topic_annotation_table)\n",
    "claims = json.load(open(claims_path))\n",
    "\n",
    "df.info()"
   ]
  },
  {
   "cell_type": "code",
   "execution_count": 8,
   "metadata": {},
   "outputs": [
    {
     "name": "stdout",
     "output_type": "stream",
     "text": [
      "[909]\n"
     ]
    }
   ],
   "source": [
    "# Find how many claims we didn't cover in crowdsourcing\n",
    "\n",
    "claims_ids = [c[\"cId\"] for c in claims]\n",
    "covered_cids = set(df.claim_id.unique().tolist())\n",
    "\n",
    "missed_cids = sorted([cid for cid in claims_ids if cid not in covered_cids])\n",
    "\n",
    "the_bin = []\n",
    "\n",
    "print(missed_cids)\n"
   ]
  },
  {
   "cell_type": "code",
   "execution_count": 15,
   "metadata": {},
   "outputs": [],
   "source": [
    "# build a histogram of category counts\n",
    "topic_hist = {}\n",
    "all_topics = df.topics.unique().tolist()\n",
    "\n",
    "all_claims = sorted(df.claim_id.unique())\n",
    "\n",
    "for cid in all_claims:\n",
    "    topic_hist[cid] = [0 for k in all_topics]\n",
    "    \n",
    "for idx, row in df.iterrows():\n",
    "    topic_hist[row.claim_id][all_topics.index(row.topics)] += 1\n",
    "\n",
    "out_path = \"../data/pilot19_claim_topics/topic_hist.csv\"\n",
    "\n",
    "with open(out_path, 'w') as fout:\n",
    "    fout.write(\"claim_id,\" + \",\".join(all_topics)+\"\\n\")\n",
    "    \n",
    "    for cid in all_claims:\n",
    "        counts = topic_hist[cid]\n",
    "        fout.write(str(cid) + \",\" + \",\".join([str(x) for x in counts]))\n",
    "        fout.write('\\n')"
   ]
  },
  {
   "cell_type": "code",
   "execution_count": 23,
   "metadata": {},
   "outputs": [
    {
     "name": "stdout",
     "output_type": "stream",
     "text": [
      "<class 'pandas.core.frame.DataFrame'>\n",
      "RangeIndex: 1006 entries, 0 to 1005\n",
      "Data columns (total 20 columns):\n",
      "claim_id                     1006 non-null int64\n",
      "world_international          1006 non-null int64\n",
      "politics                     1006 non-null int64\n",
      "environment                  1006 non-null int64\n",
      "education                    1006 non-null int64\n",
      "digital_freedom              1006 non-null int64\n",
      "economy                      1006 non-null int64\n",
      "science_and_technology       1006 non-null int64\n",
      "law                          1006 non-null int64\n",
      "culture                      1006 non-null int64\n",
      "health_and_medicine          1006 non-null int64\n",
      "philosophy                   1006 non-null int64\n",
      "religion                     1006 non-null int64\n",
      "society                      1006 non-null int64\n",
      "freedom_of_speech            1006 non-null int64\n",
      "sports_and_entertainments    1006 non-null int64\n",
      "human_rights                 1006 non-null int64\n",
      "gender                       1006 non-null int64\n",
      "ethics                       1006 non-null int64\n",
      "total count of topics        1006 non-null float64\n",
      "dtypes: float64(1), int64(19)\n",
      "memory usage: 157.3 KB\n"
     ]
    }
   ],
   "source": [
    "agg_count_path = \"../data/pilot19_claim_topics/aggreated_counts.csv\"\n",
    "\n",
    "df = pd.read_csv(agg_count_path)\n",
    "df.info()\n",
    "\n",
    "topic_data = []\n",
    "\n",
    "for idx, row in df.iterrows():\n",
    "    d = row.to_dict()\n",
    "    topics = [key for key, val in d.items() if val == 1 and key not in [\"claim_id\", \"total count of topics \"]]\n",
    "    topic_data.append({\n",
    "        \"claim_id\" : int(row.claim_id),\n",
    "        \"topics\" : topics\n",
    "    })\n",
    "    \n",
    "out_path = '../data/dataset/topic_data.json'\n",
    "\n",
    "json.dump(topic_data, open(out_path, 'w'))"
   ]
  },
  {
   "cell_type": "code",
   "execution_count": 24,
   "metadata": {},
   "outputs": [],
   "source": [
    "claim_v2 = '../data/dataset/v0.2/perspectrum_with_answers_v0.2.json'\n",
    "\n",
    "claims = json.load(open(claim_v2, 'r'))\n",
    "\n",
    "topic_dict = {}\n",
    "\n",
    "for c in topic_data:\n",
    "    topic_dict[c[\"claim_id\"]] = c[\"topics\"]\n",
    "    \n",
    "for c in claims:\n",
    "    cid = c[\"cId\"]\n",
    "    c['topics'] =  topic_dict[cid]\n",
    "    \n",
    "out_path = '../data/dataset/v0.2/perspectrum_with_answers_topic_v0.2.json'\n",
    "json.dump(claims, open(out_path, 'w'))"
   ]
  },
  {
   "cell_type": "code",
   "execution_count": null,
   "metadata": {},
   "outputs": [],
   "source": []
  }
 ],
 "metadata": {
  "kernelspec": {
   "display_name": "Python 3",
   "language": "python",
   "name": "python3"
  },
  "language_info": {
   "codemirror_mode": {
    "name": "ipython",
    "version": 3
   },
   "file_extension": ".py",
   "mimetype": "text/x-python",
   "name": "python",
   "nbconvert_exporter": "python",
   "pygments_lexer": "ipython3",
   "version": "3.6.4"
  }
 },
 "nbformat": 4,
 "nbformat_minor": 2
}
