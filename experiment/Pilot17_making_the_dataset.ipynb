{
 "cells": [
  {
   "cell_type": "code",
   "execution_count": 20,
   "metadata": {},
   "outputs": [
    {
     "name": "stdout",
     "output_type": "stream",
     "text": [
      "<class 'pandas.core.frame.DataFrame'>\n",
      "Int64Index: 4675 entries, 8137 to 20797\n",
      "Data columns (total 7 columns):\n",
      "id                       4675 non-null int64\n",
      "source                   4675 non-null object\n",
      "title                    4675 non-null object\n",
      "pilot1_high_agreement    4675 non-null int64\n",
      "similar_persps           4675 non-null object\n",
      "more_than_two_tokens     4675 non-null int64\n",
      "pilot1_have_stance       4675 non-null int64\n",
      "dtypes: int64(4), object(3)\n",
      "memory usage: 292.2+ KB\n"
     ]
    }
   ],
   "source": [
    "# First, use heuristics to get google perspectives that are not valid but are complete sentences.\n",
    "import pandas as pd\n",
    "\n",
    "perspective_db_path = \"../data/database_output/re-step1/webapp_perspective.csv\"\n",
    "\n",
    "pdf = pd.read_csv(perspective_db_path).dropna()\n",
    "\n",
    "# Only keep the google ones that (1) high agreement (2) Non-valid perspective\n",
    "pdf = pdf[(pdf.pilot1_high_agreement == 1) & (pdf.pilot1_have_stance == 0) & (pdf.source == 'google')]\n",
    "pdf.info()"
   ]
  },
  {
   "cell_type": "code",
   "execution_count": 26,
   "metadata": {},
   "outputs": [
    {
     "name": "stdout",
     "output_type": "stream",
     "text": [
      "<class 'pandas.core.frame.DataFrame'>\n",
      "Int64Index: 2427 entries, 8148 to 20792\n",
      "Data columns (total 8 columns):\n",
      "id                       2427 non-null int64\n",
      "source                   2427 non-null object\n",
      "title                    2427 non-null object\n",
      "pilot1_high_agreement    2427 non-null int64\n",
      "similar_persps           2427 non-null object\n",
      "more_than_two_tokens     2427 non-null int64\n",
      "pilot1_have_stance       2427 non-null int64\n",
      "legit_sentence           2427 non-null bool\n",
      "dtypes: bool(1), int64(4), object(3)\n",
      "memory usage: 154.1+ KB\n"
     ]
    }
   ],
   "source": [
    "# Produce ids of the google perspectives that (1) high agreement (2) Non-valid perspective\n",
    "from nltk import word_tokenize\n",
    "import json\n",
    "\n",
    "def complete_sentence_candidate(text, token_length=5):\n",
    "    text = text.rstrip()\n",
    "    toks = word_tokenize(text)\n",
    "    legit = text[0].isupper() and toks[-1] == '.' and len(toks) > token_length\n",
    "    return legit\n",
    "\n",
    "pdf['legit_sentence'] = False\n",
    "for idx, row in pdf.iterrows():\n",
    "    if complete_sentence_candidate(row.title):\n",
    "        pdf.at[idx, \"legit_sentence\"] = True\n",
    "\n",
    "legit_sent_pdf = pdf[pdf.legit_sentence == True]\n",
    "legit_sent_pdf.info()\n",
    "\n",
    "index = legit_sent_pdf.id.unique().tolist()\n",
    "indices_out_path = \"../data/pilot17_making_the_dataset/indices/non_valid_high_agreement_google_persps.json\"\n",
    "with open(indices_out_path, 'w') as fout:\n",
    "    json.dump(index, fout)"
   ]
  },
  {
   "cell_type": "code",
   "execution_count": 55,
   "metadata": {},
   "outputs": [
    {
     "name": "stdout",
     "output_type": "stream",
     "text": [
      "<class 'pandas.core.frame.DataFrame'>\n",
      "Int64Index: 3985 entries, 0 to 8133\n",
      "Data columns (total 7 columns):\n",
      "id                       3985 non-null int64\n",
      "source                   3985 non-null object\n",
      "title                    3985 non-null object\n",
      "pilot1_high_agreement    3985 non-null int64\n",
      "similar_persps           3985 non-null object\n",
      "more_than_two_tokens     3985 non-null int64\n",
      "pilot1_have_stance       3985 non-null int64\n",
      "dtypes: int64(4), object(3)\n",
      "memory usage: 249.1+ KB\n",
      "<class 'pandas.core.frame.DataFrame'>\n",
      "Int64Index: 3985 entries, 19372 to 23602\n",
      "Data columns (total 12 columns):\n",
      "id                        3985 non-null int64\n",
      "claim_id                  3985 non-null int64\n",
      "perspective_id            3985 non-null int64\n",
      "vote_support              3985 non-null int64\n",
      "vote_leaning_support      3985 non-null int64\n",
      "vote_leaning_undermine    3985 non-null int64\n",
      "vote_undermine            3985 non-null int64\n",
      "vote_not_valid            3985 non-null int64\n",
      "p_i_5                     3985 non-null float64\n",
      "p_i_3                     3985 non-null float64\n",
      "label_3                   3985 non-null object\n",
      "label_5                   3985 non-null object\n",
      "dtypes: float64(2), int64(8), object(2)\n",
      "memory usage: 404.7+ KB\n"
     ]
    },
    {
     "ename": "AttributeError",
     "evalue": "'DataFrame' object has no attribute 'claim_id'",
     "output_type": "error",
     "traceback": [
      "\u001b[0;31m---------------------------------------------------------------------------\u001b[0m",
      "\u001b[0;31mAttributeError\u001b[0m                            Traceback (most recent call last)",
      "\u001b[0;32m<ipython-input-55-ae65d9ea1168>\u001b[0m in \u001b[0;36m<module>\u001b[0;34m()\u001b[0m\n\u001b[1;32m     19\u001b[0m \u001b[0mclaim_persp_count_df\u001b[0m \u001b[0;34m=\u001b[0m \u001b[0mstep1_df\u001b[0m\u001b[0;34m[\u001b[0m\u001b[0;34m[\u001b[0m\u001b[0;34m'claim_id'\u001b[0m\u001b[0;34m,\u001b[0m \u001b[0;34m'perspective_id'\u001b[0m\u001b[0;34m]\u001b[0m\u001b[0;34m]\u001b[0m\u001b[0;34m.\u001b[0m\u001b[0mgroupby\u001b[0m\u001b[0;34m(\u001b[0m\u001b[0;34m[\u001b[0m\u001b[0;34m'claim_id'\u001b[0m\u001b[0;34m]\u001b[0m\u001b[0;34m)\u001b[0m\u001b[0;34m.\u001b[0m\u001b[0mcount\u001b[0m\u001b[0;34m(\u001b[0m\u001b[0;34m)\u001b[0m\u001b[0;34m\u001b[0m\u001b[0m\n\u001b[1;32m     20\u001b[0m \u001b[0mclaim_persp_count_df\u001b[0m \u001b[0;34m=\u001b[0m \u001b[0mclaim_persp_count_df\u001b[0m\u001b[0;34m[\u001b[0m\u001b[0mclaim_persp_count_df\u001b[0m\u001b[0;34m.\u001b[0m\u001b[0mperspective_id\u001b[0m \u001b[0;34m>\u001b[0m \u001b[0;36m10\u001b[0m\u001b[0;34m]\u001b[0m\u001b[0;34m\u001b[0m\u001b[0m\n\u001b[0;32m---> 21\u001b[0;31m \u001b[0mclaim_ids\u001b[0m \u001b[0;34m=\u001b[0m \u001b[0mclaim_persp_count_df\u001b[0m\u001b[0;34m.\u001b[0m\u001b[0mclaim_id\u001b[0m\u001b[0;34m.\u001b[0m\u001b[0munique\u001b[0m\u001b[0;34m(\u001b[0m\u001b[0;34m)\u001b[0m\u001b[0;34m\u001b[0m\u001b[0m\n\u001b[0m\u001b[1;32m     22\u001b[0m \u001b[0;34m\u001b[0m\u001b[0m\n\u001b[1;32m     23\u001b[0m \u001b[0mmany_p_df\u001b[0m \u001b[0;34m=\u001b[0m \u001b[0mstep1_df\u001b[0m\u001b[0;34m.\u001b[0m\u001b[0mloc\u001b[0m\u001b[0;34m[\u001b[0m\u001b[0mstep1_df\u001b[0m\u001b[0;34m[\u001b[0m\u001b[0;34m\"claim_id\"\u001b[0m\u001b[0;34m]\u001b[0m\u001b[0;34m.\u001b[0m\u001b[0misin\u001b[0m\u001b[0;34m(\u001b[0m\u001b[0mclaim_ids\u001b[0m\u001b[0;34m)\u001b[0m\u001b[0;34m]\u001b[0m\u001b[0;34m\u001b[0m\u001b[0m\n",
      "\u001b[0;32m~/anaconda3/lib/python3.6/site-packages/pandas/core/generic.py\u001b[0m in \u001b[0;36m__getattr__\u001b[0;34m(self, name)\u001b[0m\n\u001b[1;32m   4374\u001b[0m             \u001b[0;32mif\u001b[0m \u001b[0mself\u001b[0m\u001b[0;34m.\u001b[0m\u001b[0m_info_axis\u001b[0m\u001b[0;34m.\u001b[0m\u001b[0m_can_hold_identifiers_and_holds_name\u001b[0m\u001b[0;34m(\u001b[0m\u001b[0mname\u001b[0m\u001b[0;34m)\u001b[0m\u001b[0;34m:\u001b[0m\u001b[0;34m\u001b[0m\u001b[0m\n\u001b[1;32m   4375\u001b[0m                 \u001b[0;32mreturn\u001b[0m \u001b[0mself\u001b[0m\u001b[0;34m[\u001b[0m\u001b[0mname\u001b[0m\u001b[0;34m]\u001b[0m\u001b[0;34m\u001b[0m\u001b[0m\n\u001b[0;32m-> 4376\u001b[0;31m             \u001b[0;32mreturn\u001b[0m \u001b[0mobject\u001b[0m\u001b[0;34m.\u001b[0m\u001b[0m__getattribute__\u001b[0m\u001b[0;34m(\u001b[0m\u001b[0mself\u001b[0m\u001b[0;34m,\u001b[0m \u001b[0mname\u001b[0m\u001b[0;34m)\u001b[0m\u001b[0;34m\u001b[0m\u001b[0m\n\u001b[0m\u001b[1;32m   4377\u001b[0m \u001b[0;34m\u001b[0m\u001b[0m\n\u001b[1;32m   4378\u001b[0m     \u001b[0;32mdef\u001b[0m \u001b[0m__setattr__\u001b[0m\u001b[0;34m(\u001b[0m\u001b[0mself\u001b[0m\u001b[0;34m,\u001b[0m \u001b[0mname\u001b[0m\u001b[0;34m,\u001b[0m \u001b[0mvalue\u001b[0m\u001b[0;34m)\u001b[0m\u001b[0;34m:\u001b[0m\u001b[0;34m\u001b[0m\u001b[0m\n",
      "\u001b[0;31mAttributeError\u001b[0m: 'DataFrame' object has no attribute 'claim_id'"
     ]
    }
   ],
   "source": [
    "# 2. Produce ids of perspectives that (1) support or undermine (2) high agreement (aka > 0.5) (3) Original\n",
    "# (4) have >= 15 other perspectives connected to the same claim \n",
    "perspective_db_path = \"../data/database_output/re-step1/webapp_perspective.csv\"\n",
    "pdf = pd.read_csv(perspective_db_path).dropna()\n",
    "\n",
    "# (1) support or undermine (2) high agreement (aka > 0.5) (3) Original\n",
    "pdf = pdf[(pdf.pilot1_high_agreement == 1) & (pdf.pilot1_have_stance == 1) & (pdf.source != \"google\")]\n",
    "pdf.info()\n",
    "\n",
    "# Same criteria but in different table, for sanity check\n",
    "re_step1_path = \"../data/database_output/re-step1/webapp_restep1results.csv\"\n",
    "step1_df = pd.read_csv(re_step1_path)\n",
    "\n",
    "step1_df = step1_df[(step1_df.p_i_3 > 0.5) & (step1_df.label_3.isin([\"S\", \"U\"])) & (step1_df.perspective_id < 8136)]\n",
    "step1_df.info()\n",
    "\n",
    "# Counts of how many perspectives each claim have\n",
    "# For claims with > 10, get all perspectives ids\n",
    "claim_persp_count_df = step1_df[['claim_id', 'perspective_id']].groupby(['claim_id']).count()\n",
    "claim_persp_count_df = claim_persp_count_df[claim_persp_count_df.perspective_id > 10]\n",
    "print(claim_persp_count_df)\n",
    "# claim_ids = claim_persp_count_df.claim_id.unique()\n",
    "\n",
    "# many_p_df = step1_df.loc[step1_df[\"claim_id\"].isin(claim_ids)]\n",
    "# many_p_df.info()"
   ]
  }
 ],
 "metadata": {
  "kernelspec": {
   "display_name": "Python 3",
   "language": "python",
   "name": "python3"
  },
  "language_info": {
   "codemirror_mode": {
    "name": "ipython",
    "version": 3
   },
   "file_extension": ".py",
   "mimetype": "text/x-python",
   "name": "python",
   "nbconvert_exporter": "python",
   "pygments_lexer": "ipython3",
   "version": "3.6.4"
  }
 },
 "nbformat": 4,
 "nbformat_minor": 2
}
