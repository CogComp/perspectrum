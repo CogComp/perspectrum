{
 "cells": [
  {
   "cell_type": "code",
   "execution_count": 7,
   "metadata": {},
   "outputs": [
    {
     "name": "stdout",
     "output_type": "stream",
     "text": [
      "<class 'pandas.core.frame.DataFrame'>\n",
      "RangeIndex: 157775 entries, 0 to 157774\n",
      "Data columns (total 6 columns):\n",
      "id                157775 non-null int64\n",
      "author            157775 non-null object\n",
      "claim_id          157775 non-null int64\n",
      "perspective_id    157775 non-null int64\n",
      "comment           111704 non-null object\n",
      "rel               157775 non-null object\n",
      "dtypes: int64(3), object(3)\n",
      "memory usage: 7.2+ MB\n"
     ]
    }
   ],
   "source": [
    "import pandas as pd\n",
    "\n",
    "# Commented out the messed up version\n",
    "# path = \"/home/squirrel/ccg-new/projects/perspective/data/pilot9_google_step1/webapp_perspectiverelation.csv\"\n",
    "\n",
    "path = \"/home/squirrel/ccg-new/projects/perspective/data/pilot10_origin_step1/webapp_perspectiverelation.csv\"\n",
    "\n",
    "df = pd.read_csv(path)\n",
    "df.info()"
   ]
  },
  {
   "cell_type": "code",
   "execution_count": 8,
   "metadata": {},
   "outputs": [
    {
     "name": "stdout",
     "output_type": "stream",
     "text": [
      "<class 'pandas.core.frame.DataFrame'>\n",
      "Int64Index: 67566 entries, 65443 to 133008\n",
      "Data columns (total 6 columns):\n",
      "id                67566 non-null int64\n",
      "author            67566 non-null object\n",
      "claim_id          67566 non-null int64\n",
      "perspective_id    67566 non-null int64\n",
      "comment           67566 non-null object\n",
      "rel               67566 non-null object\n",
      "dtypes: int64(3), object(3)\n",
      "memory usage: 3.6+ MB\n"
     ]
    }
   ],
   "source": [
    "non_google_persp_thres = 8135\n",
    "\n",
    "cur_df = df[(df.comment == \"turk_google\") & (df.perspective_id > non_google_persp_thres)]\n",
    "cur_df.info()"
   ]
  },
  {
   "cell_type": "code",
   "execution_count": 9,
   "metadata": {},
   "outputs": [],
   "source": [
    "arr_al = []\n",
    "_data = []\n",
    "\n",
    "uni_cid = cur_df.claim_id.unique() \n",
    "\n",
    "for cid in uni_cid:\n",
    "    c_df = cur_df[cur_df.claim_id == cid]\n",
    "    uni_pid = c_df.perspective_id.unique()\n",
    "\n",
    "    for pid in uni_pid:\n",
    "        p_df = c_df[c_df.perspective_id == pid]\n",
    "\n",
    "        group = p_df.rel.value_counts()\n",
    "\n",
    "        _s = _u = _n = _ls = _lu =  0\n",
    "        if \"S\" in group.index:\n",
    "            _s = group.S\n",
    "        if \"U\" in group.index:\n",
    "            _u = group.U\n",
    "        if \"N\" in group.index:\n",
    "            _n = group.N\n",
    "        if \"A\" in group.index:\n",
    "            _ls = group.A\n",
    "        if \"B\" in group.index:\n",
    "            _lu = group.B        \n",
    "\n",
    "        _data.append([cid, pid, _s,_ls, _lu, _u, _n])\n",
    "\n",
    "with open(\"/home/squirrel/ccg-new/projects/perspective/data/pilot9_google_step1/google_annotation_count.csv\", 'w+') as fout:\n",
    "    fout.write(\"claim,perspective,sup,lsup,lund,und,ns\\n\")\n",
    "    for entry in _data:\n",
    "        _entry = [str(x) for x in entry]\n",
    "        fout.write(\",\".join(_entry)+'\\n')"
   ]
  },
  {
   "cell_type": "code",
   "execution_count": 21,
   "metadata": {},
   "outputs": [
    {
     "name": "stdout",
     "output_type": "stream",
     "text": [
      "<class 'pandas.core.frame.DataFrame'>\n",
      "RangeIndex: 31360 entries, 0 to 31359\n",
      "Data columns (total 5 columns):\n",
      "id                       31360 non-null int64\n",
      "source                   31360 non-null object\n",
      "title                    31359 non-null object\n",
      "pilot1_high_agreement    31360 non-null int64\n",
      "similar_persps           31360 non-null object\n",
      "dtypes: int64(2), object(3)\n",
      "memory usage: 1.2+ MB\n"
     ]
    }
   ],
   "source": [
    "# Check how many repetitions there are in the database\n",
    "\n",
    "path = \"/home/squirrel/ccg-new/projects/perspective/data/database_output/re-step1/webapp_perspective.csv\"\n",
    "\n",
    "df = pd.read_csv(path)\n",
    "df.info()"
   ]
  },
  {
   "cell_type": "code",
   "execution_count": 15,
   "metadata": {},
   "outputs": [
    {
     "name": "stdout",
     "output_type": "stream",
     "text": [
      "<class 'pandas.core.frame.DataFrame'>\n",
      "Int64Index: 23225 entries, 8135 to 31359\n",
      "Data columns (total 5 columns):\n",
      "id                       23225 non-null int64\n",
      "source                   23225 non-null object\n",
      "title                    23225 non-null object\n",
      "pilot1_high_agreement    23225 non-null int64\n",
      "similar_persps           23225 non-null object\n",
      "dtypes: int64(2), object(3)\n",
      "memory usage: 1.1+ MB\n"
     ]
    }
   ],
   "source": [
    "df = df.loc[df.source == 'google']\n",
    "df.info()"
   ]
  },
  {
   "cell_type": "code",
   "execution_count": 16,
   "metadata": {},
   "outputs": [
    {
     "data": {
      "text/plain": [
       "12713"
      ]
     },
     "execution_count": 16,
     "metadata": {},
     "output_type": "execute_result"
    }
   ],
   "source": [
    "titles = df.title.unique()\n",
    "len(titles)"
   ]
  },
  {
   "cell_type": "code",
   "execution_count": 2,
   "metadata": {},
   "outputs": [
    {
     "name": "stdout",
     "output_type": "stream",
     "text": [
      "<class 'pandas.core.frame.DataFrame'>\n",
      "RangeIndex: 157775 entries, 0 to 157774\n",
      "Data columns (total 6 columns):\n",
      "id                157775 non-null int64\n",
      "author            157775 non-null object\n",
      "claim_id          157775 non-null int64\n",
      "perspective_id    157775 non-null int64\n",
      "comment           111704 non-null object\n",
      "rel               157775 non-null object\n",
      "dtypes: int64(3), object(3)\n",
      "memory usage: 7.2+ MB\n"
     ]
    }
   ],
   "source": [
    "# Pilot 10 origin re-step1\n",
    "import pandas as pd\n",
    "\n",
    "path = \"/home/squirrel/ccg-new/projects/perspective/data/pilot10_origin_step1/webapp_perspectiverelation.csv\"\n",
    "\n",
    "df = pd.read_csv(path)\n",
    "df.info()"
   ]
  },
  {
   "cell_type": "code",
   "execution_count": 3,
   "metadata": {},
   "outputs": [
    {
     "name": "stdout",
     "output_type": "stream",
     "text": [
      "<class 'pandas.core.frame.DataFrame'>\n",
      "Int64Index: 24766 entries, 133009 to 157774\n",
      "Data columns (total 6 columns):\n",
      "id                24766 non-null int64\n",
      "author            24766 non-null object\n",
      "claim_id          24766 non-null int64\n",
      "perspective_id    24766 non-null int64\n",
      "comment           24766 non-null object\n",
      "rel               24766 non-null object\n",
      "dtypes: int64(3), object(3)\n",
      "memory usage: 1.3+ MB\n"
     ]
    }
   ],
   "source": [
    "non_google_persp_thres = 8135\n",
    "\n",
    "cur_df = df[(df.comment == \"turk_google\") & (df.perspective_id <= non_google_persp_thres)]\n",
    "cur_df.info()"
   ]
  },
  {
   "cell_type": "code",
   "execution_count": 6,
   "metadata": {},
   "outputs": [],
   "source": [
    "arr_al = []\n",
    "_data = []\n",
    "\n",
    "uni_cid = cur_df.claim_id.unique() \n",
    "\n",
    "for cid in uni_cid:\n",
    "    c_df = cur_df[cur_df.claim_id == cid]\n",
    "    uni_pid = c_df.perspective_id.unique()\n",
    "\n",
    "    for pid in uni_pid:\n",
    "        p_df = c_df[c_df.perspective_id == pid]\n",
    "\n",
    "        group = p_df.rel.value_counts()\n",
    "\n",
    "        _s = _u = _n = _ls = _lu =  0\n",
    "        if \"S\" in group.index:\n",
    "            _s = group.S\n",
    "        if \"U\" in group.index:\n",
    "            _u = group.U\n",
    "        if \"N\" in group.index:\n",
    "            _n = group.N\n",
    "        if \"A\" in group.index:\n",
    "            _ls = group.A\n",
    "        if \"B\" in group.index:\n",
    "            _lu = group.B        \n",
    "\n",
    "        _data.append([cid, pid, _s,_ls, _lu, _u, _n])\n",
    "\n",
    "with open(\"/home/squirrel/ccg-new/projects/perspective/data/pilot10_origin_step1/annotation_counts.csv\", 'w+') as fout:\n",
    "    fout.write(\"claim,perspective,sup,lsup,lund,und,ns\\n\")\n",
    "    for entry in _data:\n",
    "        _entry = [str(x) for x in entry]\n",
    "        fout.write(\",\".join(_entry)+'\\n')"
   ]
  },
  {
   "cell_type": "code",
   "execution_count": null,
   "metadata": {},
   "outputs": [],
   "source": []
  }
 ],
 "metadata": {
  "kernelspec": {
   "display_name": "Python 3",
   "language": "python",
   "name": "python3"
  },
  "language_info": {
   "codemirror_mode": {
    "name": "ipython",
    "version": 3
   },
   "file_extension": ".py",
   "mimetype": "text/x-python",
   "name": "python",
   "nbconvert_exporter": "python",
   "pygments_lexer": "ipython3",
   "version": "3.6.4"
  }
 },
 "nbformat": 4,
 "nbformat_minor": 2
}
